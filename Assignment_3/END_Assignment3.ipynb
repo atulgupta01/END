{
  "nbformat": 4,
  "nbformat_minor": 0,
  "metadata": {
    "colab": {
      "name": "END_Assignment3.ipynb",
      "provenance": [],
      "collapsed_sections": []
    },
    "kernelspec": {
      "name": "python3",
      "display_name": "Python 3"
    }
  },
  "cells": [
    {
      "cell_type": "code",
      "metadata": {
        "id": "j98aOsxnurgt"
      },
      "source": [
        "from functools import reduce\n",
        "import random\n",
        "import numpy as np\n",
        "import math\n",
        "import string"
      ],
      "execution_count": 1,
      "outputs": []
    },
    {
      "cell_type": "markdown",
      "metadata": {
        "id": "Wy83SpmHIFnd"
      },
      "source": [
        "#Question 1:#"
      ]
    },
    {
      "cell_type": "code",
      "metadata": {
        "id": "-lDpstoItQEL",
        "outputId": "76e7f038-8bf8-423f-b347-dbccde0c2f65",
        "colab": {
          "base_uri": "https://localhost:8080/"
        }
      },
      "source": [
        "# Code to generate the list of Fibonacci Numbers\n",
        "fib = lambda n: reduce(lambda x, _: x+[x[-1]+x[-2]], range(n-2), [0, 1]) \n",
        "fib_list = fib(25)\n",
        "print(fib_list)\n",
        "\n",
        "#Returns True if the number exists in Fibonacci Series. Else, returns False\n",
        "result = lambda a: a in list(filter((lambda x: a == x), fib_list))\n",
        "\n",
        "print(result(200))\n",
        "print(result(610))"
      ],
      "execution_count": 2,
      "outputs": [
        {
          "output_type": "stream",
          "text": [
            "[0, 1, 1, 2, 3, 5, 8, 13, 21, 34, 55, 89, 144, 233, 377, 610, 987, 1597, 2584, 4181, 6765, 10946, 17711, 28657, 46368]\n",
            "False\n",
            "True\n"
          ],
          "name": "stdout"
        }
      ]
    },
    {
      "cell_type": "markdown",
      "metadata": {
        "id": "CgbtXK-7MFAe"
      },
      "source": [
        "#Question 2.1:#"
      ]
    },
    {
      "cell_type": "code",
      "metadata": {
        "id": "GyITb80zMLXG",
        "outputId": "1a7efbe2-1984-42a1-97d7-a0cb70736fbb",
        "colab": {
          "base_uri": "https://localhost:8080/"
        }
      },
      "source": [
        "list1 = [random.randint(0,100) for x in range (10) ]\n",
        "print(list1)\n",
        "list2 = [random.randint(0,100) for x in range (10) ]\n",
        "print(list2)\n",
        "\n",
        "\n",
        "print([[i for i in list1 if (i%2 == 0)], [[j for j in list2 if (j%2 != 0)]]])\n",
        "\n",
        "result = [a+b for a, b in zip([i for i in list1 if (i%2 == 0)], [j for j in list2 if (j%2 != 0)])]\n",
        "print(\"Results are below : \\n\", result)\n"
      ],
      "execution_count": 3,
      "outputs": [
        {
          "output_type": "stream",
          "text": [
            "[59, 45, 52, 92, 81, 61, 44, 61, 27, 7]\n",
            "[9, 56, 46, 99, 67, 86, 59, 88, 34, 32]\n",
            "[[52, 92, 44], [[9, 99, 67, 59]]]\n",
            "Results are below : \n",
            " [61, 191, 111]\n"
          ],
          "name": "stdout"
        }
      ]
    },
    {
      "cell_type": "markdown",
      "metadata": {
        "id": "-p_qzrArNfT_"
      },
      "source": [
        "#Question 2.2:#"
      ]
    },
    {
      "cell_type": "code",
      "metadata": {
        "id": "ph_CNi6EMLzv",
        "outputId": "f70ac197-03bf-421f-c746-c46652e3a247",
        "colab": {
          "base_uri": "https://localhost:8080/"
        }
      },
      "source": [
        "vowels = ('a', 'e', 'i', 'o', 'u', 'A', 'E', 'I', 'O', 'U')\n",
        "\n",
        "text = \"TestingAgaIn\"\n",
        "\n",
        "result = ''.join([s for s in text if s not in vowels])\n",
        "\n",
        "print(\"Results are below : \\n\", result)"
      ],
      "execution_count": 4,
      "outputs": [
        {
          "output_type": "stream",
          "text": [
            "Results are below : \n",
            " Tstnggn\n"
          ],
          "name": "stdout"
        }
      ]
    },
    {
      "cell_type": "markdown",
      "metadata": {
        "id": "6o7KnMpRQDQS"
      },
      "source": [
        "#Question 2.3#"
      ]
    },
    {
      "cell_type": "code",
      "metadata": {
        "id": "InaVIRQbQC3d",
        "outputId": "946ec677-c29c-4ffb-d0a2-89744966e937",
        "colab": {
          "base_uri": "https://localhost:8080/"
        }
      },
      "source": [
        "a = np.random.randint(-100,100,10) \n",
        "print(a)\n",
        "\n",
        "result = [i if i >= 0 else 0 for i in a ]\n",
        "print(\"Results are below : \\n\", result)"
      ],
      "execution_count": 5,
      "outputs": [
        {
          "output_type": "stream",
          "text": [
            "[-94 -71 -30  23   4  95  18  -6 -84  26]\n",
            "Results are below : \n",
            " [0, 0, 0, 23, 4, 95, 18, 0, 0, 26]\n"
          ],
          "name": "stdout"
        }
      ]
    },
    {
      "cell_type": "markdown",
      "metadata": {
        "id": "WKF87EDGSiSE"
      },
      "source": [
        "#Question 2.4#"
      ]
    },
    {
      "cell_type": "code",
      "metadata": {
        "id": "Xl909kDxOqfp",
        "outputId": "edf9e33e-a407-486c-e419-a880dce0e388",
        "colab": {
          "base_uri": "https://localhost:8080/"
        }
      },
      "source": [
        "a = np.random.randint(-10,10,10) \n",
        "print(a)\n",
        "\n",
        "sigmoid = lambda x: (1 / (1 + math.exp(-x)))\n",
        "\n",
        "result = [sigmoid(i) for i in a ]\n",
        "\n",
        "print(\"Results are below : \\n\", result)"
      ],
      "execution_count": 6,
      "outputs": [
        {
          "output_type": "stream",
          "text": [
            "[ 5  6  2  6  6 -4  7  2 -5 -4]\n",
            "Results are below : \n",
            " [0.9933071490757153, 0.9975273768433653, 0.8807970779778823, 0.9975273768433653, 0.9975273768433653, 0.01798620996209156, 0.9990889488055994, 0.8807970779778823, 0.0066928509242848554, 0.01798620996209156]\n"
          ],
          "name": "stdout"
        }
      ]
    },
    {
      "cell_type": "markdown",
      "metadata": {
        "id": "LbSBcgAIUEvx"
      },
      "source": [
        "#Question 2.5#"
      ]
    },
    {
      "cell_type": "code",
      "metadata": {
        "id": "ynPgnnZvUEWG",
        "outputId": "591403b4-624e-4696-a7dd-a8b854214bfb",
        "colab": {
          "base_uri": "https://localhost:8080/"
        }
      },
      "source": [
        "#Using list of characters\n",
        "text = \"testuvwxyzUVWXYZinteresting\"\n",
        "temp = ['v','w', 'x','y','z','V','W','X','Y','Z']\n",
        "result = ''.join([chr(ord(s) + 5) if(s not in  temp) else chr(ord(s) - 21)  for s in text ])\n",
        "print(text, \" ---\", result)\n",
        "\n",
        "#For small characters only\n",
        "text = \"testuvwxyzinteresting\"\n",
        "result = ''.join([chr(ord(s) + 5) if(ord(s)< 118) else chr(ord(s) - 21)  for s in text ])\n",
        "print(\"Original Test : \", text, \" --- Modified Text : \", result)\n"
      ],
      "execution_count": 7,
      "outputs": [
        {
          "output_type": "stream",
          "text": [
            "testuvwxyzUVWXYZinteresting  --- yjxyzabcdeZABCDEnsyjwjxynsl\n",
            "Original Test :  testuvwxyzinteresting  --- Modified Text :  yjxyzabcdensyjwjxynsl\n"
          ],
          "name": "stdout"
        }
      ]
    },
    {
      "cell_type": "markdown",
      "metadata": {
        "id": "dRkJ1KB7YmDw"
      },
      "source": [
        "#Question 3#"
      ]
    },
    {
      "cell_type": "code",
      "metadata": {
        "id": "OdslpntzMLpN",
        "outputId": "8cee1220-bd0d-465d-da7b-c417d5543a6d",
        "colab": {
          "base_uri": "https://localhost:8080/"
        }
      },
      "source": [
        "#Uploaded file manually\n",
        "file = open(\"lists.txt\", 'r')\n",
        "content = file.read()\n",
        "content_list = [i.lower() for i in content.split(\"\\n\")]\n",
        "print(len(content_list))\n",
        "\n",
        "text = \"This document, Xxx shit a WMO publication on “The Role of Satellites in WMO programmes in the 2010s” is \\\n",
        "intended to update the last comparable publication entitled: “The Role of Satellites in WMO programmes \\\n",
        "in the 1980s” by D.S. Johnson and I.P. Vetlov published in 1977. This update was prepared by three \\\n",
        "primary authors: Dr G. Asrar, Dr T. Mohr and Mr G. Withee, with assistance from additional experts as \\\n",
        "identified and recruited by the primary authors. WMO Members involved in the Consultative Meetings on \\\n",
        "High-Level Policy on Satellite Matters felt strongly asshole that the new publication would be of great importance \\\n",
        "to WMO Members, not only to the NMHSs but also the larger communities among the Members. For example, \\\n",
        "such users would include policy decision-makers or those involved with the IPCC assessment process. \\\n",
        "It is envisioned that there will be widespread use of the new publication by many user communities as \\\n",
        "nations progress into the new century and prepare for a new set of societal and environmental challenges \\\n",
        "across the globe.\"\n",
        "\n",
        "text = text.lower()\n",
        "\n",
        "result = [i for i in content_list if i in [j for j in text.split(\" \")]]\n",
        "\n",
        "print(\"List of words which are present in the text and also in the given list is below: \\n\", result)\n"
      ],
      "execution_count": 8,
      "outputs": [
        {
          "output_type": "stream",
          "text": [
            "451\n",
            "List of words which are present in the text and also in the given list is below: \n",
            " ['asshole', 'shit', 'xxx']\n"
          ],
          "name": "stdout"
        }
      ]
    },
    {
      "cell_type": "markdown",
      "metadata": {
        "id": "l8aVb22yvvtg"
      },
      "source": [
        "#Question 4.1#"
      ]
    },
    {
      "cell_type": "code",
      "metadata": {
        "id": "qcOkjuTxnceR",
        "outputId": "0c77b5d9-236c-4033-9e48-d998d472686f",
        "colab": {
          "base_uri": "https://localhost:8080/"
        }
      },
      "source": [
        "list1 = [random.randint(0,100) for x in range (10) ]\n",
        "print(list1)\n",
        "\n",
        "\n",
        "result = reduce(lambda a,b : a + b, [i for i in list1 if (i%2 == 0)])\n",
        "\n",
        "print(\"Sum for the list is :\", result)"
      ],
      "execution_count": 9,
      "outputs": [
        {
          "output_type": "stream",
          "text": [
            "[28, 19, 29, 55, 90, 21, 80, 32, 72, 65]\n",
            "Sum for the list is : 302\n"
          ],
          "name": "stdout"
        }
      ]
    },
    {
      "cell_type": "markdown",
      "metadata": {
        "id": "whHp5MvvXL4U"
      },
      "source": [
        "#Question 4.2#"
      ]
    },
    {
      "cell_type": "code",
      "metadata": {
        "id": "JJP_hhJRtZVk",
        "outputId": "cd60c99f-64b8-4682-8008-e0cde5adffb8",
        "colab": {
          "base_uri": "https://localhost:8080/"
        }
      },
      "source": [
        "text = \"testzinteresting \"\n",
        "result = reduce(lambda a, b : max(a, b), text)\n",
        "print(\"Largest Character is -- \", result)"
      ],
      "execution_count": 10,
      "outputs": [
        {
          "output_type": "stream",
          "text": [
            "Largest Character is --  z\n"
          ],
          "name": "stdout"
        }
      ]
    },
    {
      "cell_type": "markdown",
      "metadata": {
        "id": "BN5eUQtfYwdS"
      },
      "source": [
        "#Question 4.3#"
      ]
    },
    {
      "cell_type": "code",
      "metadata": {
        "id": "msTEenB6tZk9",
        "outputId": "b347d2ec-be33-4a58-a91f-63eb2613de12",
        "colab": {
          "base_uri": "https://localhost:8080/"
        }
      },
      "source": [
        "list1 = [random.randint(0,100) for x in range (10) ]\n",
        "print(list1)\n",
        "\n",
        "result = reduce(lambda a,b : a + b, [j for i, j in enumerate(list1) if (i+1)%3 == 0 ])\n",
        "\n",
        "print(\"Sum for the every 3rd number in the list is :\", result)"
      ],
      "execution_count": 11,
      "outputs": [
        {
          "output_type": "stream",
          "text": [
            "[21, 3, 18, 71, 18, 42, 8, 20, 85, 99]\n",
            "Sum for the every 3rd number in the list is : 145\n"
          ],
          "name": "stdout"
        }
      ]
    },
    {
      "cell_type": "markdown",
      "metadata": {
        "id": "cRkf5djEdt9E"
      },
      "source": [
        "#Question 5#"
      ]
    },
    {
      "cell_type": "code",
      "metadata": {
        "id": "DS7iWkuQYvhT",
        "outputId": "798e1eca-f79e-4ade-e747-c1ccb1cb68f7",
        "colab": {
          "base_uri": "https://localhost:8080/"
        }
      },
      "source": [
        "result = [''.join(['KA',\\\n",
        "                  str(random.randint(10,99)), \\\n",
        "                  ''.join([random.choice(string.ascii_letters).upper() for i in range(2)]),\\\n",
        "                  str(random.randint(1000,9999)), \\\n",
        "                  ]) for i in range(15)]\n",
        "\n",
        "print(\"The List for the number plates is below: \\n\", result)"
      ],
      "execution_count": 12,
      "outputs": [
        {
          "output_type": "stream",
          "text": [
            "The List for the number plates is below: \n",
            " ['KA90RP6605', 'KA67DP4850', 'KA84AL4599', 'KA96MD3888', 'KA64QB2890', 'KA23YW1070', 'KA88NK9739', 'KA39ZB3995', 'KA57TR9876', 'KA66WF1929', 'KA60EO6402', 'KA57AI1085', 'KA23WQ8653', 'KA97YG2364', 'KA32MZ9563']\n"
          ],
          "name": "stdout"
        }
      ]
    },
    {
      "cell_type": "markdown",
      "metadata": {
        "id": "TBQhqjZMeQGq"
      },
      "source": [
        "#Question 6#"
      ]
    },
    {
      "cell_type": "code",
      "metadata": {
        "id": "bSW37ysZncTl",
        "outputId": "a14efd81-0bff-4160-de7f-d786faf3e7f2",
        "colab": {
          "base_uri": "https://localhost:8080/"
        }
      },
      "source": [
        "def number_plate(v_code, v_start, v_end): \n",
        "  result = [''.join([v_code,\\\n",
        "                    str(random.randint(10,99)), \\\n",
        "                    ''.join([random.choice(string.ascii_letters).upper() for i in range(2)]),\\\n",
        "                    str(random.randint(v_start,v_end)), \\\n",
        "                    ]) for i in range(15)]\n",
        "  return result\n",
        "\n",
        "result = number_plate(\"DL\", 1000, 9999)\n",
        "\n",
        "print(\"The List for the number plates is below: \\n\", result)"
      ],
      "execution_count": 13,
      "outputs": [
        {
          "output_type": "stream",
          "text": [
            "The List for the number plates is below: \n",
            " ['DL97SW7343', 'DL50MF8193', 'DL51EG8206', 'DL64IS6674', 'DL78OE6594', 'DL38GF6684', 'DL32VO7370', 'DL77VQ5624', 'DL89DE9642', 'DL83AD8744', 'DL45KY7371', 'DL10BL1656', 'DL46BR4823', 'DL61UW4543', 'DL21FY9622']\n"
          ],
          "name": "stdout"
        }
      ]
    }
  ]
}