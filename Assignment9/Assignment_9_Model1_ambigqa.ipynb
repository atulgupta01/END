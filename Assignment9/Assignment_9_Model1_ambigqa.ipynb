{
  "nbformat": 4,
  "nbformat_minor": 0,
  "metadata": {
    "kernelspec": {
      "display_name": "Python 3",
      "language": "python",
      "name": "python3"
    },
    "language_info": {
      "codemirror_mode": {
        "name": "ipython",
        "version": 3
      },
      "file_extension": ".py",
      "mimetype": "text/x-python",
      "name": "python",
      "nbconvert_exporter": "python",
      "pygments_lexer": "ipython3",
      "version": "3.8.2"
    },
    "colab": {
      "name": "Assignment_9_Model1_ambigqa.ipynb",
      "provenance": [],
      "collapsed_sections": [],
      "toc_visible": true
    },
    "accelerator": "GPU"
  },
  "cells": [
    {
      "cell_type": "markdown",
      "metadata": {
        "id": "EzxOJwN7EzFO"
      },
      "source": [
        "# 2 - Learning Phrase Representations using RNN Encoder-Decoder for Statistical Machine Translation\n",
        "\n",
        "In this second notebook on sequence-to-sequence models using PyTorch and TorchText, we'll be implementing the model from [Learning Phrase Representations using RNN Encoder-Decoder for Statistical Machine Translation](https://arxiv.org/abs/1406.1078). This model will achieve improved test perplexity whilst only using a single layer RNN in both the encoder and the decoder.\n",
        "\n",
        "## Introduction\n",
        "\n",
        "Let's remind ourselves of the general encoder-decoder model.\n",
        "\n",
        "![](https://github.com/bentrevett/pytorch-seq2seq/blob/master/assets/seq2seq1.png?raw=1)\n",
        "\n",
        "We use our encoder (green) over the embedded source sequence (yellow) to create a context vector (red). We then use that context vector with the decoder (blue) and a linear layer (purple) to generate the target sentence.\n",
        "\n",
        "In the previous model, we used an multi-layered LSTM as the encoder and decoder.\n",
        "\n",
        "![](https://github.com/bentrevett/pytorch-seq2seq/blob/master/assets/seq2seq4.png?raw=1)\n",
        "\n",
        "One downside of the previous model is that the decoder is trying to cram lots of information into the hidden states. Whilst decoding, the hidden state will need to contain information about the whole of the source sequence, as well as all of the tokens have been decoded so far. By alleviating some of this information compression, we can create a better model!\n",
        "\n",
        "We'll also be using a GRU (Gated Recurrent Unit) instead of an LSTM (Long Short-Term Memory). Why? Mainly because that's what they did in the paper (this paper also introduced GRUs) and also because we used LSTMs last time. To understand how GRUs (and LSTMs) differ from standard RNNS, check out [this](https://colah.github.io/posts/2015-08-Understanding-LSTMs/) link. Is a GRU better than an LSTM? [Research](https://arxiv.org/abs/1412.3555) has shown they're pretty much the same, and both are better than standard RNNs. \n",
        "\n",
        "## Preparing Data\n",
        "\n",
        "All of the data preparation will be (almost) the same as last time, so we'll very briefly detail what each code block does. See the previous notebook for a recap.\n",
        "\n",
        "We'll import PyTorch, TorchText, spaCy and a few standard modules."
      ]
    },
    {
      "cell_type": "code",
      "metadata": {
        "id": "uUnMLdevEzFT"
      },
      "source": [
        "import torch\n",
        "import torch.nn as nn\n",
        "import torch.optim as optim\n",
        "\n",
        "from torchtext.datasets import Multi30k\n",
        "from torchtext.data import Field, BucketIterator\n",
        "from torchtext import data\n",
        "\n",
        "import spacy\n",
        "import numpy as np\n",
        "\n",
        "import random\n",
        "import math\n",
        "import time"
      ],
      "execution_count": 1,
      "outputs": []
    },
    {
      "cell_type": "markdown",
      "metadata": {
        "id": "srzErHAsEzFU"
      },
      "source": [
        "Then set a random seed for deterministic results/reproducability."
      ]
    },
    {
      "cell_type": "code",
      "metadata": {
        "id": "r_wP4J4LEzFX"
      },
      "source": [
        "SEED = 1234\n",
        "\n",
        "random.seed(SEED)\n",
        "np.random.seed(SEED)\n",
        "torch.manual_seed(SEED)\n",
        "torch.cuda.manual_seed(SEED)\n",
        "torch.backends.cudnn.deterministic = True"
      ],
      "execution_count": 2,
      "outputs": []
    },
    {
      "cell_type": "code",
      "metadata": {
        "colab": {
          "base_uri": "https://localhost:8080/",
          "height": 219
        },
        "id": "wzqbiyTC6AWZ",
        "outputId": "2359e7e4-1678-4487-d950-985d707f270c"
      },
      "source": [
        "import pandas as pd\r\n",
        "\r\n",
        "df_data = pd.read_json('dev.json')\r\n",
        "df_data = df_data[['question', 'nq_answer']]\r\n",
        "print(df_data.shape)\r\n",
        "df_data.head()"
      ],
      "execution_count": 3,
      "outputs": [
        {
          "output_type": "stream",
          "text": [
            "(2002, 2)\n"
          ],
          "name": "stdout"
        },
        {
          "output_type": "execute_result",
          "data": {
            "text/html": [
              "<div>\n",
              "<style scoped>\n",
              "    .dataframe tbody tr th:only-of-type {\n",
              "        vertical-align: middle;\n",
              "    }\n",
              "\n",
              "    .dataframe tbody tr th {\n",
              "        vertical-align: top;\n",
              "    }\n",
              "\n",
              "    .dataframe thead th {\n",
              "        text-align: right;\n",
              "    }\n",
              "</style>\n",
              "<table border=\"1\" class=\"dataframe\">\n",
              "  <thead>\n",
              "    <tr style=\"text-align: right;\">\n",
              "      <th></th>\n",
              "      <th>question</th>\n",
              "      <th>nq_answer</th>\n",
              "    </tr>\n",
              "  </thead>\n",
              "  <tbody>\n",
              "    <tr>\n",
              "      <th>0</th>\n",
              "      <td>Who plays the doctor in dexter season 1?</td>\n",
              "      <td>[Tony Goldwyn]</td>\n",
              "    </tr>\n",
              "    <tr>\n",
              "      <th>1</th>\n",
              "      <td>How often does spermatogeneis—the production o...</td>\n",
              "      <td>[74 days]</td>\n",
              "    </tr>\n",
              "    <tr>\n",
              "      <th>2</th>\n",
              "      <td>When was the first remote control tv invented?</td>\n",
              "      <td>[1950]</td>\n",
              "    </tr>\n",
              "    <tr>\n",
              "      <th>3</th>\n",
              "      <td>Why did the st louis cardinals move to arizona?</td>\n",
              "      <td>[1988]</td>\n",
              "    </tr>\n",
              "    <tr>\n",
              "      <th>4</th>\n",
              "      <td>How many episodes are in season 2 of chesapeak...</td>\n",
              "      <td>[10]</td>\n",
              "    </tr>\n",
              "  </tbody>\n",
              "</table>\n",
              "</div>"
            ],
            "text/plain": [
              "                                            question       nq_answer\n",
              "0           Who plays the doctor in dexter season 1?  [Tony Goldwyn]\n",
              "1  How often does spermatogeneis—the production o...       [74 days]\n",
              "2     When was the first remote control tv invented?          [1950]\n",
              "3    Why did the st louis cardinals move to arizona?          [1988]\n",
              "4  How many episodes are in season 2 of chesapeak...            [10]"
            ]
          },
          "metadata": {
            "tags": []
          },
          "execution_count": 3
        }
      ]
    },
    {
      "cell_type": "code",
      "metadata": {
        "id": "N9j9thy2-_Dn"
      },
      "source": [
        "spacy_en = spacy.load('en')"
      ],
      "execution_count": 4,
      "outputs": []
    },
    {
      "cell_type": "code",
      "metadata": {
        "id": "AVkjXini5dbB"
      },
      "source": [
        "def tokenize_text(text):\r\n",
        "    \"\"\"\r\n",
        "    Tokenizes English text from a string into a list of strings\r\n",
        "    \"\"\"\r\n",
        "    return [tok.text for tok in spacy_en.tokenizer(text)]"
      ],
      "execution_count": 5,
      "outputs": []
    },
    {
      "cell_type": "code",
      "metadata": {
        "id": "SbmLCwWA90PP"
      },
      "source": [
        "SRC = Field(tokenize = tokenize_text, \r\n",
        "            init_token = '<sos>', \r\n",
        "            eos_token = '<eos>', \r\n",
        "            lower = True)\r\n",
        "TRG = Field(tokenize = tokenize_text, \r\n",
        "            init_token = '<sos>', \r\n",
        "            eos_token = '<eos>', \r\n",
        "            lower = True)\r\n",
        "\r\n",
        "data_fields = [('SRC', SRC), ('TRG', TRG)]\r\n",
        "\r\n",
        "example = [data.Example.fromlist([df_data.question[i],df_data.nq_answer[i]], data_fields) for i in range(df_data.shape[0])]\r\n",
        "\r\n",
        "QADataset = data.Dataset(example, data_fields)\r\n",
        "\r\n",
        "(train_data, valid_data, test_data) = QADataset.split(split_ratio=[0.80, 0.1, 0.1], random_state=random.seed(SEED))\r\n",
        "\r\n",
        "SRC.build_vocab(train_data, min_freq = 2)\r\n",
        "TRG.build_vocab(train_data, min_freq = 2)"
      ],
      "execution_count": 6,
      "outputs": []
    },
    {
      "cell_type": "markdown",
      "metadata": {
        "id": "hawianoFEzFY"
      },
      "source": [
        "Instantiate our German and English spaCy models."
      ]
    },
    {
      "cell_type": "markdown",
      "metadata": {
        "id": "2bEkyPt5EzFY"
      },
      "source": [
        "Previously we reversed the source (German) sentence, however in the paper we are implementing they don't do this, so neither will we."
      ]
    },
    {
      "cell_type": "markdown",
      "metadata": {
        "id": "i7rbQLYHEzFZ"
      },
      "source": [
        "Create our fields to process our data. This will append the \"start of sentence\" and \"end of sentence\" tokens as well as converting all words to lowercase."
      ]
    },
    {
      "cell_type": "markdown",
      "metadata": {
        "id": "BsycLH0DEzFa"
      },
      "source": [
        "Load our data."
      ]
    },
    {
      "cell_type": "markdown",
      "metadata": {
        "id": "Fen1DHy6EzFb"
      },
      "source": [
        "We'll also print out an example just to double check they're not reversed."
      ]
    },
    {
      "cell_type": "code",
      "metadata": {
        "id": "IzKhUJo4EzFb",
        "colab": {
          "base_uri": "https://localhost:8080/"
        },
        "outputId": "535b1492-50ba-4b4f-ba69-505a06ed85cd"
      },
      "source": [
        "print(vars(train_data.examples[1]))\r\n",
        "print(SRC.vocab.stoi)\r\n",
        "print(TRG.vocab.stoi)"
      ],
      "execution_count": 7,
      "outputs": [
        {
          "output_type": "stream",
          "text": [
            "{'SRC': ['where', 'does', 'the', 'smell', 'of', 'vanilla', 'come', 'from', '?'], 'TRG': ['as it dries', 'phenolic compounds crystallize']}\n",
            "defaultdict(<function _default_unk_index at 0x7f240d0abf28>, {'<unk>': 0, '<pad>': 1, '<sos>': 2, '<eos>': 3, '?': 4, 'the': 5, 'who': 6, 'in': 7, 'of': 8, 'when': 9, 'is': 10, 'did': 11, 'what': 12, 'was': 13, 'to': 14, 'on': 15, 'does': 16, 'a': 17, 'where': 18, \"'s\": 19, 'and': 20, 'plays': 21, 'first': 22, 'how': 23, 'for': 24, 'come': 25, 'out': 26, 'played': 27, 'many': 28, 'won': 29, 'season': 30, 'world': 31, 'last': 32, 'most': 33, 'song': 34, 'wrote': 35, 'do': 36, 'are': 37, 'has': 38, 'name': 39, 'new': 40, 'movie': 41, 'with': 42, 'you': 43, 'from': 44, 'that': 45, 'which': 46, 'start': 47, '2': 48, 'india': 49, 'sings': 50, 'time': 51, 'game': 52, 'i': 53, 'at': 54, 'it': 55, 'sang': 56, 'us': 57, 'by': 58, 'cup': 59, 'have': 60, 'made': 61, 'me': 62, 'year': 63, 'there': 64, 'an': 65, 'as': 66, 'episode': 67, 'place': 68, 'take': 69, 'be': 70, 'called': 71, 'end': 72, 'episodes': 73, 'show': 74, 'up': 75, 'win': 76, 'all': 77, 'love': 78, 'play': 79, 'they': 80, 'were': 81, '-': 82, '2018': 83, 'filmed': 84, 'league': 85, 'man': 86, 'national': 87, 'series': 88, 'tv': 89, 'war': 90, 'located': 91, 'president': 92, 'states': 93, '2017': 94, '3': 95, 'coming': 96, 'south': 97, 'voice': 98, 'england': 99, 'girl': 100, 'indian': 101, 'original': 102, 'this': 103, 'united': 104, 'earth': 105, 'go': 106, 'got': 107, 'my': 108, 'number': 109, 'one': 110, 'star': 111, 'your': 112, '5': 113, 'air': 114, 'book': 115, 'nba': 116, 'next': 117, 'or': 118, 'part': 119, '1': 120, 'became': 121, 'galaxy': 122, 'live': 123, 'released': 124, 'super': 125, 'times': 126, 'about': 127, 'america': 128, 'home': 129, 'king': 130, 'law': 131, 'minister': 132, \"n't\": 133, 'state': 134, 'system': 135, 'type': 136, 'back': 137, 'beast': 138, 'become': 139, 'black': 140, 'bowl': 141, 'current': 142, 'dead': 143, 'during': 144, 'final': 145, 'fire': 146, 'football': 147, 'harry': 148, 'history': 149, 'into': 150, 'its': 151, 'longest': 152, 'make': 153, 'night': 154, 'olympics': 155, 'open': 156, 'person': 157, 'river': 158, 'scored': 159, 'why': 160, 'anatomy': 161, 'battle': 162, 'big': 163, 'canada': 164, 'champions': 165, 'city': 166, 'country': 167, 'gold': 168, 'greatest': 169, 'guardians': 170, 'mlb': 171, 'nfl': 172, 'no': 173, 'over': 174, 'power': 175, 'stand': 176, 'will': 177, 'woman': 178, \"'\": 179, '10': 180, 'american': 181, 'best': 182, 'body': 183, 'british': 184, 'built': 185, 'doctor': 186, 'empire': 187, 'film': 188, 'get': 189, 'grey': 190, 'he': 191, 'heart': 192, 'held': 193, 'highest': 194, 'kind': 195, 'lead': 196, 'music': 197, 'only': 198, 'potter': 199, 'run': 200, 'runs': 201, 'space': 202, 'team': 203, 'test': 204, 'their': 205, 'thrones': 206, 'train': 207, 'two': 208, 'used': 209, 'we': 210, 'west': 211, 'written': 212, 'york': 213, '.': 214, 'africa': 215, 'after': 216, 'beauty': 217, 'been': 218, 'blood': 219, 'came': 220, 'can': 221, 'car': 222, 'court': 223, 'fame': 224, 'family': 225, 'french': 226, 'games': 227, 'god': 228, 'good': 229, 'guy': 230, 'his': 231, 'hot': 232, 'international': 233, 'know': 234, 'much': 235, 'nt': 236, 'own': 237, 'player': 238, 'published': 239, 'real': 240, 'she': 241, 'wins': 242, \"'m\": 243, '4': 244, '7': 245, 'act': 246, 'age': 247, 'australia': 248, 'baby': 249, 'between': 250, 'bible': 251, 'boy': 252, 'building': 253, 'california': 254, 'call': 255, 'captain': 256, 'change': 257, 'cricket': 258, 'dad': 259, 'day': 260, 'death': 261, 'died': 262, 'dragon': 263, 'ever': 264, 'federal': 265, 'great': 266, 'hotel': 267, 'largest': 268, 'little': 269, 'long': 270, 'men': 271, 'movies': 272, 'north': 273, 'not': 274, 'our': 275, 'population': 276, 'produced': 277, 'race': 278, 'record': 279, 'roman': 280, 'singer': 281, 'st': 282, 'story': 283, 'texas': 284, 'theory': 285, 'through': 286, 'title': 287, 'top': 288, 'under': 289, 'use': 290, 'virginia': 291, 'walking': 292, 'want': 293, 'water': 294, 'white': 295, '13': 296, 'alice': 297, 'around': 298, 'bank': 299, 'baseball': 300, 'beat': 301, 'began': 302, 'cars': 303, 'catholic': 304, 'championship': 305, 'character': 306, 'congress': 307, 'dies': 308, 'dog': 309, 'father': 310, 'fifa': 311, 'fight': 312, 'finals': 313, 'food': 314, 'france': 315, 'goals': 316, 'going': 317, 'golf': 318, 'hall': 319, 'house': 320, 'ireland': 321, 'james': 322, 'jane': 323, 'john': 324, 'known': 325, 'land': 326, 'life': 327, 'line': 328, 'lost': 329, 'loves': 330, 'main': 331, 'married': 332, 'michael': 333, 'mom': 334, 'mother': 335, 'netflix': 336, 'occur': 337, 'olympic': 338, 'orange': 339, 'park': 340, 'percentage': 341, 'players': 342, 'point': 343, 'presidential': 344, 'prime': 345, 'queen': 346, 'rights': 347, 'rock': 348, 'royal': 349, 's': 350, 'said': 351, 'secret': 352, 'showman': 353, 'sister': 354, 'so': 355, 'soccer': 356, 'stars': 357, 'statue': 358, 'sun': 359, 'superbowl': 360, 'theme': 361, 'three': 362, 'union': 363, 'using': 364, 'walk': 365, 'washington': 366, 'women': 367, 'years': 368, 'young': 369, '2015': 370, '6': 371, '8': 372, 'actor': 373, 'actress': 374, 'album': 375, 'always': 376, 'animal': 377, 'apple': 378, 'army': 379, 'assembly': 380, 'beatles': 381, 'ben': 382, 'bills': 383, 'bob': 384, 'born': 385, 'britain': 386, 'capital': 387, 'cat': 388, 'central': 389, 'chicago': 390, 'christmas': 391, 'code': 392, 'college': 393, 'computer': 394, 'cost': 395, 'crust': 396, 'dark': 397, 'dc': 398, 'de': 399, 'delhi': 400, 'down': 401, 'election': 402, 'english': 403, 'fear': 404, 'female': 405, 'finish': 406, 'five': 407, 'florida': 408, 'full': 409, 'georgia': 410, 'germany': 411, 'give': 412, 'goal': 413, 'grand': 414, 'green': 415, 'group': 416, 'guitar': 417, 'head': 418, 'hit': 419, 'hockey': 420, 'horse': 421, 'human': 422, 'introduced': 423, 'jones': 424, 'jordan': 425, 'korea': 426, 'lake': 427, 'leave': 428, 'led': 429, 'liberty': 430, 'lyrics': 431, 'major': 432, 'mean': 433, 'moon': 434, 'more': 435, 'ncaa': 436, 'off': 437, 'oil': 438, 'old': 439, 'oldest': 440, 'order': 441, 'parliament': 442, 'party': 443, 'pink': 444, 'playing': 445, 'railway': 446, 'rangers': 447, 'red': 448, 'religion': 449, 'rocket': 450, 'school': 451, 'second': 452, 'service': 453, 'set': 454, 'side': 455, 'single': 456, 'son': 457, 'sound': 458, 'sports': 459, 'station': 460, 'stop': 461, 'supreme': 462, 'teams': 463, 'term': 464, 'third': 465, 'uk': 466, 'usa': 467, 'value': 468, 'video': 469, 'voices': 470, 'wall': 471, 'went': 472, 'wife': 473, 'winter': 474, 'wonder': 475, 'word': 476, 'ww2': 477, '1st': 478, '2008': 479, '21': 480, '9': 481, 'according': 482, 'acted': 483, 'african': 484, 'airbender': 485, 'airport': 486, 'anything': 487, 'artist': 488, 'atlanta': 489, 'atom': 490, 'atomic': 491, 'atoms': 492, 'award': 493, 'awards': 494, 'beautiful': 495, 'before': 496, 'begin': 497, 'being': 498, 'betty': 499, 'bill': 500, 'birth': 501, 'blue': 502, 'blues': 503, 'books': 504, 'border': 505, 'boyfriend': 506, 'brazil': 507, 'break': 508, 'burgers': 509, 'buried': 510, 'but': 511, 'butter': 512, 'ca': 513, 'career': 514, 'case': 515, 'center': 516, 'champion': 517, 'channel': 518, 'charlotte': 519, 'chef': 520, 'chief': 521, 'church': 522, 'clock': 523, 'common': 524, 'company': 525, 'constituent': 526, 'constitution': 527, 'constitutional': 528, 'contest': 529, 'countries': 530, 'county': 531, 'currency': 532, 'd': 533, 'dance': 534, 'daughter': 535, 'developed': 536, 'directed': 537, 'disney': 538, 'dr': 539, 'drag': 540, 'drinking': 541, 'electric': 542, 'established': 543, 'evil': 544, 'eyes': 545, 'f': 546, 'fall': 547, 'famous': 548, 'far': 549, 'fast': 550, 'field': 551, 'filming': 552, 'flag': 553, 'fools': 554, 'four': 555, 'free': 556, 'friday': 557, 'golden': 558, 'government': 559, 'governor': 560, 'greek': 561, 'greenland': 562, 'had': 563, 'half': 564, 'happen': 565, 'henry': 566, 'her': 567, 'hollywood': 568, 'horses': 569, 'hospital': 570, 'if': 571, 'independence': 572, 'islands': 573, 'italy': 574, 'jack': 575, 'jake': 576, 'japanese': 577, 'jump': 578, 'justice': 579, 'kings': 580, 'lady': 581, 'lane': 582, 'las': 583, 'length': 584, 'let': 585, 'like': 586, 'lion': 587, 'lisa': 588, 'liverpool': 589, 'london': 590, 'lord': 591, 'loving': 592, 'making': 593, 'mama': 594, 'match': 595, 'matches': 596, 'maximum': 597, 'mayor': 598, 'meaning': 599, 'medal': 600, 'medals': 601, 'meet': 602, 'microsoft': 603, 'money': 604, 'mouth': 605, 'mysteries': 606, 'nick': 607, 'nigeria': 608, 'note': 609, 'nuclear': 610, 'office': 611, 'officer': 612, 'opening': 613, 'originally': 614, 'owns': 615, 'pakistan': 616, 'palace': 617, 'passed': 618, 'peace': 619, 'peak': 620, 'peanut': 621, 'perfect': 622, 'phantom': 623, 'phone': 624, 'plan': 625, 'points': 626, 'police': 627, 'premier': 628, 'prince': 629, 'raymond': 630, 'reasons': 631, 'recorded': 632, 'represent': 633, 'responsible': 634, 'restless': 635, 'right': 636, 'riverdale': 637, 'row': 638, 'sabha': 639, 'sea': 640, 'seats': 641, 'senate': 642, 'separated': 643, 'serving': 644, 'shades': 645, 'shameless': 646, 'simon': 647, 'singing': 648, 'sky': 649, 'soviet': 650, 'speaker': 651, 'stacey': 652, 'step': 653, 'still': 654, 'stone': 655, 'street': 656, 'summer': 657, 'switched': 658, 't20': 659, 'talent': 660, 'tallest': 661, 'tell': 662, 'temperature': 663, 'tennis': 664, 'testament': 665, 'than': 666, 'theaters': 667, 'things': 668, 'titans': 669, 'tom': 670, 'total': 671, 'touch': 672, 'trade': 673, 'transylvania': 674, 'tree': 675, 'trek': 676, 'triple': 677, 'types': 678, 'vegas': 679, 'version': 680, 'vietnam': 681, 'virgin': 682, 'wars': 683, 'wave': 684, 'way': 685, 'wayne': 686, 'winner': 687, 'womens': 688, 'would': 689, 'zip': 690, \"'re\": 691, '100': 692, '12': 693, '15': 694, '1967': 695, '1975': 696, '20': 697, '2000': 698, '2009': 699, '2010': 700, '2012': 701, '2014': 702, '2016': 703, '2022': 704, '3rd': 705, '5th': 706, '60': 707, 'a.': 708, 'aang': 709, 'abundant': 710, 'academy': 711, 'across': 712, 'action': 713, 'added': 714, 'again': 715, 'airplane': 716, 'alabama': 717, 'alive': 718, 'alone': 719, 'alvin': 720, 'amazing': 721, 'amendment': 722, 'among': 723, 'angel': 724, 'animals': 725, 'annual': 726, 'anthem': 727, 'architect': 728, 'area': 729, 'areas': 730, 'argentina': 731, 'arizona': 732, 'arrow': 733, 'ashley': 734, 'asia': 735, 'asian': 736, 'assam': 737, 'author': 738, 'authority': 739, 'avatar': 740, 'away': 741, 'b.': 742, 'bailey': 743, 'ball': 744, 'bang': 745, 'base': 746, 'based': 747, 'basketball': 748, 'bass': 749, 'batman': 750, 'bay': 751, 'beach': 752, 'bears': 753, 'beaver': 754, 'bed': 755, 'bel': 756, 'better': 757, 'bharat': 758, 'blair': 759, 'blake': 760, 'blind': 761, 'blocks': 762, 'bomb': 763, 'bond': 764, 'bone': 765, 'boots': 766, 'bora': 767, 'boss': 768, 'boston': 769, 'bottle': 770, 'bp': 771, 'braxton': 772, 'breaking': 773, 'bridge': 774, 'bridges': 775, 'brody': 776, 'brother': 777, 'brothers': 778, 'brown': 779, 'browns': 780, 'bryant': 781, 'buffalo': 782, 'bull': 783, 'business': 784, 'buy': 785, 'c.': 786, 'camera': 787, 'cards': 788, 'cartoon': 789, 'cast': 790, 'catch': 791, 'caused': 792, 'celebrated': 793, 'cell': 794, 'championships': 795, 'charlie': 796, 'child': 797, 'chinese': 798, 'christine': 799, 'circuit': 800, 'cities': 801, 'civil': 802, 'claimed': 803, 'clash': 804, 'clause': 805, 'clay': 806, 'cleveland': 807, 'coat': 808, 'colonists': 809, 'colorado': 810, 'commandments': 811, 'commonwealth': 812, 'considered': 813, 'continent': 814, 'control': 815, 'covered': 816, 'crash': 817, 'created': 818, 'crisis': 819, 'cross': 820, 'currently': 821, 'd.': 822, 'daddy': 823, 'danger': 824, 'danny': 825, 'danube': 826, 'date': 827, 'davis': 828, 'dawn': 829, 'daylight': 830, 'dear': 831, 'debut': 832, 'deck': 833, 'deep': 834, 'derby': 835, 'desert': 836, 'designed': 837, 'developing': 838, 'development': 839, 'devil': 840, 'diane': 841, 'die': 842, 'discovery': 843, 'dogs': 844, 'dollar': 845, 'door': 846, 'draco': 847, 'draft': 848, 'dragons': 849, 'dream': 850, 'drive': 851, 'dumped': 852, 'dwight': 853, 'earl': 854, 'eclipse': 855, 'ed': 856, 'education': 857, 'elected': 858, 'electrons': 859, 'element': 860, 'emma': 861, 'enacted': 862, 'energy': 863, 'enter': 864, 'equal': 865, 'erica': 866, 'europe': 867, 'european': 868, 'eurovision': 869, 'everybody': 870, 'executed': 871, 'eye': 872, 'falls': 873, 'fat': 874, 'festival': 875, 'fever': 876, 'fifty': 877, 'figure': 878, 'finale': 879, 'fish': 880, 'flash': 881, 'flight': 882, 'flintstones': 883, 'flow': 884, 'floyd': 885, 'fly': 886, 'footballer': 887, 'force': 888, 'ford': 889, 'foreign': 890, 'forged': 891, 'fortnite': 892, 'fought': 893, 'found': 894, 'founder': 895, 'freedom': 896, 'fresh': 897, 'friend': 898, 'front': 899, 'furious': 900, 'fury': 901, 'gas': 902, 'gavin': 903, 'generation': 904, 'george': 905, 'girlfriend': 906, 'gives': 907, 'glass': 908, 'global': 909, 'governments': 910, 'grace': 911, 'grammy': 912, 'greys': 913, 'guide': 914, 'gum': 915, 'hand': 916, 'hat': 917, 'hate': 918, 'hear': 919, 'heat': 920, 'help': 921, 'high': 922, 'hill': 923, 'hitchhiker': 924, 'holiday': 925, 'holy': 926, 'host': 927, 'hosting': 928, 'hottest': 929, 'houses': 930, 'idea': 931, 'imagine': 932, 'important': 933, 'infinity': 934, 'innings': 935, 'inside': 936, 'integrated': 937, 'invented': 938, 'invisible': 939, 'iron': 940, 'island': 941, 'israel': 942, 'j': 943, 'japan': 944, 'jeff': 945, 'jelly': 946, 'jimmy': 947, 'jo': 948, 'join': 949, 'joshua': 950, 'joy': 951, 'junior': 952, 'just': 953, 'kelly': 954, 'killed': 955, 'kitchen': 956, 'knob': 957, 'kobe': 958, 'kramer': 959, 'lagoon': 960, 'landed': 961, 'language': 962, 'latin': 963, 'laws': 964, 'lean': 965, 'letter': 966, 'levels': 967, 'light': 968, 'lights': 969, 'limit': 970, 'lit': 971, 'lived': 972, 'll': 973, 'lok': 974, 'look': 975, 'looking': 976, 'louis': 977, 'loyola': 978, 'luke': 979, 'machine': 980, 'malfoy': 981, 'manchester': 982, 'mark': 983, 'marry': 984, 'mary': 985, 'mass': 986, 'master': 987, 'matt': 988, 'matthews': 989, 'max': 990, 'may': 991, 'meeting': 992, 'member': 993, 'members': 994, 'met': 995, 'metals': 996, 'metropolitan': 997, 'michigan': 998, 'middle': 999, 'military': 1000, 'milky': 1001, 'mind': 1002, 'miss': 1003, 'mississippi': 1004, 'molecule': 1005, 'monarch': 1006, 'monday': 1007, 'montreal': 1008, 'morning': 1009, 'mountain': 1010, 'mountains': 1011, 'move': 1012, 'movement': 1013, 'mrs': 1014, 'murderer': 1015, 'muscle': 1016, 'musical': 1017, 'named': 1018, 'names': 1019, 'nancy': 1020, 'narrator': 1021, 'nation': 1022, 'ncis': 1023, 'needs': 1024, 'neil': 1025, 'nhl': 1026, 'northern': 1027, 'now': 1028, 'o': 1029, 'official': 1030, 'oliver': 1031, 'opened': 1032, 'opera': 1033, 'operating': 1034, 'organization': 1035, 'origin': 1036, 'originate': 1037, 'orleans': 1038, 'oscars': 1039, 'other': 1040, 'outsiders': 1041, 'oz': 1042, 'p': 1043, 'panel': 1044, 'parks': 1045, 'participating': 1046, 'pay': 1047, 'pee': 1048, 'per': 1049, 'performance': 1050, 'period': 1051, 'petersburg': 1052, 'pets': 1053, 'phase': 1054, 'pick': 1055, 'picture': 1056, 'piece': 1057, 'pittsburgh': 1058, 'places': 1059, 'plane': 1060, 'planet': 1061, 'plant': 1062, 'pledge': 1063, 'policy': 1064, 'powers': 1065, 'present': 1066, 'presided': 1067, 'primary': 1068, 'principle': 1069, 'prison': 1070, 'process': 1071, 'public': 1072, 'purchase': 1073, 'pure': 1074, 'put': 1075, 'quarter': 1076, 'quarterback': 1077, 'quinn': 1078, 'raccoon': 1079, 'rain': 1080, 'rank': 1081, 'ratio': 1082, 'raven': 1083, 'rebounds': 1084, 'redskins': 1085, 'refers': 1086, 'region': 1087, 'related': 1088, 'remember': 1089, 'representative': 1090, 'republic': 1091, 'reserve': 1092, 'revolution': 1093, 'rio': 1094, 'rna': 1095, 'rogers': 1096, 'romans': 1097, 'rood': 1098, 'roof': 1099, 'room': 1100, 'rule': 1101, 'rumble': 1102, 'russia': 1103, 'sam': 1104, 'same': 1105, 'saturday': 1106, 'say': 1107, 'scorer': 1108, 'scott': 1109, 'scoville': 1110, 'seasons': 1111, 'see': 1112, 'selling': 1113, 'separate': 1114, 'serial': 1115, 'served': 1116, 'services': 1117, 'settle': 1118, 'seven': 1119, 'sheeran': 1120, 'shield': 1121, 'siege': 1122, 'signed': 1123, 'silence': 1124, 'similar': 1125, 'simpsons': 1126, 'situated': 1127, 'six': 1128, 'size': 1129, 'skating': 1130, 'slams': 1131, 'slogan': 1132, 'smoke': 1133, 'solar': 1134, 'sold': 1135, 'solid': 1136, 'somebody': 1137, 'something': 1138, 'sonny': 1139, 'sons': 1140, 'soul': 1141, 'sperm': 1142, 'spiderman': 1143, 'spy': 1144, 'squad': 1145, 'standard': 1146, 'stanley': 1147, 'started': 1148, 'starting': 1149, 'strongest': 1150, 'structures': 1151, 'student': 1152, 'style': 1153, 'successful': 1154, 'sunny': 1155, 'taken': 1156, 'tale': 1157, 'tattoo': 1158, 'teacher': 1159, 'telephone': 1160, 'telltale': 1161, 'ten': 1162, 'territory': 1163, 'then': 1164, 'these': 1165, 'thief': 1166, 'thin': 1167, 'thing': 1168, 'throne': 1169, 'too': 1170, 'toronto': 1171, 'tour': 1172, 'tournament': 1173, 'tower': 1174, 'toyota': 1175, 'transformers': 1176, 'trophy': 1177, 'tube': 1178, 'turned': 1179, 'turner': 1180, 'twins': 1181, 'u': 1182, 'uniform': 1183, 'v': 1184, 'venus': 1185, 'vicar': 1186, 'vice': 1187, 'vote': 1188, 'voting': 1189, 'vs': 1190, 'wales': 1191, 'watching': 1192, 'wee': 1193, 'wheel': 1194, 'whole': 1195, 'windows': 1196, 'winston': 1197, 'wish': 1198, 'witch': 1199, 'wizard': 1200, 'wonders': 1201, 'woods': 1202, 'work': 1203, 'ww1': 1204, 'wwe': 1205, 'youtube': 1206, 'zone': 1207, 'zorro': 1208, '’s': 1209})\n",
            "defaultdict(<function _default_unk_index at 0x7f240d0abf28>, {'<unk>': 0, '<pad>': 1, '<sos>': 2, '<eos>': 3, '13': 4, '1998': 5, '2018': 6, '8': 7, 'five': 8, '1983': 9, '2017': 10, 'dan stevens': 11, 'gary oldman': 12, 'los angeles': 13, '18': 14, '1938': 15, '1954': 16, '1975': 17, '2001': 18, '2002': 19, '2008': 20, '2012': 21, '2015': 22, 'bradley cooper': 23, 'germany': 24, 'india': 25, 'new york city': 26, 'the united states': 27, 'three': 28, 'wilt chamberlain': 29, '0': 30, '12': 31, '13 december 1977': 32, '16': 33, '1754': 34, '1951': 35, '1960': 36, '1963': 37, '1964': 38, '1966': 39, '1969': 40, '1971': 41, '1974': 42, '1977': 43, '1978': 44, '1980': 45, '1982': 46, '1990': 47, '1991': 48, '1993 -- 94': 49, '1995': 50, '2': 51, '2005': 52, '2006': 53, '2010': 54, '22': 55, '29 august 1949': 56, '38': 57, '6': 58, 'alec baldwin': 59, 'august 3 , 2018': 60, 'brooks koepka': 61, 'chicago cubs': 62, 'cristiano ronaldo': 63, 'dusty springfield': 64, 'england': 65, 'february 6 , 2018': 66, 'george harrison': 67, 'golden state warriors': 68, 'italy': 69, 'jacob': 70, 'jake': 71, 'january 7 , 2018': 72, 'joe': 73, 'john lennon': 74, 'libertas , a roman goddess': 75, 'march 4 , 2018': 76, 'march 7 , 2018': 77, 'miami': 78, 'mitribah , kuwait': 79, 'noah ringer': 80, 'paul the apostle': 81, 'pelé': 82, 'pete rose': 83, 'philadelphia': 84, 'plato': 85, 'prince': 86, 'qatar': 87, 'roger federer': 88, 'russia': 89, 'sachin tendulkar': 90, 'stephen curry': 91, 'tatyana marisol ali': 92, 'the buckwheat boyz': 93, 'the eighth season': 94, 'the pittsburgh steelers': 95, 'thomas andrew felton': 96, 'two': 97, 'waxahachie , texas': 98, 'woodrow wilson': 99})\n"
          ],
          "name": "stdout"
        }
      ]
    },
    {
      "cell_type": "markdown",
      "metadata": {
        "id": "RRDnbA09EzFc"
      },
      "source": [
        "Then create our vocabulary, converting all tokens appearing less than twice into `<unk>` tokens."
      ]
    },
    {
      "cell_type": "markdown",
      "metadata": {
        "id": "F2hiioCLEzFd"
      },
      "source": [
        "Finally, define the `device` and create our iterators."
      ]
    },
    {
      "cell_type": "code",
      "metadata": {
        "id": "f4davOyYEzFd"
      },
      "source": [
        "device = torch.device('cuda' if torch.cuda.is_available() else 'cpu')"
      ],
      "execution_count": 8,
      "outputs": []
    },
    {
      "cell_type": "code",
      "metadata": {
        "id": "ZT4Zg9QrEzFd"
      },
      "source": [
        "BATCH_SIZE = 128\n",
        "\n",
        "train_iterator, valid_iterator, test_iterator = BucketIterator.splits(\n",
        "    (train_data, valid_data, test_data), \n",
        "    batch_size = BATCH_SIZE,\n",
        "    sort_key = lambda X:len(X.SRC),\n",
        "    device = device)"
      ],
      "execution_count": 9,
      "outputs": []
    },
    {
      "cell_type": "markdown",
      "metadata": {
        "id": "Jq7BwOO4EzFd"
      },
      "source": [
        "## Building the Seq2Seq Model\n",
        "\n",
        "### Encoder\n",
        "\n",
        "The encoder is similar to the previous one, with the multi-layer LSTM swapped for a single-layer GRU. We also don't pass the dropout as an argument to the GRU as that dropout is used between each layer of a multi-layered RNN. As we only have a single layer, PyTorch will display a warning if we try and use pass a dropout value to it.\n",
        "\n",
        "Another thing to note about the GRU is that it only requires and returns a hidden state, there is no cell state like in the LSTM.\n",
        "\n",
        "$$\\begin{align*}\n",
        "h_t &= \\text{GRU}(e(x_t), h_{t-1})\\\\\n",
        "(h_t, c_t) &= \\text{LSTM}(e(x_t), h_{t-1}, c_{t-1})\\\\\n",
        "h_t &= \\text{RNN}(e(x_t), h_{t-1})\n",
        "\\end{align*}$$\n",
        "\n",
        "From the equations above, it looks like the RNN and the GRU are identical. Inside the GRU, however, is a number of *gating mechanisms* that control the information flow in to and out of the hidden state (similar to an LSTM). Again, for more info, check out [this](https://colah.github.io/posts/2015-08-Understanding-LSTMs/) excellent post. \n",
        "\n",
        "The rest of the encoder should be very familar from the last session, it takes in a sequence, $X = \\{x_1, x_2, ... , x_T\\}$, passes it through the embedding layer, recurrently calculates hidden states, $H = \\{h_1, h_2, ..., h_T\\}$, and returns a context vector (the final hidden state), $z=h_T$.\n",
        "\n",
        "$$h_t = \\text{EncoderGRU}(e(x_t), h_{t-1})$$\n",
        "\n",
        "This is identical to the encoder of the general seq2seq model, with all the \"magic\" happening inside the GRU (green).\n",
        "\n",
        "![](https://github.com/bentrevett/pytorch-seq2seq/blob/master/assets/seq2seq5.png?raw=1)"
      ]
    },
    {
      "cell_type": "code",
      "metadata": {
        "id": "11CnDhTkEzFd"
      },
      "source": [
        "class Encoder(nn.Module):\n",
        "    def __init__(self, input_dim, emb_dim, hid_dim, dropout):\n",
        "        super().__init__()\n",
        "\n",
        "        self.hid_dim = hid_dim\n",
        "        \n",
        "        self.embedding = nn.Embedding(input_dim, emb_dim) #no dropout as only one layer!\n",
        "        \n",
        "        self.rnn = nn.GRU(emb_dim, hid_dim)\n",
        "        \n",
        "        self.dropout = nn.Dropout(dropout)\n",
        "        \n",
        "    def forward(self, src):\n",
        "        \n",
        "        #src = [src len, batch size]\n",
        "        \n",
        "        embedded = self.dropout(self.embedding(src))\n",
        "        \n",
        "        #embedded = [src len, batch size, emb dim]\n",
        "        \n",
        "        outputs, hidden = self.rnn(embedded) #no cell state!\n",
        "        \n",
        "        #outputs = [src len, batch size, hid dim * n directions]\n",
        "        #hidden = [n layers * n directions, batch size, hid dim]\n",
        "        \n",
        "        #outputs are always from the top hidden layer\n",
        "        \n",
        "        return hidden"
      ],
      "execution_count": 10,
      "outputs": []
    },
    {
      "cell_type": "markdown",
      "metadata": {
        "id": "FhBViJ4-EzFe"
      },
      "source": [
        "## Decoder\n",
        "\n",
        "The decoder is where the implementation differs significantly from the previous model and we alleviate some of the information compression.\n",
        "\n",
        "Instead of the GRU in the decoder taking just the embedded target token, $d(y_t)$ and the previous hidden state $s_{t-1}$ as inputs, it also takes the context vector $z$. \n",
        "\n",
        "$$s_t = \\text{DecoderGRU}(d(y_t), s_{t-1}, z)$$\n",
        "\n",
        "Note how this context vector, $z$, does not have a $t$ subscript, meaning we re-use the same context vector returned by the encoder for every time-step in the decoder. \n",
        "\n",
        "Before, we predicted the next token, $\\hat{y}_{t+1}$, with the linear layer, $f$, only using the top-layer decoder hidden state at that time-step, $s_t$, as $\\hat{y}_{t+1}=f(s_t^L)$. Now, we also pass the embedding of current token, $d(y_t)$ and the context vector, $z$ to the linear layer.\n",
        "\n",
        "$$\\hat{y}_{t+1} = f(d(y_t), s_t, z)$$\n",
        "\n",
        "Thus, our decoder now looks something like this:\n",
        "\n",
        "![](https://github.com/bentrevett/pytorch-seq2seq/blob/master/assets/seq2seq6.png?raw=1)\n",
        "\n",
        "Note, the initial hidden state, $s_0$, is still the context vector, $z$, so when generating the first token we are actually inputting two identical context vectors into the GRU.\n",
        "\n",
        "How do these two changes reduce the information compression? Well, hypothetically the decoder hidden states, $s_t$, no longer need to contain information about the source sequence as it is always available as an input. Thus, it only needs to contain information about what tokens it has generated so far. The addition of $y_t$ to the linear layer also means this layer can directly see what the token is, without having to get this information from the hidden state. \n",
        "\n",
        "However, this hypothesis is just a hypothesis, it is impossible to determine how the model actually uses the information provided to it (don't listen to anyone that says differently). Nevertheless, it is a solid intuition and the results seem to indicate that this modifications are a good idea!\n",
        "\n",
        "Within the implementation, we will pass $d(y_t)$ and $z$ to the GRU by concatenating them together, so the input dimensions to the GRU are now `emb_dim + hid_dim` (as context vector will be of size `hid_dim`). The linear layer will take $d(y_t), s_t$ and $z$ also by concatenating them together, hence the input dimensions are now `emb_dim + hid_dim*2`. We also don't pass a value of dropout to the GRU as it only uses a single layer.\n",
        "\n",
        "`forward` now takes a `context` argument. Inside of `forward`, we concatenate $y_t$ and $z$ as `emb_con` before feeding to the GRU, and we concatenate $d(y_t)$, $s_t$ and $z$ together as `output` before feeding it through the linear layer to receive our predictions, $\\hat{y}_{t+1}$."
      ]
    },
    {
      "cell_type": "code",
      "metadata": {
        "id": "wRA8hkiLEzFh"
      },
      "source": [
        "class Decoder(nn.Module):\n",
        "    def __init__(self, output_dim, emb_dim, hid_dim, dropout):\n",
        "        super().__init__()\n",
        "\n",
        "        self.hid_dim = hid_dim\n",
        "        self.output_dim = output_dim\n",
        "        \n",
        "        self.embedding = nn.Embedding(output_dim, emb_dim)\n",
        "        \n",
        "        self.rnn = nn.GRU(emb_dim + hid_dim, hid_dim)\n",
        "        \n",
        "        self.fc_out = nn.Linear(emb_dim + hid_dim * 2, output_dim)\n",
        "        \n",
        "        self.dropout = nn.Dropout(dropout)\n",
        "        \n",
        "    def forward(self, input, hidden, context):\n",
        "        \n",
        "        #input = [batch size]\n",
        "        #hidden = [n layers * n directions, batch size, hid dim]\n",
        "        #context = [n layers * n directions, batch size, hid dim]\n",
        "        \n",
        "        #n layers and n directions in the decoder will both always be 1, therefore:\n",
        "        #hidden = [1, batch size, hid dim]\n",
        "        #context = [1, batch size, hid dim]\n",
        "        \n",
        "        input = input.unsqueeze(0)\n",
        "        \n",
        "        #input = [1, batch size]\n",
        "        \n",
        "        embedded = self.dropout(self.embedding(input))\n",
        "        \n",
        "        #embedded = [1, batch size, emb dim]\n",
        "                \n",
        "        emb_con = torch.cat((embedded, context), dim = 2)\n",
        "            \n",
        "        #emb_con = [1, batch size, emb dim + hid dim]\n",
        "            \n",
        "        output, hidden = self.rnn(emb_con, hidden)\n",
        "        \n",
        "        #output = [seq len, batch size, hid dim * n directions]\n",
        "        #hidden = [n layers * n directions, batch size, hid dim]\n",
        "        \n",
        "        #seq len, n layers and n directions will always be 1 in the decoder, therefore:\n",
        "        #output = [1, batch size, hid dim]\n",
        "        #hidden = [1, batch size, hid dim]\n",
        "        \n",
        "        output = torch.cat((embedded.squeeze(0), hidden.squeeze(0), context.squeeze(0)), \n",
        "                           dim = 1)\n",
        "        \n",
        "        #output = [batch size, emb dim + hid dim * 2]\n",
        "        \n",
        "        prediction = self.fc_out(output)\n",
        "        \n",
        "        #prediction = [batch size, output dim]\n",
        "        \n",
        "        return prediction, hidden"
      ],
      "execution_count": 11,
      "outputs": []
    },
    {
      "cell_type": "markdown",
      "metadata": {
        "id": "wqR66FM2EzFj"
      },
      "source": [
        "## Seq2Seq Model\n",
        "\n",
        "Putting the encoder and decoder together, we get:\n",
        "\n",
        "![](https://github.com/bentrevett/pytorch-seq2seq/blob/master/assets/seq2seq7.png?raw=1)\n",
        "\n",
        "Again, in this implementation we need to ensure the hidden dimensions in both the encoder and the decoder are the same.\n",
        "\n",
        "Briefly going over all of the steps:\n",
        "- the `outputs` tensor is created to hold all predictions, $\\hat{Y}$\n",
        "- the source sequence, $X$, is fed into the encoder to receive a `context` vector\n",
        "- the initial decoder hidden state is set to be the `context` vector, $s_0 = z = h_T$\n",
        "- we use a batch of `<sos>` tokens as the first `input`, $y_1$\n",
        "- we then decode within a loop:\n",
        "  - inserting the input token $y_t$, previous hidden state, $s_{t-1}$, and the context vector, $z$, into the decoder\n",
        "  - receiving a prediction, $\\hat{y}_{t+1}$, and a new hidden state, $s_t$\n",
        "  - we then decide if we are going to teacher force or not, setting the next input as appropriate (either the ground truth next token in the target sequence or the highest predicted next token)"
      ]
    },
    {
      "cell_type": "code",
      "metadata": {
        "id": "FDyNrQ8VEzFk"
      },
      "source": [
        "class Seq2Seq(nn.Module):\n",
        "    def __init__(self, encoder, decoder, device):\n",
        "        super().__init__()\n",
        "        \n",
        "        self.encoder = encoder\n",
        "        self.decoder = decoder\n",
        "        self.device = device\n",
        "        \n",
        "        assert encoder.hid_dim == decoder.hid_dim, \\\n",
        "            \"Hidden dimensions of encoder and decoder must be equal!\"\n",
        "        \n",
        "    def forward(self, src, trg, teacher_forcing_ratio = 0.5):\n",
        "        \n",
        "        #src = [src len, batch size]\n",
        "        #trg = [trg len, batch size]\n",
        "        #teacher_forcing_ratio is probability to use teacher forcing\n",
        "        #e.g. if teacher_forcing_ratio is 0.75 we use ground-truth inputs 75% of the time\n",
        "        \n",
        "        batch_size = trg.shape[1]\n",
        "        trg_len = trg.shape[0]\n",
        "        trg_vocab_size = self.decoder.output_dim\n",
        "        \n",
        "        #tensor to store decoder outputs\n",
        "        outputs = torch.zeros(trg_len, batch_size, trg_vocab_size).to(self.device)\n",
        "        \n",
        "        #last hidden state of the encoder is the context\n",
        "        context = self.encoder(src)\n",
        "        \n",
        "        #context also used as the initial hidden state of the decoder\n",
        "        hidden = context\n",
        "        \n",
        "        #first input to the decoder is the <sos> tokens\n",
        "        input = trg[0,:]\n",
        "        \n",
        "        for t in range(1, trg_len):\n",
        "            \n",
        "            #insert input token embedding, previous hidden state and the context state\n",
        "            #receive output tensor (predictions) and new hidden state\n",
        "            output, hidden = self.decoder(input, hidden, context)\n",
        "            \n",
        "            #place predictions in a tensor holding predictions for each token\n",
        "            outputs[t] = output\n",
        "            \n",
        "            #decide if we are going to use teacher forcing or not\n",
        "            teacher_force = random.random() < teacher_forcing_ratio\n",
        "            \n",
        "            #get the highest predicted token from our predictions\n",
        "            top1 = output.argmax(1) \n",
        "            \n",
        "            #if teacher forcing, use actual next token as next input\n",
        "            #if not, use predicted token\n",
        "            input = trg[t] if teacher_force else top1\n",
        "\n",
        "        return outputs"
      ],
      "execution_count": 12,
      "outputs": []
    },
    {
      "cell_type": "markdown",
      "metadata": {
        "id": "uxVMMPUyEzFk"
      },
      "source": [
        "# Training the Seq2Seq Model\n",
        "\n",
        "The rest of this session is very similar to the previous one. \n",
        "\n",
        "We initialise our encoder, decoder and seq2seq model (placing it on the GPU if we have one). As before, the embedding dimensions and the amount of dropout used can be different between the encoder and the decoder, but the hidden dimensions must remain the same."
      ]
    },
    {
      "cell_type": "code",
      "metadata": {
        "id": "WDG6jOSuEzFk"
      },
      "source": [
        "INPUT_DIM = len(SRC.vocab)\n",
        "OUTPUT_DIM = len(TRG.vocab)\n",
        "ENC_EMB_DIM = 256\n",
        "DEC_EMB_DIM = 256\n",
        "HID_DIM = 512\n",
        "ENC_DROPOUT = 0.5\n",
        "DEC_DROPOUT = 0.5\n",
        "\n",
        "enc = Encoder(INPUT_DIM, ENC_EMB_DIM, HID_DIM, ENC_DROPOUT)\n",
        "dec = Decoder(OUTPUT_DIM, DEC_EMB_DIM, HID_DIM, DEC_DROPOUT)\n",
        "\n",
        "device = torch.device('cuda' if torch.cuda.is_available() else 'cpu')\n",
        "\n",
        "model = Seq2Seq(enc, dec, device).to(device)"
      ],
      "execution_count": 13,
      "outputs": []
    },
    {
      "cell_type": "markdown",
      "metadata": {
        "id": "RLIc1l6CEzFk"
      },
      "source": [
        "Next, we initialize our parameters. The paper states the parameters are initialized from a normal distribution with a mean of 0 and a standard deviation of 0.01, i.e. $\\mathcal{N}(0, 0.01)$. \n",
        "\n",
        "It also states we should initialize the recurrent parameters to a special initialization, however to keep things simple we'll also initialize them to $\\mathcal{N}(0, 0.01)$."
      ]
    },
    {
      "cell_type": "code",
      "metadata": {
        "id": "HgqMqq-oEzFk",
        "colab": {
          "base_uri": "https://localhost:8080/"
        },
        "outputId": "5a22a06f-52ab-4194-b797-2a86dd11f9ae"
      },
      "source": [
        "def init_weights(m):\n",
        "    for name, param in m.named_parameters():\n",
        "        nn.init.normal_(param.data, mean=0, std=0.01)\n",
        "        \n",
        "model.apply(init_weights)"
      ],
      "execution_count": 14,
      "outputs": [
        {
          "output_type": "execute_result",
          "data": {
            "text/plain": [
              "Seq2Seq(\n",
              "  (encoder): Encoder(\n",
              "    (embedding): Embedding(1210, 256)\n",
              "    (rnn): GRU(256, 512)\n",
              "    (dropout): Dropout(p=0.5, inplace=False)\n",
              "  )\n",
              "  (decoder): Decoder(\n",
              "    (embedding): Embedding(100, 256)\n",
              "    (rnn): GRU(768, 512)\n",
              "    (fc_out): Linear(in_features=1280, out_features=100, bias=True)\n",
              "    (dropout): Dropout(p=0.5, inplace=False)\n",
              "  )\n",
              ")"
            ]
          },
          "metadata": {
            "tags": []
          },
          "execution_count": 14
        }
      ]
    },
    {
      "cell_type": "markdown",
      "metadata": {
        "id": "hd1QoOsUEzFl"
      },
      "source": [
        "We print out the number of parameters.\n",
        "\n",
        "Even though we only have a single layer RNN for our encoder and decoder we actually have **more** parameters  than the last model. This is due to the increased size of the inputs to the GRU and the linear layer. However, it is not a significant amount of parameters and causes a minimal amount of increase in training time (~3 seconds per epoch extra)."
      ]
    },
    {
      "cell_type": "code",
      "metadata": {
        "id": "IggCwIBgEzFl",
        "colab": {
          "base_uri": "https://localhost:8080/"
        },
        "outputId": "787a27cd-a24a-4050-d071-9b9637d92ff6"
      },
      "source": [
        "def count_parameters(model):\n",
        "    return sum(p.numel() for p in model.parameters() if p.requires_grad)\n",
        "\n",
        "print(f'The model has {count_parameters(model):,} trainable parameters')"
      ],
      "execution_count": 15,
      "outputs": [
        {
          "output_type": "stream",
          "text": [
            "The model has 3,615,332 trainable parameters\n"
          ],
          "name": "stdout"
        }
      ]
    },
    {
      "cell_type": "markdown",
      "metadata": {
        "id": "YiH54qzHEzFl"
      },
      "source": [
        "We initiaize our optimizer."
      ]
    },
    {
      "cell_type": "code",
      "metadata": {
        "id": "eO1_eoG7EzFl"
      },
      "source": [
        "optimizer = optim.Adam(model.parameters())"
      ],
      "execution_count": 16,
      "outputs": []
    },
    {
      "cell_type": "markdown",
      "metadata": {
        "id": "BwkV3FKlEzFl"
      },
      "source": [
        "We also initialize the loss function, making sure to ignore the loss on `<pad>` tokens."
      ]
    },
    {
      "cell_type": "code",
      "metadata": {
        "id": "H0DAbGbcEzFl"
      },
      "source": [
        "TRG_PAD_IDX = TRG.vocab.stoi[TRG.pad_token]\n",
        "\n",
        "criterion = nn.CrossEntropyLoss(ignore_index = TRG_PAD_IDX)"
      ],
      "execution_count": 17,
      "outputs": []
    },
    {
      "cell_type": "markdown",
      "metadata": {
        "id": "FTay7E9rEzFm"
      },
      "source": [
        "We then create the training loop..."
      ]
    },
    {
      "cell_type": "code",
      "metadata": {
        "id": "A5OYuoFdEzFm"
      },
      "source": [
        "def train(model, iterator, optimizer, criterion, clip):\n",
        "    \n",
        "    model.train()\n",
        "    \n",
        "    epoch_loss = 0\n",
        "    \n",
        "    for i, batch in enumerate(iterator):\n",
        "        \n",
        "        src = batch.SRC\n",
        "        trg = batch.TRG\n",
        "        \n",
        "        optimizer.zero_grad()\n",
        "        \n",
        "        output = model(src, trg)\n",
        "        \n",
        "        #trg = [trg len, batch size]\n",
        "        #output = [trg len, batch size, output dim]\n",
        "        \n",
        "        output_dim = output.shape[-1]\n",
        "        \n",
        "        output = output[1:].view(-1, output_dim)\n",
        "        trg = trg[1:].view(-1)\n",
        "        \n",
        "        #trg = [(trg len - 1) * batch size]\n",
        "        #output = [(trg len - 1) * batch size, output dim]\n",
        "        \n",
        "        loss = criterion(output, trg)\n",
        "        \n",
        "        loss.backward()\n",
        "        \n",
        "        torch.nn.utils.clip_grad_norm_(model.parameters(), clip)\n",
        "        \n",
        "        optimizer.step()\n",
        "        \n",
        "        epoch_loss += loss.item()\n",
        "        \n",
        "    return epoch_loss / len(iterator)"
      ],
      "execution_count": 18,
      "outputs": []
    },
    {
      "cell_type": "markdown",
      "metadata": {
        "id": "6rfUx5lhEzFm"
      },
      "source": [
        "...and the evaluation loop, remembering to set the model to `eval` mode and turn off teaching forcing."
      ]
    },
    {
      "cell_type": "code",
      "metadata": {
        "id": "Jw022pw0EzFm"
      },
      "source": [
        "def evaluate(model, iterator, criterion):\n",
        "    \n",
        "    model.eval()\n",
        "    \n",
        "    epoch_loss = 0\n",
        "    \n",
        "    with torch.no_grad():\n",
        "    \n",
        "        for i, batch in enumerate(iterator):\n",
        "\n",
        "            src = batch.SRC\n",
        "            trg = batch.TRG\n",
        "\n",
        "            output = model(src, trg, 0) #turn off teacher forcing\n",
        "\n",
        "            #trg = [trg len, batch size]\n",
        "            #output = [trg len, batch size, output dim]\n",
        "\n",
        "            output_dim = output.shape[-1]\n",
        "            \n",
        "            output = output[1:].view(-1, output_dim)\n",
        "            trg = trg[1:].view(-1)\n",
        "\n",
        "            #trg = [(trg len - 1) * batch size]\n",
        "            #output = [(trg len - 1) * batch size, output dim]\n",
        "\n",
        "            loss = criterion(output, trg)\n",
        "\n",
        "            epoch_loss += loss.item()\n",
        "        \n",
        "    return epoch_loss / len(iterator)"
      ],
      "execution_count": 19,
      "outputs": []
    },
    {
      "cell_type": "markdown",
      "metadata": {
        "id": "E43h8dnQEzFm"
      },
      "source": [
        "We'll also define the function that calculates how long an epoch takes."
      ]
    },
    {
      "cell_type": "code",
      "metadata": {
        "id": "zTAmu3-EEzFm"
      },
      "source": [
        "def epoch_time(start_time, end_time):\n",
        "    elapsed_time = end_time - start_time\n",
        "    elapsed_mins = int(elapsed_time / 60)\n",
        "    elapsed_secs = int(elapsed_time - (elapsed_mins * 60))\n",
        "    return elapsed_mins, elapsed_secs"
      ],
      "execution_count": 20,
      "outputs": []
    },
    {
      "cell_type": "markdown",
      "metadata": {
        "id": "kbCGyO4ZEzFm"
      },
      "source": [
        "Then, we train our model, saving the parameters that give us the best validation loss."
      ]
    },
    {
      "cell_type": "code",
      "metadata": {
        "id": "jjFyRUK9EzFm",
        "colab": {
          "base_uri": "https://localhost:8080/"
        },
        "outputId": "18585ea2-ccc1-4076-b7e5-f2b0c1a90a2c"
      },
      "source": [
        "N_EPOCHS = 50\n",
        "CLIP = 1\n",
        "\n",
        "best_valid_loss = float('inf')\n",
        "\n",
        "for epoch in range(N_EPOCHS):\n",
        "    \n",
        "    start_time = time.time()\n",
        "    \n",
        "    train_loss = train(model, train_iterator, optimizer, criterion, CLIP)\n",
        "    valid_loss = evaluate(model, valid_iterator, criterion)\n",
        "    \n",
        "    end_time = time.time()\n",
        "    \n",
        "    epoch_mins, epoch_secs = epoch_time(start_time, end_time)\n",
        "    \n",
        "    if valid_loss < best_valid_loss:\n",
        "        best_valid_loss = valid_loss\n",
        "        torch.save(model.state_dict(), 'tut2-model.pt')\n",
        "    \n",
        "    print(f'Epoch: {epoch+1:02} | Time: {epoch_mins}m {epoch_secs}s')\n",
        "    print(f'\\tTrain Loss: {train_loss:.3f} | Train PPL: {math.exp(train_loss):7.3f}')\n",
        "    print(f'\\t Val. Loss: {valid_loss:.3f} |  Val. PPL: {math.exp(valid_loss):7.3f}')"
      ],
      "execution_count": 21,
      "outputs": [
        {
          "output_type": "stream",
          "text": [
            "Epoch: 01 | Time: 0m 0s\n",
            "\tTrain Loss: 2.760 | Train PPL:  15.794\n",
            "\t Val. Loss: 0.727 |  Val. PPL:   2.069\n",
            "Epoch: 02 | Time: 0m 0s\n",
            "\tTrain Loss: 0.992 | Train PPL:   2.695\n",
            "\t Val. Loss: 0.559 |  Val. PPL:   1.749\n",
            "Epoch: 03 | Time: 0m 0s\n",
            "\tTrain Loss: 0.777 | Train PPL:   2.175\n",
            "\t Val. Loss: 0.490 |  Val. PPL:   1.633\n",
            "Epoch: 04 | Time: 0m 0s\n",
            "\tTrain Loss: 0.726 | Train PPL:   2.066\n",
            "\t Val. Loss: 0.461 |  Val. PPL:   1.585\n",
            "Epoch: 05 | Time: 0m 0s\n",
            "\tTrain Loss: 0.715 | Train PPL:   2.045\n",
            "\t Val. Loss: 0.450 |  Val. PPL:   1.569\n",
            "Epoch: 06 | Time: 0m 0s\n",
            "\tTrain Loss: 0.705 | Train PPL:   2.025\n",
            "\t Val. Loss: 0.453 |  Val. PPL:   1.572\n",
            "Epoch: 07 | Time: 0m 0s\n",
            "\tTrain Loss: 0.682 | Train PPL:   1.978\n",
            "\t Val. Loss: 0.486 |  Val. PPL:   1.625\n",
            "Epoch: 08 | Time: 0m 0s\n",
            "\tTrain Loss: 0.699 | Train PPL:   2.012\n",
            "\t Val. Loss: 0.443 |  Val. PPL:   1.558\n",
            "Epoch: 09 | Time: 0m 0s\n",
            "\tTrain Loss: 0.697 | Train PPL:   2.008\n",
            "\t Val. Loss: 0.472 |  Val. PPL:   1.604\n",
            "Epoch: 10 | Time: 0m 0s\n",
            "\tTrain Loss: 0.726 | Train PPL:   2.067\n",
            "\t Val. Loss: 0.681 |  Val. PPL:   1.976\n",
            "Epoch: 11 | Time: 0m 0s\n",
            "\tTrain Loss: 0.882 | Train PPL:   2.415\n",
            "\t Val. Loss: 0.794 |  Val. PPL:   2.211\n",
            "Epoch: 12 | Time: 0m 0s\n",
            "\tTrain Loss: 0.843 | Train PPL:   2.324\n",
            "\t Val. Loss: 0.510 |  Val. PPL:   1.665\n",
            "Epoch: 13 | Time: 0m 0s\n",
            "\tTrain Loss: 0.679 | Train PPL:   1.971\n",
            "\t Val. Loss: 0.458 |  Val. PPL:   1.581\n",
            "Epoch: 14 | Time: 0m 0s\n",
            "\tTrain Loss: 0.623 | Train PPL:   1.864\n",
            "\t Val. Loss: 0.452 |  Val. PPL:   1.571\n",
            "Epoch: 15 | Time: 0m 0s\n",
            "\tTrain Loss: 0.629 | Train PPL:   1.876\n",
            "\t Val. Loss: 0.431 |  Val. PPL:   1.539\n",
            "Epoch: 16 | Time: 0m 0s\n",
            "\tTrain Loss: 0.573 | Train PPL:   1.774\n",
            "\t Val. Loss: 0.429 |  Val. PPL:   1.536\n",
            "Epoch: 17 | Time: 0m 0s\n",
            "\tTrain Loss: 0.562 | Train PPL:   1.754\n",
            "\t Val. Loss: 0.437 |  Val. PPL:   1.549\n",
            "Epoch: 18 | Time: 0m 0s\n",
            "\tTrain Loss: 0.549 | Train PPL:   1.731\n",
            "\t Val. Loss: 0.427 |  Val. PPL:   1.533\n",
            "Epoch: 19 | Time: 0m 0s\n",
            "\tTrain Loss: 0.538 | Train PPL:   1.712\n",
            "\t Val. Loss: 0.430 |  Val. PPL:   1.537\n",
            "Epoch: 20 | Time: 0m 0s\n",
            "\tTrain Loss: 0.520 | Train PPL:   1.683\n",
            "\t Val. Loss: 0.461 |  Val. PPL:   1.585\n",
            "Epoch: 21 | Time: 0m 0s\n",
            "\tTrain Loss: 0.511 | Train PPL:   1.667\n",
            "\t Val. Loss: 0.443 |  Val. PPL:   1.558\n",
            "Epoch: 22 | Time: 0m 0s\n",
            "\tTrain Loss: 0.497 | Train PPL:   1.643\n",
            "\t Val. Loss: 0.464 |  Val. PPL:   1.591\n",
            "Epoch: 23 | Time: 0m 0s\n",
            "\tTrain Loss: 0.474 | Train PPL:   1.606\n",
            "\t Val. Loss: 0.471 |  Val. PPL:   1.602\n",
            "Epoch: 24 | Time: 0m 0s\n",
            "\tTrain Loss: 0.468 | Train PPL:   1.597\n",
            "\t Val. Loss: 0.489 |  Val. PPL:   1.630\n",
            "Epoch: 25 | Time: 0m 0s\n",
            "\tTrain Loss: 0.461 | Train PPL:   1.586\n",
            "\t Val. Loss: 0.534 |  Val. PPL:   1.706\n",
            "Epoch: 26 | Time: 0m 0s\n",
            "\tTrain Loss: 0.456 | Train PPL:   1.578\n",
            "\t Val. Loss: 0.535 |  Val. PPL:   1.708\n",
            "Epoch: 27 | Time: 0m 0s\n",
            "\tTrain Loss: 0.444 | Train PPL:   1.559\n",
            "\t Val. Loss: 0.534 |  Val. PPL:   1.706\n",
            "Epoch: 28 | Time: 0m 0s\n",
            "\tTrain Loss: 0.438 | Train PPL:   1.549\n",
            "\t Val. Loss: 0.504 |  Val. PPL:   1.656\n",
            "Epoch: 29 | Time: 0m 0s\n",
            "\tTrain Loss: 0.441 | Train PPL:   1.555\n",
            "\t Val. Loss: 0.568 |  Val. PPL:   1.764\n",
            "Epoch: 30 | Time: 0m 0s\n",
            "\tTrain Loss: 0.430 | Train PPL:   1.538\n",
            "\t Val. Loss: 0.589 |  Val. PPL:   1.803\n",
            "Epoch: 31 | Time: 0m 0s\n",
            "\tTrain Loss: 0.423 | Train PPL:   1.527\n",
            "\t Val. Loss: 0.546 |  Val. PPL:   1.726\n",
            "Epoch: 32 | Time: 0m 0s\n",
            "\tTrain Loss: 0.411 | Train PPL:   1.508\n",
            "\t Val. Loss: 0.581 |  Val. PPL:   1.788\n",
            "Epoch: 33 | Time: 0m 0s\n",
            "\tTrain Loss: 0.402 | Train PPL:   1.495\n",
            "\t Val. Loss: 0.595 |  Val. PPL:   1.813\n",
            "Epoch: 34 | Time: 0m 0s\n",
            "\tTrain Loss: 0.391 | Train PPL:   1.479\n",
            "\t Val. Loss: 0.584 |  Val. PPL:   1.793\n",
            "Epoch: 35 | Time: 0m 0s\n",
            "\tTrain Loss: 0.397 | Train PPL:   1.488\n",
            "\t Val. Loss: 0.646 |  Val. PPL:   1.909\n",
            "Epoch: 36 | Time: 0m 0s\n",
            "\tTrain Loss: 0.373 | Train PPL:   1.453\n",
            "\t Val. Loss: 0.612 |  Val. PPL:   1.845\n",
            "Epoch: 37 | Time: 0m 0s\n",
            "\tTrain Loss: 0.348 | Train PPL:   1.416\n",
            "\t Val. Loss: 0.626 |  Val. PPL:   1.870\n",
            "Epoch: 38 | Time: 0m 0s\n",
            "\tTrain Loss: 0.346 | Train PPL:   1.413\n",
            "\t Val. Loss: 0.648 |  Val. PPL:   1.912\n",
            "Epoch: 39 | Time: 0m 0s\n",
            "\tTrain Loss: 0.341 | Train PPL:   1.406\n",
            "\t Val. Loss: 0.654 |  Val. PPL:   1.923\n",
            "Epoch: 40 | Time: 0m 0s\n",
            "\tTrain Loss: 0.331 | Train PPL:   1.392\n",
            "\t Val. Loss: 0.784 |  Val. PPL:   2.191\n",
            "Epoch: 41 | Time: 0m 0s\n",
            "\tTrain Loss: 0.340 | Train PPL:   1.406\n",
            "\t Val. Loss: 0.669 |  Val. PPL:   1.952\n",
            "Epoch: 42 | Time: 0m 0s\n",
            "\tTrain Loss: 0.328 | Train PPL:   1.389\n",
            "\t Val. Loss: 0.644 |  Val. PPL:   1.904\n",
            "Epoch: 43 | Time: 0m 0s\n",
            "\tTrain Loss: 0.306 | Train PPL:   1.358\n",
            "\t Val. Loss: 0.749 |  Val. PPL:   2.114\n",
            "Epoch: 44 | Time: 0m 0s\n",
            "\tTrain Loss: 0.299 | Train PPL:   1.349\n",
            "\t Val. Loss: 0.730 |  Val. PPL:   2.076\n",
            "Epoch: 45 | Time: 0m 0s\n",
            "\tTrain Loss: 0.301 | Train PPL:   1.351\n",
            "\t Val. Loss: 0.746 |  Val. PPL:   2.109\n",
            "Epoch: 46 | Time: 0m 0s\n",
            "\tTrain Loss: 0.278 | Train PPL:   1.320\n",
            "\t Val. Loss: 0.701 |  Val. PPL:   2.015\n",
            "Epoch: 47 | Time: 0m 0s\n",
            "\tTrain Loss: 0.274 | Train PPL:   1.316\n",
            "\t Val. Loss: 0.794 |  Val. PPL:   2.213\n",
            "Epoch: 48 | Time: 0m 0s\n",
            "\tTrain Loss: 0.290 | Train PPL:   1.336\n",
            "\t Val. Loss: 0.763 |  Val. PPL:   2.145\n",
            "Epoch: 49 | Time: 0m 0s\n",
            "\tTrain Loss: 0.266 | Train PPL:   1.304\n",
            "\t Val. Loss: 0.766 |  Val. PPL:   2.152\n",
            "Epoch: 50 | Time: 0m 0s\n",
            "\tTrain Loss: 0.267 | Train PPL:   1.307\n",
            "\t Val. Loss: 0.795 |  Val. PPL:   2.215\n"
          ],
          "name": "stdout"
        }
      ]
    },
    {
      "cell_type": "markdown",
      "metadata": {
        "id": "ztR5mNm8EzFn"
      },
      "source": [
        "Finally, we test the model on the test set using these \"best\" parameters."
      ]
    },
    {
      "cell_type": "code",
      "metadata": {
        "id": "xaJo3X9aEzFn",
        "colab": {
          "base_uri": "https://localhost:8080/"
        },
        "outputId": "8418debb-ba14-47fb-dc9f-583536890de7"
      },
      "source": [
        "model.load_state_dict(torch.load('tut2-model.pt'))\n",
        "\n",
        "test_loss = evaluate(model, test_iterator, criterion)\n",
        "\n",
        "print(f'| Test Loss: {test_loss:.3f} | Test PPL: {math.exp(test_loss):7.3f} |')"
      ],
      "execution_count": 22,
      "outputs": [
        {
          "output_type": "stream",
          "text": [
            "| Test Loss: 0.420 | Test PPL:   1.522 |\n"
          ],
          "name": "stdout"
        }
      ]
    },
    {
      "cell_type": "markdown",
      "metadata": {
        "id": "QY7SsC8TEzFn"
      },
      "source": [
        "Just looking at the test loss, we get better performance. This is a pretty good sign that this model architecture is doing something right! Relieving the information compression seems like the way forard, and in the next tutorial we'll expand on this even further with *attention*."
      ]
    }
  ]
}