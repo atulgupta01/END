{
  "nbformat": 4,
  "nbformat_minor": 0,
  "metadata": {
    "kernelspec": {
      "display_name": "Python 3",
      "language": "python",
      "name": "python3"
    },
    "language_info": {
      "codemirror_mode": {
        "name": "ipython",
        "version": 3
      },
      "file_extension": ".py",
      "mimetype": "text/x-python",
      "name": "python",
      "nbconvert_exporter": "python",
      "pygments_lexer": "ipython3",
      "version": "3.8.2"
    },
    "colab": {
      "name": "Assignment_9_Model2_ambigqa.ipynb",
      "provenance": [],
      "collapsed_sections": [],
      "toc_visible": true
    },
    "accelerator": "GPU"
  },
  "cells": [
    {
      "cell_type": "code",
      "metadata": {
        "id": "_KDJ9ysmCdyp",
        "colab": {
          "base_uri": "https://localhost:8080/"
        },
        "outputId": "220a4d53-6fbc-48c5-af06-3de307a06b3f"
      },
      "source": [
        "%%bash\n",
        "python -m spacy download en"
      ],
      "execution_count": 1,
      "outputs": [
        {
          "output_type": "stream",
          "text": [
            "Requirement already satisfied: en_core_web_sm==2.2.5 from https://github.com/explosion/spacy-models/releases/download/en_core_web_sm-2.2.5/en_core_web_sm-2.2.5.tar.gz#egg=en_core_web_sm==2.2.5 in /usr/local/lib/python3.6/dist-packages (2.2.5)\n",
            "Requirement already satisfied: spacy>=2.2.2 in /usr/local/lib/python3.6/dist-packages (from en_core_web_sm==2.2.5) (2.2.4)\n",
            "Requirement already satisfied: murmurhash<1.1.0,>=0.28.0 in /usr/local/lib/python3.6/dist-packages (from spacy>=2.2.2->en_core_web_sm==2.2.5) (1.0.5)\n",
            "Requirement already satisfied: preshed<3.1.0,>=3.0.2 in /usr/local/lib/python3.6/dist-packages (from spacy>=2.2.2->en_core_web_sm==2.2.5) (3.0.5)\n",
            "Requirement already satisfied: catalogue<1.1.0,>=0.0.7 in /usr/local/lib/python3.6/dist-packages (from spacy>=2.2.2->en_core_web_sm==2.2.5) (1.0.0)\n",
            "Requirement already satisfied: tqdm<5.0.0,>=4.38.0 in /usr/local/lib/python3.6/dist-packages (from spacy>=2.2.2->en_core_web_sm==2.2.5) (4.41.1)\n",
            "Requirement already satisfied: setuptools in /usr/local/lib/python3.6/dist-packages (from spacy>=2.2.2->en_core_web_sm==2.2.5) (51.0.0)\n",
            "Requirement already satisfied: thinc==7.4.0 in /usr/local/lib/python3.6/dist-packages (from spacy>=2.2.2->en_core_web_sm==2.2.5) (7.4.0)\n",
            "Requirement already satisfied: plac<1.2.0,>=0.9.6 in /usr/local/lib/python3.6/dist-packages (from spacy>=2.2.2->en_core_web_sm==2.2.5) (1.1.3)\n",
            "Requirement already satisfied: wasabi<1.1.0,>=0.4.0 in /usr/local/lib/python3.6/dist-packages (from spacy>=2.2.2->en_core_web_sm==2.2.5) (0.8.0)\n",
            "Requirement already satisfied: numpy>=1.15.0 in /usr/local/lib/python3.6/dist-packages (from spacy>=2.2.2->en_core_web_sm==2.2.5) (1.19.4)\n",
            "Requirement already satisfied: srsly<1.1.0,>=1.0.2 in /usr/local/lib/python3.6/dist-packages (from spacy>=2.2.2->en_core_web_sm==2.2.5) (1.0.5)\n",
            "Requirement already satisfied: blis<0.5.0,>=0.4.0 in /usr/local/lib/python3.6/dist-packages (from spacy>=2.2.2->en_core_web_sm==2.2.5) (0.4.1)\n",
            "Requirement already satisfied: cymem<2.1.0,>=2.0.2 in /usr/local/lib/python3.6/dist-packages (from spacy>=2.2.2->en_core_web_sm==2.2.5) (2.0.5)\n",
            "Requirement already satisfied: requests<3.0.0,>=2.13.0 in /usr/local/lib/python3.6/dist-packages (from spacy>=2.2.2->en_core_web_sm==2.2.5) (2.23.0)\n",
            "Requirement already satisfied: importlib-metadata>=0.20; python_version < \"3.8\" in /usr/local/lib/python3.6/dist-packages (from catalogue<1.1.0,>=0.0.7->spacy>=2.2.2->en_core_web_sm==2.2.5) (3.3.0)\n",
            "Requirement already satisfied: chardet<4,>=3.0.2 in /usr/local/lib/python3.6/dist-packages (from requests<3.0.0,>=2.13.0->spacy>=2.2.2->en_core_web_sm==2.2.5) (3.0.4)\n",
            "Requirement already satisfied: idna<3,>=2.5 in /usr/local/lib/python3.6/dist-packages (from requests<3.0.0,>=2.13.0->spacy>=2.2.2->en_core_web_sm==2.2.5) (2.10)\n",
            "Requirement already satisfied: certifi>=2017.4.17 in /usr/local/lib/python3.6/dist-packages (from requests<3.0.0,>=2.13.0->spacy>=2.2.2->en_core_web_sm==2.2.5) (2020.12.5)\n",
            "Requirement already satisfied: urllib3!=1.25.0,!=1.25.1,<1.26,>=1.21.1 in /usr/local/lib/python3.6/dist-packages (from requests<3.0.0,>=2.13.0->spacy>=2.2.2->en_core_web_sm==2.2.5) (1.24.3)\n",
            "Requirement already satisfied: zipp>=0.5 in /usr/local/lib/python3.6/dist-packages (from importlib-metadata>=0.20; python_version < \"3.8\"->catalogue<1.1.0,>=0.0.7->spacy>=2.2.2->en_core_web_sm==2.2.5) (3.4.0)\n",
            "Requirement already satisfied: typing-extensions>=3.6.4; python_version < \"3.8\" in /usr/local/lib/python3.6/dist-packages (from importlib-metadata>=0.20; python_version < \"3.8\"->catalogue<1.1.0,>=0.0.7->spacy>=2.2.2->en_core_web_sm==2.2.5) (3.7.4.3)\n",
            "\u001b[38;5;2m✔ Download and installation successful\u001b[0m\n",
            "You can now load the model via spacy.load('en_core_web_sm')\n",
            "\u001b[38;5;2m✔ Linking successful\u001b[0m\n",
            "/usr/local/lib/python3.6/dist-packages/en_core_web_sm -->\n",
            "/usr/local/lib/python3.6/dist-packages/spacy/data/en\n",
            "You can now load the model via spacy.load('en')\n"
          ],
          "name": "stdout"
        }
      ]
    },
    {
      "cell_type": "markdown",
      "metadata": {
        "id": "IXPzJpICCdeo"
      },
      "source": [
        "**Restart Notebook**"
      ]
    },
    {
      "cell_type": "markdown",
      "metadata": {
        "id": "_GgLPTpV9ejD"
      },
      "source": [
        "# 3 - Neural Machine Translation by Jointly Learning to Align and Translate\n",
        "\n",
        "In this third notebook on sequence-to-sequence models using PyTorch and TorchText, we'll be implementing the model from [Neural Machine Translation by Jointly Learning to Align and Translate](https://arxiv.org/abs/1409.0473). This model achives our best perplexity yet, ~27 compared to ~34 for the previous model.\n",
        "\n",
        "## Introduction\n",
        "\n",
        "As a reminder, here is the general encoder-decoder model:\n",
        "\n",
        "![](https://github.com/bentrevett/pytorch-seq2seq/blob/master/assets/seq2seq1.png?raw=1)\n",
        "\n",
        "In the previous model, our architecture was set-up in a way to reduce \"information compression\" by explicitly passing the context vector, $z$, to the decoder at every time-step and by passing both the context vector and embedded input word, $d(y_t)$, along with the hidden state, $s_t$, to the linear layer, $f$, to make a prediction.\n",
        "\n",
        "![](https://github.com/bentrevett/pytorch-seq2seq/blob/master/assets/seq2seq7.png?raw=1)\n",
        "\n",
        "Even though we have reduced some of this compression, our context vector still needs to contain all of the information about the source sentence. The model implemented in this notebook avoids this compression by allowing the decoder to look at the entire source sentence (via its hidden states) at each decoding step! How does it do this? It uses *attention*. \n",
        "\n",
        "Attention works by first, calculating an attention vector, $a$, that is the length of the source sentence. The attention vector has the property that each element is between 0 and 1, and the entire vector sums to 1. We then calculate a weighted sum of our source sentence hidden states, $H$, to get a weighted source vector, $w$. \n",
        "\n",
        "$$w = \\sum_{i}a_ih_i$$\n",
        "\n",
        "We calculate a new weighted source vector every time-step when decoding, using it as input to our decoder RNN as well as the linear layer to make a prediction. We'll explain how to do all of this during the session.\n",
        "\n",
        "## Preparing Data\n",
        "\n",
        "Again, the preparation is similar to last time.\n",
        "\n",
        "First we import all the required modules."
      ]
    },
    {
      "cell_type": "code",
      "metadata": {
        "id": "rySJ5AJb9ejE"
      },
      "source": [
        "import torch\n",
        "import torch.nn as nn\n",
        "import torch.optim as optim\n",
        "import torch.nn.functional as F\n",
        "\n",
        "from torchtext.datasets import Multi30k\n",
        "from torchtext.data import Field, BucketIterator\n",
        "from torchtext import data\n",
        "\n",
        "import spacy\n",
        "import numpy as np\n",
        "\n",
        "import random\n",
        "import math\n",
        "import time"
      ],
      "execution_count": 2,
      "outputs": []
    },
    {
      "cell_type": "markdown",
      "metadata": {
        "id": "rD1fj0R39ejE"
      },
      "source": [
        "Set the random seeds for reproducability."
      ]
    },
    {
      "cell_type": "code",
      "metadata": {
        "id": "uZJrN5ry9ejE"
      },
      "source": [
        "SEED = 1234\n",
        "\n",
        "random.seed(SEED)\n",
        "np.random.seed(SEED)\n",
        "torch.manual_seed(SEED)\n",
        "torch.cuda.manual_seed(SEED)\n",
        "torch.backends.cudnn.deterministic = True"
      ],
      "execution_count": 3,
      "outputs": []
    },
    {
      "cell_type": "markdown",
      "metadata": {
        "id": "w4Cul6h19ejF"
      },
      "source": [
        "Load the German and English spaCy models."
      ]
    },
    {
      "cell_type": "code",
      "metadata": {
        "id": "QmVlgfQY9ejF"
      },
      "source": [
        "spacy_en = spacy.load('en')"
      ],
      "execution_count": 4,
      "outputs": []
    },
    {
      "cell_type": "code",
      "metadata": {
        "colab": {
          "base_uri": "https://localhost:8080/",
          "height": 219
        },
        "id": "Km1AgAzMKQK-",
        "outputId": "b7c8b707-4259-45a0-b197-d70ff63c093f"
      },
      "source": [
        "import pandas as pd\r\n",
        "\r\n",
        "df_data = pd.read_json('dev.json')\r\n",
        "df_data = df_data[['question', 'nq_answer']]\r\n",
        "print(df_data.shape)\r\n",
        "df_data.head()"
      ],
      "execution_count": 5,
      "outputs": [
        {
          "output_type": "stream",
          "text": [
            "(2002, 2)\n"
          ],
          "name": "stdout"
        },
        {
          "output_type": "execute_result",
          "data": {
            "text/html": [
              "<div>\n",
              "<style scoped>\n",
              "    .dataframe tbody tr th:only-of-type {\n",
              "        vertical-align: middle;\n",
              "    }\n",
              "\n",
              "    .dataframe tbody tr th {\n",
              "        vertical-align: top;\n",
              "    }\n",
              "\n",
              "    .dataframe thead th {\n",
              "        text-align: right;\n",
              "    }\n",
              "</style>\n",
              "<table border=\"1\" class=\"dataframe\">\n",
              "  <thead>\n",
              "    <tr style=\"text-align: right;\">\n",
              "      <th></th>\n",
              "      <th>question</th>\n",
              "      <th>nq_answer</th>\n",
              "    </tr>\n",
              "  </thead>\n",
              "  <tbody>\n",
              "    <tr>\n",
              "      <th>0</th>\n",
              "      <td>Who plays the doctor in dexter season 1?</td>\n",
              "      <td>[Tony Goldwyn]</td>\n",
              "    </tr>\n",
              "    <tr>\n",
              "      <th>1</th>\n",
              "      <td>How often does spermatogeneis—the production o...</td>\n",
              "      <td>[74 days]</td>\n",
              "    </tr>\n",
              "    <tr>\n",
              "      <th>2</th>\n",
              "      <td>When was the first remote control tv invented?</td>\n",
              "      <td>[1950]</td>\n",
              "    </tr>\n",
              "    <tr>\n",
              "      <th>3</th>\n",
              "      <td>Why did the st louis cardinals move to arizona?</td>\n",
              "      <td>[1988]</td>\n",
              "    </tr>\n",
              "    <tr>\n",
              "      <th>4</th>\n",
              "      <td>How many episodes are in season 2 of chesapeak...</td>\n",
              "      <td>[10]</td>\n",
              "    </tr>\n",
              "  </tbody>\n",
              "</table>\n",
              "</div>"
            ],
            "text/plain": [
              "                                            question       nq_answer\n",
              "0           Who plays the doctor in dexter season 1?  [Tony Goldwyn]\n",
              "1  How often does spermatogeneis—the production o...       [74 days]\n",
              "2     When was the first remote control tv invented?          [1950]\n",
              "3    Why did the st louis cardinals move to arizona?          [1988]\n",
              "4  How many episodes are in season 2 of chesapeak...            [10]"
            ]
          },
          "metadata": {
            "tags": []
          },
          "execution_count": 5
        }
      ]
    },
    {
      "cell_type": "code",
      "metadata": {
        "id": "WxvBHg2EKQ6Z"
      },
      "source": [
        "def tokenize_text(text):\r\n",
        "    \"\"\"\r\n",
        "    Tokenizes English text from a string into a list of strings\r\n",
        "    \"\"\"\r\n",
        "    return [tok.text for tok in spacy_en.tokenizer(text)]"
      ],
      "execution_count": 6,
      "outputs": []
    },
    {
      "cell_type": "code",
      "metadata": {
        "id": "rjLF3fUxKXhm"
      },
      "source": [
        "SRC = Field(tokenize = tokenize_text, \r\n",
        "            init_token = '<sos>', \r\n",
        "            eos_token = '<eos>', \r\n",
        "            lower = True)\r\n",
        "TRG = Field(tokenize = tokenize_text, \r\n",
        "            init_token = '<sos>', \r\n",
        "            eos_token = '<eos>', \r\n",
        "            lower = True)\r\n",
        "\r\n",
        "data_fields = [('SRC', SRC), ('TRG', TRG)]\r\n",
        "\r\n",
        "example = [data.Example.fromlist([df_data.question[i],df_data.nq_answer[i]], data_fields) for i in range(df_data.shape[0])]\r\n",
        "\r\n",
        "QADataset = data.Dataset(example, data_fields)\r\n",
        "\r\n",
        "(train_data, valid_data, test_data) = QADataset.split(split_ratio=[0.80, 0.1, 0.1], random_state=random.seed(SEED))\r\n",
        "\r\n",
        "SRC.build_vocab(train_data, min_freq = 2)\r\n",
        "TRG.build_vocab(train_data, min_freq = 2)"
      ],
      "execution_count": 7,
      "outputs": []
    },
    {
      "cell_type": "code",
      "metadata": {
        "colab": {
          "base_uri": "https://localhost:8080/"
        },
        "id": "zYzdE1rsKZNe",
        "outputId": "6cae7cff-f258-4c27-c5d2-6330224affe9"
      },
      "source": [
        "print(vars(train_data.examples[1]))\r\n",
        "print(SRC.vocab.stoi)\r\n",
        "print(TRG.vocab.stoi)"
      ],
      "execution_count": 8,
      "outputs": [
        {
          "output_type": "stream",
          "text": [
            "{'SRC': ['where', 'does', 'the', 'smell', 'of', 'vanilla', 'come', 'from', '?'], 'TRG': ['as it dries', 'phenolic compounds crystallize']}\n",
            "defaultdict(<function _default_unk_index at 0x7f1c89aeba60>, {'<unk>': 0, '<pad>': 1, '<sos>': 2, '<eos>': 3, '?': 4, 'the': 5, 'who': 6, 'in': 7, 'of': 8, 'when': 9, 'is': 10, 'did': 11, 'what': 12, 'was': 13, 'to': 14, 'on': 15, 'does': 16, 'a': 17, 'where': 18, \"'s\": 19, 'and': 20, 'plays': 21, 'first': 22, 'how': 23, 'for': 24, 'come': 25, 'out': 26, 'played': 27, 'many': 28, 'won': 29, 'season': 30, 'world': 31, 'last': 32, 'most': 33, 'song': 34, 'wrote': 35, 'do': 36, 'are': 37, 'has': 38, 'name': 39, 'new': 40, 'movie': 41, 'with': 42, 'you': 43, 'from': 44, 'that': 45, 'which': 46, 'start': 47, '2': 48, 'india': 49, 'sings': 50, 'time': 51, 'game': 52, 'i': 53, 'at': 54, 'it': 55, 'sang': 56, 'us': 57, 'by': 58, 'cup': 59, 'have': 60, 'made': 61, 'me': 62, 'year': 63, 'there': 64, 'an': 65, 'as': 66, 'episode': 67, 'place': 68, 'take': 69, 'be': 70, 'called': 71, 'end': 72, 'episodes': 73, 'show': 74, 'up': 75, 'win': 76, 'all': 77, 'love': 78, 'play': 79, 'they': 80, 'were': 81, '-': 82, '2018': 83, 'filmed': 84, 'league': 85, 'man': 86, 'national': 87, 'series': 88, 'tv': 89, 'war': 90, 'located': 91, 'president': 92, 'states': 93, '2017': 94, '3': 95, 'coming': 96, 'south': 97, 'voice': 98, 'england': 99, 'girl': 100, 'indian': 101, 'original': 102, 'this': 103, 'united': 104, 'earth': 105, 'go': 106, 'got': 107, 'my': 108, 'number': 109, 'one': 110, 'star': 111, 'your': 112, '5': 113, 'air': 114, 'book': 115, 'nba': 116, 'next': 117, 'or': 118, 'part': 119, '1': 120, 'became': 121, 'galaxy': 122, 'live': 123, 'released': 124, 'super': 125, 'times': 126, 'about': 127, 'america': 128, 'home': 129, 'king': 130, 'law': 131, 'minister': 132, \"n't\": 133, 'state': 134, 'system': 135, 'type': 136, 'back': 137, 'beast': 138, 'become': 139, 'black': 140, 'bowl': 141, 'current': 142, 'dead': 143, 'during': 144, 'final': 145, 'fire': 146, 'football': 147, 'harry': 148, 'history': 149, 'into': 150, 'its': 151, 'longest': 152, 'make': 153, 'night': 154, 'olympics': 155, 'open': 156, 'person': 157, 'river': 158, 'scored': 159, 'why': 160, 'anatomy': 161, 'battle': 162, 'big': 163, 'canada': 164, 'champions': 165, 'city': 166, 'country': 167, 'gold': 168, 'greatest': 169, 'guardians': 170, 'mlb': 171, 'nfl': 172, 'no': 173, 'over': 174, 'power': 175, 'stand': 176, 'will': 177, 'woman': 178, \"'\": 179, '10': 180, 'american': 181, 'best': 182, 'body': 183, 'british': 184, 'built': 185, 'doctor': 186, 'empire': 187, 'film': 188, 'get': 189, 'grey': 190, 'he': 191, 'heart': 192, 'held': 193, 'highest': 194, 'kind': 195, 'lead': 196, 'music': 197, 'only': 198, 'potter': 199, 'run': 200, 'runs': 201, 'space': 202, 'team': 203, 'test': 204, 'their': 205, 'thrones': 206, 'train': 207, 'two': 208, 'used': 209, 'we': 210, 'west': 211, 'written': 212, 'york': 213, '.': 214, 'africa': 215, 'after': 216, 'beauty': 217, 'been': 218, 'blood': 219, 'came': 220, 'can': 221, 'car': 222, 'court': 223, 'fame': 224, 'family': 225, 'french': 226, 'games': 227, 'god': 228, 'good': 229, 'guy': 230, 'his': 231, 'hot': 232, 'international': 233, 'know': 234, 'much': 235, 'nt': 236, 'own': 237, 'player': 238, 'published': 239, 'real': 240, 'she': 241, 'wins': 242, \"'m\": 243, '4': 244, '7': 245, 'act': 246, 'age': 247, 'australia': 248, 'baby': 249, 'between': 250, 'bible': 251, 'boy': 252, 'building': 253, 'california': 254, 'call': 255, 'captain': 256, 'change': 257, 'cricket': 258, 'dad': 259, 'day': 260, 'death': 261, 'died': 262, 'dragon': 263, 'ever': 264, 'federal': 265, 'great': 266, 'hotel': 267, 'largest': 268, 'little': 269, 'long': 270, 'men': 271, 'movies': 272, 'north': 273, 'not': 274, 'our': 275, 'population': 276, 'produced': 277, 'race': 278, 'record': 279, 'roman': 280, 'singer': 281, 'st': 282, 'story': 283, 'texas': 284, 'theory': 285, 'through': 286, 'title': 287, 'top': 288, 'under': 289, 'use': 290, 'virginia': 291, 'walking': 292, 'want': 293, 'water': 294, 'white': 295, '13': 296, 'alice': 297, 'around': 298, 'bank': 299, 'baseball': 300, 'beat': 301, 'began': 302, 'cars': 303, 'catholic': 304, 'championship': 305, 'character': 306, 'congress': 307, 'dies': 308, 'dog': 309, 'father': 310, 'fifa': 311, 'fight': 312, 'finals': 313, 'food': 314, 'france': 315, 'goals': 316, 'going': 317, 'golf': 318, 'hall': 319, 'house': 320, 'ireland': 321, 'james': 322, 'jane': 323, 'john': 324, 'known': 325, 'land': 326, 'life': 327, 'line': 328, 'lost': 329, 'loves': 330, 'main': 331, 'married': 332, 'michael': 333, 'mom': 334, 'mother': 335, 'netflix': 336, 'occur': 337, 'olympic': 338, 'orange': 339, 'park': 340, 'percentage': 341, 'players': 342, 'point': 343, 'presidential': 344, 'prime': 345, 'queen': 346, 'rights': 347, 'rock': 348, 'royal': 349, 's': 350, 'said': 351, 'secret': 352, 'showman': 353, 'sister': 354, 'so': 355, 'soccer': 356, 'stars': 357, 'statue': 358, 'sun': 359, 'superbowl': 360, 'theme': 361, 'three': 362, 'union': 363, 'using': 364, 'walk': 365, 'washington': 366, 'women': 367, 'years': 368, 'young': 369, '2015': 370, '6': 371, '8': 372, 'actor': 373, 'actress': 374, 'album': 375, 'always': 376, 'animal': 377, 'apple': 378, 'army': 379, 'assembly': 380, 'beatles': 381, 'ben': 382, 'bills': 383, 'bob': 384, 'born': 385, 'britain': 386, 'capital': 387, 'cat': 388, 'central': 389, 'chicago': 390, 'christmas': 391, 'code': 392, 'college': 393, 'computer': 394, 'cost': 395, 'crust': 396, 'dark': 397, 'dc': 398, 'de': 399, 'delhi': 400, 'down': 401, 'election': 402, 'english': 403, 'fear': 404, 'female': 405, 'finish': 406, 'five': 407, 'florida': 408, 'full': 409, 'georgia': 410, 'germany': 411, 'give': 412, 'goal': 413, 'grand': 414, 'green': 415, 'group': 416, 'guitar': 417, 'head': 418, 'hit': 419, 'hockey': 420, 'horse': 421, 'human': 422, 'introduced': 423, 'jones': 424, 'jordan': 425, 'korea': 426, 'lake': 427, 'leave': 428, 'led': 429, 'liberty': 430, 'lyrics': 431, 'major': 432, 'mean': 433, 'moon': 434, 'more': 435, 'ncaa': 436, 'off': 437, 'oil': 438, 'old': 439, 'oldest': 440, 'order': 441, 'parliament': 442, 'party': 443, 'pink': 444, 'playing': 445, 'railway': 446, 'rangers': 447, 'red': 448, 'religion': 449, 'rocket': 450, 'school': 451, 'second': 452, 'service': 453, 'set': 454, 'side': 455, 'single': 456, 'son': 457, 'sound': 458, 'sports': 459, 'station': 460, 'stop': 461, 'supreme': 462, 'teams': 463, 'term': 464, 'third': 465, 'uk': 466, 'usa': 467, 'value': 468, 'video': 469, 'voices': 470, 'wall': 471, 'went': 472, 'wife': 473, 'winter': 474, 'wonder': 475, 'word': 476, 'ww2': 477, '1st': 478, '2008': 479, '21': 480, '9': 481, 'according': 482, 'acted': 483, 'african': 484, 'airbender': 485, 'airport': 486, 'anything': 487, 'artist': 488, 'atlanta': 489, 'atom': 490, 'atomic': 491, 'atoms': 492, 'award': 493, 'awards': 494, 'beautiful': 495, 'before': 496, 'begin': 497, 'being': 498, 'betty': 499, 'bill': 500, 'birth': 501, 'blue': 502, 'blues': 503, 'books': 504, 'border': 505, 'boyfriend': 506, 'brazil': 507, 'break': 508, 'burgers': 509, 'buried': 510, 'but': 511, 'butter': 512, 'ca': 513, 'career': 514, 'case': 515, 'center': 516, 'champion': 517, 'channel': 518, 'charlotte': 519, 'chef': 520, 'chief': 521, 'church': 522, 'clock': 523, 'common': 524, 'company': 525, 'constituent': 526, 'constitution': 527, 'constitutional': 528, 'contest': 529, 'countries': 530, 'county': 531, 'currency': 532, 'd': 533, 'dance': 534, 'daughter': 535, 'developed': 536, 'directed': 537, 'disney': 538, 'dr': 539, 'drag': 540, 'drinking': 541, 'electric': 542, 'established': 543, 'evil': 544, 'eyes': 545, 'f': 546, 'fall': 547, 'famous': 548, 'far': 549, 'fast': 550, 'field': 551, 'filming': 552, 'flag': 553, 'fools': 554, 'four': 555, 'free': 556, 'friday': 557, 'golden': 558, 'government': 559, 'governor': 560, 'greek': 561, 'greenland': 562, 'had': 563, 'half': 564, 'happen': 565, 'henry': 566, 'her': 567, 'hollywood': 568, 'horses': 569, 'hospital': 570, 'if': 571, 'independence': 572, 'islands': 573, 'italy': 574, 'jack': 575, 'jake': 576, 'japanese': 577, 'jump': 578, 'justice': 579, 'kings': 580, 'lady': 581, 'lane': 582, 'las': 583, 'length': 584, 'let': 585, 'like': 586, 'lion': 587, 'lisa': 588, 'liverpool': 589, 'london': 590, 'lord': 591, 'loving': 592, 'making': 593, 'mama': 594, 'match': 595, 'matches': 596, 'maximum': 597, 'mayor': 598, 'meaning': 599, 'medal': 600, 'medals': 601, 'meet': 602, 'microsoft': 603, 'money': 604, 'mouth': 605, 'mysteries': 606, 'nick': 607, 'nigeria': 608, 'note': 609, 'nuclear': 610, 'office': 611, 'officer': 612, 'opening': 613, 'originally': 614, 'owns': 615, 'pakistan': 616, 'palace': 617, 'passed': 618, 'peace': 619, 'peak': 620, 'peanut': 621, 'perfect': 622, 'phantom': 623, 'phone': 624, 'plan': 625, 'points': 626, 'police': 627, 'premier': 628, 'prince': 629, 'raymond': 630, 'reasons': 631, 'recorded': 632, 'represent': 633, 'responsible': 634, 'restless': 635, 'right': 636, 'riverdale': 637, 'row': 638, 'sabha': 639, 'sea': 640, 'seats': 641, 'senate': 642, 'separated': 643, 'serving': 644, 'shades': 645, 'shameless': 646, 'simon': 647, 'singing': 648, 'sky': 649, 'soviet': 650, 'speaker': 651, 'stacey': 652, 'step': 653, 'still': 654, 'stone': 655, 'street': 656, 'summer': 657, 'switched': 658, 't20': 659, 'talent': 660, 'tallest': 661, 'tell': 662, 'temperature': 663, 'tennis': 664, 'testament': 665, 'than': 666, 'theaters': 667, 'things': 668, 'titans': 669, 'tom': 670, 'total': 671, 'touch': 672, 'trade': 673, 'transylvania': 674, 'tree': 675, 'trek': 676, 'triple': 677, 'types': 678, 'vegas': 679, 'version': 680, 'vietnam': 681, 'virgin': 682, 'wars': 683, 'wave': 684, 'way': 685, 'wayne': 686, 'winner': 687, 'womens': 688, 'would': 689, 'zip': 690, \"'re\": 691, '100': 692, '12': 693, '15': 694, '1967': 695, '1975': 696, '20': 697, '2000': 698, '2009': 699, '2010': 700, '2012': 701, '2014': 702, '2016': 703, '2022': 704, '3rd': 705, '5th': 706, '60': 707, 'a.': 708, 'aang': 709, 'abundant': 710, 'academy': 711, 'across': 712, 'action': 713, 'added': 714, 'again': 715, 'airplane': 716, 'alabama': 717, 'alive': 718, 'alone': 719, 'alvin': 720, 'amazing': 721, 'amendment': 722, 'among': 723, 'angel': 724, 'animals': 725, 'annual': 726, 'anthem': 727, 'architect': 728, 'area': 729, 'areas': 730, 'argentina': 731, 'arizona': 732, 'arrow': 733, 'ashley': 734, 'asia': 735, 'asian': 736, 'assam': 737, 'author': 738, 'authority': 739, 'avatar': 740, 'away': 741, 'b.': 742, 'bailey': 743, 'ball': 744, 'bang': 745, 'base': 746, 'based': 747, 'basketball': 748, 'bass': 749, 'batman': 750, 'bay': 751, 'beach': 752, 'bears': 753, 'beaver': 754, 'bed': 755, 'bel': 756, 'better': 757, 'bharat': 758, 'blair': 759, 'blake': 760, 'blind': 761, 'blocks': 762, 'bomb': 763, 'bond': 764, 'bone': 765, 'boots': 766, 'bora': 767, 'boss': 768, 'boston': 769, 'bottle': 770, 'bp': 771, 'braxton': 772, 'breaking': 773, 'bridge': 774, 'bridges': 775, 'brody': 776, 'brother': 777, 'brothers': 778, 'brown': 779, 'browns': 780, 'bryant': 781, 'buffalo': 782, 'bull': 783, 'business': 784, 'buy': 785, 'c.': 786, 'camera': 787, 'cards': 788, 'cartoon': 789, 'cast': 790, 'catch': 791, 'caused': 792, 'celebrated': 793, 'cell': 794, 'championships': 795, 'charlie': 796, 'child': 797, 'chinese': 798, 'christine': 799, 'circuit': 800, 'cities': 801, 'civil': 802, 'claimed': 803, 'clash': 804, 'clause': 805, 'clay': 806, 'cleveland': 807, 'coat': 808, 'colonists': 809, 'colorado': 810, 'commandments': 811, 'commonwealth': 812, 'considered': 813, 'continent': 814, 'control': 815, 'covered': 816, 'crash': 817, 'created': 818, 'crisis': 819, 'cross': 820, 'currently': 821, 'd.': 822, 'daddy': 823, 'danger': 824, 'danny': 825, 'danube': 826, 'date': 827, 'davis': 828, 'dawn': 829, 'daylight': 830, 'dear': 831, 'debut': 832, 'deck': 833, 'deep': 834, 'derby': 835, 'desert': 836, 'designed': 837, 'developing': 838, 'development': 839, 'devil': 840, 'diane': 841, 'die': 842, 'discovery': 843, 'dogs': 844, 'dollar': 845, 'door': 846, 'draco': 847, 'draft': 848, 'dragons': 849, 'dream': 850, 'drive': 851, 'dumped': 852, 'dwight': 853, 'earl': 854, 'eclipse': 855, 'ed': 856, 'education': 857, 'elected': 858, 'electrons': 859, 'element': 860, 'emma': 861, 'enacted': 862, 'energy': 863, 'enter': 864, 'equal': 865, 'erica': 866, 'europe': 867, 'european': 868, 'eurovision': 869, 'everybody': 870, 'executed': 871, 'eye': 872, 'falls': 873, 'fat': 874, 'festival': 875, 'fever': 876, 'fifty': 877, 'figure': 878, 'finale': 879, 'fish': 880, 'flash': 881, 'flight': 882, 'flintstones': 883, 'flow': 884, 'floyd': 885, 'fly': 886, 'footballer': 887, 'force': 888, 'ford': 889, 'foreign': 890, 'forged': 891, 'fortnite': 892, 'fought': 893, 'found': 894, 'founder': 895, 'freedom': 896, 'fresh': 897, 'friend': 898, 'front': 899, 'furious': 900, 'fury': 901, 'gas': 902, 'gavin': 903, 'generation': 904, 'george': 905, 'girlfriend': 906, 'gives': 907, 'glass': 908, 'global': 909, 'governments': 910, 'grace': 911, 'grammy': 912, 'greys': 913, 'guide': 914, 'gum': 915, 'hand': 916, 'hat': 917, 'hate': 918, 'hear': 919, 'heat': 920, 'help': 921, 'high': 922, 'hill': 923, 'hitchhiker': 924, 'holiday': 925, 'holy': 926, 'host': 927, 'hosting': 928, 'hottest': 929, 'houses': 930, 'idea': 931, 'imagine': 932, 'important': 933, 'infinity': 934, 'innings': 935, 'inside': 936, 'integrated': 937, 'invented': 938, 'invisible': 939, 'iron': 940, 'island': 941, 'israel': 942, 'j': 943, 'japan': 944, 'jeff': 945, 'jelly': 946, 'jimmy': 947, 'jo': 948, 'join': 949, 'joshua': 950, 'joy': 951, 'junior': 952, 'just': 953, 'kelly': 954, 'killed': 955, 'kitchen': 956, 'knob': 957, 'kobe': 958, 'kramer': 959, 'lagoon': 960, 'landed': 961, 'language': 962, 'latin': 963, 'laws': 964, 'lean': 965, 'letter': 966, 'levels': 967, 'light': 968, 'lights': 969, 'limit': 970, 'lit': 971, 'lived': 972, 'll': 973, 'lok': 974, 'look': 975, 'looking': 976, 'louis': 977, 'loyola': 978, 'luke': 979, 'machine': 980, 'malfoy': 981, 'manchester': 982, 'mark': 983, 'marry': 984, 'mary': 985, 'mass': 986, 'master': 987, 'matt': 988, 'matthews': 989, 'max': 990, 'may': 991, 'meeting': 992, 'member': 993, 'members': 994, 'met': 995, 'metals': 996, 'metropolitan': 997, 'michigan': 998, 'middle': 999, 'military': 1000, 'milky': 1001, 'mind': 1002, 'miss': 1003, 'mississippi': 1004, 'molecule': 1005, 'monarch': 1006, 'monday': 1007, 'montreal': 1008, 'morning': 1009, 'mountain': 1010, 'mountains': 1011, 'move': 1012, 'movement': 1013, 'mrs': 1014, 'murderer': 1015, 'muscle': 1016, 'musical': 1017, 'named': 1018, 'names': 1019, 'nancy': 1020, 'narrator': 1021, 'nation': 1022, 'ncis': 1023, 'needs': 1024, 'neil': 1025, 'nhl': 1026, 'northern': 1027, 'now': 1028, 'o': 1029, 'official': 1030, 'oliver': 1031, 'opened': 1032, 'opera': 1033, 'operating': 1034, 'organization': 1035, 'origin': 1036, 'originate': 1037, 'orleans': 1038, 'oscars': 1039, 'other': 1040, 'outsiders': 1041, 'oz': 1042, 'p': 1043, 'panel': 1044, 'parks': 1045, 'participating': 1046, 'pay': 1047, 'pee': 1048, 'per': 1049, 'performance': 1050, 'period': 1051, 'petersburg': 1052, 'pets': 1053, 'phase': 1054, 'pick': 1055, 'picture': 1056, 'piece': 1057, 'pittsburgh': 1058, 'places': 1059, 'plane': 1060, 'planet': 1061, 'plant': 1062, 'pledge': 1063, 'policy': 1064, 'powers': 1065, 'present': 1066, 'presided': 1067, 'primary': 1068, 'principle': 1069, 'prison': 1070, 'process': 1071, 'public': 1072, 'purchase': 1073, 'pure': 1074, 'put': 1075, 'quarter': 1076, 'quarterback': 1077, 'quinn': 1078, 'raccoon': 1079, 'rain': 1080, 'rank': 1081, 'ratio': 1082, 'raven': 1083, 'rebounds': 1084, 'redskins': 1085, 'refers': 1086, 'region': 1087, 'related': 1088, 'remember': 1089, 'representative': 1090, 'republic': 1091, 'reserve': 1092, 'revolution': 1093, 'rio': 1094, 'rna': 1095, 'rogers': 1096, 'romans': 1097, 'rood': 1098, 'roof': 1099, 'room': 1100, 'rule': 1101, 'rumble': 1102, 'russia': 1103, 'sam': 1104, 'same': 1105, 'saturday': 1106, 'say': 1107, 'scorer': 1108, 'scott': 1109, 'scoville': 1110, 'seasons': 1111, 'see': 1112, 'selling': 1113, 'separate': 1114, 'serial': 1115, 'served': 1116, 'services': 1117, 'settle': 1118, 'seven': 1119, 'sheeran': 1120, 'shield': 1121, 'siege': 1122, 'signed': 1123, 'silence': 1124, 'similar': 1125, 'simpsons': 1126, 'situated': 1127, 'six': 1128, 'size': 1129, 'skating': 1130, 'slams': 1131, 'slogan': 1132, 'smoke': 1133, 'solar': 1134, 'sold': 1135, 'solid': 1136, 'somebody': 1137, 'something': 1138, 'sonny': 1139, 'sons': 1140, 'soul': 1141, 'sperm': 1142, 'spiderman': 1143, 'spy': 1144, 'squad': 1145, 'standard': 1146, 'stanley': 1147, 'started': 1148, 'starting': 1149, 'strongest': 1150, 'structures': 1151, 'student': 1152, 'style': 1153, 'successful': 1154, 'sunny': 1155, 'taken': 1156, 'tale': 1157, 'tattoo': 1158, 'teacher': 1159, 'telephone': 1160, 'telltale': 1161, 'ten': 1162, 'territory': 1163, 'then': 1164, 'these': 1165, 'thief': 1166, 'thin': 1167, 'thing': 1168, 'throne': 1169, 'too': 1170, 'toronto': 1171, 'tour': 1172, 'tournament': 1173, 'tower': 1174, 'toyota': 1175, 'transformers': 1176, 'trophy': 1177, 'tube': 1178, 'turned': 1179, 'turner': 1180, 'twins': 1181, 'u': 1182, 'uniform': 1183, 'v': 1184, 'venus': 1185, 'vicar': 1186, 'vice': 1187, 'vote': 1188, 'voting': 1189, 'vs': 1190, 'wales': 1191, 'watching': 1192, 'wee': 1193, 'wheel': 1194, 'whole': 1195, 'windows': 1196, 'winston': 1197, 'wish': 1198, 'witch': 1199, 'wizard': 1200, 'wonders': 1201, 'woods': 1202, 'work': 1203, 'ww1': 1204, 'wwe': 1205, 'youtube': 1206, 'zone': 1207, 'zorro': 1208, '’s': 1209})\n",
            "defaultdict(<function _default_unk_index at 0x7f1c89aeba60>, {'<unk>': 0, '<pad>': 1, '<sos>': 2, '<eos>': 3, '13': 4, '1998': 5, '2018': 6, '8': 7, 'five': 8, '1983': 9, '2017': 10, 'dan stevens': 11, 'gary oldman': 12, 'los angeles': 13, '18': 14, '1938': 15, '1954': 16, '1975': 17, '2001': 18, '2002': 19, '2008': 20, '2012': 21, '2015': 22, 'bradley cooper': 23, 'germany': 24, 'india': 25, 'new york city': 26, 'the united states': 27, 'three': 28, 'wilt chamberlain': 29, '0': 30, '12': 31, '13 december 1977': 32, '16': 33, '1754': 34, '1951': 35, '1960': 36, '1963': 37, '1964': 38, '1966': 39, '1969': 40, '1971': 41, '1974': 42, '1977': 43, '1978': 44, '1980': 45, '1982': 46, '1990': 47, '1991': 48, '1993 -- 94': 49, '1995': 50, '2': 51, '2005': 52, '2006': 53, '2010': 54, '22': 55, '29 august 1949': 56, '38': 57, '6': 58, 'alec baldwin': 59, 'august 3 , 2018': 60, 'brooks koepka': 61, 'chicago cubs': 62, 'cristiano ronaldo': 63, 'dusty springfield': 64, 'england': 65, 'february 6 , 2018': 66, 'george harrison': 67, 'golden state warriors': 68, 'italy': 69, 'jacob': 70, 'jake': 71, 'january 7 , 2018': 72, 'joe': 73, 'john lennon': 74, 'libertas , a roman goddess': 75, 'march 4 , 2018': 76, 'march 7 , 2018': 77, 'miami': 78, 'mitribah , kuwait': 79, 'noah ringer': 80, 'paul the apostle': 81, 'pelé': 82, 'pete rose': 83, 'philadelphia': 84, 'plato': 85, 'prince': 86, 'qatar': 87, 'roger federer': 88, 'russia': 89, 'sachin tendulkar': 90, 'stephen curry': 91, 'tatyana marisol ali': 92, 'the buckwheat boyz': 93, 'the eighth season': 94, 'the pittsburgh steelers': 95, 'thomas andrew felton': 96, 'two': 97, 'waxahachie , texas': 98, 'woodrow wilson': 99})\n"
          ],
          "name": "stdout"
        }
      ]
    },
    {
      "cell_type": "markdown",
      "metadata": {
        "id": "l1DXtJYx9ejF"
      },
      "source": [
        "Load the data."
      ]
    },
    {
      "cell_type": "markdown",
      "metadata": {
        "id": "BtqKGxNO9ejF"
      },
      "source": [
        "Define the device."
      ]
    },
    {
      "cell_type": "code",
      "metadata": {
        "id": "ey8yA-Yh9ejF"
      },
      "source": [
        "device = torch.device('cuda' if torch.cuda.is_available() else 'cpu')"
      ],
      "execution_count": 9,
      "outputs": []
    },
    {
      "cell_type": "markdown",
      "metadata": {
        "id": "aqnAGiVU9ejF"
      },
      "source": [
        "Create the iterators."
      ]
    },
    {
      "cell_type": "code",
      "metadata": {
        "id": "g50zv9L79ejF"
      },
      "source": [
        "BATCH_SIZE = 128\n",
        "\n",
        "train_iterator, valid_iterator, test_iterator = BucketIterator.splits(\n",
        "    (train_data, valid_data, test_data), \n",
        "    batch_size = BATCH_SIZE,\n",
        "    sort_key = lambda X:len(X.SRC),\n",
        "    device = device)"
      ],
      "execution_count": 10,
      "outputs": []
    },
    {
      "cell_type": "markdown",
      "metadata": {
        "id": "QP5s8Vov9ejF"
      },
      "source": [
        "## Building the Seq2Seq Model\n",
        "\n",
        "### Encoder\n",
        "\n",
        "First, we'll build the encoder. Similar to the previous model, we only use a single layer GRU, however we now use a *bidirectional RNN*. With a bidirectional RNN, we have two RNNs in each layer. A *forward RNN* going over the embedded sentence from left to right (shown below in green), and a *backward RNN* going over the embedded sentence from right to left (teal). All we need to do in code is set `bidirectional = True` and then pass the embedded sentence to the RNN as before. \n",
        "\n",
        "![](https://github.com/bentrevett/pytorch-seq2seq/blob/master/assets/seq2seq8.png?raw=1)\n",
        "\n",
        "We now have:\n",
        "\n",
        "$$\\begin{align*}\n",
        "h_t^\\rightarrow &= \\text{EncoderGRU}^\\rightarrow(e(x_t^\\rightarrow),h_{t-1}^\\rightarrow)\\\\\n",
        "h_t^\\leftarrow &= \\text{EncoderGRU}^\\leftarrow(e(x_t^\\leftarrow),h_{t-1}^\\leftarrow)\n",
        "\\end{align*}$$\n",
        "\n",
        "Where $x_0^\\rightarrow = \\text{<sos>}, x_1^\\rightarrow = \\text{guten}$ and $x_0^\\leftarrow = \\text{<eos>}, x_1^\\leftarrow = \\text{morgen}$.\n",
        "\n",
        "As before, we only pass an input (`embedded`) to the RNN, which tells PyTorch to initialize both the forward and backward initial hidden states ($h_0^\\rightarrow$ and $h_0^\\leftarrow$, respectively) to a tensor of all zeros. We'll also get two context vectors, one from the forward RNN after it has seen the final word in the sentence, $z^\\rightarrow=h_T^\\rightarrow$, and one from the backward RNN after it has seen the first word in the sentence, $z^\\leftarrow=h_T^\\leftarrow$.\n",
        "\n",
        "The RNN returns `outputs` and `hidden`. \n",
        "\n",
        "`outputs` is of size **[src len, batch size, hid dim * num directions]** where the first `hid_dim` elements in the third axis are the hidden states from the top layer forward RNN, and the last `hid_dim` elements are hidden states from the top layer backward RNN. We can think of the third axis as being the forward and backward hidden states concatenated together other, i.e. $h_1 = [h_1^\\rightarrow; h_{T}^\\leftarrow]$, $h_2 = [h_2^\\rightarrow; h_{T-1}^\\leftarrow]$ and we can denote all encoder hidden states (forward and backwards concatenated together) as $H=\\{ h_1, h_2, ..., h_T\\}$.\n",
        "\n",
        "`hidden` is of size **[n layers * num directions, batch size, hid dim]**, where **[-2, :, :]** gives the top layer forward RNN hidden state after the final time-step (i.e. after it has seen the last word in the sentence) and **[-1, :, :]** gives the top layer backward RNN hidden state after the final time-step (i.e. after it has seen the first word in the sentence).\n",
        "\n",
        "As the decoder is not bidirectional, it only needs a single context vector, $z$, to use as its initial hidden state, $s_0$, and we currently have two, a forward and a backward one ($z^\\rightarrow=h_T^\\rightarrow$ and $z^\\leftarrow=h_T^\\leftarrow$, respectively). We solve this by concatenating the two context vectors together, passing them through a linear layer, $g$, and applying the $\\tanh$ activation function. \n",
        "\n",
        "$$z=\\tanh(g(h_T^\\rightarrow, h_T^\\leftarrow)) = \\tanh(g(z^\\rightarrow, z^\\leftarrow)) = s_0$$\n",
        "\n",
        "**Note**: this is actually a deviation from the paper. Instead, they feed only the first backward RNN hidden state through a linear layer to get the context vector/decoder initial hidden state. This doesn't seem to make sense to me, so we have changed it.\n",
        "\n",
        "As we want our model to look back over the whole of the source sentence we return `outputs`, the stacked forward and backward hidden states for every token in the source sentence. We also return `hidden`, which acts as our initial hidden state in the decoder."
      ]
    },
    {
      "cell_type": "code",
      "metadata": {
        "id": "Y8ovMJ3_9ejF"
      },
      "source": [
        "class Encoder(nn.Module):\n",
        "    def __init__(self, input_dim, emb_dim, enc_hid_dim, dec_hid_dim, dropout):\n",
        "        super().__init__()\n",
        "        \n",
        "        self.embedding = nn.Embedding(input_dim, emb_dim)\n",
        "        \n",
        "        self.rnn = nn.GRU(emb_dim, enc_hid_dim, bidirectional = True)\n",
        "        \n",
        "        self.fc = nn.Linear(enc_hid_dim * 2, dec_hid_dim)\n",
        "        \n",
        "        self.dropout = nn.Dropout(dropout)\n",
        "        \n",
        "    def forward(self, src):\n",
        "        \n",
        "        #src = [src len, batch size]\n",
        "        \n",
        "        embedded = self.dropout(self.embedding(src))\n",
        "        \n",
        "        #embedded = [src len, batch size, emb dim]\n",
        "        \n",
        "        outputs, hidden = self.rnn(embedded)\n",
        "                \n",
        "        #outputs = [src len, batch size, hid dim * num directions]\n",
        "        #hidden = [n layers * num directions, batch size, hid dim]\n",
        "        \n",
        "        #hidden is stacked [forward_1, backward_1, forward_2, backward_2, ...]\n",
        "        #outputs are always from the last layer\n",
        "        \n",
        "        #hidden [-2, :, : ] is the last of the forwards RNN \n",
        "        #hidden [-1, :, : ] is the last of the backwards RNN\n",
        "        \n",
        "        #initial decoder hidden is final hidden state of the forwards and backwards \n",
        "        #  encoder RNNs fed through a linear layer\n",
        "        hidden = torch.tanh(self.fc(torch.cat((hidden[-2,:,:], hidden[-1,:,:]), dim = 1)))\n",
        "        \n",
        "        #outputs = [src len, batch size, enc hid dim * 2]\n",
        "        #hidden = [batch size, dec hid dim]\n",
        "        \n",
        "        return outputs, hidden"
      ],
      "execution_count": 11,
      "outputs": []
    },
    {
      "cell_type": "markdown",
      "metadata": {
        "id": "o9WNKZ4D9ejF"
      },
      "source": [
        "### Attention\n",
        "\n",
        "Next up is the attention layer. This will take in the previous hidden state of the decoder, $s_{t-1}$, and all of the stacked forward and backward hidden states from the encoder, $H$. The layer will output an attention vector, $a_t$, that is the length of the source sentence, each element is between 0 and 1 and the entire vector sums to 1.\n",
        "\n",
        "Intuitively, this layer takes what we have decoded so far, $s_{t-1}$, and all of what we have encoded, $H$, to produce a vector, $a_t$, that represents which words in the source sentence we should pay the most attention to in order to correctly predict the next word to decode, $\\hat{y}_{t+1}$. \n",
        "\n",
        "First, we calculate the *energy* between the previous decoder hidden state and the encoder hidden states. As our encoder hidden states are a sequence of $T$ tensors, and our previous decoder hidden state is a single tensor, the first thing we do is `repeat` the previous decoder hidden state $T$ times. We then calculate the energy, $E_t$, between them by concatenating them together and passing them through a linear layer (`attn`) and a $\\tanh$ activation function. \n",
        "\n",
        "$$E_t = \\tanh(\\text{attn}(s_{t-1}, H))$$ \n",
        "\n",
        "This can be thought of as calculating how well each encoder hidden state \"matches\" the previous decoder hidden state.\n",
        "\n",
        "We currently have a **[dec hid dim, src len]** tensor for each example in the batch. We want this to be **[src len]** for each example in the batch as the attention should be over the length of the source sentence. This is achieved by multiplying the `energy` by a **[1, dec hid dim]** tensor, $v$.\n",
        "\n",
        "$$\\hat{a}_t = v E_t$$\n",
        "\n",
        "We can think of $v$ as the weights for a weighted sum of the energy across all encoder hidden states. These weights tell us how much we should attend to each token in the source sequence. The parameters of $v$ are initialized randomly, but learned with the rest of the model via backpropagation. Note how $v$ is not dependent on time, and the same $v$ is used for each time-step of the decoding. We implement $v$ as a linear layer without a bias.\n",
        "\n",
        "Finally, we ensure the attention vector fits the constraints of having all elements between 0 and 1 and the vector summing to 1 by passing it through a $\\text{softmax}$ layer.\n",
        "\n",
        "$$a_t = \\text{softmax}(\\hat{a_t})$$\n",
        "\n",
        "This gives us the attention over the source sentence!\n",
        "\n",
        "Graphically, this looks something like below. This is for calculating the very first attention vector, where $s_{t-1} = s_0 = z$. The green/teal blocks represent the hidden states from both the forward and backward RNNs, and the attention computation is all done within the pink block.\n",
        "\n",
        "![](https://github.com/bentrevett/pytorch-seq2seq/blob/master/assets/seq2seq9.png?raw=1)"
      ]
    },
    {
      "cell_type": "code",
      "metadata": {
        "id": "7yXR6Qbg9ejF"
      },
      "source": [
        "class Attention(nn.Module):\n",
        "    def __init__(self, enc_hid_dim, dec_hid_dim):\n",
        "        super().__init__()\n",
        "        \n",
        "        self.attn = nn.Linear((enc_hid_dim * 2) + dec_hid_dim, dec_hid_dim)\n",
        "        self.v = nn.Linear(dec_hid_dim, 1, bias = False)\n",
        "        \n",
        "    def forward(self, hidden, encoder_outputs):\n",
        "        \n",
        "        #hidden = [batch size, dec hid dim]\n",
        "        #encoder_outputs = [src len, batch size, enc hid dim * 2]\n",
        "        \n",
        "        batch_size = encoder_outputs.shape[1]\n",
        "        src_len = encoder_outputs.shape[0]\n",
        "        \n",
        "        #repeat decoder hidden state src_len times\n",
        "        hidden = hidden.unsqueeze(1).repeat(1, src_len, 1)\n",
        "        \n",
        "        encoder_outputs = encoder_outputs.permute(1, 0, 2)\n",
        "        \n",
        "        #hidden = [batch size, src len, dec hid dim]\n",
        "        #encoder_outputs = [batch size, src len, enc hid dim * 2]\n",
        "        \n",
        "        energy = torch.tanh(self.attn(torch.cat((hidden, encoder_outputs), dim = 2))) \n",
        "        \n",
        "        #energy = [batch size, src len, dec hid dim]\n",
        "\n",
        "        attention = self.v(energy).squeeze(2)\n",
        "        \n",
        "        #attention= [batch size, src len]\n",
        "        \n",
        "        return F.softmax(attention, dim=1)"
      ],
      "execution_count": 12,
      "outputs": []
    },
    {
      "cell_type": "markdown",
      "metadata": {
        "id": "pb-p1mhO9ejF"
      },
      "source": [
        "### Decoder\n",
        "\n",
        "Next up is the decoder. \n",
        "\n",
        "The decoder contains the attention layer, `attention`, which takes the previous hidden state, $s_{t-1}$, all of the encoder hidden states, $H$, and returns the attention vector, $a_t$.\n",
        "\n",
        "We then use this attention vector to create a weighted source vector, $w_t$, denoted by `weighted`, which is a weighted sum of the encoder hidden states, $H$, using $a_t$ as the weights.\n",
        "\n",
        "$$w_t = a_t H$$\n",
        "\n",
        "The embedded input word, $d(y_t)$, the weighted source vector, $w_t$, and the previous decoder hidden state, $s_{t-1}$, are then all passed into the decoder RNN, with $d(y_t)$ and $w_t$ being concatenated together.\n",
        "\n",
        "$$s_t = \\text{DecoderGRU}(d(y_t), w_t, s_{t-1})$$\n",
        "\n",
        "We then pass $d(y_t)$, $w_t$ and $s_t$ through the linear layer, $f$, to make a prediction of the next word in the target sentence, $\\hat{y}_{t+1}$. This is done by concatenating them all together.\n",
        "\n",
        "$$\\hat{y}_{t+1} = f(d(y_t), w_t, s_t)$$\n",
        "\n",
        "The image below shows decoding the first word in an example translation.\n",
        "\n",
        "![](https://github.com/bentrevett/pytorch-seq2seq/blob/master/assets/seq2seq10.png?raw=1)\n",
        "\n",
        "The green/teal blocks show the forward/backward encoder RNNs which output $H$, the red block shows the context vector, $z = h_T = \\tanh(g(h^\\rightarrow_T,h^\\leftarrow_T)) = \\tanh(g(z^\\rightarrow, z^\\leftarrow)) = s_0$, the blue block shows the decoder RNN which outputs $s_t$, the purple block shows the linear layer, $f$, which outputs $\\hat{y}_{t+1}$ and the orange block shows the calculation of the weighted sum over $H$ by $a_t$ and outputs $w_t$. Not shown is the calculation of $a_t$."
      ]
    },
    {
      "cell_type": "code",
      "metadata": {
        "id": "5wg3PolD9ejF"
      },
      "source": [
        "class Decoder(nn.Module):\n",
        "    def __init__(self, output_dim, emb_dim, enc_hid_dim, dec_hid_dim, dropout, attention):\n",
        "        super().__init__()\n",
        "\n",
        "        self.output_dim = output_dim\n",
        "        self.attention = attention\n",
        "        \n",
        "        self.embedding = nn.Embedding(output_dim, emb_dim)\n",
        "        \n",
        "        self.rnn = nn.GRU((enc_hid_dim * 2) + emb_dim, dec_hid_dim)\n",
        "        \n",
        "        self.fc_out = nn.Linear((enc_hid_dim * 2) + dec_hid_dim + emb_dim, output_dim)\n",
        "        \n",
        "        self.dropout = nn.Dropout(dropout)\n",
        "        \n",
        "    def forward(self, input, hidden, encoder_outputs):\n",
        "             \n",
        "        #input = [batch size]\n",
        "        #hidden = [batch size, dec hid dim]\n",
        "        #encoder_outputs = [src len, batch size, enc hid dim * 2]\n",
        "        \n",
        "        input = input.unsqueeze(0)\n",
        "        \n",
        "        #input = [1, batch size]\n",
        "        \n",
        "        embedded = self.dropout(self.embedding(input))\n",
        "        \n",
        "        #embedded = [1, batch size, emb dim]\n",
        "        \n",
        "        a = self.attention(hidden, encoder_outputs)\n",
        "                \n",
        "        #a = [batch size, src len]\n",
        "        \n",
        "        a = a.unsqueeze(1)\n",
        "        \n",
        "        #a = [batch size, 1, src len]\n",
        "        \n",
        "        encoder_outputs = encoder_outputs.permute(1, 0, 2)\n",
        "        \n",
        "        #encoder_outputs = [batch size, src len, enc hid dim * 2]\n",
        "        \n",
        "        weighted = torch.bmm(a, encoder_outputs)\n",
        "        \n",
        "        #weighted = [batch size, 1, enc hid dim * 2]\n",
        "        \n",
        "        weighted = weighted.permute(1, 0, 2)\n",
        "        \n",
        "        #weighted = [1, batch size, enc hid dim * 2]\n",
        "        \n",
        "        rnn_input = torch.cat((embedded, weighted), dim = 2)\n",
        "        \n",
        "        #rnn_input = [1, batch size, (enc hid dim * 2) + emb dim]\n",
        "            \n",
        "        output, hidden = self.rnn(rnn_input, hidden.unsqueeze(0))\n",
        "        \n",
        "        #output = [seq len, batch size, dec hid dim * n directions]\n",
        "        #hidden = [n layers * n directions, batch size, dec hid dim]\n",
        "        \n",
        "        #seq len, n layers and n directions will always be 1 in this decoder, therefore:\n",
        "        #output = [1, batch size, dec hid dim]\n",
        "        #hidden = [1, batch size, dec hid dim]\n",
        "        #this also means that output == hidden\n",
        "        assert (output == hidden).all()\n",
        "        \n",
        "        embedded = embedded.squeeze(0)\n",
        "        output = output.squeeze(0)\n",
        "        weighted = weighted.squeeze(0)\n",
        "        \n",
        "        prediction = self.fc_out(torch.cat((output, weighted, embedded), dim = 1))\n",
        "        \n",
        "        #prediction = [batch size, output dim]\n",
        "        \n",
        "        return prediction, hidden.squeeze(0)"
      ],
      "execution_count": 13,
      "outputs": []
    },
    {
      "cell_type": "markdown",
      "metadata": {
        "id": "gj7DZYQD9ejF"
      },
      "source": [
        "### Seq2Seq\n",
        "\n",
        "This is the first model where we don't have to have the encoder RNN and decoder RNN have the same hidden dimensions, however the encoder has to be bidirectional. This requirement can be removed by changing all occurences of `enc_dim * 2` to `enc_dim * 2 if encoder_is_bidirectional else enc_dim`. \n",
        "\n",
        "This seq2seq encapsulator is similar to the last two. The only difference is that the `encoder` returns both the final hidden state (which is the final hidden state from both the forward and backward encoder RNNs passed through a linear layer) to be used as the initial hidden state for the decoder, as well as every hidden state (which are the forward and backward hidden states stacked on top of each other). We also need to ensure that `hidden` and `encoder_outputs` are passed to the decoder. \n",
        "\n",
        "Briefly going over all of the steps:\n",
        "- the `outputs` tensor is created to hold all predictions, $\\hat{Y}$\n",
        "- the source sequence, $X$, is fed into the encoder to receive $z$ and $H$\n",
        "- the initial decoder hidden state is set to be the `context` vector, $s_0 = z = h_T$\n",
        "- we use a batch of `<sos>` tokens as the first `input`, $y_1$\n",
        "- we then decode within a loop:\n",
        "  - inserting the input token $y_t$, previous hidden state, $s_{t-1}$, and all encoder outputs, $H$, into the decoder\n",
        "  - receiving a prediction, $\\hat{y}_{t+1}$, and a new hidden state, $s_t$\n",
        "  - we then decide if we are going to teacher force or not, setting the next input as appropriate"
      ]
    },
    {
      "cell_type": "code",
      "metadata": {
        "id": "UEkTIixA9ejF"
      },
      "source": [
        "class Seq2Seq(nn.Module):\n",
        "    def __init__(self, encoder, decoder, device):\n",
        "        super().__init__()\n",
        "        \n",
        "        self.encoder = encoder\n",
        "        self.decoder = decoder\n",
        "        self.device = device\n",
        "        \n",
        "    def forward(self, src, trg, teacher_forcing_ratio = 0.5):\n",
        "        \n",
        "        #src = [src len, batch size]\n",
        "        #trg = [trg len, batch size]\n",
        "        #teacher_forcing_ratio is probability to use teacher forcing\n",
        "        #e.g. if teacher_forcing_ratio is 0.75 we use teacher forcing 75% of the time\n",
        "        \n",
        "        batch_size = src.shape[1]\n",
        "        trg_len = trg.shape[0]\n",
        "        trg_vocab_size = self.decoder.output_dim\n",
        "        \n",
        "        #tensor to store decoder outputs\n",
        "        outputs = torch.zeros(trg_len, batch_size, trg_vocab_size).to(self.device)\n",
        "        \n",
        "        #encoder_outputs is all hidden states of the input sequence, back and forwards\n",
        "        #hidden is the final forward and backward hidden states, passed through a linear layer\n",
        "        encoder_outputs, hidden = self.encoder(src)\n",
        "                \n",
        "        #first input to the decoder is the <sos> tokens\n",
        "        input = trg[0,:]\n",
        "        \n",
        "        for t in range(1, trg_len):\n",
        "            \n",
        "            #insert input token embedding, previous hidden state and all encoder hidden states\n",
        "            #receive output tensor (predictions) and new hidden state\n",
        "            output, hidden = self.decoder(input, hidden, encoder_outputs)\n",
        "            \n",
        "            #place predictions in a tensor holding predictions for each token\n",
        "            outputs[t] = output\n",
        "            \n",
        "            #decide if we are going to use teacher forcing or not\n",
        "            teacher_force = random.random() < teacher_forcing_ratio\n",
        "            \n",
        "            #get the highest predicted token from our predictions\n",
        "            top1 = output.argmax(1) \n",
        "            \n",
        "            #if teacher forcing, use actual next token as next input\n",
        "            #if not, use predicted token\n",
        "            input = trg[t] if teacher_force else top1\n",
        "\n",
        "        return outputs"
      ],
      "execution_count": 14,
      "outputs": []
    },
    {
      "cell_type": "markdown",
      "metadata": {
        "id": "cXyLKEkh9ejF"
      },
      "source": [
        "## Training the Seq2Seq Model\n",
        "\n",
        "The rest of this session is very similar to the previous one.\n",
        "\n",
        "We initialise our parameters, encoder, decoder and seq2seq model (placing it on the GPU if we have one). "
      ]
    },
    {
      "cell_type": "code",
      "metadata": {
        "id": "f7FRQ8UR9ejF"
      },
      "source": [
        "INPUT_DIM = len(SRC.vocab)\n",
        "OUTPUT_DIM = len(TRG.vocab)\n",
        "ENC_EMB_DIM = 256\n",
        "DEC_EMB_DIM = 256\n",
        "ENC_HID_DIM = 512\n",
        "DEC_HID_DIM = 512\n",
        "ENC_DROPOUT = 0.5\n",
        "DEC_DROPOUT = 0.5\n",
        "\n",
        "attn = Attention(ENC_HID_DIM, DEC_HID_DIM)\n",
        "enc = Encoder(INPUT_DIM, ENC_EMB_DIM, ENC_HID_DIM, DEC_HID_DIM, ENC_DROPOUT)\n",
        "dec = Decoder(OUTPUT_DIM, DEC_EMB_DIM, ENC_HID_DIM, DEC_HID_DIM, DEC_DROPOUT, attn)\n",
        "\n",
        "model = Seq2Seq(enc, dec, device).to(device)"
      ],
      "execution_count": 15,
      "outputs": []
    },
    {
      "cell_type": "markdown",
      "metadata": {
        "id": "Ux1sNqPk9ejF"
      },
      "source": [
        "We use a simplified version of the weight initialization scheme used in the paper. Here, we will initialize all biases to zero and all weights from $\\mathcal{N}(0, 0.01)$."
      ]
    },
    {
      "cell_type": "code",
      "metadata": {
        "id": "YXaq2o559ejF",
        "colab": {
          "base_uri": "https://localhost:8080/"
        },
        "outputId": "3bd80baa-31d4-4194-c931-8ad6a5572059"
      },
      "source": [
        "def init_weights(m):\n",
        "    for name, param in m.named_parameters():\n",
        "        if 'weight' in name:\n",
        "            nn.init.normal_(param.data, mean=0, std=0.01)\n",
        "        else:\n",
        "            nn.init.constant_(param.data, 0)\n",
        "            \n",
        "model.apply(init_weights)"
      ],
      "execution_count": 16,
      "outputs": [
        {
          "output_type": "execute_result",
          "data": {
            "text/plain": [
              "Seq2Seq(\n",
              "  (encoder): Encoder(\n",
              "    (embedding): Embedding(1210, 256)\n",
              "    (rnn): GRU(256, 512, bidirectional=True)\n",
              "    (fc): Linear(in_features=1024, out_features=512, bias=True)\n",
              "    (dropout): Dropout(p=0.5, inplace=False)\n",
              "  )\n",
              "  (decoder): Decoder(\n",
              "    (attention): Attention(\n",
              "      (attn): Linear(in_features=1536, out_features=512, bias=True)\n",
              "      (v): Linear(in_features=512, out_features=1, bias=False)\n",
              "    )\n",
              "    (embedding): Embedding(100, 256)\n",
              "    (rnn): GRU(1280, 512)\n",
              "    (fc_out): Linear(in_features=1792, out_features=100, bias=True)\n",
              "    (dropout): Dropout(p=0.5, inplace=False)\n",
              "  )\n",
              ")"
            ]
          },
          "metadata": {
            "tags": []
          },
          "execution_count": 16
        }
      ]
    },
    {
      "cell_type": "markdown",
      "metadata": {
        "id": "ij9nRbgx9ejH"
      },
      "source": [
        "Calculate the number of parameters. We get an increase of almost 50% in the amount of parameters from the last model. "
      ]
    },
    {
      "cell_type": "code",
      "metadata": {
        "id": "2oAsDCtJ9ejH",
        "colab": {
          "base_uri": "https://localhost:8080/"
        },
        "outputId": "963c23ea-6f4a-4066-abb5-ca22e8d360a6"
      },
      "source": [
        "def count_parameters(model):\n",
        "    return sum(p.numel() for p in model.parameters() if p.requires_grad)\n",
        "\n",
        "print(f'The model has {count_parameters(model):,} trainable parameters')"
      ],
      "execution_count": 17,
      "outputs": [
        {
          "output_type": "stream",
          "text": [
            "The model has 6,947,940 trainable parameters\n"
          ],
          "name": "stdout"
        }
      ]
    },
    {
      "cell_type": "markdown",
      "metadata": {
        "id": "h-C9PF1d9ejH"
      },
      "source": [
        "We create an optimizer."
      ]
    },
    {
      "cell_type": "code",
      "metadata": {
        "id": "ox4JAgEE9ejH"
      },
      "source": [
        "optimizer = optim.Adam(model.parameters())"
      ],
      "execution_count": 18,
      "outputs": []
    },
    {
      "cell_type": "markdown",
      "metadata": {
        "id": "A5FzwRlz9ejH"
      },
      "source": [
        "We initialize the loss function."
      ]
    },
    {
      "cell_type": "code",
      "metadata": {
        "id": "0iAv-6As9ejH"
      },
      "source": [
        "TRG_PAD_IDX = TRG.vocab.stoi[TRG.pad_token]\n",
        "\n",
        "criterion = nn.CrossEntropyLoss(ignore_index = TRG_PAD_IDX)"
      ],
      "execution_count": 19,
      "outputs": []
    },
    {
      "cell_type": "markdown",
      "metadata": {
        "id": "-bzv6baC9ejH"
      },
      "source": [
        "We then create the training loop..."
      ]
    },
    {
      "cell_type": "code",
      "metadata": {
        "id": "bYPFqH6a9ejH"
      },
      "source": [
        "def train(model, iterator, optimizer, criterion, clip):\n",
        "    \n",
        "    model.train()\n",
        "    \n",
        "    epoch_loss = 0\n",
        "    \n",
        "    for i, batch in enumerate(iterator):\n",
        "        \n",
        "        src = batch.SRC\n",
        "        trg = batch.TRG\n",
        "        \n",
        "        optimizer.zero_grad()\n",
        "        \n",
        "        output = model(src, trg)\n",
        "        \n",
        "        #trg = [trg len, batch size]\n",
        "        #output = [trg len, batch size, output dim]\n",
        "        \n",
        "        output_dim = output.shape[-1]\n",
        "        \n",
        "        output = output[1:].view(-1, output_dim)\n",
        "        trg = trg[1:].view(-1)\n",
        "        \n",
        "        #trg = [(trg len - 1) * batch size]\n",
        "        #output = [(trg len - 1) * batch size, output dim]\n",
        "        \n",
        "        loss = criterion(output, trg)\n",
        "        \n",
        "        loss.backward()\n",
        "        \n",
        "        torch.nn.utils.clip_grad_norm_(model.parameters(), clip)\n",
        "        \n",
        "        optimizer.step()\n",
        "        \n",
        "        epoch_loss += loss.item()\n",
        "        \n",
        "    return epoch_loss / len(iterator)"
      ],
      "execution_count": 20,
      "outputs": []
    },
    {
      "cell_type": "markdown",
      "metadata": {
        "id": "sNawOMJD9ejH"
      },
      "source": [
        "...and the evaluation loop, remembering to set the model to `eval` mode and turn off teaching forcing."
      ]
    },
    {
      "cell_type": "code",
      "metadata": {
        "id": "AQotLtCi9ejH"
      },
      "source": [
        "def evaluate(model, iterator, criterion):\n",
        "    \n",
        "    model.eval()\n",
        "    \n",
        "    epoch_loss = 0\n",
        "    \n",
        "    with torch.no_grad():\n",
        "    \n",
        "        for i, batch in enumerate(iterator):\n",
        "\n",
        "            src = batch.SRC\n",
        "            trg = batch.TRG\n",
        "\n",
        "            output = model(src, trg, 0) #turn off teacher forcing\n",
        "\n",
        "            #trg = [trg len, batch size]\n",
        "            #output = [trg len, batch size, output dim]\n",
        "\n",
        "            output_dim = output.shape[-1]\n",
        "            \n",
        "            output = output[1:].view(-1, output_dim)\n",
        "            trg = trg[1:].view(-1)\n",
        "\n",
        "            #trg = [(trg len - 1) * batch size]\n",
        "            #output = [(trg len - 1) * batch size, output dim]\n",
        "\n",
        "            loss = criterion(output, trg)\n",
        "\n",
        "            epoch_loss += loss.item()\n",
        "        \n",
        "    return epoch_loss / len(iterator)"
      ],
      "execution_count": 21,
      "outputs": []
    },
    {
      "cell_type": "markdown",
      "metadata": {
        "id": "4_TUjr1O9ejH"
      },
      "source": [
        "Finally, define a timing function."
      ]
    },
    {
      "cell_type": "code",
      "metadata": {
        "id": "_UMyHEYS9ejH"
      },
      "source": [
        "def epoch_time(start_time, end_time):\n",
        "    elapsed_time = end_time - start_time\n",
        "    elapsed_mins = int(elapsed_time / 60)\n",
        "    elapsed_secs = int(elapsed_time - (elapsed_mins * 60))\n",
        "    return elapsed_mins, elapsed_secs"
      ],
      "execution_count": 22,
      "outputs": []
    },
    {
      "cell_type": "markdown",
      "metadata": {
        "id": "wYKIfYvY9ejH"
      },
      "source": [
        "Then, we train our model, saving the parameters that give us the best validation loss."
      ]
    },
    {
      "cell_type": "code",
      "metadata": {
        "id": "V2-2b9-W9ejH",
        "colab": {
          "base_uri": "https://localhost:8080/"
        },
        "outputId": "40410de8-4623-4d68-8d13-64869fd27531"
      },
      "source": [
        "N_EPOCHS = 10\n",
        "CLIP = 1\n",
        "\n",
        "best_valid_loss = float('inf')\n",
        "\n",
        "for epoch in range(N_EPOCHS):\n",
        "    \n",
        "    start_time = time.time()\n",
        "    \n",
        "    train_loss = train(model, train_iterator, optimizer, criterion, CLIP)\n",
        "    valid_loss = evaluate(model, valid_iterator, criterion)\n",
        "    \n",
        "    end_time = time.time()\n",
        "    \n",
        "    epoch_mins, epoch_secs = epoch_time(start_time, end_time)\n",
        "    \n",
        "    if valid_loss < best_valid_loss:\n",
        "        best_valid_loss = valid_loss\n",
        "        torch.save(model.state_dict(), 'tut3-model.pt')\n",
        "    \n",
        "    print(f'Epoch: {epoch+1:02} | Time: {epoch_mins}m {epoch_secs}s')\n",
        "    print(f'\\tTrain Loss: {train_loss:.3f} | Train PPL: {math.exp(train_loss):7.3f}')\n",
        "    print(f'\\t Val. Loss: {valid_loss:.3f} |  Val. PPL: {math.exp(valid_loss):7.3f}')"
      ],
      "execution_count": 23,
      "outputs": [
        {
          "output_type": "stream",
          "text": [
            "Epoch: 01 | Time: 0m 0s\n",
            "\tTrain Loss: 2.671 | Train PPL:  14.456\n",
            "\t Val. Loss: 0.767 |  Val. PPL:   2.154\n",
            "Epoch: 02 | Time: 0m 0s\n",
            "\tTrain Loss: 0.929 | Train PPL:   2.533\n",
            "\t Val. Loss: 0.510 |  Val. PPL:   1.665\n",
            "Epoch: 03 | Time: 0m 0s\n",
            "\tTrain Loss: 0.747 | Train PPL:   2.111\n",
            "\t Val. Loss: 0.457 |  Val. PPL:   1.580\n",
            "Epoch: 04 | Time: 0m 0s\n",
            "\tTrain Loss: 0.678 | Train PPL:   1.971\n",
            "\t Val. Loss: 0.422 |  Val. PPL:   1.525\n",
            "Epoch: 05 | Time: 0m 0s\n",
            "\tTrain Loss: 0.656 | Train PPL:   1.928\n",
            "\t Val. Loss: 0.455 |  Val. PPL:   1.577\n",
            "Epoch: 06 | Time: 0m 0s\n",
            "\tTrain Loss: 0.620 | Train PPL:   1.859\n",
            "\t Val. Loss: 0.446 |  Val. PPL:   1.563\n",
            "Epoch: 07 | Time: 0m 0s\n",
            "\tTrain Loss: 0.577 | Train PPL:   1.781\n",
            "\t Val. Loss: 0.450 |  Val. PPL:   1.568\n",
            "Epoch: 08 | Time: 0m 0s\n",
            "\tTrain Loss: 0.571 | Train PPL:   1.770\n",
            "\t Val. Loss: 0.442 |  Val. PPL:   1.556\n",
            "Epoch: 09 | Time: 0m 0s\n",
            "\tTrain Loss: 0.562 | Train PPL:   1.755\n",
            "\t Val. Loss: 0.458 |  Val. PPL:   1.580\n",
            "Epoch: 10 | Time: 0m 0s\n",
            "\tTrain Loss: 0.532 | Train PPL:   1.702\n",
            "\t Val. Loss: 0.445 |  Val. PPL:   1.561\n"
          ],
          "name": "stdout"
        }
      ]
    },
    {
      "cell_type": "markdown",
      "metadata": {
        "id": "zJm2KZKW9ejI"
      },
      "source": [
        "Finally, we test the model on the test set using these \"best\" parameters."
      ]
    },
    {
      "cell_type": "code",
      "metadata": {
        "id": "0ZlTvUHI9ejI",
        "colab": {
          "base_uri": "https://localhost:8080/"
        },
        "outputId": "145d2512-d689-4472-bc8c-c81e04a13d34"
      },
      "source": [
        "model.load_state_dict(torch.load('tut3-model.pt'))\n",
        "\n",
        "test_loss = evaluate(model, test_iterator, criterion)\n",
        "\n",
        "print(f'| Test Loss: {test_loss:.3f} | Test PPL: {math.exp(test_loss):7.3f} |')"
      ],
      "execution_count": 24,
      "outputs": [
        {
          "output_type": "stream",
          "text": [
            "| Test Loss: 0.380 | Test PPL:   1.463 |\n"
          ],
          "name": "stdout"
        }
      ]
    },
    {
      "cell_type": "markdown",
      "metadata": {
        "id": "seTMu4Mj9ejK"
      },
      "source": [
        "We've improved on the previous model, but this came at the cost of doubling the training time.\n",
        "\n",
        "Next, we'll be using the same architecture but using a few tricks that are applicable to all RNN architectures - packed padded sequences and masking. We'll also implement code which will allow us to look at what words in the input the RNN is paying attention to when decoding the output. Check this [Notebook](https://colab.research.google.com/github/bentrevett/pytorch-seq2seq/blob/master/4%20-%20Packed%20Padded%20Sequences%2C%20Masking%2C%20Inference%20and%20BLEU.ipynb) "
      ]
    }
  ]
}