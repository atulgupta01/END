{
  "nbformat": 4,
  "nbformat_minor": 0,
  "metadata": {
    "kernelspec": {
      "display_name": "Python 3",
      "language": "python",
      "name": "python3"
    },
    "language_info": {
      "codemirror_mode": {
        "name": "ipython",
        "version": 3
      },
      "file_extension": ".py",
      "mimetype": "text/x-python",
      "name": "python",
      "nbconvert_exporter": "python",
      "pygments_lexer": "ipython3",
      "version": "3.8.2"
    },
    "colab": {
      "name": "Assignment_9_Model2_QnA.ipynb",
      "provenance": [],
      "collapsed_sections": [],
      "toc_visible": true
    },
    "accelerator": "GPU"
  },
  "cells": [
    {
      "cell_type": "markdown",
      "metadata": {
        "id": "_GgLPTpV9ejD"
      },
      "source": [
        "# 3 - Neural Machine Translation by Jointly Learning to Align and Translate\n",
        "\n",
        "In this third notebook on sequence-to-sequence models using PyTorch and TorchText, we'll be implementing the model from [Neural Machine Translation by Jointly Learning to Align and Translate](https://arxiv.org/abs/1409.0473). This model achives our best perplexity yet, ~27 compared to ~34 for the previous model.\n",
        "\n",
        "## Introduction\n",
        "\n",
        "As a reminder, here is the general encoder-decoder model:\n",
        "\n",
        "![](https://github.com/bentrevett/pytorch-seq2seq/blob/master/assets/seq2seq1.png?raw=1)\n",
        "\n",
        "In the previous model, our architecture was set-up in a way to reduce \"information compression\" by explicitly passing the context vector, $z$, to the decoder at every time-step and by passing both the context vector and embedded input word, $d(y_t)$, along with the hidden state, $s_t$, to the linear layer, $f$, to make a prediction.\n",
        "\n",
        "![](https://github.com/bentrevett/pytorch-seq2seq/blob/master/assets/seq2seq7.png?raw=1)\n",
        "\n",
        "Even though we have reduced some of this compression, our context vector still needs to contain all of the information about the source sentence. The model implemented in this notebook avoids this compression by allowing the decoder to look at the entire source sentence (via its hidden states) at each decoding step! How does it do this? It uses *attention*. \n",
        "\n",
        "Attention works by first, calculating an attention vector, $a$, that is the length of the source sentence. The attention vector has the property that each element is between 0 and 1, and the entire vector sums to 1. We then calculate a weighted sum of our source sentence hidden states, $H$, to get a weighted source vector, $w$. \n",
        "\n",
        "$$w = \\sum_{i}a_ih_i$$\n",
        "\n",
        "We calculate a new weighted source vector every time-step when decoding, using it as input to our decoder RNN as well as the linear layer to make a prediction. We'll explain how to do all of this during the session.\n",
        "\n",
        "## Preparing Data\n",
        "\n",
        "Again, the preparation is similar to last time.\n",
        "\n",
        "First we import all the required modules."
      ]
    },
    {
      "cell_type": "code",
      "metadata": {
        "id": "rySJ5AJb9ejE"
      },
      "source": [
        "import torch\n",
        "import torch.nn as nn\n",
        "import torch.optim as optim\n",
        "import torch.nn.functional as F\n",
        "\n",
        "from torchtext.datasets import Multi30k\n",
        "from torchtext.data import Field, BucketIterator\n",
        "from torchtext import data\n",
        "\n",
        "import spacy\n",
        "import numpy as np\n",
        "import pandas as pd\n",
        "\n",
        "import random\n",
        "import math\n",
        "import time"
      ],
      "execution_count": 1,
      "outputs": []
    },
    {
      "cell_type": "markdown",
      "metadata": {
        "id": "rD1fj0R39ejE"
      },
      "source": [
        "Set the random seeds for reproducability."
      ]
    },
    {
      "cell_type": "code",
      "metadata": {
        "id": "uZJrN5ry9ejE"
      },
      "source": [
        "SEED = 1234\n",
        "\n",
        "random.seed(SEED)\n",
        "np.random.seed(SEED)\n",
        "torch.manual_seed(SEED)\n",
        "torch.cuda.manual_seed(SEED)\n",
        "torch.backends.cudnn.deterministic = True"
      ],
      "execution_count": 2,
      "outputs": []
    },
    {
      "cell_type": "markdown",
      "metadata": {
        "id": "w4Cul6h19ejF"
      },
      "source": [
        "Load the German and English spaCy models."
      ]
    },
    {
      "cell_type": "code",
      "metadata": {
        "id": "hU-3jEHmUT_N"
      },
      "source": [
        "df1 = pd.read_csv('08-question_answer_pairs.txt', sep = '\\t', encoding= 'ISO-8859-1')\r\n",
        "df2 = pd.read_csv('09-question_answer_pairs.txt', sep = '\\t', encoding= 'ISO-8859-1')\r\n",
        "df = pd.read_csv('10-question_answer_pairs.txt', sep = '\\t', encoding= 'ISO-8859-1')\r\n",
        "\r\n",
        "data1 = df.append([df1, df2])\r\n",
        "\r\n",
        "df_data = data1[['Question', 'Answer']]\r\n",
        "df_data = df_data.drop_duplicates(subset = ['Question'])\r\n",
        "ques = [str(sent) for sent in df_data['Question']]\r\n",
        "ans = [str(sent) for sent in df_data['Answer']]\r\n",
        "\r\n",
        "df_data['Question'] = ques\r\n",
        "df_data['Answer'] = ans\r\n",
        "df_data.reset_index(inplace=True)"
      ],
      "execution_count": 3,
      "outputs": []
    },
    {
      "cell_type": "code",
      "metadata": {
        "id": "rjLF3fUxKXhm"
      },
      "source": [
        "SRC = Field(tokenize = 'spacy', \r\n",
        "            init_token = '<sos>', \r\n",
        "            eos_token = '<eos>', \r\n",
        "            lower = True)\r\n",
        "TRG = Field(tokenize = 'spacy', \r\n",
        "            init_token = '<sos>', \r\n",
        "            eos_token = '<eos>', \r\n",
        "            lower = True)\r\n",
        "\r\n",
        "data_fields = [('SRC', SRC), ('TRG', TRG)]\r\n",
        "\r\n",
        "example = [data.Example.fromlist([df_data.Question[i],df_data.Answer[i]], data_fields) for i in range(df_data.shape[0])]\r\n",
        "\r\n",
        "QADataset = data.Dataset(example, data_fields)\r\n",
        "\r\n",
        "(train_data, valid_data, test_data) = QADataset.split(split_ratio=[0.80, 0.10, 0.10], random_state=random.seed(SEED))\r\n",
        "\r\n",
        "SRC.build_vocab(train_data, min_freq = 2)\r\n",
        "TRG.build_vocab(train_data, min_freq = 2)"
      ],
      "execution_count": 4,
      "outputs": []
    },
    {
      "cell_type": "code",
      "metadata": {
        "colab": {
          "base_uri": "https://localhost:8080/"
        },
        "id": "zYzdE1rsKZNe",
        "outputId": "5501133e-de61-4033-ac3f-66e9e5e4f512"
      },
      "source": [
        "print(vars(train_data.examples[1]))\r\n",
        "print(SRC.vocab.stoi)\r\n",
        "print(TRG.vocab.stoi)"
      ],
      "execution_count": 5,
      "outputs": [
        {
          "output_type": "stream",
          "text": [
            "{'SRC': ['do', 'another', 'distinguishing', 'feature', 'of', 'malay', '(', 'include', 'indonesian', 'malay', ')', '?'], 'TRG': ['another', 'distinguishing', 'feature', 'of', 'malay', '(', 'include', 'indonesian', 'malay', ')', 'is', 'its', 'use', 'of', 'measure', 'words', '(', 'penjodoh', 'bilangan', ')', '.']}\n",
            "defaultdict(<function _default_unk_index at 0x7f24046ccf28>, {'<unk>': 0, '<pad>': 1, '<sos>': 2, '<eos>': 3, '?': 4, 'the': 5, 'of': 6, 'is': 7, 'what': 8, 'in': 9, 'a': 10, 'was': 11, 'did': 12, ',': 13, 'are': 14, 'to': 15, 'and': 16, 'how': 17, \"'s\": 18, 'do': 19, 'for': 20, '-': 21, ' ': 22, 'when': 23, 'as': 24, 'does': 25, 'have': 26, ')': 27, '(': 28, 'an': 29, 'many': 30, 'where': 31, 'who': 32, 'it': 33, 'language': 34, 'he': 35, 'on': 36, 'that': 37, 'by': 38, 'his': 39, '\"': 40, 'from': 41, 'most': 42, 'with': 43, 'at': 44, 'there': 45, 'city': 46, 'which': 47, 'born': 48, 'first': 49, 'has': 50, 'why': 51, 'be': 52, 'called': 53, 'can': 54, 'true': 55, 'than': 56, 'used': 57, 'not': 58, 'official': 59, 'were': 60, \"'\": 61, 'family': 62, 'largest': 63, 'or': 64, 'volta': 65, 'been': 66, 'happened': 67, 'world': 68, '`': 69, 'chinese': 70, 'james': 71, 'name': 72, 'president': 73, 'years': 74, 'coulomb': 75, 'avogadro': 76, 'one': 77, 'two': 78, 'faraday': 79, 'languages': 80, 'newton': 81, 'population': 82, 'use': 83, 'more': 84, 'turtles': 85, 'de': 86, 'ghana': 87, 'made': 88, 'tesla': 89, 'watt': 90, 'french': 91, 'old': 92, 'after': 93, 'coolidge': 94, 'into': 95, 'korean': 96, 'long': 97, 'monroe': 98, 'otters': 99, 'people': 100, 'arabic': 101, 'becquerel': 102, 'country': 103, 'english': 104, 'lincoln': 105, 'live': 106, 'canada': 107, 'charles': 108, 'some': 109, 'species': 110, 'university': 111, 'word': 112, '.': 113, 'die': 114, 'finland': 115, 'ford': 116, 'known': 117, 'named': 118, 'penguins': 119, 'year': 120, 'all': 121, 'between': 122, 'capital': 123, 'during': 124, 'its': 125, 'romania': 126, 'trumpet': 127, 'uruguay': 128, 'adams': 129, 'kangaroos': 130, 'malay': 131, 'modern': 132, 'spoken': 133, 'words': 134, 'about': 135, 'augustin': 136, 'italian': 137, 'john': 138, 'like': 139, 'number': 140, 'other': 141, 'state': 142, 'well': 143, 'work': 144, 'also': 145, 'celsius': 146, 'cymbals': 147, 'german': 148, 'polar': 149, 'water': 150, 'ants': 151, 'cleveland': 152, 'common': 153, 'european': 154, 'give': 155, 'henri': 156, 'leopard': 157, 'located': 158, 'often': 159, 'san': 160, 'singapore': 161, 'their': 162, 'wilson': 163, 'become': 164, 'beetles': 165, 'fillmore': 166, 'giant': 167, 'had': 168, 'indonesia': 169, 'liechtenstein': 170, 'member': 171, \"n't\": 172, 'only': 173, 'otter': 174, 'roosevelt': 175, 'south': 176, 'speakers': 177, 'states': 178, 'time': 179, 'united': 180, 'xylophone': 181, 'ago': 182, 'america': 183, 'died': 184, 'drums': 185, 'flute': 186, 'instrument': 187, 'new': 188, 'np': 189, 'ottawa': 190, 'part': 191, 'pascal': 192, 'qatar': 193, 'study': 194, 'swahili': 195, 'best': 196, 'ducks': 197, 'egypt': 198, 'elephants': 199, 'example': 200, 'famous': 201, 'form': 202, 'founded': 203, 'france': 204, 'jakarta': 205, 'japanese': 206, 'large': 207, 'law': 208, 'montreal': 209, 'national': 210, 'physics': 211, 'portuguese': 212, 'professor': 213, 'river': 214, 'sound': 215, 'violin': 216, '-rrb-': 217, 'africa': 218, 'alessandro': 219, 'amedeo': 220, 'area': 221, 'bear': 222, 'before': 223, 'century': 224, 'countries': 225, 'found': 226, 'isaac': 227, 'land': 228, 'larger': 229, 'played': 230, 'spanish': 231, 'this': 232, 'war': 233, 'win': 234, 'air': 235, 'animals': 236, 'became': 237, 'black': 238, 'considered': 239, 'female': 240, 'four': 241, 'francisco': 242, 'guitar': 243, 'last': 244, 'latin': 245, 'male': 246, 'mother': 247, 'nairobi': 248, 'octopus': 249, 'piano': 250, 'speak': 251, 'they': 252, 'today': 253, 'turtle': 254, 'vietnamese': 255, 'written': 256, 'african': 257, 'antwerp': 258, 'berlin': 259, 'buried': 260, 'cello': 261, 'china': 262, 'classical': 263, 'come': 264, 'eat': 265, 'eggs': 266, 'elected': 267, 'europe': 268, 'father': 269, 'grant': 270, 'group': 271, 'house': 272, 'kuala': 273, 'language`s': 274, 'lumpur': 275, 'lyre': 276, 'main': 277, 'marry': 278, 'may': 279, 'mean': 280, 'nikola': 281, 'northern': 282, 'panda': 283, 'paper': 284, 'publish': 285, 'region': 286, 'republic': 287, 'several': 288, 'small': 289, 'smallest': 290, 'strings': 291, 'turkish': 292, 'type': 293, 'would': 294, '-lrb-': 295, '/': 296, ':': 297, 'anders': 298, 'another': 299, 'church': 300, 'como': 301, 'constructed': 302, 'death': 303, 'different': 304, 'discovered': 305, 'empire': 306, 'government': 307, 'groups': 308, 'grover': 309, 'head': 310, 'him': 311, 'important': 312, 'kangaroo': 313, 'life': 314, 'malaysia': 315, 'middle': 316, 'much': 317, 'names': 318, 'nn': 319, 'order': 320, 'pianos': 321, 'play': 322, 'point': 323, 'political': 324, 'school': 325, 'sea': 326, 'second': 327, 'sometimes': 328, 'southern': 329, 'standard': 330, 'swan': 331, 'theory': 332, 'these': 333, 'trumpets': 334, 'up': 335, 'very': 336, 'western': 337, 'wolves': 338, 'york': 339, '1800': 340, 'any': 341, 'appear': 342, 'average': 343, 'based': 344, 'being': 345, 'birds': 346, 'body': 347, 'both': 348, 'calvin': 349, 'center': 350, 'college': 351, 'created': 352, 'dialects': 353, 'drum': 354, 'education': 355, 'elephant': 356, 'finnish': 357, 'flutes': 358, 'held': 359, 'international': 360, 'leopards': 361, 'lima': 362, 'make': 363, 'melbourne': 364, 'million': 365, 'music': 366, 'musical': 367, 'native': 368, 'nnp': 369, 'nobel': 370, 'north': 371, 'out': 372, 'popular': 373, 'presidential': 374, 'primary': 375, 'prize': 376, 'profession': 377, 'royal': 378, 'same': 379, 'santiago': 380, 'side': 381, 'support': 382, 'swedish': 383, 'three': 384, 'unit': 385, 'vp': 386, 'west': 387, 'adult': 388, 'alive': 389, 'almost': 390, 'along': 391, 'among': 392, 'ancient': 393, 'animal': 394, 'begin': 395, 'beijing': 396, 'boiling': 397, 'border': 398, 'british': 399, 'chemical': 400, 'cities': 401, 'collection': 402, 'colonies': 403, 'contain': 404, 'cougar': 405, 'count': 406, 'dhaka': 407, 'dragonflies': 408, 'east': 409, 'election': 410, 'estimated': 411, 'ever': 412, 'food': 413, 'giraffes': 414, 'governor': 415, 'instruments': 416, 'keys': 417, 'left': 418, 'living': 419, 'local': 420, 'mammal': 421, 'married': 422, 'michael': 423, 'municipalities': 424, 'museum': 425, 'over': 426, 'park': 427, 'physicist': 428, 'public': 429, 'published': 430, 'radioactivity': 431, 'range': 432, 'receive': 433, 'regional': 434, 'related': 435, 'religion': 436, 's': 437, 'schools': 438, 'si': 439, 'since': 440, 'sports': 441, 'substance': 442, 'such': 443, 'swans': 444, 'system': 445, 'taipei': 446, 'third': 447, 'through': 448, 'times': 449, 'u.s.': 450, 'under': 451, 'widely': 452, 'wife': 453, 'wild': 454, 'works': 455, '©': 456, '%': 457, '--': 458, '20th': 459, 'active': 460, 'age': 461, 'american': 462, 'art': 463, 'attend': 464, 'august': 465, 'australian': 466, 'battle': 467, 'bears': 468, 'c': 469, 'cause': 470, 'central': 471, 'chief': 472, 'community': 473, 'copenhagen': 474, 'county': 475, 'cymbal': 476, 'day': 477, 'derived': 478, 'dialect': 479, 'discover': 480, 'divided': 481, 'duck': 482, 'earliest': 483, 'economy': 484, 'established': 485, 'field': 486, 'foxes': 487, 'generally': 488, 'grand': 489, 'heavily': 490, 'high': 491, 'highest': 492, 'home': 493, 'if': 494, 'influence': 495, 'kind': 496, 'laws': 497, 'lay': 498, 'league': 499, 'least': 500, 'lobsters': 501, 'london': 502, 'lose': 503, 'masses': 504, 'men': 505, 'minister': 506, 'molecular': 507, 'nassau': 508, 'nation': 509, 'nations': 510, 'near': 511, 'noted': 512, 'own': 513, 'pandas': 514, 'paris': 515, 'parts': 516, 'party': 517, 'percentage': 518, 'politically': 519, 'post': 520, 'prime': 521, 'produce': 522, 'religious': 523, 'revolution': 524, 'scientific': 525, 'shape': 526, 'single': 527, 'society': 528, 'status': 529, 'temperature': 530, 'term': 531, 'tiger': 532, 'travel': 533, 'turin': 534, 'union': 535, 'using': 536, 'vice': 537, 'violins': 538, 'whom': 539, 'wide': 540, 'will': 541, 'without': 542, 'wolf': 543, 'write': 544, '#': 545, '$': 546, '&': 547, \"''\": 548, '100': 549, '1811': 550, '1998': 551, '4': 552, 'act': 553, 'alphabet': 554, 'angoulãªme': 555, 'ant': 556, 'appointed': 557, 'april': 558, 'areas': 559, 'arms': 560, 'army': 561, 'asian': 562, 'basic': 563, 'battery': 564, 'bees': 565, 'beetle': 566, 'birth': 567, 'blaise': 568, 'borrowed': 569, 'brass': 570, 'build': 571, 'building': 572, 'calculated': 573, 'call': 574, 'cats': 575, 'charge': 576, 'children': 577, 'chosen': 578, 'christian': 579, 'commonly': 580, 'concert': 581, 'continental': 582, 'crater': 583, 'definition': 584, 'department': 585, 'des': 586, 'determined': 587, 'each': 588, 'economic': 589, 'electrical': 590, 'engineer': 591, 'england': 592, 'enjoy': 593, 'experiments': 594, 'eyes': 595, 'females': 596, 'foreign': 597, 'formed': 598, 'gas': 599, 'general': 600, 'glasgow': 601, 'graduate': 602, 'gray': 603, 'guitars': 604, 'hard': 605, 'hockey': 606, 'i': 607, 'include': 608, 'including': 609, 'independent': 610, 'informally': 611, 'invent': 612, 'invention': 613, 'island': 614, 'issue': 615, 'keep': 616, 'kingdom': 617, 'korea': 618, 'la': 619, 'lee': 620, 'legal': 621, 'leonardo': 622, 'less': 623, 'letter': 624, 'level': 625, 'linguists': 626, 'literary': 627, 'magnetic': 628, 'major': 629, 'majority': 630, 'makes': 631, 'making': 632, 'males': 633, 'march': 634, 'massachusetts': 635, 'method': 636, 'millard': 637, 'minority': 638, 'moon': 639, 'mountain': 640, 'natural': 641, 'necked': 642, 'november': 643, 'now': 644, 'older': 645, 'open': 646, 'origins': 647, 'parliament': 648, 'per': 649, 'percent': 650, 'perfect': 651, 'period': 652, 'person': 653, 'picasso': 654, 'pitch': 655, 'place': 656, 'plants': 657, 'player': 658, 'pp': 659, 'predators': 660, 'prehistoric': 661, 'present': 662, 'presidency': 663, 'pressure': 664, 'produced': 665, 'pronouns': 666, 'pronunciation': 667, 'province': 668, 'raised': 669, 'record': 670, 'refer': 671, 'regions': 672, 'relate': 673, 'religions': 674, 'retire': 675, 'rockwell': 676, 'russian': 677, 'scale': 678, 'science': 679, 'sent': 680, 'serve': 681, 'shell': 682, 'short': 683, 'similar': 684, 'sir': 685, 'skin': 686, 'smaller': 687, 'sounds': 688, 'speaking': 689, 'speech': 690, 'spend': 691, 'standing': 692, 'subject': 693, 'sweden': 694, 'take': 695, 'team': 696, 'ten': 697, 'topic': 698, 'trading': 699, 'types': 700, 'uppsala': 701, 'us': 702, 'usually': 703, 'various': 704, 'vocabulary': 705, 'vowel': 706, 'weigh': 707, 'weight': 708, 'whose': 709, 'woodrow': 710, 'working': 711, 'zebras': 712, '13': 713, '1744': 714, '1810': 715, '1860': 716, '1917': 717, '2000': 718, '25': 719, '27': 720, '3': 721, '7': 722, '80': 723, '90': 724, ';': 725, 'across': 726, 'actually': 727, 'administrative': 728, 'against': 729, 'agile': 730, 'airport': 731, 'although': 732, 'always': 733, 'approximately': 734, 'aquatic': 735, 'aristotle': 736, 'arrived': 737, 'artists': 738, 'asia': 739, 'australia': 740, 'autonomous': 741, 'available': 742, 'avogadro`s': 743, 'b': 744, 'bar': 745, 'belong': 746, 'bent': 747, 'birthplace': 748, 'bombing': 749, 'books': 750, 'bordered': 751, 'bridges': 752, 'built': 753, 'but': 754, 'came': 755, 'capita': 756, 'career': 757, 'caused': 758, 'charter': 759, 'classified': 760, 'color': 761, 'company': 762, 'completed': 763, 'congress': 764, 'considerable': 765, 'consist': 766, 'consonants': 767, 'contains': 768, 'contributions': 769, 'court': 770, 'cover': 771, 'cubs': 772, 'cuisine': 773, 'cultural': 774, 'culture': 775, 'current': 776, 'date': 777, 'daughter': 778, 'defense': 779, 'del': 780, 'den': 781, 'describing': 782, 'design': 783, 'determine': 784, 'diet': 785, 'differences': 786, 'dominant': 787, 'done': 788, 'down': 789, 'dragonfly': 790, 'due': 791, 'dutch': 792, 'e': 793, 'eastern': 794, 'eels': 795, 'effect': 796, 'electric': 797, 'electricity': 798, 'end': 799, 'endangered': 800, 'engineering': 801, 'entered': 802, 'especially': 803, 'ethnic': 804, 'evidence': 805, 'features': 806, 'fifth': 807, 'forces': 808, 'formal': 809, 'forms': 810, 'fourth': 811, 'freezing': 812, 'frequent': 813, 'gender': 814, 'germany': 815, 'get': 816, 'given': 817, 'global': 818, 'go': 819, 'great': 820, 'greatest': 821, 'greek': 822, 'happens': 823, 'heads': 824, 'helped': 825, 'higher': 826, 'highways': 827, 'history': 828, 'honor': 829, 'host': 830, 'however': 831, 'ice': 832, 'ideas': 833, 'independence': 834, 'indian': 835, 'influential': 836, 'inspired': 837, 'institution': 838, 'interior': 839, 'islam': 840, 'january': 841, 'jefferson': 842, 'join': 843, 'jr.': 844, 'just': 845, 'kenya': 846, 'kit': 847, 'koala': 848, 'larvae': 849, 'las': 850, 'layer': 851, 'leader': 852, 'leave': 853, 'legacy': 854, 'legend': 855, 'letters': 856, 'lifetime': 857, 'likely': 858, 'lived': 859, 'lombardy': 860, 'lost': 861, 'magazine': 862, 'man': 863, 'marked': 864, 'master': 865, 'mathematician': 866, 'meaning': 867, 'medieval': 868, 'meet': 869, 'metal': 870, 'michelangelo': 871, 'military': 872, 'montevideo': 873, 'move': 874, 'movement': 875, 'muslim': 876, 'napoleon': 877, 'next': 878, 'no': 879, 'noun': 880, 'nouns': 881, 'observations': 882, 'occupy': 883, 'occur': 884, 'oldest': 885, 'opened': 886, 'origin': 887, 'painting': 888, 'pan': 889, 'panthera': 890, 'passion': 891, 'pedal': 892, 'peninsula': 893, 'peter': 894, 'petersburg': 895, 'phrase': 896, 'poor': 897, 'populated': 898, 'populations': 899, 'populous': 900, 'possible': 901, 'powers': 902, 'presidents': 903, 'prey': 904, 'quatre': 905, 'que': 906, 'quite': 907, 'red': 908, 'referred': 909, 'regarded': 910, 'regarding': 911, 'relationship': 912, 'relative': 913, 'resident': 914, 'results': 915, 'roman': 916, 'rule': 917, 'run': 918, 'sandemanian': 919, 'say': 920, 'sell': 921, 'semi': 922, 'sentence': 923, 'series': 924, 'service': 925, 'set': 926, 'settlement': 927, 'seven': 928, 'share': 929, 'siblings': 930, 'signed': 931, 'sino': 932, 'slavery': 933, 'soldiers': 934, 'someone': 935, 'sort': 936, 'sources': 937, 'special': 938, 'spread': 939, 'square': 940, 'stress': 941, 'string': 942, 'suggest': 943, 'surviving': 944, 'swimmers': 945, 'syllable': 946, 'syllables': 947, 'tail': 948, 'territories': 949, 'themselves': 950, 'theodore': 951, 'thermometer': 952, 'thomas': 953, 'tigers': 954, 'top': 955, 'tortoises': 956, 'total': 957, 'traditionally': 958, 'translated': 959, 'turn': 960, 'twice': 961, 'typically': 962, 'universally': 963, 'upon': 964, 'upright': 965, 'valley': 966, 'varieties': 967, 'variety': 968, 'vast': 969, 'vbd': 970, 'vermont': 971, 'village': 972, 'vowels': 973, 'warm': 974, 'we': 975, 'while': 976, 'white': 977, 'william': 978, 'wings': 979, 'xylophones': 980, 'young': 981, '10': 982, '15': 983, '15th': 984, '1701': 985, '1774': 986, '1794': 987, '1796': 988, '1817': 989, '1820': 990, '1832': 991, '1867': 992, '1884': 993, '1896': 994, '1899': 995, '1914': 996, '1924': 997, '1965': 998, '1973': 999, '1995': 1000, '2': 1001, '2003': 1002, '2005': 1003, '2006': 1004, '23': 1005, '500': 1006, '6': 1007, '70': 1008, '8': 1009, 'able': 1010, 'abraham': 1011, 'academy': 1012, 'access': 1013, 'accompanied': 1014, 'acquired': 1015, 'action': 1016, 'ad': 1017, 'adapted': 1018, 'addition': 1019, 'adjectives': 1020, 'admitted': 1021, 'adults': 1022, 'ages': 1023, 'agricultural': 1024, 'agriculture': 1025, 'aiming': 1026, 'airports': 1027, 'allow': 1028, 'allowed': 1029, 'amherst': 1030, 'anatidae': 1031, 'andorra': 1032, 'antennae': 1033, 'anywhere': 1034, 'archipelagic': 1035, 'architecture': 1036, 'arctic': 1037, 'around': 1038, 'arrive': 1039, 'article': 1040, 'artist': 1041, 'astronomer': 1042, 'atmospheric': 1043, 'attack': 1044, 'attraction': 1045, 'auguste': 1046, 'austria': 1047, 'back': 1048, 'bangladesh': 1049, 'bars': 1050, 'bay': 1051, 'beak': 1052, 'bee': 1053, 'began': 1054, 'beginnings': 1055, 'belgium': 1056, 'benzene': 1057, 'better': 1058, 'biggest': 1059, 'blowing': 1060, 'blue': 1061, 'bodies': 1062, 'borders': 1063, 'boy': 1064, 'breathe': 1065, 'breed': 1066, 'britain': 1067, 'busiest': 1068, 'butterflies': 1069, 'c.': 1070, 'california': 1071, 'candidate': 1072, 'cantonese': 1073, 'capture': 1074, 'careful': 1075, 'carnivore': 1076, 'case': 1077, 'cases': 1078, 'castle': 1079, 'cathedral': 1080, 'catholic': 1081, 'celebrated': 1082, 'cell': 1083, 'cellos': 1084, 'celsius`s': 1085, 'certain': 1086, 'chair': 1087, 'changes': 1088, 'character': 1089, 'characterized': 1090, 'chest': 1091, 'child': 1092, 'circle': 1093, 'citizen': 1094, 'civil': 1095, 'clash': 1096, 'class': 1097, 'classify': 1098, 'climate': 1099, 'closed': 1100, 'co': 1101, 'coast': 1102, 'coleopterists': 1103, 'collective': 1104, 'colleges': 1105, 'compact': 1106, 'compare': 1107, 'completely': 1108, 'compute': 1109, 'condition': 1110, 'congressman': 1111, 'consider': 1112, 'construct': 1113, 'contexts': 1114, 'continent': 1115, 'contrast': 1116, 'control': 1117, 'council': 1118, 'countershaded': 1119, 'covered': 1120, 'crash': 1121, 'creator': 1122, 'creatures': 1123, 'credited': 1124, 'crown': 1125, 'cubist': 1126, 'cup': 1127, 'da': 1128, 'daily': 1129, 'declare': 1130, 'defend': 1131, 'degree': 1132, 'delicacy': 1133, 'democrat': 1134, 'democratic': 1135, 'depend': 1136, 'dependence': 1137, 'descended': 1138, 'description': 1139, 'desegregation': 1140, 'designs': 1141, 'develop': 1142, 'development': 1143, 'di': 1144, 'diamagnetism': 1145, 'difference': 1146, 'diritto': 1147, 'disfluent': 1148, 'display': 1149, 'distances': 1150, 'distinctive': 1151, 'distinguished': 1152, 'distribution': 1153, 'district': 1154, 'doctrine': 1155, 'dog': 1156, 'doha': 1157, 'dozen': 1158, 'dragon': 1159, 'dry': 1160, 'dt': 1161, 'dã': 1162, 'eagle': 1163, 'early': 1164, 'ears': 1165, 'ectothermic': 1166, 'edinburgh': 1167, 'effective': 1168, 'efforts': 1169, 'egg': 1170, 'egyptian': 1171, 'eight': 1172, 'either': 1173, 'elections': 1174, 'electrochemical': 1175, 'electrostatic': 1176, 'elementary': 1177, 'embassy': 1178, 'employed': 1179, 'en': 1180, 'enemies': 1181, 'engine': 1182, 'enter': 1183, 'establish': 1184, 'et': 1185, 'every': 1186, 'evolve': 1187, 'excellent': 1188, 'exchange': 1189, 'expectancy': 1190, 'experience': 1191, 'experimental': 1192, 'extent': 1193, 'extinct': 1194, 'extinction': 1195, 'fact': 1196, 'factory': 1197, 'fame': 1198, 'faraday`s': 1199, 'farmers': 1200, 'feature': 1201, 'featured': 1202, 'federal': 1203, 'feed': 1204, 'feet': 1205, 'fifty': 1206, 'figures': 1207, 'financial': 1208, 'fish': 1209, 'flight': 1210, 'flooding': 1211, 'fluorescent': 1212, 'follow': 1213, 'fonti': 1214, 'football': 1215, 'force': 1216, 'former': 1217, 'foundation': 1218, 'france\\x01': 1219, 'friends': 1220, 'front': 1221, 'fruit': 1222, 'full': 1223, 'fur': 1224, 'g': 1225, 'genes': 1226, 'genetic': 1227, 'genome': 1228, 'gentleman': 1229, 'genus': 1230, 'gets': 1231, 'ghanaian': 1232, 'giraffe': 1233, 'gold': 1234, 'good': 1235, 'goods': 1236, 'grace': 1237, 'gravitation': 1238, 'greatly': 1239, 'greece': 1240, 'grounds': 1241, 'grow': 1242, 'growing': 1243, 'guernica': 1244, 'guiana': 1245, 'h': 1246, 'hamilton': 1247, 'handed': 1248, 'hands': 1249, 'happen': 1250, 'hardened': 1251, 'harding': 1252, 'harp': 1253, 'harvard': 1254, 'harvesting': 1255, 'haute': 1256, 'headquarters': 1257, 'hearing': 1258, 'heavier': 1259, 'hemisphere': 1260, 'hence': 1261, 'hero': 1262, 'hide': 1263, 'hides': 1264, 'hill': 1265, 'historically': 1266, 'honey': 1267, 'humans': 1268, 'hunted': 1269, 'i.e': 1270, 'ii': 1271, 'immigrants': 1272, 'imported': 1273, 'improve': 1274, 'india': 1275, 'indicate': 1276, 'indonesian': 1277, 'information': 1278, 'inhabit': 1279, 'insect': 1280, 'inside': 1281, 'insufficient': 1282, 'investigate': 1283, 'involved': 1284, 'iraq': 1285, 'irish': 1286, 'italy': 1287, 'item': 1288, 'itself': 1289, 'java': 1290, 'jews': 1291, 'july': 1292, 'kept': 1293, 'kill': 1294, 'kinds': 1295, 'king': 1296, 'koreans': 1297, 'kuan': 1298, 'lack': 1299, 'lake': 1300, 'lanka': 1301, 'largely': 1302, 'le': 1303, 'learn': 1304, 'led': 1305, 'legge': 1306, 'legislature': 1307, 'legs': 1308, 'les': 1309, 'library': 1310, 'light': 1311, 'lion': 1312, 'lips': 1313, 'location': 1314, 'longevity': 1315, 'lorenzo': 1316, 'lorieux': 1317, 'louise': 1318, 'low': 1319, 'ludovico': 1320, 'luther': 1321, 'mammals': 1322, 'mandarin': 1323, 'mark': 1324, 'markets': 1325, 'marsupial': 1326, 'mary': 1327, 'material': 1328, 'mechanics': 1329, 'mechanism': 1330, 'medal': 1331, 'mentor': 1332, 'metro': 1333, 'mexico': 1334, 'michigan': 1335, 'migratory': 1336, 'miles': 1337, 'molarity': 1338, 'montpellier': 1339, 'moscow': 1340, 'motion': 1341, 'mouth': 1342, 'moving': 1343, 'mr': 1344, 'muscular': 1345, 'musicians': 1346, 'mutually': 1347, 'nearly': 1348, 'need': 1349, 'netwon': 1350, 'network': 1351, 'never': 1352, 'newspaper': 1353, 'newspapers': 1354, 'node': 1355, 'non': 1356, 'nor': 1357, 'notable': 1358, 'note': 1359, 'objects': 1360, 'oblong': 1361, 'obtain': 1362, 'octaves': 1363, 'off': 1364, 'office': 1365, 'officially': 1366, 'opponent': 1367, 'optical': 1368, 'orchestral': 1369, 'organized': 1370, 'organs': 1371, 'orientated': 1372, 'original': 1373, 'others': 1374, 'output': 1375, 'outraged': 1376, 'outside': 1377, 'page': 1378, 'painter': 1379, 'painters': 1380, 'pairs': 1381, 'palladius': 1382, 'pallava': 1383, 'papers': 1384, 'paradigms': 1385, 'pardus': 1386, 'pavia': 1387, 'penguin': 1388, 'peoples': 1389, 'percussion': 1390, 'peregrini': 1391, 'perform': 1392, 'perhaps': 1393, 'peru': 1394, 'phenomenon': 1395, 'phone': 1396, 'phonetic': 1397, 'phosphorescent': 1398, 'pierre': 1399, 'pile': 1400, 'placed': 1401, 'plain': 1402, 'players': 1403, 'playful': 1404, 'playing': 1405, 'pleurodira': 1406, 'plural': 1407, 'pollock': 1408, 'position': 1409, 'positions': 1410, 'potential': 1411, 'poverty': 1412, 'precisely': 1413, 'prefecture': 1414, 'prefix': 1415, 'primarily': 1416, 'production': 1417, 'profess': 1418, 'prominent': 1419, 'propose': 1420, 'protection': 1421, 'proto': 1422, 'pups': 1423, 'putonghua': 1424, 'qataris': 1425, 'queens': 1426, 'railway': 1427, 'rainfall': 1428, 'rank': 1429, 'ranked': 1430, 'rare': 1431, 'rarely': 1432, 'rate': 1433, 're': 1434, 'reach': 1435, 'reaction': 1436, 'reactions': 1437, 'received': 1438, 'recent': 1439, 'recognized': 1440, 'ref': 1441, 'reference': 1442, 'regime': 1443, 'reject': 1444, 'relation': 1445, 'renaissance': 1446, 'renoir': 1447, 'renoir\\x01s': 1448, 'report': 1449, 'represent': 1450, 'representatives': 1451, 'republican': 1452, 'repulsion': 1453, 'research': 1454, 'reserve': 1455, 'resign': 1456, 'respected': 1457, 'retained': 1458, 'retirement': 1459, 'risk': 1460, 'roads': 1461, 'rock': 1462, 'roll': 1463, 'romanization': 1464, 'rosie': 1465, 'roughly': 1466, 'rules': 1467, 'russia': 1468, 'saint': 1469, 'samples': 1470, 'saudi': 1471, 'savant': 1472, 'sbar': 1473, 'scholarly': 1474, 'sciences': 1475, 'scouts': 1476, 'season': 1477, 'secretary': 1478, 'sect': 1479, 'secular': 1480, 'see': 1481, 'seen': 1482, 'semitic': 1483, 'sense': 1484, 'served': 1485, 'shaped': 1486, 'shared': 1487, 'shot': 1488, 'sign': 1489, 'sirã': 1490, 'sister': 1491, 'situated': 1492, 'six': 1493, 'slaves': 1494, 'sleep': 1495, 'slightly': 1496, 'smoked': 1497, 'so': 1498, 'solitary': 1499, 'something': 1500, 'son': 1501, 'sons': 1502, 'source': 1503, 'spaces': 1504, 'spain': 1505, 'spelling': 1506, 'spent': 1507, 'spice': 1508, 'sport': 1509, 'sri': 1510, 'st.': 1511, 'stamp': 1512, 'start': 1513, 'station': 1514, 'statue': 1515, 'stock': 1516, 'stone': 1517, 'stop': 1518, 'stressed': 1519, 'stringed': 1520, 'strip': 1521, 'strong': 1522, 'structure': 1523, 'students': 1524, 'studied': 1525, 'studies': 1526, 'studio': 1527, 'style': 1528, 'styles': 1529, 'subfamilies': 1530, 'suborder': 1531, 'subspecies': 1532, 'sulle': 1533, 'sumatra': 1534, 'summer': 1535, 'surrounding': 1536, 'systems': 1537, 'tall': 1538, 'tallest': 1539, 'tank': 1540, 'taught': 1541, 'tax': 1542, 'taylor': 1543, 'teaching': 1544, 'technology': 1545, 'tense': 1546, 'testudines': 1547, 'them': 1548, 'therapy': 1549, 'thirteenth': 1550, 'those': 1551, 'timor': 1552, 'title': 1553, 'tone': 1554, 'tones': 1555, 'totem': 1556, 'town': 1557, 'traced': 1558, 'trade': 1559, 'trinity': 1560, 'troops': 1561, 'trumpeter': 1562, 'tubing': 1563, 'tuned': 1564, 'typical': 1565, 'uk': 1566, 'ukraine': 1567, 'ulysses': 1568, 'underwater': 1569, 'unintelligible': 1570, 'unusual': 1571, 'upper': 1572, 'uralic': 1573, 'uses': 1574, 'value': 1575, 'verb': 1576, 'victoria': 1577, 'vietnam': 1578, 'vinci': 1579, 'violincello': 1580, 'voltaic': 1581, 'vote': 1582, 'walking': 1583, 'way': 1584, 'ways': 1585, 'weapons': 1586, 'weather': 1587, 'whistle': 1588, 'wider': 1589, 'widespread': 1590, 'wildlife': 1591, 'winter': 1592, 'within': 1593, 'women': 1594, 'won': 1595, 'wrapped': 1596, 'wrote': 1597, 'yamato': 1598, 'yanbian': 1599, 'yew': 1600, 'younger': 1601, 'zebra': 1602})\n",
            "defaultdict(<function _default_unk_index at 0x7f24046ccf28>, {'<unk>': 0, '<pad>': 1, '<sos>': 2, '<eos>': 3, 'yes': 4, '.': 5, 'the': 6, ',': 7, 'nan': 8, 'of': 9, 'and': 10, 'no': 11, 'in': 12, 'a': 13, 'to': 14, 'is': 15, 'are': 16, 'was': 17, '-': 18, \"'s\": 19, 'as': 20, 'or': 21, 'by': 22, '\"': 23, 'from': 24, 'his': 25, 'it': 26, 'with': 27, '(': 28, ')': 29, 'on': 30, 'an': 31, 'at': 32, 'for': 33, 'has': 34, 'two': 35, 'than': 36, 'have': 37, 'he': 38, 'they': 39, 'also': 40, 'city': 41, 'three': 42, 'largest': 43, 'million': 44, 'not': 45, '%': 46, 'language': 47, 'one': 48, 'tesla': 49, 'their': 50, '*': 51, 'its': 52, 'more': 53, 'san': 54, 'santiago': 55, 'university': 56, ' ': 57, 'century': 58, 'korean': 59, 'made': 60, 'years': 61, 'can': 62, 'there': 63, 'berlin': 64, 'chinese': 65, 'faraday': 66, 'francisco': 67, 'six': 68, 'that': 69, 'united': 70, 'volta': 71, 'which': 72, 'world': 73, 'ants': 74, 'character': 75, 'coulomb': 76, 'first': 77, 'french': 78, 'had': 79, 'james': 80, 'john': 81, 'nikola': 82, 'old': 83, 'other': 84, 'species': 85, ':': 86, 'after': 87, 'all': 88, 'be': 89, 'british': 90, 'canada': 91, 'larger': 92, 'swahili': 93, 'were': 94, \"'\": 95, 'adams': 96, 'america': 97, 'because': 98, 'black': 99, 'born': 100, 'church': 101, 'cymbals': 102, 'died': 103, 'english': 104, 'law': 105, 'long': 106, 'many': 107, 'meters': 108, 'modern': 109, 'most': 110, 'north': 111, 'northern': 112, 'now': 113, 'octopus': 114, 'over': 115, 'paris': 116, 'people': 117, 'sea': 118, 'since': 119, 'singapore': 120, 'some': 121, 'use': 122, 'used': 123, 'virginia': 124, 'west': 125, '3': 126, 'about': 127, 'antwerp': 128, 'bc': 129, 'been': 130, 'between': 131, 'body': 132, 'both': 133, 'called': 134, 'cougar': 135, 'did': 136, 'east': 137, 'european': 138, 'family': 139, 'flute': 140, 'form': 141, 'german': 142, 'germany': 143, 'international': 144, 'leopard': 145, 'located': 146, 'lower': 147, 'malay': 148, 'may': 149, 'name': 150, 'new': 151, 'number': 152, 'park': 153, 'part': 154, 'president': 155, 'second': 156, 'south': 157, 'spoken': 158, 'states': 159, 'this': 160, 'turkish': 161, 'up': 162, 'well': 163, '2': 164, '28': 165, '4': 166, '42': 167, '5': 168, ';': 169, 'africa': 170, 'air': 171, 'airport': 172, 'alessandro': 173, 'any': 174, 'approximately': 175, 'arabic': 176, 'around': 177, 'bear': 178, 'becquerel': 179, 'capital': 180, 'celsius': 181, 'center': 182, 'cities': 183, 'cleveland': 184, 'coast': 185, 'colonies': 186, 'day': 187, 'de': 188, 'death': 189, 'different': 190, 'discovered': 191, 'do': 192, 'during': 193, 'early': 194, 'eight': 195, 'females': 196, 'festival': 197, 'fillmore': 198, 'force': 199, 'four': 200, 'him': 201, 'history': 202, 'india': 203, 'islam': 204, 'kangaroo': 205, 'land': 206, 'large': 207, 'latin': 208, 'liechtenstein': 209, 'like': 210, 'lion': 211, 'monroe': 212, 'months': 213, 'montreal': 214, 'moved': 215, 'named': 216, 'none': 217, 'often': 218, 'point': 219, 'pollock': 220, 'professor': 221, 'qatar': 222, 'revolution': 223, 'same': 224, 'school': 225, 'spanish': 226, 'st.': 227, 'state': 228, 'taipei': 229, 'time': 230, 'upon': 231, 'wings': 232, 'words': 233, 'year': 234, '1': 235, '10': 236, '15': 237, '1820': 238, '1908': 239, '1971': 240, '1989': 241, '20th': 242, '300': 243, '50': 244, '60': 245, '78': 246, '?': 247, 'above': 248, 'according': 249, 'animal': 250, 'attack': 251, 'augustin': 252, 'average': 253, 'avogadro': 254, 'battle': 255, 'became': 256, 'become': 257, 'beetles': 258, 'before': 259, 'began': 260, 'brown': 261, 'but': 262, 'california': 263, 'camouflage': 264, 'canadians': 265, 'caused': 266, 'central': 267, 'charles': 268, 'cheetah': 269, 'china': 270, 'college': 271, 'common': 272, 'como': 273, 'count': 274, 'country': 275, 'dialect': 276, 'does': 277, 'drum': 278, 'ecological': 279, 'eggs': 280, 'end': 281, 'engine': 282, 'eyes': 283, 'father': 284, 'feathers': 285, 'food': 286, 'foreign': 287, 'free': 288, 'general': 289, 'generally': 290, 'greek': 291, 'head': 292, 'holes': 293, 'home': 294, 'howling': 295, 'identical': 296, 'include': 297, 'independence': 298, 'indonesia': 299, 'instrument': 300, 'jakarta': 301, 'january': 302, 'june': 303, 'kg': 304, 'known': 305, 'largely': 306, 'layer': 307, 'left': 308, 'leonardo': 309, 'london': 310, 'males': 311, 'man': 312, 'maria': 313, 'market': 314, 'married': 315, 'meat': 316, 'melanoleuca': 317, 'michael': 318, 'middle': 319, 'millard': 320, 'muddy': 321, 'music': 322, 'napoleon': 323, 'order': 324, 'own': 325, 'pack': 326, 'parts': 327, 'pascal': 328, 'peacekeeping': 329, 'physisist': 330, 'piano': 331, 'picasso': 332, 'player': 333, 'playing': 334, 'polar': 335, 'population': 336, 'poverty': 337, 'prey': 338, 'red': 339, 'rockwell': 340, 'role': 341, 'roosevelt': 342, 'scale': 343, 'scotland': 344, 'sheep': 345, 'slide': 346, 'small': 347, 'social': 348, 'sometimes': 349, 'sound': 350, 'statue': 351, 'steam': 352, 'strings': 353, 'swan': 354, 'system': 355, 'them': 356, 'those': 357, 'threatened': 358, 'tone': 359, 'trumpet': 360, 'trumpets': 361, 'turin': 362, 'u.s.': 363, 'van': 364, 'vietnamese': 365, 'war': 366, 'watt': 367, 'way': 368, 'western': 369, 'when': 370, 'white': 371, 'will': 372, 'wilson': 373, 'work': 374, '/': 375, '1.6': 376, '13': 377, '16th': 378, '17': 379, '1733': 380, '1776': 381, '1789': 382, '18': 383, '1810': 384, '1821': 385, '1825': 386, '1861': 387, '18th': 388, '19': 389, '1900': 390, '1906': 391, '1916': 392, '1928': 393, '1936': 394, '1944': 395, '20': 396, '2006': 397, '2009': 398, '22': 399, '400': 400, '6': 401, '7': 402, '70': 403, '75': 404, '7th': 405, 'abbey': 406, 'abstract': 407, 'across': 408, 'adjacent': 409, 'adult': 410, 'against': 411, 'age': 412, 'ago': 413, 'ailuropoda': 414, 'alchemist': 415, 'almost': 416, 'along': 417, 'although': 418, 'amedeo': 419, 'american': 420, 'anders': 421, 'andrew': 422, 'anglo': 423, 'animals': 424, 'anne': 425, 'another': 426, 'antennae': 427, 'apple': 428, 'area': 429, 'areas': 430, 'arms': 431, 'army': 432, 'associated': 433, 'astronomy': 434, 'attraction': 435, 'attributed': 436, 'australia': 437, 'austrian': 438, 'autumn': 439, 'babylon': 440, 'bad': 441, 'bamboo': 442, 'band': 443, 'bands': 444, 'barnard': 445, 'bass': 446, 'bears': 447, 'being': 448, 'belgium': 449, 'berliner': 450, 'birds': 451, 'birth': 452, 'borders': 453, 'borrow': 454, 'brass': 455, 'brazil': 456, 'butterflies': 457, 'butterfly': 458, 'canadian': 459, 'carnegie': 460, 'cat': 461, 'cathedral': 462, 'cello': 463, 'characters': 464, 'children': 465, 'christianity': 466, 'christmas': 467, 'chronicle': 468, 'clash': 469, 'classical': 470, 'clear': 471, 'climate': 472, 'close': 473, 'cm': 474, 'colorado': 475, 'company': 476, 'comparatively': 477, 'compared': 478, 'conservation': 479, 'contributions': 480, 'control': 481, 'county': 482, 'crash': 483, 'cuba': 484, 'da': 485, 'david': 486, 'days': 487, 'december': 488, 'declaration': 489, 'declining': 490, 'definition': 491, 'degree': 492, 'denmark': 493, 'dependence': 494, 'der': 495, 'development': 496, 'diamagnetism': 497, 'distances': 498, 'distinct': 499, 'distinctive': 500, 'distinguish': 501, 'diversity': 502, 'doctrine': 503, 'down': 504, 'drums': 505, 'duck': 506, 'dynasty': 507, 'each': 508, 'earns': 509, 'earthquakes': 510, 'eastern': 511, 'economic': 512, 'economy': 513, 'effective': 514, 'effectively': 515, 'elected': 516, 'election': 517, 'electricity': 518, 'electrostatic': 519, 'emperor': 520, 'equatorial': 521, 'era': 522, 'europe': 523, 'every': 524, 'exterminated': 525, 'federal': 526, 'few': 527, 'finland': 528, 'fish': 529, 'five': 530, 'flight': 531, 'flugelhorn': 532, 'ford': 533, 'foretold': 534, 'formed': 535, 'former': 536, 'fox': 537, 'france': 538, 'friday': 539, 'full': 540, 'fuller': 541, 'fur': 542, 'gears': 543, 'golden': 544, 'gouverneur': 545, 'grace': 546, 'grant': 547, 'greenock': 548, 'grey': 549, 'grover': 550, 'guitar': 551, 'gut': 552, 'habitat': 553, 'half': 554, 'hardened': 555, 'heart': 556, 'heavier': 557, 'held': 558, 'helps': 559, 'helsinki': 560, 'henri': 561, 'her': 562, 'hester': 563, 'hi': 564, 'high': 565, 'highest': 566, 'highly': 567, 'hole': 568, 'holt': 569, 'hot': 570, 'human': 571, 'ice': 572, 'identified': 573, 'inches': 574, 'including': 575, 'increased': 576, 'indefinite': 577, 'inland': 578, 'interview': 579, 'into': 580, 'irish': 581, 'islands': 582, 'italian': 583, 'italy': 584, 'jack': 585, 'jaguar': 586, 'japan': 587, 'java': 588, 'jaw': 589, 'joined': 590, 'joseph': 591, 'judaism': 592, 'keys': 593, 'killing': 594, 'kilometers': 595, 'king': 596, 'koala': 597, 'koalas': 598, 'lack': 599, 'languages': 600, 'later': 601, 'laws': 602, 'lb': 603, 'least': 604, 'lee': 605, 'level': 606, 'levels': 607, 'life': 608, 'lights': 609, 'linguistic': 610, 'linguists': 611, 'linnaeus': 612, 'live': 613, 'loschmidt': 614, 'loss': 615, 'lynx': 616, 'macau': 617, 'mad': 618, 'main': 619, 'major': 620, 'make': 621, 'making': 622, 'mandarin': 623, 'march': 624, 'mark': 625, 'massachusetts': 626, 'members': 627, 'men': 628, 'michelangelo': 629, 'mid': 630, 'miles': 631, 'military': 632, 'mites': 633, 'momentum': 634, 'moon': 635, 'mother': 636, 'mountain': 637, 'mouthparts': 638, 'moving': 639, 'municipality': 640, 'nairobi': 641, 'national': 642, 'nations': 643, 'natural': 644, 'nearly': 645, 'neck': 646, 'nests': 647, 'never': 648, 'night': 649, 'note': 650, 'notes': 651, 'nouns': 652, 'novel': 653, 'object': 654, 'october': 655, 'octopuses': 656, 'only': 657, 'open': 658, 'operated': 659, 'orchestras': 660, 'origins': 661, 'others': 662, 'ottawa': 663, 'otters': 664, 'paint': 665, 'painting': 666, 'paintings': 667, 'parasites': 668, 'partido': 669, 'pedal': 670, 'penguin': 671, 'per': 672, 'petersburg': 673, 'philippines': 674, 'physicist': 675, 'pianos': 676, 'plain': 677, 'plates': 678, 'politically': 679, 'popular': 680, 'populations': 681, 'portugal': 682, 'presidential': 683, 'primary': 684, 'protestant': 685, 'provinces': 686, 'public': 687, 'queen': 688, 'queens': 689, 'question': 690, 'quickly': 691, 'races': 692, 'radioactivity': 693, 'range': 694, 'rather': 695, 'received': 696, 'region': 697, 'register': 698, 'relatively': 699, 'religious': 700, 'reports': 701, 'repulsion': 702, 'resonator': 703, 'retired': 704, 'reversed': 705, 'richard': 706, 'river': 707, 'rivers': 708, 'robert': 709, 'rock': 710, 'rows': 711, 'royal': 712, 'saint': 713, 'sarah': 714, 'schools': 715, 'science': 716, 'section': 717, 'september': 718, 'several': 719, 'shellfish': 720, 'shoulder': 721, 'shown': 722, 'siblings': 723, 'sides': 724, 'sino': 725, 'site': 726, 'sitting': 727, 'ska': 728, 'smallest': 729, 'son': 730, 'sostenuto': 731, 'sounds': 732, 'southern': 733, 'spain': 734, 'speak': 735, 'speakers': 736, 'speech': 737, 'square': 738, 'status': 739, 'studio': 740, 'subject': 741, 'such': 742, 'summer': 743, 'sun': 744, 'sweden': 745, 'swedish': 746, 'tail': 747, 'technique': 748, 'technology': 749, 'television': 750, 'term': 751, 'through': 752, 'tiger': 753, 'times': 754, 'too': 755, 'toward': 756, 'traditionally': 757, 'trapped': 758, 'tropical': 759, 'turtles': 760, 'twain': 761, 'type': 762, 'until': 763, 'uppsala': 764, 'vampire': 765, 'variety': 766, 'vast': 767, 'verb': 768, 'verbs': 769, 'vibration': 770, 'vinci': 771, 'violin': 772, 'violincello': 773, 'vocabulary': 774, 'volume': 775, 'warm': 776, 'water': 777, 'weight': 778, 'westminster': 779, 'while': 780, 'wolf': 781, 'wood': 782, 'woodlands': 783, 'york': 784, 'zebedee': 785, '©': 786})\n"
          ],
          "name": "stdout"
        }
      ]
    },
    {
      "cell_type": "markdown",
      "metadata": {
        "id": "l1DXtJYx9ejF"
      },
      "source": [
        "Load the data."
      ]
    },
    {
      "cell_type": "markdown",
      "metadata": {
        "id": "BtqKGxNO9ejF"
      },
      "source": [
        "Define the device."
      ]
    },
    {
      "cell_type": "code",
      "metadata": {
        "id": "ey8yA-Yh9ejF"
      },
      "source": [
        "device = torch.device('cuda' if torch.cuda.is_available() else 'cpu')"
      ],
      "execution_count": 6,
      "outputs": []
    },
    {
      "cell_type": "markdown",
      "metadata": {
        "id": "aqnAGiVU9ejF"
      },
      "source": [
        "Create the iterators."
      ]
    },
    {
      "cell_type": "code",
      "metadata": {
        "id": "g50zv9L79ejF"
      },
      "source": [
        "BATCH_SIZE = 32\n",
        "\n",
        "train_iterator, valid_iterator, test_iterator = BucketIterator.splits(\n",
        "    (train_data, valid_data, test_data), \n",
        "    batch_size = BATCH_SIZE,\n",
        "    sort_key = lambda X:len(X.SRC),\n",
        "    device = device)"
      ],
      "execution_count": 7,
      "outputs": []
    },
    {
      "cell_type": "markdown",
      "metadata": {
        "id": "QP5s8Vov9ejF"
      },
      "source": [
        "## Building the Seq2Seq Model\n",
        "\n",
        "### Encoder\n",
        "\n",
        "First, we'll build the encoder. Similar to the previous model, we only use a single layer GRU, however we now use a *bidirectional RNN*. With a bidirectional RNN, we have two RNNs in each layer. A *forward RNN* going over the embedded sentence from left to right (shown below in green), and a *backward RNN* going over the embedded sentence from right to left (teal). All we need to do in code is set `bidirectional = True` and then pass the embedded sentence to the RNN as before. \n",
        "\n",
        "![](https://github.com/bentrevett/pytorch-seq2seq/blob/master/assets/seq2seq8.png?raw=1)\n",
        "\n",
        "We now have:\n",
        "\n",
        "$$\\begin{align*}\n",
        "h_t^\\rightarrow &= \\text{EncoderGRU}^\\rightarrow(e(x_t^\\rightarrow),h_{t-1}^\\rightarrow)\\\\\n",
        "h_t^\\leftarrow &= \\text{EncoderGRU}^\\leftarrow(e(x_t^\\leftarrow),h_{t-1}^\\leftarrow)\n",
        "\\end{align*}$$\n",
        "\n",
        "Where $x_0^\\rightarrow = \\text{<sos>}, x_1^\\rightarrow = \\text{guten}$ and $x_0^\\leftarrow = \\text{<eos>}, x_1^\\leftarrow = \\text{morgen}$.\n",
        "\n",
        "As before, we only pass an input (`embedded`) to the RNN, which tells PyTorch to initialize both the forward and backward initial hidden states ($h_0^\\rightarrow$ and $h_0^\\leftarrow$, respectively) to a tensor of all zeros. We'll also get two context vectors, one from the forward RNN after it has seen the final word in the sentence, $z^\\rightarrow=h_T^\\rightarrow$, and one from the backward RNN after it has seen the first word in the sentence, $z^\\leftarrow=h_T^\\leftarrow$.\n",
        "\n",
        "The RNN returns `outputs` and `hidden`. \n",
        "\n",
        "`outputs` is of size **[src len, batch size, hid dim * num directions]** where the first `hid_dim` elements in the third axis are the hidden states from the top layer forward RNN, and the last `hid_dim` elements are hidden states from the top layer backward RNN. We can think of the third axis as being the forward and backward hidden states concatenated together other, i.e. $h_1 = [h_1^\\rightarrow; h_{T}^\\leftarrow]$, $h_2 = [h_2^\\rightarrow; h_{T-1}^\\leftarrow]$ and we can denote all encoder hidden states (forward and backwards concatenated together) as $H=\\{ h_1, h_2, ..., h_T\\}$.\n",
        "\n",
        "`hidden` is of size **[n layers * num directions, batch size, hid dim]**, where **[-2, :, :]** gives the top layer forward RNN hidden state after the final time-step (i.e. after it has seen the last word in the sentence) and **[-1, :, :]** gives the top layer backward RNN hidden state after the final time-step (i.e. after it has seen the first word in the sentence).\n",
        "\n",
        "As the decoder is not bidirectional, it only needs a single context vector, $z$, to use as its initial hidden state, $s_0$, and we currently have two, a forward and a backward one ($z^\\rightarrow=h_T^\\rightarrow$ and $z^\\leftarrow=h_T^\\leftarrow$, respectively). We solve this by concatenating the two context vectors together, passing them through a linear layer, $g$, and applying the $\\tanh$ activation function. \n",
        "\n",
        "$$z=\\tanh(g(h_T^\\rightarrow, h_T^\\leftarrow)) = \\tanh(g(z^\\rightarrow, z^\\leftarrow)) = s_0$$\n",
        "\n",
        "**Note**: this is actually a deviation from the paper. Instead, they feed only the first backward RNN hidden state through a linear layer to get the context vector/decoder initial hidden state. This doesn't seem to make sense to me, so we have changed it.\n",
        "\n",
        "As we want our model to look back over the whole of the source sentence we return `outputs`, the stacked forward and backward hidden states for every token in the source sentence. We also return `hidden`, which acts as our initial hidden state in the decoder."
      ]
    },
    {
      "cell_type": "code",
      "metadata": {
        "id": "Y8ovMJ3_9ejF"
      },
      "source": [
        "class Encoder(nn.Module):\n",
        "    def __init__(self, input_dim, emb_dim, enc_hid_dim, dec_hid_dim, dropout):\n",
        "        super().__init__()\n",
        "        \n",
        "        self.embedding = nn.Embedding(input_dim, emb_dim)\n",
        "        \n",
        "        self.rnn = nn.GRU(emb_dim, enc_hid_dim, bidirectional = True)\n",
        "        \n",
        "        self.fc = nn.Linear(enc_hid_dim * 2, dec_hid_dim)\n",
        "        \n",
        "        self.dropout = nn.Dropout(dropout)\n",
        "        \n",
        "    def forward(self, src):\n",
        "        \n",
        "        #src = [src len, batch size]\n",
        "        \n",
        "        embedded = self.dropout(self.embedding(src))\n",
        "        \n",
        "        #embedded = [src len, batch size, emb dim]\n",
        "        \n",
        "        outputs, hidden = self.rnn(embedded)\n",
        "                \n",
        "        #outputs = [src len, batch size, hid dim * num directions]\n",
        "        #hidden = [n layers * num directions, batch size, hid dim]\n",
        "        \n",
        "        #hidden is stacked [forward_1, backward_1, forward_2, backward_2, ...]\n",
        "        #outputs are always from the last layer\n",
        "        \n",
        "        #hidden [-2, :, : ] is the last of the forwards RNN \n",
        "        #hidden [-1, :, : ] is the last of the backwards RNN\n",
        "        \n",
        "        #initial decoder hidden is final hidden state of the forwards and backwards \n",
        "        #  encoder RNNs fed through a linear layer\n",
        "        hidden = torch.tanh(self.fc(torch.cat((hidden[-2,:,:], hidden[-1,:,:]), dim = 1)))\n",
        "        \n",
        "        #outputs = [src len, batch size, enc hid dim * 2]\n",
        "        #hidden = [batch size, dec hid dim]\n",
        "        \n",
        "        return outputs, hidden"
      ],
      "execution_count": 8,
      "outputs": []
    },
    {
      "cell_type": "markdown",
      "metadata": {
        "id": "o9WNKZ4D9ejF"
      },
      "source": [
        "### Attention\n",
        "\n",
        "Next up is the attention layer. This will take in the previous hidden state of the decoder, $s_{t-1}$, and all of the stacked forward and backward hidden states from the encoder, $H$. The layer will output an attention vector, $a_t$, that is the length of the source sentence, each element is between 0 and 1 and the entire vector sums to 1.\n",
        "\n",
        "Intuitively, this layer takes what we have decoded so far, $s_{t-1}$, and all of what we have encoded, $H$, to produce a vector, $a_t$, that represents which words in the source sentence we should pay the most attention to in order to correctly predict the next word to decode, $\\hat{y}_{t+1}$. \n",
        "\n",
        "First, we calculate the *energy* between the previous decoder hidden state and the encoder hidden states. As our encoder hidden states are a sequence of $T$ tensors, and our previous decoder hidden state is a single tensor, the first thing we do is `repeat` the previous decoder hidden state $T$ times. We then calculate the energy, $E_t$, between them by concatenating them together and passing them through a linear layer (`attn`) and a $\\tanh$ activation function. \n",
        "\n",
        "$$E_t = \\tanh(\\text{attn}(s_{t-1}, H))$$ \n",
        "\n",
        "This can be thought of as calculating how well each encoder hidden state \"matches\" the previous decoder hidden state.\n",
        "\n",
        "We currently have a **[dec hid dim, src len]** tensor for each example in the batch. We want this to be **[src len]** for each example in the batch as the attention should be over the length of the source sentence. This is achieved by multiplying the `energy` by a **[1, dec hid dim]** tensor, $v$.\n",
        "\n",
        "$$\\hat{a}_t = v E_t$$\n",
        "\n",
        "We can think of $v$ as the weights for a weighted sum of the energy across all encoder hidden states. These weights tell us how much we should attend to each token in the source sequence. The parameters of $v$ are initialized randomly, but learned with the rest of the model via backpropagation. Note how $v$ is not dependent on time, and the same $v$ is used for each time-step of the decoding. We implement $v$ as a linear layer without a bias.\n",
        "\n",
        "Finally, we ensure the attention vector fits the constraints of having all elements between 0 and 1 and the vector summing to 1 by passing it through a $\\text{softmax}$ layer.\n",
        "\n",
        "$$a_t = \\text{softmax}(\\hat{a_t})$$\n",
        "\n",
        "This gives us the attention over the source sentence!\n",
        "\n",
        "Graphically, this looks something like below. This is for calculating the very first attention vector, where $s_{t-1} = s_0 = z$. The green/teal blocks represent the hidden states from both the forward and backward RNNs, and the attention computation is all done within the pink block.\n",
        "\n",
        "![](https://github.com/bentrevett/pytorch-seq2seq/blob/master/assets/seq2seq9.png?raw=1)"
      ]
    },
    {
      "cell_type": "code",
      "metadata": {
        "id": "7yXR6Qbg9ejF"
      },
      "source": [
        "class Attention(nn.Module):\n",
        "    def __init__(self, enc_hid_dim, dec_hid_dim):\n",
        "        super().__init__()\n",
        "        \n",
        "        self.attn = nn.Linear((enc_hid_dim * 2) + dec_hid_dim, dec_hid_dim)\n",
        "        self.v = nn.Linear(dec_hid_dim, 1, bias = False)\n",
        "        \n",
        "    def forward(self, hidden, encoder_outputs):\n",
        "        \n",
        "        #hidden = [batch size, dec hid dim]\n",
        "        #encoder_outputs = [src len, batch size, enc hid dim * 2]\n",
        "        \n",
        "        batch_size = encoder_outputs.shape[1]\n",
        "        src_len = encoder_outputs.shape[0]\n",
        "        \n",
        "        #repeat decoder hidden state src_len times\n",
        "        hidden = hidden.unsqueeze(1).repeat(1, src_len, 1)\n",
        "        \n",
        "        encoder_outputs = encoder_outputs.permute(1, 0, 2)\n",
        "        \n",
        "        #hidden = [batch size, src len, dec hid dim]\n",
        "        #encoder_outputs = [batch size, src len, enc hid dim * 2]\n",
        "        \n",
        "        energy = torch.tanh(self.attn(torch.cat((hidden, encoder_outputs), dim = 2))) \n",
        "        \n",
        "        #energy = [batch size, src len, dec hid dim]\n",
        "\n",
        "        attention = self.v(energy).squeeze(2)\n",
        "        \n",
        "        #attention= [batch size, src len]\n",
        "        \n",
        "        return F.softmax(attention, dim=1)"
      ],
      "execution_count": 9,
      "outputs": []
    },
    {
      "cell_type": "markdown",
      "metadata": {
        "id": "pb-p1mhO9ejF"
      },
      "source": [
        "### Decoder\n",
        "\n",
        "Next up is the decoder. \n",
        "\n",
        "The decoder contains the attention layer, `attention`, which takes the previous hidden state, $s_{t-1}$, all of the encoder hidden states, $H$, and returns the attention vector, $a_t$.\n",
        "\n",
        "We then use this attention vector to create a weighted source vector, $w_t$, denoted by `weighted`, which is a weighted sum of the encoder hidden states, $H$, using $a_t$ as the weights.\n",
        "\n",
        "$$w_t = a_t H$$\n",
        "\n",
        "The embedded input word, $d(y_t)$, the weighted source vector, $w_t$, and the previous decoder hidden state, $s_{t-1}$, are then all passed into the decoder RNN, with $d(y_t)$ and $w_t$ being concatenated together.\n",
        "\n",
        "$$s_t = \\text{DecoderGRU}(d(y_t), w_t, s_{t-1})$$\n",
        "\n",
        "We then pass $d(y_t)$, $w_t$ and $s_t$ through the linear layer, $f$, to make a prediction of the next word in the target sentence, $\\hat{y}_{t+1}$. This is done by concatenating them all together.\n",
        "\n",
        "$$\\hat{y}_{t+1} = f(d(y_t), w_t, s_t)$$\n",
        "\n",
        "The image below shows decoding the first word in an example translation.\n",
        "\n",
        "![](https://github.com/bentrevett/pytorch-seq2seq/blob/master/assets/seq2seq10.png?raw=1)\n",
        "\n",
        "The green/teal blocks show the forward/backward encoder RNNs which output $H$, the red block shows the context vector, $z = h_T = \\tanh(g(h^\\rightarrow_T,h^\\leftarrow_T)) = \\tanh(g(z^\\rightarrow, z^\\leftarrow)) = s_0$, the blue block shows the decoder RNN which outputs $s_t$, the purple block shows the linear layer, $f$, which outputs $\\hat{y}_{t+1}$ and the orange block shows the calculation of the weighted sum over $H$ by $a_t$ and outputs $w_t$. Not shown is the calculation of $a_t$."
      ]
    },
    {
      "cell_type": "code",
      "metadata": {
        "id": "5wg3PolD9ejF"
      },
      "source": [
        "class Decoder(nn.Module):\n",
        "    def __init__(self, output_dim, emb_dim, enc_hid_dim, dec_hid_dim, dropout, attention):\n",
        "        super().__init__()\n",
        "\n",
        "        self.output_dim = output_dim\n",
        "        self.attention = attention\n",
        "        \n",
        "        self.embedding = nn.Embedding(output_dim, emb_dim)\n",
        "        \n",
        "        self.rnn = nn.GRU((enc_hid_dim * 2) + emb_dim, dec_hid_dim)\n",
        "        \n",
        "        self.fc_out = nn.Linear((enc_hid_dim * 2) + dec_hid_dim + emb_dim, output_dim)\n",
        "        \n",
        "        self.dropout = nn.Dropout(dropout)\n",
        "        \n",
        "    def forward(self, input, hidden, encoder_outputs):\n",
        "             \n",
        "        #input = [batch size]\n",
        "        #hidden = [batch size, dec hid dim]\n",
        "        #encoder_outputs = [src len, batch size, enc hid dim * 2]\n",
        "        \n",
        "        input = input.unsqueeze(0)\n",
        "        \n",
        "        #input = [1, batch size]\n",
        "        \n",
        "        embedded = self.dropout(self.embedding(input))\n",
        "        \n",
        "        #embedded = [1, batch size, emb dim]\n",
        "        \n",
        "        a = self.attention(hidden, encoder_outputs)\n",
        "                \n",
        "        #a = [batch size, src len]\n",
        "        \n",
        "        a = a.unsqueeze(1)\n",
        "        \n",
        "        #a = [batch size, 1, src len]\n",
        "        \n",
        "        encoder_outputs = encoder_outputs.permute(1, 0, 2)\n",
        "        \n",
        "        #encoder_outputs = [batch size, src len, enc hid dim * 2]\n",
        "        \n",
        "        weighted = torch.bmm(a, encoder_outputs)\n",
        "        \n",
        "        #weighted = [batch size, 1, enc hid dim * 2]\n",
        "        \n",
        "        weighted = weighted.permute(1, 0, 2)\n",
        "        \n",
        "        #weighted = [1, batch size, enc hid dim * 2]\n",
        "        \n",
        "        rnn_input = torch.cat((embedded, weighted), dim = 2)\n",
        "        \n",
        "        #rnn_input = [1, batch size, (enc hid dim * 2) + emb dim]\n",
        "            \n",
        "        output, hidden = self.rnn(rnn_input, hidden.unsqueeze(0))\n",
        "        \n",
        "        #output = [seq len, batch size, dec hid dim * n directions]\n",
        "        #hidden = [n layers * n directions, batch size, dec hid dim]\n",
        "        \n",
        "        #seq len, n layers and n directions will always be 1 in this decoder, therefore:\n",
        "        #output = [1, batch size, dec hid dim]\n",
        "        #hidden = [1, batch size, dec hid dim]\n",
        "        #this also means that output == hidden\n",
        "        assert (output == hidden).all()\n",
        "        \n",
        "        embedded = embedded.squeeze(0)\n",
        "        output = output.squeeze(0)\n",
        "        weighted = weighted.squeeze(0)\n",
        "        \n",
        "        prediction = self.fc_out(torch.cat((output, weighted, embedded), dim = 1))\n",
        "        \n",
        "        #prediction = [batch size, output dim]\n",
        "        \n",
        "        return prediction, hidden.squeeze(0)"
      ],
      "execution_count": 10,
      "outputs": []
    },
    {
      "cell_type": "markdown",
      "metadata": {
        "id": "gj7DZYQD9ejF"
      },
      "source": [
        "### Seq2Seq\n",
        "\n",
        "This is the first model where we don't have to have the encoder RNN and decoder RNN have the same hidden dimensions, however the encoder has to be bidirectional. This requirement can be removed by changing all occurences of `enc_dim * 2` to `enc_dim * 2 if encoder_is_bidirectional else enc_dim`. \n",
        "\n",
        "This seq2seq encapsulator is similar to the last two. The only difference is that the `encoder` returns both the final hidden state (which is the final hidden state from both the forward and backward encoder RNNs passed through a linear layer) to be used as the initial hidden state for the decoder, as well as every hidden state (which are the forward and backward hidden states stacked on top of each other). We also need to ensure that `hidden` and `encoder_outputs` are passed to the decoder. \n",
        "\n",
        "Briefly going over all of the steps:\n",
        "- the `outputs` tensor is created to hold all predictions, $\\hat{Y}$\n",
        "- the source sequence, $X$, is fed into the encoder to receive $z$ and $H$\n",
        "- the initial decoder hidden state is set to be the `context` vector, $s_0 = z = h_T$\n",
        "- we use a batch of `<sos>` tokens as the first `input`, $y_1$\n",
        "- we then decode within a loop:\n",
        "  - inserting the input token $y_t$, previous hidden state, $s_{t-1}$, and all encoder outputs, $H$, into the decoder\n",
        "  - receiving a prediction, $\\hat{y}_{t+1}$, and a new hidden state, $s_t$\n",
        "  - we then decide if we are going to teacher force or not, setting the next input as appropriate"
      ]
    },
    {
      "cell_type": "code",
      "metadata": {
        "id": "UEkTIixA9ejF"
      },
      "source": [
        "class Seq2Seq(nn.Module):\n",
        "    def __init__(self, encoder, decoder, device):\n",
        "        super().__init__()\n",
        "        \n",
        "        self.encoder = encoder\n",
        "        self.decoder = decoder\n",
        "        self.device = device\n",
        "        \n",
        "    def forward(self, src, trg, teacher_forcing_ratio = 0.5):\n",
        "        \n",
        "        #src = [src len, batch size]\n",
        "        #trg = [trg len, batch size]\n",
        "        #teacher_forcing_ratio is probability to use teacher forcing\n",
        "        #e.g. if teacher_forcing_ratio is 0.75 we use teacher forcing 75% of the time\n",
        "        \n",
        "        batch_size = src.shape[1]\n",
        "        trg_len = trg.shape[0]\n",
        "        trg_vocab_size = self.decoder.output_dim\n",
        "        \n",
        "        #tensor to store decoder outputs\n",
        "        outputs = torch.zeros(trg_len, batch_size, trg_vocab_size).to(self.device)\n",
        "        \n",
        "        #encoder_outputs is all hidden states of the input sequence, back and forwards\n",
        "        #hidden is the final forward and backward hidden states, passed through a linear layer\n",
        "        encoder_outputs, hidden = self.encoder(src)\n",
        "                \n",
        "        #first input to the decoder is the <sos> tokens\n",
        "        input = trg[0,:]\n",
        "        \n",
        "        for t in range(1, trg_len):\n",
        "            \n",
        "            #insert input token embedding, previous hidden state and all encoder hidden states\n",
        "            #receive output tensor (predictions) and new hidden state\n",
        "            output, hidden = self.decoder(input, hidden, encoder_outputs)\n",
        "            \n",
        "            #place predictions in a tensor holding predictions for each token\n",
        "            outputs[t] = output\n",
        "            \n",
        "            #decide if we are going to use teacher forcing or not\n",
        "            teacher_force = random.random() < teacher_forcing_ratio\n",
        "            \n",
        "            #get the highest predicted token from our predictions\n",
        "            top1 = output.argmax(1) \n",
        "            \n",
        "            #if teacher forcing, use actual next token as next input\n",
        "            #if not, use predicted token\n",
        "            input = trg[t] if teacher_force else top1\n",
        "\n",
        "        return outputs"
      ],
      "execution_count": 11,
      "outputs": []
    },
    {
      "cell_type": "markdown",
      "metadata": {
        "id": "cXyLKEkh9ejF"
      },
      "source": [
        "## Training the Seq2Seq Model\n",
        "\n",
        "The rest of this session is very similar to the previous one.\n",
        "\n",
        "We initialise our parameters, encoder, decoder and seq2seq model (placing it on the GPU if we have one). "
      ]
    },
    {
      "cell_type": "code",
      "metadata": {
        "id": "f7FRQ8UR9ejF"
      },
      "source": [
        "INPUT_DIM = len(SRC.vocab)\n",
        "OUTPUT_DIM = len(TRG.vocab)\n",
        "ENC_EMB_DIM = 256\n",
        "DEC_EMB_DIM = 256\n",
        "ENC_HID_DIM = 512\n",
        "DEC_HID_DIM = 512\n",
        "ENC_DROPOUT = 0.5\n",
        "DEC_DROPOUT = 0.5\n",
        "\n",
        "attn = Attention(ENC_HID_DIM, DEC_HID_DIM)\n",
        "enc = Encoder(INPUT_DIM, ENC_EMB_DIM, ENC_HID_DIM, DEC_HID_DIM, ENC_DROPOUT)\n",
        "dec = Decoder(OUTPUT_DIM, DEC_EMB_DIM, ENC_HID_DIM, DEC_HID_DIM, DEC_DROPOUT, attn)\n",
        "\n",
        "model = Seq2Seq(enc, dec, device).to(device)"
      ],
      "execution_count": 12,
      "outputs": []
    },
    {
      "cell_type": "markdown",
      "metadata": {
        "id": "Ux1sNqPk9ejF"
      },
      "source": [
        "We use a simplified version of the weight initialization scheme used in the paper. Here, we will initialize all biases to zero and all weights from $\\mathcal{N}(0, 0.01)$."
      ]
    },
    {
      "cell_type": "code",
      "metadata": {
        "id": "YXaq2o559ejF",
        "colab": {
          "base_uri": "https://localhost:8080/"
        },
        "outputId": "c5c221b9-9bce-40de-b8b1-628d252a9f9b"
      },
      "source": [
        "def init_weights(m):\n",
        "    for name, param in m.named_parameters():\n",
        "        if 'weight' in name:\n",
        "            nn.init.normal_(param.data, mean=0, std=0.01)\n",
        "        else:\n",
        "            nn.init.constant_(param.data, 0)\n",
        "            \n",
        "model.apply(init_weights)"
      ],
      "execution_count": 13,
      "outputs": [
        {
          "output_type": "execute_result",
          "data": {
            "text/plain": [
              "Seq2Seq(\n",
              "  (encoder): Encoder(\n",
              "    (embedding): Embedding(1603, 256)\n",
              "    (rnn): GRU(256, 512, bidirectional=True)\n",
              "    (fc): Linear(in_features=1024, out_features=512, bias=True)\n",
              "    (dropout): Dropout(p=0.5, inplace=False)\n",
              "  )\n",
              "  (decoder): Decoder(\n",
              "    (attention): Attention(\n",
              "      (attn): Linear(in_features=1536, out_features=512, bias=True)\n",
              "      (v): Linear(in_features=512, out_features=1, bias=False)\n",
              "    )\n",
              "    (embedding): Embedding(787, 256)\n",
              "    (rnn): GRU(1280, 512)\n",
              "    (fc_out): Linear(in_features=1792, out_features=787, bias=True)\n",
              "    (dropout): Dropout(p=0.5, inplace=False)\n",
              "  )\n",
              ")"
            ]
          },
          "metadata": {
            "tags": []
          },
          "execution_count": 13
        }
      ]
    },
    {
      "cell_type": "markdown",
      "metadata": {
        "id": "ij9nRbgx9ejH"
      },
      "source": [
        "Calculate the number of parameters. We get an increase of almost 50% in the amount of parameters from the last model. "
      ]
    },
    {
      "cell_type": "code",
      "metadata": {
        "id": "2oAsDCtJ9ejH",
        "colab": {
          "base_uri": "https://localhost:8080/"
        },
        "outputId": "7e501e1b-46f3-49f0-f557-46a615a70c49"
      },
      "source": [
        "def count_parameters(model):\n",
        "    return sum(p.numel() for p in model.parameters() if p.requires_grad)\n",
        "\n",
        "print(f'The model has {count_parameters(model):,} trainable parameters')"
      ],
      "execution_count": 14,
      "outputs": [
        {
          "output_type": "stream",
          "text": [
            "The model has 8,456,211 trainable parameters\n"
          ],
          "name": "stdout"
        }
      ]
    },
    {
      "cell_type": "markdown",
      "metadata": {
        "id": "h-C9PF1d9ejH"
      },
      "source": [
        "We create an optimizer."
      ]
    },
    {
      "cell_type": "code",
      "metadata": {
        "id": "ox4JAgEE9ejH"
      },
      "source": [
        "optimizer = optim.Adam(model.parameters())"
      ],
      "execution_count": 15,
      "outputs": []
    },
    {
      "cell_type": "markdown",
      "metadata": {
        "id": "A5FzwRlz9ejH"
      },
      "source": [
        "We initialize the loss function."
      ]
    },
    {
      "cell_type": "code",
      "metadata": {
        "id": "0iAv-6As9ejH"
      },
      "source": [
        "TRG_PAD_IDX = TRG.vocab.stoi[TRG.pad_token]\n",
        "\n",
        "criterion = nn.CrossEntropyLoss(ignore_index = TRG_PAD_IDX)"
      ],
      "execution_count": 16,
      "outputs": []
    },
    {
      "cell_type": "markdown",
      "metadata": {
        "id": "-bzv6baC9ejH"
      },
      "source": [
        "We then create the training loop..."
      ]
    },
    {
      "cell_type": "code",
      "metadata": {
        "id": "bYPFqH6a9ejH"
      },
      "source": [
        "def train(model, iterator, optimizer, criterion, clip):\n",
        "    \n",
        "    model.train()\n",
        "    \n",
        "    epoch_loss = 0\n",
        "    \n",
        "    for i, batch in enumerate(iterator):\n",
        "        \n",
        "        src = batch.SRC\n",
        "        trg = batch.TRG\n",
        "        \n",
        "        optimizer.zero_grad()\n",
        "        \n",
        "        output = model(src, trg)\n",
        "        \n",
        "        #trg = [trg len, batch size]\n",
        "        #output = [trg len, batch size, output dim]\n",
        "        \n",
        "        output_dim = output.shape[-1]\n",
        "        \n",
        "        output = output[1:].view(-1, output_dim)\n",
        "        trg = trg[1:].view(-1)\n",
        "        \n",
        "        #trg = [(trg len - 1) * batch size]\n",
        "        #output = [(trg len - 1) * batch size, output dim]\n",
        "        \n",
        "        loss = criterion(output, trg)\n",
        "        \n",
        "        loss.backward()\n",
        "        \n",
        "        torch.nn.utils.clip_grad_norm_(model.parameters(), clip)\n",
        "        \n",
        "        optimizer.step()\n",
        "        \n",
        "        epoch_loss += loss.item()\n",
        "        \n",
        "    return epoch_loss / len(iterator)"
      ],
      "execution_count": 17,
      "outputs": []
    },
    {
      "cell_type": "markdown",
      "metadata": {
        "id": "sNawOMJD9ejH"
      },
      "source": [
        "...and the evaluation loop, remembering to set the model to `eval` mode and turn off teaching forcing."
      ]
    },
    {
      "cell_type": "code",
      "metadata": {
        "id": "AQotLtCi9ejH"
      },
      "source": [
        "def evaluate(model, iterator, criterion):\n",
        "    \n",
        "    model.eval()\n",
        "    \n",
        "    epoch_loss = 0\n",
        "    \n",
        "    with torch.no_grad():\n",
        "    \n",
        "        for i, batch in enumerate(iterator):\n",
        "\n",
        "            src = batch.SRC\n",
        "            trg = batch.TRG\n",
        "\n",
        "            output = model(src, trg, 0) #turn off teacher forcing\n",
        "\n",
        "            #trg = [trg len, batch size]\n",
        "            #output = [trg len, batch size, output dim]\n",
        "\n",
        "            output_dim = output.shape[-1]\n",
        "            \n",
        "            output = output[1:].view(-1, output_dim)\n",
        "            trg = trg[1:].view(-1)\n",
        "\n",
        "            #trg = [(trg len - 1) * batch size]\n",
        "            #output = [(trg len - 1) * batch size, output dim]\n",
        "\n",
        "            loss = criterion(output, trg)\n",
        "\n",
        "            epoch_loss += loss.item()\n",
        "        \n",
        "    return epoch_loss / len(iterator)"
      ],
      "execution_count": 18,
      "outputs": []
    },
    {
      "cell_type": "markdown",
      "metadata": {
        "id": "4_TUjr1O9ejH"
      },
      "source": [
        "Finally, define a timing function."
      ]
    },
    {
      "cell_type": "code",
      "metadata": {
        "id": "_UMyHEYS9ejH"
      },
      "source": [
        "def epoch_time(start_time, end_time):\n",
        "    elapsed_time = end_time - start_time\n",
        "    elapsed_mins = int(elapsed_time / 60)\n",
        "    elapsed_secs = int(elapsed_time - (elapsed_mins * 60))\n",
        "    return elapsed_mins, elapsed_secs"
      ],
      "execution_count": 19,
      "outputs": []
    },
    {
      "cell_type": "markdown",
      "metadata": {
        "id": "wYKIfYvY9ejH"
      },
      "source": [
        "Then, we train our model, saving the parameters that give us the best validation loss."
      ]
    },
    {
      "cell_type": "code",
      "metadata": {
        "id": "V2-2b9-W9ejH",
        "colab": {
          "base_uri": "https://localhost:8080/"
        },
        "outputId": "5dd69ee9-e349-4a75-e11c-b63479816caa"
      },
      "source": [
        "N_EPOCHS = 10\n",
        "CLIP = 1\n",
        "\n",
        "best_valid_loss = float('inf')\n",
        "\n",
        "for epoch in range(N_EPOCHS):\n",
        "    \n",
        "    start_time = time.time()\n",
        "    \n",
        "    train_loss = train(model, train_iterator, optimizer, criterion, CLIP)\n",
        "    valid_loss = evaluate(model, valid_iterator, criterion)\n",
        "    \n",
        "    end_time = time.time()\n",
        "    \n",
        "    epoch_mins, epoch_secs = epoch_time(start_time, end_time)\n",
        "    \n",
        "    if valid_loss < best_valid_loss:\n",
        "        best_valid_loss = valid_loss\n",
        "        torch.save(model.state_dict(), 'tut3-model.pt')\n",
        "    \n",
        "    print(f'Epoch: {epoch+1:02} | Time: {epoch_mins}m {epoch_secs}s')\n",
        "    print(f'\\tTrain Loss: {train_loss:.3f} | Train PPL: {math.exp(train_loss):7.3f}')\n",
        "    print(f'\\t Val. Loss: {valid_loss:.3f} |  Val. PPL: {math.exp(valid_loss):7.3f}')"
      ],
      "execution_count": 20,
      "outputs": [
        {
          "output_type": "stream",
          "text": [
            "Epoch: 01 | Time: 0m 6s\n",
            "\tTrain Loss: 4.749 | Train PPL: 115.446\n",
            "\t Val. Loss: 3.449 |  Val. PPL:  31.453\n",
            "Epoch: 02 | Time: 0m 6s\n",
            "\tTrain Loss: 3.690 | Train PPL:  40.033\n",
            "\t Val. Loss: 3.238 |  Val. PPL:  25.495\n",
            "Epoch: 03 | Time: 0m 6s\n",
            "\tTrain Loss: 3.526 | Train PPL:  33.976\n",
            "\t Val. Loss: 3.223 |  Val. PPL:  25.115\n",
            "Epoch: 04 | Time: 0m 6s\n",
            "\tTrain Loss: 3.386 | Train PPL:  29.560\n",
            "\t Val. Loss: 3.215 |  Val. PPL:  24.905\n",
            "Epoch: 05 | Time: 0m 6s\n",
            "\tTrain Loss: 3.284 | Train PPL:  26.669\n",
            "\t Val. Loss: 3.271 |  Val. PPL:  26.348\n",
            "Epoch: 06 | Time: 0m 6s\n",
            "\tTrain Loss: 3.181 | Train PPL:  24.070\n",
            "\t Val. Loss: 3.206 |  Val. PPL:  24.678\n",
            "Epoch: 07 | Time: 0m 6s\n",
            "\tTrain Loss: 3.082 | Train PPL:  21.794\n",
            "\t Val. Loss: 3.297 |  Val. PPL:  27.023\n",
            "Epoch: 08 | Time: 0m 6s\n",
            "\tTrain Loss: 2.988 | Train PPL:  19.843\n",
            "\t Val. Loss: 3.309 |  Val. PPL:  27.353\n",
            "Epoch: 09 | Time: 0m 6s\n",
            "\tTrain Loss: 2.846 | Train PPL:  17.225\n",
            "\t Val. Loss: 3.383 |  Val. PPL:  29.466\n",
            "Epoch: 10 | Time: 0m 6s\n",
            "\tTrain Loss: 2.714 | Train PPL:  15.089\n",
            "\t Val. Loss: 3.362 |  Val. PPL:  28.850\n"
          ],
          "name": "stdout"
        }
      ]
    },
    {
      "cell_type": "markdown",
      "metadata": {
        "id": "zJm2KZKW9ejI"
      },
      "source": [
        "Finally, we test the model on the test set using these \"best\" parameters."
      ]
    },
    {
      "cell_type": "code",
      "metadata": {
        "id": "0ZlTvUHI9ejI",
        "colab": {
          "base_uri": "https://localhost:8080/"
        },
        "outputId": "6883c426-0292-4814-fc7e-c8f42c74c191"
      },
      "source": [
        "model.load_state_dict(torch.load('tut3-model.pt'))\n",
        "\n",
        "test_loss = evaluate(model, test_iterator, criterion)\n",
        "\n",
        "print(f'| Test Loss: {test_loss:.3f} | Test PPL: {math.exp(test_loss):7.3f} |')"
      ],
      "execution_count": 21,
      "outputs": [
        {
          "output_type": "stream",
          "text": [
            "| Test Loss: 3.116 | Test PPL:  22.558 |\n"
          ],
          "name": "stdout"
        }
      ]
    },
    {
      "cell_type": "markdown",
      "metadata": {
        "id": "seTMu4Mj9ejK"
      },
      "source": [
        "We've improved on the previous model, but this came at the cost of doubling the training time.\n",
        "\n",
        "Next, we'll be using the same architecture but using a few tricks that are applicable to all RNN architectures - packed padded sequences and masking. We'll also implement code which will allow us to look at what words in the input the RNN is paying attention to when decoding the output. Check this [Notebook](https://colab.research.google.com/github/bentrevett/pytorch-seq2seq/blob/master/4%20-%20Packed%20Padded%20Sequences%2C%20Masking%2C%20Inference%20and%20BLEU.ipynb) "
      ]
    }
  ]
}