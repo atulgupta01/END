{
  "nbformat": 4,
  "nbformat_minor": 0,
  "metadata": {
    "colab": {
      "name": "Assignment_8b.ipynb",
      "provenance": [],
      "collapsed_sections": []
    },
    "kernelspec": {
      "name": "python3",
      "display_name": "Python 3"
    }
  },
  "cells": [
    {
      "cell_type": "code",
      "metadata": {
        "id": "NzLcez0LmbU7"
      },
      "source": [
        "from functools import reduce\r\n",
        "import operator"
      ],
      "execution_count": 1,
      "outputs": []
    },
    {
      "cell_type": "code",
      "metadata": {
        "colab": {
          "base_uri": "https://localhost:8080/"
        },
        "id": "mFvMolwUlyID",
        "outputId": "396b7960-4ae7-4f7a-e9ec-fa9f41e762f9"
      },
      "source": [
        "# Write a function to generate the list of Fibonacci Numbers\r\n",
        "def fibonacci_series(n):\r\n",
        "  fib = lambda n: reduce(lambda x, _: x+[x[-1]+x[-2]], range(n-2), [0, 1]) \r\n",
        "  fib_list = fib(n)\r\n",
        "  return fib_list\r\n",
        "\r\n",
        "print(fibonacci_series(25))"
      ],
      "execution_count": 2,
      "outputs": [
        {
          "output_type": "stream",
          "text": [
            "[0, 1, 1, 2, 3, 5, 8, 13, 21, 34, 55, 89, 144, 233, 377, 610, 987, 1597, 2584, 4181, 6765, 10946, 17711, 28657, 46368]\n"
          ],
          "name": "stdout"
        }
      ]
    },
    {
      "cell_type": "code",
      "metadata": {
        "colab": {
          "base_uri": "https://localhost:8080/"
        },
        "id": "RZT7qxiEmPJ0",
        "outputId": "b63cbc68-83b8-4ad7-cbe0-1e3f4eb98093"
      },
      "source": [
        "#Write a program to check if the number exists in fibinacci series. \r\n",
        "# Returns True if the number exists in Fibonacci Series. Else, returns False\r\n",
        "\r\n",
        "def exists_in_fib(v_num, n):\r\n",
        "  fib = lambda n: reduce(lambda x, _: x+[x[-1]+x[-2]], range(n-2), [0, 1]) \r\n",
        "  fib_list = fib(n)\r\n",
        "  result = lambda a: a in list(filter((lambda x: a == x), fib_list))\r\n",
        "  return (result(v_num))\r\n",
        "\r\n",
        "print(exists_in_fib(200, 25))\r\n",
        "print(exists_in_fib(610,25))"
      ],
      "execution_count": 3,
      "outputs": [
        {
          "output_type": "stream",
          "text": [
            "False\n",
            "True\n"
          ],
          "name": "stdout"
        }
      ]
    },
    {
      "cell_type": "code",
      "metadata": {
        "colab": {
          "base_uri": "https://localhost:8080/"
        },
        "id": "qTJpDOlYn356",
        "outputId": "7d95ca68-e60c-4774-9418-cbd59502d72e"
      },
      "source": [
        "#Write a function to count number of vowels in a string\r\n",
        "def check_num_vowels(v_text):\r\n",
        "  vowels = ('a', 'e', 'i', 'o', 'u', 'A', 'E', 'I', 'O', 'U')\r\n",
        "  result = ''.join([s for s in v_text if s not in vowels])\r\n",
        "  return len(v_text) - len(result)\r\n",
        "\r\n",
        "print(check_num_vowels(\"Testingagain\"))"
      ],
      "execution_count": 4,
      "outputs": [
        {
          "output_type": "stream",
          "text": [
            "5\n"
          ],
          "name": "stdout"
        }
      ]
    },
    {
      "cell_type": "code",
      "metadata": {
        "colab": {
          "base_uri": "https://localhost:8080/"
        },
        "id": "TIv_5fmgpcDz",
        "outputId": "87a7a148-9a28-463c-adb7-9d5775e3b938"
      },
      "source": [
        "# Write a function to extract numbers from a string\r\n",
        "def extract_num(v_text):\r\n",
        "    result = [s for s in v_text if not s.isalpha()]\r\n",
        "    return result\r\n",
        "\r\n",
        "print(extract_num(\"12sdjkhkj23\"))"
      ],
      "execution_count": 5,
      "outputs": [
        {
          "output_type": "stream",
          "text": [
            "['1', '2', '2', '3']\n"
          ],
          "name": "stdout"
        }
      ]
    },
    {
      "cell_type": "code",
      "metadata": {
        "colab": {
          "base_uri": "https://localhost:8080/"
        },
        "id": "2Eh3CGYwqtbC",
        "outputId": "f18dbd25-81d7-466a-eca0-b88a822b7552"
      },
      "source": [
        "# Write a function to extract numbers from a string\r\n",
        "def extract_num(v_text):\r\n",
        "    result = [s for s in v_text if not s.isalpha()]\r\n",
        "    return result\r\n",
        "\r\n",
        "print(extract_num(\"12sdjkhkj23\"))"
      ],
      "execution_count": 6,
      "outputs": [
        {
          "output_type": "stream",
          "text": [
            "['1', '2', '2', '3']\n"
          ],
          "name": "stdout"
        }
      ]
    },
    {
      "cell_type": "code",
      "metadata": {
        "colab": {
          "base_uri": "https://localhost:8080/"
        },
        "id": "LgqPVp0Mq6qK",
        "outputId": "c50a05be-eef1-434a-a69d-55c436e3becb"
      },
      "source": [
        "# Write a function to extract charaters which are neither numbers nor alphabets\r\n",
        "def extract_num(v_text):\r\n",
        "    result = [s for s in v_text if not(s.isalpha() or s.isdigit())]\r\n",
        "    return result\r\n",
        "\r\n",
        "print(extract_num(\"12sdjkhkj23L;{[\"))"
      ],
      "execution_count": 7,
      "outputs": [
        {
          "output_type": "stream",
          "text": [
            "[';', '{', '[']\n"
          ],
          "name": "stdout"
        }
      ]
    },
    {
      "cell_type": "code",
      "metadata": {
        "colab": {
          "base_uri": "https://localhost:8080/"
        },
        "id": "RKAqJXW1sEEM",
        "outputId": "674f33d0-222d-433e-a214-9b383fcfcc77"
      },
      "source": [
        "#Write a function to count number of spaces in a string\r\n",
        "def check_num_vowels(v_text):\r\n",
        "  result = ''.join([s for s in v_text if s == ' '])\r\n",
        "  return len(result)\r\n",
        "\r\n",
        "print(check_num_vowels(\"Tes ti ng aga in\"))"
      ],
      "execution_count": 8,
      "outputs": [
        {
          "output_type": "stream",
          "text": [
            "4\n"
          ],
          "name": "stdout"
        }
      ]
    },
    {
      "cell_type": "code",
      "metadata": {
        "colab": {
          "base_uri": "https://localhost:8080/"
        },
        "id": "IvoSiDJIubgq",
        "outputId": "c71be7fe-a80d-4aeb-d6ab-c9c8e1619ec8"
      },
      "source": [
        "#Extract either largest number in a list or largest character in a string\r\n",
        "\r\n",
        "v_list = [2, 5, 7, 9]\r\n",
        "result1 = reduce(lambda a, b : max(a, b), v_list)\r\n",
        "\r\n",
        "v_text = \"aksjhkjslksdlkjqwoikasjlk\"\r\n",
        "result2 = reduce(lambda a, b : max(a, b), v_text)\r\n",
        "\r\n",
        "print(\"Largest Number is -- \", result1)\r\n",
        "print(\"Largest Character is -- \", result2)"
      ],
      "execution_count": 9,
      "outputs": [
        {
          "output_type": "stream",
          "text": [
            "Largest Number is --  9\n",
            "Largest Character is --  w\n"
          ],
          "name": "stdout"
        }
      ]
    },
    {
      "cell_type": "code",
      "metadata": {
        "colab": {
          "base_uri": "https://localhost:8080/"
        },
        "id": "aGCk7A_KvSv5",
        "outputId": "f49027c8-8c1d-4dc5-fd3b-a9893b0c37e0"
      },
      "source": [
        "#Print a decimal number in octal number\r\n",
        "i = 23\r\n",
        "print('%o,' % (i))"
      ],
      "execution_count": 10,
      "outputs": [
        {
          "output_type": "stream",
          "text": [
            "27,\n"
          ],
          "name": "stdout"
        }
      ]
    },
    {
      "cell_type": "code",
      "metadata": {
        "colab": {
          "base_uri": "https://localhost:8080/"
        },
        "id": "N6gjI-2lvSQv",
        "outputId": "d61b8a3e-1489-48cd-dc9d-39cca140c69d"
      },
      "source": [
        "# Write a program to extract unique values in a list from a dictionary\r\n",
        "\r\n",
        "def check_dict(v_dict):\r\n",
        "  v_list = list()\r\n",
        "  for item in v_dict.values():\r\n",
        "    if item not in v_list:\r\n",
        "      v_list.append(item)\r\n",
        "  return v_list\r\n",
        "\r\n",
        "v_dict  ={'a':47, 'b':52, 'c':47, 'd':44, 'e':52, 'f':53, 'g':54, 'h':44, 'i':54} \r\n",
        "\r\n",
        "check_dict(v_dict)"
      ],
      "execution_count": 11,
      "outputs": [
        {
          "output_type": "execute_result",
          "data": {
            "text/plain": [
              "[47, 52, 44, 53, 54]"
            ]
          },
          "metadata": {
            "tags": []
          },
          "execution_count": 11
        }
      ]
    },
    {
      "cell_type": "code",
      "metadata": {
        "colab": {
          "base_uri": "https://localhost:8080/"
        },
        "id": "INeJFBGt05a-",
        "outputId": "23b47740-0bf2-4922-96fd-fe4c1f18c1ad"
      },
      "source": [
        "# Extract unique numbers from a list of numbers\r\n",
        "v_list = [87, 52, 44, 53, 54, 87, 52, 53]\r\n",
        "r_list = list(set(v_list))\r\n",
        "\r\n",
        "print(\"unique list\", r_list)"
      ],
      "execution_count": 12,
      "outputs": [
        {
          "output_type": "stream",
          "text": [
            "unique list [44, 52, 53, 54, 87]\n"
          ],
          "name": "stdout"
        }
      ]
    },
    {
      "cell_type": "code",
      "metadata": {
        "colab": {
          "base_uri": "https://localhost:8080/"
        },
        "id": "BTrk6LWd234l",
        "outputId": "b7c599bb-ff86-4ebe-bc40-e9e30b037638"
      },
      "source": [
        "# Write a function to calculate number of alphabets between 2 alphabets\r\n",
        "\r\n",
        "def diff_alphabets(c1, c2):\r\n",
        "  if (c1 != c2):\r\n",
        "    return(abs(ord(c1) - ord(c2)))\r\n",
        "  else:\r\n",
        "    return None\r\n",
        "\r\n",
        "diff_alphabets('c', 'f')\r\n"
      ],
      "execution_count": 13,
      "outputs": [
        {
          "output_type": "execute_result",
          "data": {
            "text/plain": [
              "3"
            ]
          },
          "metadata": {
            "tags": []
          },
          "execution_count": 13
        }
      ]
    },
    {
      "cell_type": "code",
      "metadata": {
        "colab": {
          "base_uri": "https://localhost:8080/"
        },
        "id": "aGkG5ZTn4Xld",
        "outputId": "ed208df3-bc63-46df-9c80-7a1a8ce7856c"
      },
      "source": [
        "# Count the number of even numbers in a list\r\n",
        "a = [1, 4, 9, 16, 25, 36, 49, 64, 81, 100]\r\n",
        "b = [number for number in a if number % 2 == 0]\r\n",
        "\r\n",
        "print(b)"
      ],
      "execution_count": 14,
      "outputs": [
        {
          "output_type": "stream",
          "text": [
            "[4, 16, 36, 64, 100]\n"
          ],
          "name": "stdout"
        }
      ]
    },
    {
      "cell_type": "code",
      "metadata": {
        "colab": {
          "base_uri": "https://localhost:8080/"
        },
        "id": "claCxF3Ihitu",
        "outputId": "34932025-bec9-4fc1-81e4-12b54d8cbd12"
      },
      "source": [
        "# Count the number of odd numbers in a list\r\n",
        "a = [1, 4, 9, 16, 25, 36, 49, 64, 81, 100]\r\n",
        "b = [number for number in a if number % 2 != 0]\r\n",
        "\r\n",
        "print(b)"
      ],
      "execution_count": 15,
      "outputs": [
        {
          "output_type": "stream",
          "text": [
            "[1, 9, 25, 49, 81]\n"
          ],
          "name": "stdout"
        }
      ]
    },
    {
      "cell_type": "code",
      "metadata": {
        "colab": {
          "base_uri": "https://localhost:8080/"
        },
        "id": "KGGS5VL1hwd3",
        "outputId": "e8410212-c4a5-4e04-ee45-017172767c14"
      },
      "source": [
        "# Write a function to check if the string is a palindrome \r\n",
        "\r\n",
        "def check_palindrome(v_text):\r\n",
        "  v_rtext = v_text[::-1]\r\n",
        "  if (v_text == v_rtext):\r\n",
        "    return True\r\n",
        "  else:\r\n",
        "    return False\r\n",
        "\r\n",
        "print(check_palindrome(\"kjhkjha\"))\r\n",
        "print(check_palindrome(\"asdfgfdsa\"))"
      ],
      "execution_count": 16,
      "outputs": [
        {
          "output_type": "stream",
          "text": [
            "False\n",
            "True\n"
          ],
          "name": "stdout"
        }
      ]
    },
    {
      "cell_type": "code",
      "metadata": {
        "colab": {
          "base_uri": "https://localhost:8080/"
        },
        "id": "UW2KVOSYk-_u",
        "outputId": "1635fcbe-4b0e-447f-fbd3-79502a1bae8e"
      },
      "source": [
        "# Write a function to check if the number is a prime number\r\n",
        "#Returns True for prime numbers, False otherwise\r\n",
        "\r\n",
        "def is_prime(number):\r\n",
        "    \r\n",
        "    if number == 1:\r\n",
        "        prime = False\r\n",
        "    elif number == 2:\r\n",
        "        prime = True\r\n",
        "    else:\r\n",
        "        prime = True\r\n",
        "        for check_number in range(2, (int(number / 2)+1)):\r\n",
        "            if number % check_number == 0:\r\n",
        "                prime = False\r\n",
        "                break\r\n",
        "    return prime\r\n",
        "\r\n",
        "print(is_prime(23))\r\n",
        "print(is_prime(16))"
      ],
      "execution_count": 17,
      "outputs": [
        {
          "output_type": "stream",
          "text": [
            "True\n",
            "False\n"
          ],
          "name": "stdout"
        }
      ]
    },
    {
      "cell_type": "code",
      "metadata": {
        "colab": {
          "base_uri": "https://localhost:8080/"
        },
        "id": "z-t-WVFYlph6",
        "outputId": "a5565165-209b-41ac-f635-4ec5b4bd4702"
      },
      "source": [
        "# Write function to calculate the sum of all the numbers passed to a function\r\n",
        "\r\n",
        "def total_Sum(*arguments): \r\n",
        "    v_total = 0\r\n",
        "    for number in arguments: \r\n",
        "        v_total += number \r\n",
        "    return v_total \r\n",
        "  \r\n",
        "print(total_Sum(5, 4, 2, 9, 8)) "
      ],
      "execution_count": 18,
      "outputs": [
        {
          "output_type": "stream",
          "text": [
            "28\n"
          ],
          "name": "stdout"
        }
      ]
    },
    {
      "cell_type": "code",
      "metadata": {
        "colab": {
          "base_uri": "https://localhost:8080/"
        },
        "id": "8IaZuU9eo96k",
        "outputId": "ed3c2c15-ca67-4eba-9fb2-2a14e2f26bd8"
      },
      "source": [
        "# Sort dictionary items by value in ascending order\r\n",
        "\r\n",
        "d = {'a': 2, 'c': 4, 'd': 3, 'n': 1, 't': 0}\r\n",
        "print('Original dictionary : ',d)\r\n",
        "sorted_d = sorted(d.items(), key=operator.itemgetter(1))\r\n",
        "print('Dictionary in ascending order by value : ',sorted_d)"
      ],
      "execution_count": 19,
      "outputs": [
        {
          "output_type": "stream",
          "text": [
            "Original dictionary :  {'a': 2, 'c': 4, 'd': 3, 'n': 1, 't': 0}\n",
            "Dictionary in ascending order by value :  [('t', 0), ('n', 1), ('a', 2), ('d', 3), ('c', 4)]\n"
          ],
          "name": "stdout"
        }
      ]
    },
    {
      "cell_type": "code",
      "metadata": {
        "colab": {
          "base_uri": "https://localhost:8080/"
        },
        "id": "z8cC63fjqr64",
        "outputId": "13bcb597-4e42-4cc4-b460-315816e5a5cf"
      },
      "source": [
        "# Sort dictionary items by value in descending order\r\n",
        "\r\n",
        "d = {'a': 2, 'c': 4, 'd': 3, 'n': 1, 't': 0}\r\n",
        "print('Original dictionary : ',d)\r\n",
        "sorted_d = dict( sorted(d.items(), key=operator.itemgetter(1),reverse=True))\r\n",
        "print('Dictionary in descending order by value : ',sorted_d)"
      ],
      "execution_count": 20,
      "outputs": [
        {
          "output_type": "stream",
          "text": [
            "Original dictionary :  {'a': 2, 'c': 4, 'd': 3, 'n': 1, 't': 0}\n",
            "Dictionary in descending order by value :  {'c': 4, 'd': 3, 'a': 2, 'n': 1, 't': 0}\n"
          ],
          "name": "stdout"
        }
      ]
    },
    {
      "cell_type": "code",
      "metadata": {
        "colab": {
          "base_uri": "https://localhost:8080/"
        },
        "id": "ajpZWNLguSvv",
        "outputId": "2776c827-f3da-4034-d442-6d88d9395fb8"
      },
      "source": [
        "# Convert two lists into a dictionary\r\n",
        "keys = ['Ten', 'Twenty', 'Thirty']\r\n",
        "values = [10, 20, 30, 40]\r\n",
        "\r\n",
        "v_dict = dict(zip(keys, values))\r\n",
        "print(v_dict)"
      ],
      "execution_count": 21,
      "outputs": [
        {
          "output_type": "stream",
          "text": [
            "{'Ten': 10, 'Twenty': 20, 'Thirty': 30}\n"
          ],
          "name": "stdout"
        }
      ]
    },
    {
      "cell_type": "code",
      "metadata": {
        "colab": {
          "base_uri": "https://localhost:8080/"
        },
        "id": "WyY985b0rBF2",
        "outputId": "a9ec1617-cf8d-4c40-d669-951d53b35ee2"
      },
      "source": [
        "# Write a function to accept multiple dictionary items as input and return single dictionary by concatenating all of them\r\n",
        "\r\n",
        "def concat_dict(*dict):\r\n",
        "  dic = {}\r\n",
        "  v_dic = (s for s in dict)\r\n",
        "  for d in v_dic: \r\n",
        "    dic.update(d)\r\n",
        "  \r\n",
        "  return dic\r\n",
        "  \r\n",
        "\r\n",
        "dic1={'a':10, 'b':20}\r\n",
        "dic2={'d':30, 'f':40}\r\n",
        "dic3={'v':50, 'w':60}\r\n",
        "\r\n",
        "print(concat_dict(dic1, dic2, dic3))"
      ],
      "execution_count": 22,
      "outputs": [
        {
          "output_type": "stream",
          "text": [
            "{'a': 10, 'b': 20, 'd': 30, 'f': 40, 'v': 50, 'w': 60}\n"
          ],
          "name": "stdout"
        }
      ]
    },
    {
      "cell_type": "code",
      "metadata": {
        "colab": {
          "base_uri": "https://localhost:8080/"
        },
        "id": "5qeuoBYLtXBA",
        "outputId": "746ec75a-be31-48a6-f95c-10fd948f72cf"
      },
      "source": [
        "# Write a function to accept a dictionary items as input and group by keys of the dictionary \r\n",
        " \r\n",
        "def group_dict_keys(v_dict):\r\n",
        "    result = {}\r\n",
        "    for k, v in v_dict:\r\n",
        "         result.setdefault(k, []).append(v)\r\n",
        "    return result\r\n",
        "\r\n",
        "colors = [('yellow', 1), ('blue', 2), ('yellow', 3), ('blue', 4), ('red', 1)]\r\n",
        "print(group_dict_keys(colors))"
      ],
      "execution_count": 23,
      "outputs": [
        {
          "output_type": "stream",
          "text": [
            "{'yellow': [1, 3], 'blue': [2, 4], 'red': [1]}\n"
          ],
          "name": "stdout"
        }
      ]
    },
    {
      "cell_type": "code",
      "metadata": {
        "colab": {
          "base_uri": "https://localhost:8080/"
        },
        "id": "BBs8T12csIkq",
        "outputId": "a39b352b-9e9d-47e1-b6aa-7e1be4886665"
      },
      "source": [
        "# Rename the key for a dictionary\r\n",
        "v_dict = {\r\n",
        "  \"name\": \"Atul\",\r\n",
        "  \"age\":43,\r\n",
        "  \"salary\": 8000,\r\n",
        "  \"city\": \"HYD\"\r\n",
        "}\r\n",
        "\r\n",
        "v_dict['location'] = v_dict.pop('city')\r\n",
        "print(v_dict)"
      ],
      "execution_count": 24,
      "outputs": [
        {
          "output_type": "stream",
          "text": [
            "{'name': 'Atul', 'age': 43, 'salary': 8000, 'location': 'HYD'}\n"
          ],
          "name": "stdout"
        }
      ]
    }
  ]
}