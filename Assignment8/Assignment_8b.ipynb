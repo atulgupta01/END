{
  "nbformat": 4,
  "nbformat_minor": 0,
  "metadata": {
    "colab": {
      "name": "Assignment_8b.ipynb",
      "provenance": [],
      "collapsed_sections": []
    },
    "kernelspec": {
      "name": "python3",
      "display_name": "Python 3"
    }
  },
  "cells": [
    {
      "cell_type": "code",
      "metadata": {
        "id": "NzLcez0LmbU7"
      },
      "source": [
        "from functools import reduce"
      ],
      "execution_count": 1,
      "outputs": []
    },
    {
      "cell_type": "code",
      "metadata": {
        "colab": {
          "base_uri": "https://localhost:8080/"
        },
        "id": "mFvMolwUlyID",
        "outputId": "77897e26-e330-4ee5-f8eb-e371db6c5f27"
      },
      "source": [
        "# Write a function to generate the list of Fibonacci Numbers\r\n",
        "def fibonacci_series(n):\r\n",
        "  fib = lambda n: reduce(lambda x, _: x+[x[-1]+x[-2]], range(n-2), [0, 1]) \r\n",
        "  fib_list = fib(n)\r\n",
        "  return fib_list\r\n",
        "\r\n",
        "print(fibonacci_series(25))"
      ],
      "execution_count": 2,
      "outputs": [
        {
          "output_type": "stream",
          "text": [
            "[0, 1, 1, 2, 3, 5, 8, 13, 21, 34, 55, 89, 144, 233, 377, 610, 987, 1597, 2584, 4181, 6765, 10946, 17711, 28657, 46368]\n"
          ],
          "name": "stdout"
        }
      ]
    },
    {
      "cell_type": "code",
      "metadata": {
        "colab": {
          "base_uri": "https://localhost:8080/"
        },
        "id": "RZT7qxiEmPJ0",
        "outputId": "4f73fd05-3b2f-4a5e-de8c-141cfd78ae3a"
      },
      "source": [
        "#Write a program to check if the number exists in fibinacci series. \r\n",
        "# Returns True if the number exists in Fibonacci Series. Else, returns False\r\n",
        "\r\n",
        "def exists_in_fib(v_num, n):\r\n",
        "  fib = lambda n: reduce(lambda x, _: x+[x[-1]+x[-2]], range(n-2), [0, 1]) \r\n",
        "  fib_list = fib(n)\r\n",
        "  result = lambda a: a in list(filter((lambda x: a == x), fib_list))\r\n",
        "  return (result(v_num))\r\n",
        "\r\n",
        "print(exists_in_fib(200, 25))\r\n",
        "print(exists_in_fib(610,25))"
      ],
      "execution_count": 3,
      "outputs": [
        {
          "output_type": "stream",
          "text": [
            "False\n",
            "True\n"
          ],
          "name": "stdout"
        }
      ]
    },
    {
      "cell_type": "code",
      "metadata": {
        "colab": {
          "base_uri": "https://localhost:8080/"
        },
        "id": "qTJpDOlYn356",
        "outputId": "4c4069d5-9694-40ff-b1db-f559fb50b19d"
      },
      "source": [
        "#Write a function to count number of vowels in a string\r\n",
        "def check_num_vowels(v_text):\r\n",
        "  vowels = ('a', 'e', 'i', 'o', 'u', 'A', 'E', 'I', 'O', 'U')\r\n",
        "  result = ''.join([s for s in v_text if s not in vowels])\r\n",
        "  return len(v_text) - len(result)\r\n",
        "\r\n",
        "print(check_num_vowels(\"Testingagain\"))"
      ],
      "execution_count": 4,
      "outputs": [
        {
          "output_type": "stream",
          "text": [
            "5\n"
          ],
          "name": "stdout"
        }
      ]
    },
    {
      "cell_type": "code",
      "metadata": {
        "colab": {
          "base_uri": "https://localhost:8080/"
        },
        "id": "TIv_5fmgpcDz",
        "outputId": "f19bd2fb-86ce-46e6-91f9-36d608cc146c"
      },
      "source": [
        "# Write a function to extract numbers from a string\r\n",
        "def extract_num(v_text):\r\n",
        "    result = [s for s in v_text if not s.isalpha()]\r\n",
        "    return result\r\n",
        "\r\n",
        "print(extract_num(\"12sdjkhkj23\"))"
      ],
      "execution_count": 5,
      "outputs": [
        {
          "output_type": "stream",
          "text": [
            "['1', '2', '2', '3']\n"
          ],
          "name": "stdout"
        }
      ]
    },
    {
      "cell_type": "code",
      "metadata": {
        "colab": {
          "base_uri": "https://localhost:8080/"
        },
        "id": "2Eh3CGYwqtbC",
        "outputId": "297132a9-039a-480d-ef77-8c5d3ab22ca1"
      },
      "source": [
        "# Write a function to extract numbers from a string\r\n",
        "def extract_num(v_text):\r\n",
        "    result = [s for s in v_text if not s.isalpha()]\r\n",
        "    return result\r\n",
        "\r\n",
        "print(extract_num(\"12sdjkhkj23\"))"
      ],
      "execution_count": 6,
      "outputs": [
        {
          "output_type": "stream",
          "text": [
            "['1', '2', '2', '3']\n"
          ],
          "name": "stdout"
        }
      ]
    },
    {
      "cell_type": "code",
      "metadata": {
        "colab": {
          "base_uri": "https://localhost:8080/"
        },
        "id": "LgqPVp0Mq6qK",
        "outputId": "b6461146-86cb-4ead-c89a-5c23e82fda59"
      },
      "source": [
        "# Write a function to extract charaters which are neither numbers nor alphabets\r\n",
        "def extract_num(v_text):\r\n",
        "    result = [s for s in v_text if not(s.isalpha() or s.isdigit())]\r\n",
        "    return result\r\n",
        "\r\n",
        "print(extract_num(\"12sdjkhkj23L;{[\"))"
      ],
      "execution_count": 7,
      "outputs": [
        {
          "output_type": "stream",
          "text": [
            "[';', '{', '[']\n"
          ],
          "name": "stdout"
        }
      ]
    },
    {
      "cell_type": "code",
      "metadata": {
        "colab": {
          "base_uri": "https://localhost:8080/"
        },
        "id": "RKAqJXW1sEEM",
        "outputId": "c1da4a5f-8d53-461a-ab07-49954737a6db"
      },
      "source": [
        "#Write a function to count number of spaces in a string\r\n",
        "def check_num_vowels(v_text):\r\n",
        "  result = ''.join([s for s in v_text if s == ' '])\r\n",
        "  return len(result)\r\n",
        "\r\n",
        "print(check_num_vowels(\"Tes ti ng aga in\"))"
      ],
      "execution_count": 9,
      "outputs": [
        {
          "output_type": "stream",
          "text": [
            "4\n"
          ],
          "name": "stdout"
        }
      ]
    }
  ]
}