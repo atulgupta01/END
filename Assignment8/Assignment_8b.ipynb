{
  "nbformat": 4,
  "nbformat_minor": 0,
  "metadata": {
    "colab": {
      "name": "Assignment_8b.ipynb",
      "provenance": [],
      "collapsed_sections": []
    },
    "kernelspec": {
      "name": "python3",
      "display_name": "Python 3"
    }
  },
  "cells": [
    {
      "cell_type": "code",
      "metadata": {
        "id": "NzLcez0LmbU7"
      },
      "source": [
        "from functools import reduce\r\n",
        "import operator\r\n",
        "import random\r\n",
        "import timeit\r\n",
        "import math"
      ],
      "execution_count": 1,
      "outputs": []
    },
    {
      "cell_type": "code",
      "metadata": {
        "colab": {
          "base_uri": "https://localhost:8080/"
        },
        "id": "mFvMolwUlyID",
        "outputId": "6c1af830-2e14-403c-8593-80b846c89f5e"
      },
      "source": [
        "# Write a function to generate the list of Fibonacci Numbers\r\n",
        "def fibonacci_series(n):\r\n",
        "  fib = lambda n: reduce(lambda x, _: x+[x[-1]+x[-2]], range(n-2), [0, 1]) \r\n",
        "  fib_list = fib(n)\r\n",
        "  return fib_list\r\n",
        "\r\n",
        "print(fibonacci_series(25))"
      ],
      "execution_count": 2,
      "outputs": [
        {
          "output_type": "stream",
          "text": [
            "[0, 1, 1, 2, 3, 5, 8, 13, 21, 34, 55, 89, 144, 233, 377, 610, 987, 1597, 2584, 4181, 6765, 10946, 17711, 28657, 46368]\n"
          ],
          "name": "stdout"
        }
      ]
    },
    {
      "cell_type": "code",
      "metadata": {
        "colab": {
          "base_uri": "https://localhost:8080/"
        },
        "id": "RZT7qxiEmPJ0",
        "outputId": "73c6969d-441f-49e5-aafb-05c291c23c7f"
      },
      "source": [
        "#Write a program to check if the number exists in fibonacci series. Generates a list of numbers from fibonacci series and copare with it\r\n",
        "# Returns True if the number exists in Fibonacci Series. Else, returns False\r\n",
        "\r\n",
        "def exists_in_fib(v_num, n):\r\n",
        "  fib = lambda n: reduce(lambda x, _: x+[x[-1]+x[-2]], range(n-2), [0, 1]) \r\n",
        "  fib_list = fib(n)\r\n",
        "  result = lambda a: a in list(filter((lambda x: a == x), fib_list))\r\n",
        "  return (result(v_num))\r\n",
        "\r\n",
        "print(exists_in_fib(200, 25))\r\n",
        "print(exists_in_fib(610,25))"
      ],
      "execution_count": 3,
      "outputs": [
        {
          "output_type": "stream",
          "text": [
            "False\n",
            "True\n"
          ],
          "name": "stdout"
        }
      ]
    },
    {
      "cell_type": "code",
      "metadata": {
        "colab": {
          "base_uri": "https://localhost:8080/"
        },
        "id": "VmgprhuQKGa5",
        "outputId": "89350a9f-7fae-4f99-a2c8-859dd1dd8b63"
      },
      "source": [
        "#Write a program to check if the number exists in fibonacci series. without generating a list\r\n",
        "# Returns True if the number exists in Fibonacci Series. Else, returns False\r\n",
        "\r\n",
        "def isPerfectSquare(x):\r\n",
        "  s = int(math.sqrt(x)) \r\n",
        "  return s*s == x \r\n",
        "\r\n",
        "def isFibonacci(n):\r\n",
        "  return isPerfectSquare(5*n*n + 4) or isPerfectSquare(5*n*n - 4)\r\n",
        "\r\n",
        "print({i:isFibonacci(i) for i in range(0,20)})\r\n"
      ],
      "execution_count": 4,
      "outputs": [
        {
          "output_type": "stream",
          "text": [
            "{0: True, 1: True, 2: True, 3: True, 4: False, 5: True, 6: False, 7: False, 8: True, 9: False, 10: False, 11: False, 12: False, 13: True, 14: False, 15: False, 16: False, 17: False, 18: False, 19: False}\n"
          ],
          "name": "stdout"
        }
      ]
    },
    {
      "cell_type": "code",
      "metadata": {
        "colab": {
          "base_uri": "https://localhost:8080/"
        },
        "id": "qTJpDOlYn356",
        "outputId": "bdb24fa3-03d4-4eb9-a0df-e393bdcc45d0"
      },
      "source": [
        "#Write a function to count number of vowels in a string\r\n",
        "def check_num_vowels(v_text):\r\n",
        "  vowels = ('a', 'e', 'i', 'o', 'u', 'A', 'E', 'I', 'O', 'U')\r\n",
        "  result = ''.join([s for s in v_text if s not in vowels])\r\n",
        "  return len(v_text) - len(result)\r\n",
        "\r\n",
        "print(check_num_vowels(\"Testingagain\"))"
      ],
      "execution_count": 5,
      "outputs": [
        {
          "output_type": "stream",
          "text": [
            "5\n"
          ],
          "name": "stdout"
        }
      ]
    },
    {
      "cell_type": "code",
      "metadata": {
        "colab": {
          "base_uri": "https://localhost:8080/"
        },
        "id": "TIv_5fmgpcDz",
        "outputId": "aa18052c-d95b-4448-90ce-396583039d40"
      },
      "source": [
        "# Write a function to extract numbers from a string\r\n",
        "def extract_num(v_text):\r\n",
        "    result = [s for s in v_text if not s.isalpha()]\r\n",
        "    return result\r\n",
        "\r\n",
        "print(extract_num(\"12sdjkhkj23\"))"
      ],
      "execution_count": 6,
      "outputs": [
        {
          "output_type": "stream",
          "text": [
            "['1', '2', '2', '3']\n"
          ],
          "name": "stdout"
        }
      ]
    },
    {
      "cell_type": "code",
      "metadata": {
        "colab": {
          "base_uri": "https://localhost:8080/"
        },
        "id": "2Eh3CGYwqtbC",
        "outputId": "f7c0019f-f7a9-4f3b-b312-f488578defbf"
      },
      "source": [
        "# Write a function to extract alphabets from a string\r\n",
        "def extract_num(v_text):\r\n",
        "    result = [s for s in v_text if s.isalpha()]\r\n",
        "    return result\r\n",
        "\r\n",
        "print(extract_num(\"12sdjkhkj23\"))"
      ],
      "execution_count": 7,
      "outputs": [
        {
          "output_type": "stream",
          "text": [
            "['s', 'd', 'j', 'k', 'h', 'k', 'j']\n"
          ],
          "name": "stdout"
        }
      ]
    },
    {
      "cell_type": "code",
      "metadata": {
        "colab": {
          "base_uri": "https://localhost:8080/"
        },
        "id": "LgqPVp0Mq6qK",
        "outputId": "bb3dc452-789e-4c0a-f0ed-1efa910f649e"
      },
      "source": [
        "# Write a function to extract charaters which are neither numbers nor alphabets\r\n",
        "def extract_num(v_text):\r\n",
        "    result = [s for s in v_text if not(s.isalpha() or s.isdigit())]\r\n",
        "    return result\r\n",
        "\r\n",
        "print(extract_num(\"12sdjkhkj23L;{[\"))"
      ],
      "execution_count": 8,
      "outputs": [
        {
          "output_type": "stream",
          "text": [
            "[';', '{', '[']\n"
          ],
          "name": "stdout"
        }
      ]
    },
    {
      "cell_type": "code",
      "metadata": {
        "colab": {
          "base_uri": "https://localhost:8080/"
        },
        "id": "RKAqJXW1sEEM",
        "outputId": "f3fe66f5-0992-4297-a386-807b24ecb5c9"
      },
      "source": [
        "#Write a function to count number of spaces in a string\r\n",
        "def check_num_vowels(v_text):\r\n",
        "  result = ''.join([s for s in v_text if s == ' '])\r\n",
        "  return len(result)\r\n",
        "\r\n",
        "print(check_num_vowels(\"Tes ti ng aga in\"))"
      ],
      "execution_count": 9,
      "outputs": [
        {
          "output_type": "stream",
          "text": [
            "4\n"
          ],
          "name": "stdout"
        }
      ]
    },
    {
      "cell_type": "code",
      "metadata": {
        "colab": {
          "base_uri": "https://localhost:8080/"
        },
        "id": "IvoSiDJIubgq",
        "outputId": "c0ffa53c-a657-4f58-ac7c-b13f04aa7d10"
      },
      "source": [
        "#Extract either largest number in a list or largest character in a string\r\n",
        "\r\n",
        "v_list = [2, 5, 7, 9]\r\n",
        "result1 = reduce(lambda a, b : max(a, b), v_list)\r\n",
        "\r\n",
        "v_text = \"aksjhkjslksdlkjqwoikasjlk\"\r\n",
        "result2 = reduce(lambda a, b : max(a, b), v_text)\r\n",
        "\r\n",
        "print(\"Largest Number is -- \", result1)\r\n",
        "print(\"Largest Character is -- \", result2)"
      ],
      "execution_count": 10,
      "outputs": [
        {
          "output_type": "stream",
          "text": [
            "Largest Number is --  9\n",
            "Largest Character is --  w\n"
          ],
          "name": "stdout"
        }
      ]
    },
    {
      "cell_type": "code",
      "metadata": {
        "colab": {
          "base_uri": "https://localhost:8080/"
        },
        "id": "aGCk7A_KvSv5",
        "outputId": "8996030e-1b5b-478f-995e-2fa203d2bc3c"
      },
      "source": [
        "#Print a decimal number in octal number\r\n",
        "i = 23\r\n",
        "print('%o,' % (i))"
      ],
      "execution_count": 11,
      "outputs": [
        {
          "output_type": "stream",
          "text": [
            "27,\n"
          ],
          "name": "stdout"
        }
      ]
    },
    {
      "cell_type": "code",
      "metadata": {
        "colab": {
          "base_uri": "https://localhost:8080/"
        },
        "id": "N6gjI-2lvSQv",
        "outputId": "a8c54486-1a16-4d94-c11b-e9fd47e2fc65"
      },
      "source": [
        "# Write a program to extract unique values in a list from a dictionary\r\n",
        "\r\n",
        "def check_dict(v_dict):\r\n",
        "  v_list = list()\r\n",
        "  for item in v_dict.values():\r\n",
        "    if item not in v_list:\r\n",
        "      v_list.append(item)\r\n",
        "  return v_list\r\n",
        "\r\n",
        "v_dict  ={'a':47, 'b':52, 'c':47, 'd':44, 'e':52, 'f':53, 'g':54, 'h':44, 'i':54} \r\n",
        "\r\n",
        "check_dict(v_dict)"
      ],
      "execution_count": 12,
      "outputs": [
        {
          "output_type": "execute_result",
          "data": {
            "text/plain": [
              "[47, 52, 44, 53, 54]"
            ]
          },
          "metadata": {
            "tags": []
          },
          "execution_count": 12
        }
      ]
    },
    {
      "cell_type": "code",
      "metadata": {
        "colab": {
          "base_uri": "https://localhost:8080/"
        },
        "id": "INeJFBGt05a-",
        "outputId": "21eda224-741c-4348-8f92-a77cf87ea702"
      },
      "source": [
        "# Extract unique numbers from a list of numbers\r\n",
        "v_list = [87, 52, 44, 53, 54, 87, 52, 53]\r\n",
        "r_list = list(set(v_list))\r\n",
        "\r\n",
        "print(\"unique list\", r_list)"
      ],
      "execution_count": 13,
      "outputs": [
        {
          "output_type": "stream",
          "text": [
            "unique list [44, 52, 53, 54, 87]\n"
          ],
          "name": "stdout"
        }
      ]
    },
    {
      "cell_type": "code",
      "metadata": {
        "colab": {
          "base_uri": "https://localhost:8080/"
        },
        "id": "BTrk6LWd234l",
        "outputId": "3ddcab0f-1d09-4015-dbbe-9684d170d1ff"
      },
      "source": [
        "# Write a function to calculate number of alphabets between 2 alphabets\r\n",
        "\r\n",
        "def diff_alphabets(c1, c2):\r\n",
        "  if (c1 != c2):\r\n",
        "    return(abs(ord(c1) - ord(c2)))\r\n",
        "  else:\r\n",
        "    return None\r\n",
        "\r\n",
        "diff_alphabets('c', 'f')\r\n"
      ],
      "execution_count": 14,
      "outputs": [
        {
          "output_type": "execute_result",
          "data": {
            "text/plain": [
              "3"
            ]
          },
          "metadata": {
            "tags": []
          },
          "execution_count": 14
        }
      ]
    },
    {
      "cell_type": "code",
      "metadata": {
        "colab": {
          "base_uri": "https://localhost:8080/"
        },
        "id": "aGkG5ZTn4Xld",
        "outputId": "84835e0d-941c-470c-f24d-d41560a4b037"
      },
      "source": [
        "# Count the number of even numbers in a list\r\n",
        "a = [1, 4, 9, 16, 25, 36, 49, 64, 81, 100]\r\n",
        "b = [number for number in a if number % 2 == 0]\r\n",
        "\r\n",
        "print(b)"
      ],
      "execution_count": 15,
      "outputs": [
        {
          "output_type": "stream",
          "text": [
            "[4, 16, 36, 64, 100]\n"
          ],
          "name": "stdout"
        }
      ]
    },
    {
      "cell_type": "code",
      "metadata": {
        "colab": {
          "base_uri": "https://localhost:8080/"
        },
        "id": "claCxF3Ihitu",
        "outputId": "66d178a1-3081-4b96-d91f-ed15d3609d1b"
      },
      "source": [
        "# Count the number of odd numbers in a list\r\n",
        "a = [1, 4, 9, 16, 25, 36, 49, 64, 81, 100]\r\n",
        "b = [number for number in a if number % 2 != 0]\r\n",
        "\r\n",
        "print(b)"
      ],
      "execution_count": 16,
      "outputs": [
        {
          "output_type": "stream",
          "text": [
            "[1, 9, 25, 49, 81]\n"
          ],
          "name": "stdout"
        }
      ]
    },
    {
      "cell_type": "code",
      "metadata": {
        "colab": {
          "base_uri": "https://localhost:8080/"
        },
        "id": "KGGS5VL1hwd3",
        "outputId": "52323cbc-ed06-4a79-9ad5-906bdaceecdc"
      },
      "source": [
        "# Write a function to check if the string is a palindrome \r\n",
        "\r\n",
        "def check_palindrome(v_text):\r\n",
        "  v_rtext = v_text[::-1]\r\n",
        "  if (v_text == v_rtext):\r\n",
        "    return True\r\n",
        "  else:\r\n",
        "    return False\r\n",
        "\r\n",
        "print(check_palindrome(\"kjhkjha\"))\r\n",
        "print(check_palindrome(\"asdfgfdsa\"))"
      ],
      "execution_count": 17,
      "outputs": [
        {
          "output_type": "stream",
          "text": [
            "False\n",
            "True\n"
          ],
          "name": "stdout"
        }
      ]
    },
    {
      "cell_type": "code",
      "metadata": {
        "colab": {
          "base_uri": "https://localhost:8080/"
        },
        "id": "UW2KVOSYk-_u",
        "outputId": "22644cef-c7f3-4247-cbbe-67084579a8f4"
      },
      "source": [
        "# Write a function to check if the number is a prime number\r\n",
        "#Returns True for prime numbers, False otherwise\r\n",
        "\r\n",
        "def is_prime(number):\r\n",
        "    \r\n",
        "    if number == 1:\r\n",
        "        prime = False\r\n",
        "    elif number == 2:\r\n",
        "        prime = True\r\n",
        "    else:\r\n",
        "        prime = True\r\n",
        "        for check_number in range(2, (int(number / 2)+1)):\r\n",
        "            if number % check_number == 0:\r\n",
        "                prime = False\r\n",
        "                break\r\n",
        "    return prime\r\n",
        "\r\n",
        "print(is_prime(23))\r\n",
        "print(is_prime(16))"
      ],
      "execution_count": 18,
      "outputs": [
        {
          "output_type": "stream",
          "text": [
            "True\n",
            "False\n"
          ],
          "name": "stdout"
        }
      ]
    },
    {
      "cell_type": "code",
      "metadata": {
        "colab": {
          "base_uri": "https://localhost:8080/"
        },
        "id": "z-t-WVFYlph6",
        "outputId": "26198618-8c54-4ba5-9c87-8da169f1d9bc"
      },
      "source": [
        "# Write function to calculate the sum of all the numbers passed to a function\r\n",
        "\r\n",
        "def total_Sum(*arguments): \r\n",
        "    v_total = 0\r\n",
        "    for number in arguments: \r\n",
        "        v_total += number \r\n",
        "    return v_total \r\n",
        "  \r\n",
        "print(total_Sum(5, 4, 2, 9, 8)) "
      ],
      "execution_count": 19,
      "outputs": [
        {
          "output_type": "stream",
          "text": [
            "28\n"
          ],
          "name": "stdout"
        }
      ]
    },
    {
      "cell_type": "code",
      "metadata": {
        "colab": {
          "base_uri": "https://localhost:8080/"
        },
        "id": "8IaZuU9eo96k",
        "outputId": "750459f5-3915-4432-f224-061db8ff72c5"
      },
      "source": [
        "# Sort dictionary items by value in ascending order\r\n",
        "\r\n",
        "d = {'a': 2, 'c': 4, 'd': 3, 'n': 1, 't': 0}\r\n",
        "print('Original dictionary : ',d)\r\n",
        "sorted_d = sorted(d.items(), key=operator.itemgetter(1))\r\n",
        "print('Dictionary in ascending order by value : ',sorted_d)"
      ],
      "execution_count": 20,
      "outputs": [
        {
          "output_type": "stream",
          "text": [
            "Original dictionary :  {'a': 2, 'c': 4, 'd': 3, 'n': 1, 't': 0}\n",
            "Dictionary in ascending order by value :  [('t', 0), ('n', 1), ('a', 2), ('d', 3), ('c', 4)]\n"
          ],
          "name": "stdout"
        }
      ]
    },
    {
      "cell_type": "code",
      "metadata": {
        "colab": {
          "base_uri": "https://localhost:8080/"
        },
        "id": "z8cC63fjqr64",
        "outputId": "ecec3bb2-d219-4ddd-c798-a551e8326827"
      },
      "source": [
        "# Sort dictionary items by value in descending order\r\n",
        "\r\n",
        "d = {'a': 2, 'c': 4, 'd': 3, 'n': 1, 't': 0}\r\n",
        "print('Original dictionary : ',d)\r\n",
        "sorted_d = dict( sorted(d.items(), key=operator.itemgetter(1),reverse=True))\r\n",
        "print('Dictionary in descending order by value : ',sorted_d)"
      ],
      "execution_count": 21,
      "outputs": [
        {
          "output_type": "stream",
          "text": [
            "Original dictionary :  {'a': 2, 'c': 4, 'd': 3, 'n': 1, 't': 0}\n",
            "Dictionary in descending order by value :  {'c': 4, 'd': 3, 'a': 2, 'n': 1, 't': 0}\n"
          ],
          "name": "stdout"
        }
      ]
    },
    {
      "cell_type": "code",
      "metadata": {
        "colab": {
          "base_uri": "https://localhost:8080/"
        },
        "id": "ajpZWNLguSvv",
        "outputId": "4838d744-896b-4b11-f936-dad72542d9c7"
      },
      "source": [
        "# Convert two lists into a dictionary\r\n",
        "keys = ['Ten', 'Twenty', 'Thirty']\r\n",
        "values = [10, 20, 30, 40]\r\n",
        "\r\n",
        "v_dict = dict(zip(keys, values))\r\n",
        "print(v_dict)"
      ],
      "execution_count": 22,
      "outputs": [
        {
          "output_type": "stream",
          "text": [
            "{'Ten': 10, 'Twenty': 20, 'Thirty': 30}\n"
          ],
          "name": "stdout"
        }
      ]
    },
    {
      "cell_type": "code",
      "metadata": {
        "colab": {
          "base_uri": "https://localhost:8080/"
        },
        "id": "WyY985b0rBF2",
        "outputId": "005ef71c-c6c4-40a5-d025-7e09418a9b6e"
      },
      "source": [
        "# Write a function to accept multiple dictionary items as input and return single dictionary by concatenating all of them\r\n",
        "\r\n",
        "def concat_dict(*dict):\r\n",
        "  dic = {}\r\n",
        "  v_dic = (s for s in dict)\r\n",
        "  for d in v_dic: \r\n",
        "    dic.update(d)\r\n",
        "  \r\n",
        "  return dic\r\n",
        "  \r\n",
        "\r\n",
        "dic1={'a':10, 'b':20}\r\n",
        "dic2={'d':30, 'f':40}\r\n",
        "dic3={'v':50, 'w':60}\r\n",
        "\r\n",
        "print(concat_dict(dic1, dic2, dic3))"
      ],
      "execution_count": 23,
      "outputs": [
        {
          "output_type": "stream",
          "text": [
            "{'a': 10, 'b': 20, 'd': 30, 'f': 40, 'v': 50, 'w': 60}\n"
          ],
          "name": "stdout"
        }
      ]
    },
    {
      "cell_type": "code",
      "metadata": {
        "colab": {
          "base_uri": "https://localhost:8080/"
        },
        "id": "5qeuoBYLtXBA",
        "outputId": "c235b102-688c-45f6-f266-86898e28496e"
      },
      "source": [
        "# Write a function to accept a dictionary items as input and group by keys of the dictionary \r\n",
        " \r\n",
        "def group_dict_keys(v_dict):\r\n",
        "    result = {}\r\n",
        "    for k, v in v_dict:\r\n",
        "         result.setdefault(k, []).append(v)\r\n",
        "    return result\r\n",
        "\r\n",
        "colors = [('yellow', 1), ('blue', 2), ('yellow', 3), ('blue', 4), ('red', 1)]\r\n",
        "print(group_dict_keys(colors))"
      ],
      "execution_count": 24,
      "outputs": [
        {
          "output_type": "stream",
          "text": [
            "{'yellow': [1, 3], 'blue': [2, 4], 'red': [1]}\n"
          ],
          "name": "stdout"
        }
      ]
    },
    {
      "cell_type": "code",
      "metadata": {
        "colab": {
          "base_uri": "https://localhost:8080/"
        },
        "id": "BBs8T12csIkq",
        "outputId": "f2d0ee6d-9d97-4383-b463-ce55e1d7d8b8"
      },
      "source": [
        "# Write a program to rename the key for a dictionary\r\n",
        "v_dict = {\r\n",
        "  \"name\": \"Atul\",\r\n",
        "  \"age\":43,\r\n",
        "  \"salary\": 8000,\r\n",
        "  \"city\": \"HYD\"\r\n",
        "}\r\n",
        "\r\n",
        "v_dict['location'] = v_dict.pop('city')\r\n",
        "print(v_dict)"
      ],
      "execution_count": 25,
      "outputs": [
        {
          "output_type": "stream",
          "text": [
            "{'name': 'Atul', 'age': 43, 'salary': 8000, 'location': 'HYD'}\n"
          ],
          "name": "stdout"
        }
      ]
    },
    {
      "cell_type": "code",
      "metadata": {
        "colab": {
          "base_uri": "https://localhost:8080/"
        },
        "id": "2uhy8GnNoraG",
        "outputId": "d3c81756-d84f-4b02-cddd-d105e78ca7da"
      },
      "source": [
        "# Write a program to create list of keys and list of values from a given dictionary\r\n",
        "\r\n",
        "v_dict={\"Sedan\": 1500, \"SUV\": 2000, \"Pickup\": 2500, \"Minivan\": 1600, \"Van\": 2400, \"Semi\": 13600, \"Bicycle\": 7, \"Motorcycle\": 110}\r\n",
        "\r\n",
        "key_lst=[s for s in v_dict.keys()]\r\n",
        "val_lst=[s for s in v_dict.values()]\r\n",
        "\r\n",
        "print(key_lst, val_lst)\r\n"
      ],
      "execution_count": 26,
      "outputs": [
        {
          "output_type": "stream",
          "text": [
            "['Sedan', 'SUV', 'Pickup', 'Minivan', 'Van', 'Semi', 'Bicycle', 'Motorcycle'] [1500, 2000, 2500, 1600, 2400, 13600, 7, 110]\n"
          ],
          "name": "stdout"
        }
      ]
    },
    {
      "cell_type": "code",
      "metadata": {
        "colab": {
          "base_uri": "https://localhost:8080/"
        },
        "id": "pEXkm_RcH5f_",
        "outputId": "cac8ac26-8b2e-4ada-bc7b-b5d18af07879"
      },
      "source": [
        "# Concatenate the corresponding values of two different list items\r\n",
        "\r\n",
        "list1 = [\"M\", \"na\", \"i\", \"At\"] \r\n",
        "list2 = [\"y\", \"me\", \"s\", \"ul\"]\r\n",
        "\r\n",
        "list3 = [i+j for i,j in zip(list1, list2)]\r\n",
        "\r\n",
        "print(list3)"
      ],
      "execution_count": 27,
      "outputs": [
        {
          "output_type": "stream",
          "text": [
            "['My', 'name', 'is', 'Atul']\n"
          ],
          "name": "stdout"
        }
      ]
    },
    {
      "cell_type": "code",
      "metadata": {
        "colab": {
          "base_uri": "https://localhost:8080/"
        },
        "id": "Zu2PBIIDIi6n",
        "outputId": "f1d81616-5425-4b85-88c8-ddb2fe9482e3"
      },
      "source": [
        "# Remove empty strings from the list\r\n",
        "v_list = [\"Atul\", \"\", \"Rohan\", \"Soma\", \"\", \"Zack\"]\r\n",
        "r_list = list(filter(None, v_list))\r\n",
        "print(r_list)"
      ],
      "execution_count": 28,
      "outputs": [
        {
          "output_type": "stream",
          "text": [
            "['Atul', 'Rohan', 'Soma', 'Zack']\n"
          ],
          "name": "stdout"
        }
      ]
    },
    {
      "cell_type": "code",
      "metadata": {
        "colab": {
          "base_uri": "https://localhost:8080/"
        },
        "id": "kxLkrQW9JUai",
        "outputId": "5d47efe1-ffc1-47f0-9bc2-4c14c7d1606b"
      },
      "source": [
        "# Create a nested list based on the given two or more lists\r\n",
        "\r\n",
        "a = [1, 4, 9, 16, 25, 36, 49, 64, 81, 100]\r\n",
        "b = [2, 5, 12, 14, 21, 31, 41, 23, 34, 12]\r\n",
        "c = [5, 74, 19, 15, 13, 78, 67, 56, 33, 24]\r\n",
        "\r\n",
        "\r\n",
        "d = [[i,j, k] for i,j,k in zip(a,b,c)]\r\n",
        "\r\n",
        "print(d)"
      ],
      "execution_count": 29,
      "outputs": [
        {
          "output_type": "stream",
          "text": [
            "[[1, 2, 5], [4, 5, 74], [9, 12, 19], [16, 14, 15], [25, 21, 13], [36, 31, 78], [49, 41, 67], [64, 23, 56], [81, 34, 33], [100, 12, 24]]\n"
          ],
          "name": "stdout"
        }
      ]
    },
    {
      "cell_type": "code",
      "metadata": {
        "colab": {
          "base_uri": "https://localhost:8080/"
        },
        "id": "HlT3yWswKZlR",
        "outputId": "7504cba7-26ad-420a-cb0d-b5dd620891f9"
      },
      "source": [
        "# Write a function to flatten a matrix of 2 dimension\r\n",
        "\r\n",
        "def flat_mat(matrix):\r\n",
        "    return [x for row in matrix for x in row ]\r\n",
        "\r\n",
        "matrix = [ [1,3,4], [2,4,8], [4,7,1] ]\r\n",
        "\r\n",
        "print(matrix)\r\n",
        "print (str(flat_mat(matrix)))"
      ],
      "execution_count": 30,
      "outputs": [
        {
          "output_type": "stream",
          "text": [
            "[[1, 3, 4], [2, 4, 8], [4, 7, 1]]\n",
            "[1, 3, 4, 2, 4, 8, 4, 7, 1]\n"
          ],
          "name": "stdout"
        }
      ]
    },
    {
      "cell_type": "code",
      "metadata": {
        "id": "kAyDQ3QPOLY_"
      },
      "source": [
        "# Write a function to calculate tax for each month's earning from a list using map\r\n",
        "\r\n",
        "Earning = [13890, 923879, 376465, 27476, 37565]\r\n",
        "TAX_RATE = .08\r\n",
        "def get_price(txn):\r\n",
        "  return txn * (1 + TAX_RATE)\r\n",
        "\r\n",
        "def get_prices_with_map():\r\n",
        "  return list(map(get_price, Earning))\r\n",
        "\r\n"
      ],
      "execution_count": 31,
      "outputs": []
    },
    {
      "cell_type": "code",
      "metadata": {
        "id": "VQlkHPmsPj2Z"
      },
      "source": [
        "# Write a function to calculate tax for each month's earning from a list using comprehension\r\n",
        "\r\n",
        "def get_prices_with_comprehension():\r\n",
        "  return [get_price(txn) for txn in Earning]\r\n",
        "\r\n"
      ],
      "execution_count": 32,
      "outputs": []
    },
    {
      "cell_type": "code",
      "metadata": {
        "id": "qbDL8wY9P3tX"
      },
      "source": [
        "# Write a function to calculate tax for each month's earning from a list using for loop\r\n",
        "\r\n",
        "def get_prices_with_loop():\r\n",
        "  prices = []\r\n",
        "  for txn in Earning:\r\n",
        "    prices.append(get_price(txn))\r\n",
        "  \r\n",
        "  return prices"
      ],
      "execution_count": 33,
      "outputs": []
    },
    {
      "cell_type": "code",
      "metadata": {
        "colab": {
          "base_uri": "https://localhost:8080/"
        },
        "id": "N_WRjCzYQIbB",
        "outputId": "c8b15457-b652-427b-9da6-212fdcbb80b8"
      },
      "source": [
        "#Compare time between the three functions each doing the same thing but performing different operations\r\n",
        "\r\n",
        "print(timeit.timeit(get_prices_with_map, number=100))\r\n",
        "print(timeit.timeit(get_prices_with_comprehension, number=100))\r\n",
        "print(timeit.timeit(get_prices_with_loop, number=100))\r\n"
      ],
      "execution_count": 34,
      "outputs": [
        {
          "output_type": "stream",
          "text": [
            "0.00026321100085624494\n",
            "0.0001021999996737577\n",
            "0.00011044799975934438\n"
          ],
          "name": "stdout"
        }
      ]
    },
    {
      "cell_type": "code",
      "metadata": {
        "colab": {
          "base_uri": "https://localhost:8080/"
        },
        "id": "1GwnTgRAQqT5",
        "outputId": "4d30d8c3-f3d2-44d7-b822-201628b14f1a"
      },
      "source": [
        "# Write a function to list the characters of string using lambda function\r\n",
        "\r\n",
        "v_text = \"Intellipat\"\r\n",
        "\r\n",
        "def lambda_char():\r\n",
        "  v_list = list(map(lambda x: x, 'intellipaat'))\r\n",
        "  return v_list\r\n",
        "\r\n",
        "# Write a function to list the characters of s string using List Comprehension\r\n",
        "\r\n",
        "def lc_char():\r\n",
        "  v_list = [i for i in v_text]\r\n",
        "  return v_list\r\n",
        "\r\n",
        "# Write a function to list the characters of s string using for Loop\r\n",
        "def forloop_char():\r\n",
        "  v_list = []\r\n",
        "  for i in v_text:\r\n",
        "    v_list.append(i)\r\n",
        "  return v_list\r\n",
        "\r\n",
        "#Compare time between the three functions each doing the same thing but performing different operations\r\n",
        "\r\n",
        "print(timeit.timeit(lambda_char, number=100))\r\n",
        "print(timeit.timeit(lc_char, number=100))\r\n",
        "print(timeit.timeit(forloop_char, number=100))"
      ],
      "execution_count": 35,
      "outputs": [
        {
          "output_type": "stream",
          "text": [
            "0.00012211400098749436\n",
            "5.159600004844833e-05\n",
            "8.154900024237577e-05\n"
          ],
          "name": "stdout"
        }
      ]
    },
    {
      "cell_type": "code",
      "metadata": {
        "colab": {
          "base_uri": "https://localhost:8080/"
        },
        "id": "Ye3qSYPQTDRV",
        "outputId": "1ed9fb86-c5ed-4351-ebdc-a8f339aee758"
      },
      "source": [
        "# Convert type of a variable which is of decimal type but stored as string to INT\r\n",
        "\r\n",
        "v_str = \"30\"\r\n",
        "v_num = int(v_str)\r\n",
        "\r\n",
        "print(type(v_str), \"   \", type(v_num))"
      ],
      "execution_count": 36,
      "outputs": [
        {
          "output_type": "stream",
          "text": [
            "<class 'str'>     <class 'int'>\n"
          ],
          "name": "stdout"
        }
      ]
    },
    {
      "cell_type": "code",
      "metadata": {
        "colab": {
          "base_uri": "https://localhost:8080/"
        },
        "id": "I5vbjQeBXMKN",
        "outputId": "d782acb8-d0f2-40f3-9c6e-7a3e4481ea84"
      },
      "source": [
        "# Write a function to convert the string into the list containing number(i.e. a = 1, b = 2 etc) of alphabet of the strings\r\n",
        "\r\n",
        "def convert_str(v_text):\r\n",
        "  v_list = [ord(s) - 96 for s in v_text]\r\n",
        "  return v_list\r\n",
        "\r\n",
        "print(convert_str(\"atul\"))"
      ],
      "execution_count": 37,
      "outputs": [
        {
          "output_type": "stream",
          "text": [
            "[1, 20, 21, 12]\n"
          ],
          "name": "stdout"
        }
      ]
    },
    {
      "cell_type": "code",
      "metadata": {
        "colab": {
          "base_uri": "https://localhost:8080/"
        },
        "id": "PcId5pRLiYHa",
        "outputId": "538debbe-04f8-4358-be6f-085620ac131f"
      },
      "source": [
        "# Write a function to convert a decimal number to binary number\r\n",
        "\r\n",
        "def decimalToBinary(n):\r\n",
        "  \r\n",
        "  if(n > 1):\r\n",
        "    decimalToBinary(n//2)\r\n",
        "  print(n%2, end='')\r\n",
        "\r\n",
        "decimalToBinary(20)"
      ],
      "execution_count": 38,
      "outputs": [
        {
          "output_type": "stream",
          "text": [
            "10100"
          ],
          "name": "stdout"
        }
      ]
    },
    {
      "cell_type": "code",
      "metadata": {
        "colab": {
          "base_uri": "https://localhost:8080/",
          "height": 35
        },
        "id": "WwvJqznekS1A",
        "outputId": "f972cbb9-9f69-40cc-dce1-ec0f02996385"
      },
      "source": [
        "# Write a function to convert a decimal number to binary number(Using python native commands)\r\n",
        "\r\n",
        "def decimalToBinary(n):\r\n",
        "  return bin(n).replace(\"0b\",\"\")\r\n",
        "\r\n",
        "decimalToBinary(20)"
      ],
      "execution_count": 39,
      "outputs": [
        {
          "output_type": "execute_result",
          "data": {
            "application/vnd.google.colaboratory.intrinsic+json": {
              "type": "string"
            },
            "text/plain": [
              "'10100'"
            ]
          },
          "metadata": {
            "tags": []
          },
          "execution_count": 39
        }
      ]
    },
    {
      "cell_type": "code",
      "metadata": {
        "colab": {
          "base_uri": "https://localhost:8080/"
        },
        "id": "qrqMTTJnjrXH",
        "outputId": "78def67c-0816-4bd1-d73d-c1b358ce7b5c"
      },
      "source": [
        "# Write a function to convert a decimal number to Octal number\r\n",
        "\r\n",
        "def decimalToOctal(n):\r\n",
        "  v_str = ''\r\n",
        "  if(n > 7):\r\n",
        "    decimalToOctal(n//8)\r\n",
        "  print(n%8, end='')\r\n",
        "\r\n",
        "decimalToOctal(25)"
      ],
      "execution_count": 40,
      "outputs": [
        {
          "output_type": "stream",
          "text": [
            "31"
          ],
          "name": "stdout"
        }
      ]
    },
    {
      "cell_type": "code",
      "metadata": {
        "colab": {
          "base_uri": "https://localhost:8080/"
        },
        "id": "iTVZWF9VkIgJ",
        "outputId": "0bccff33-92b4-4d72-b6c2-ca7fd3691c6f"
      },
      "source": [
        "# Write a function to convert a binary number to decimal number (using python native commands)\r\n",
        "\r\n",
        "def binaryToDecimal(n): \r\n",
        "    return int(n,2)\r\n",
        "\r\n",
        "binaryToDecimal('101011')"
      ],
      "execution_count": 41,
      "outputs": [
        {
          "output_type": "execute_result",
          "data": {
            "text/plain": [
              "43"
            ]
          },
          "metadata": {
            "tags": []
          },
          "execution_count": 41
        }
      ]
    },
    {
      "cell_type": "code",
      "metadata": {
        "colab": {
          "base_uri": "https://localhost:8080/"
        },
        "id": "7YTU5X2OlNMd",
        "outputId": "d6c753b7-5a23-419c-8854-205f9dac25b6"
      },
      "source": [
        "# Write a function to convert a binary number to decimal number\r\n",
        "\r\n",
        "def binaryToDecimal(binary): \r\n",
        "      \r\n",
        "    binary1 = binary \r\n",
        "    decimal, i, n = 0, 0, 0\r\n",
        "    while(binary != 0): \r\n",
        "        dec = binary % 10\r\n",
        "        decimal = decimal + dec * pow(2, i) \r\n",
        "        binary = binary//10\r\n",
        "        i += 1\r\n",
        "    return decimal\r\n",
        "\r\n",
        "binaryToDecimal(101011)"
      ],
      "execution_count": 42,
      "outputs": [
        {
          "output_type": "execute_result",
          "data": {
            "text/plain": [
              "43"
            ]
          },
          "metadata": {
            "tags": []
          },
          "execution_count": 42
        }
      ]
    },
    {
      "cell_type": "code",
      "metadata": {
        "colab": {
          "base_uri": "https://localhost:8080/"
        },
        "id": "ngOS2-VCly5H",
        "outputId": "9a52a6ce-f380-49fb-a00b-0a8ded5541f1"
      },
      "source": [
        "# Print the value of a decimal number after converting to hexadecimal number system\r\n",
        "\r\n",
        "dec = 244\r\n",
        "\r\n",
        "print(hex(dec), \"in hexadecimal.\")"
      ],
      "execution_count": 43,
      "outputs": [
        {
          "output_type": "stream",
          "text": [
            "0xf4 in hexadecimal.\n"
          ],
          "name": "stdout"
        }
      ]
    },
    {
      "cell_type": "code",
      "metadata": {
        "colab": {
          "base_uri": "https://localhost:8080/"
        },
        "id": "QBtwBTehlz7V",
        "outputId": "5c374b78-a9a7-4264-dfe6-6363dbdd0dd3"
      },
      "source": [
        "# Convert distance in meters to feet and inches\r\n",
        "\r\n",
        "v_meter = 30.52\r\n",
        "v_ft = v_meter // .3048\r\n",
        "v_inches = v_meter / .3048 % 1 * 12\r\n",
        "\r\n",
        "print(str(v_ft) + '    ' + str(v_inches))"
      ],
      "execution_count": 44,
      "outputs": [
        {
          "output_type": "stream",
          "text": [
            "100.0    1.5748031496062822\n"
          ],
          "name": "stdout"
        }
      ]
    },
    {
      "cell_type": "code",
      "metadata": {
        "colab": {
          "base_uri": "https://localhost:8080/"
        },
        "id": "nGmmR_znnRk2",
        "outputId": "c861e332-91fa-4aa4-9949-6a2338c93b9d"
      },
      "source": [
        "# Convert distance in Feet to meters\r\n",
        "\r\n",
        "v_ft = 70\r\n",
        "v_meter = v_ft * .3048\r\n",
        "\r\n",
        "print(v_meter)"
      ],
      "execution_count": 45,
      "outputs": [
        {
          "output_type": "stream",
          "text": [
            "21.336000000000002\n"
          ],
          "name": "stdout"
        }
      ]
    },
    {
      "cell_type": "code",
      "metadata": {
        "colab": {
          "base_uri": "https://localhost:8080/"
        },
        "id": "t-K_ZbQroHnx",
        "outputId": "b6d0c920-31ea-4c86-b07d-410e9bbe6ef8"
      },
      "source": [
        "# Convert distance in meter to yards\r\n",
        "meter_to_yard = 1.09361\r\n",
        "\r\n",
        "v_meter = 100\r\n",
        "v_yard = v_meter * meter_to_yard\r\n",
        "\r\n",
        "print(\"{} meter = {} yard\".format(v_meter,v_yard))"
      ],
      "execution_count": 46,
      "outputs": [
        {
          "output_type": "stream",
          "text": [
            "100 meter = 109.36099999999999 yard\n"
          ],
          "name": "stdout"
        }
      ]
    },
    {
      "cell_type": "code",
      "metadata": {
        "colab": {
          "base_uri": "https://localhost:8080/"
        },
        "id": "tC-eVFOVokKG",
        "outputId": "be026757-e6b5-4aba-c6ca-2b2049a73b37"
      },
      "source": [
        "# Convert distance in meter to inches\r\n",
        "\r\n",
        "meter_to_inches = 100/2.54\r\n",
        "\r\n",
        "v_meter = 100\r\n",
        "v_inches = v_meter * meter_to_inches\r\n",
        "\r\n",
        "print(\"{} meter = {} inches\".format(v_meter,v_inches))"
      ],
      "execution_count": 47,
      "outputs": [
        {
          "output_type": "stream",
          "text": [
            "100 meter = 3937.0078740157483 inches\n"
          ],
          "name": "stdout"
        }
      ]
    },
    {
      "cell_type": "code",
      "metadata": {
        "colab": {
          "base_uri": "https://localhost:8080/"
        },
        "id": "aXktiXwfokAd",
        "outputId": "e5857a3c-7b1a-4799-916d-8ab2df46bf76"
      },
      "source": [
        "# Write function to convert from miles to meters and meters to miles\r\n",
        "\r\n",
        "def getMiles(i):\r\n",
        "  return i*0.000621371192;\r\n",
        "\r\n",
        "def getMeters(i):\r\n",
        "  return i*1609.344;\r\n",
        "\r\n",
        "print(getMiles(20390))\r\n",
        "print(getMeters(20))\r\n"
      ],
      "execution_count": 48,
      "outputs": [
        {
          "output_type": "stream",
          "text": [
            "12.66975860488\n",
            "32186.88\n"
          ],
          "name": "stdout"
        }
      ]
    },
    {
      "cell_type": "code",
      "metadata": {
        "colab": {
          "base_uri": "https://localhost:8080/"
        },
        "id": "FOFUkIsKoj2Y",
        "outputId": "f2dc9c4e-4567-4ec8-b118-b2850caea03b"
      },
      "source": [
        "# Write a function to calculate the GCD greatest common divisor\r\n",
        "\r\n",
        "def greatest_common_divisor(x,y):\r\n",
        "    r=x%y\r\n",
        "    while r>0:\r\n",
        "        r=x%y\r\n",
        "        if r ==0: \r\n",
        "            return (y)\r\n",
        "        else:\r\n",
        "            q=y\r\n",
        "            x=q\r\n",
        "            y=r\r\n",
        "  \r\n",
        "print(greatest_common_divisor(32, 56))"
      ],
      "execution_count": 49,
      "outputs": [
        {
          "output_type": "stream",
          "text": [
            "8\n"
          ],
          "name": "stdout"
        }
      ]
    },
    {
      "cell_type": "code",
      "metadata": {
        "colab": {
          "base_uri": "https://localhost:8080/"
        },
        "id": "PrFwXWLsFj7r",
        "outputId": "de3fc580-0648-4a59-98b0-500eff03d9ff"
      },
      "source": [
        "# Write a function to compute HCF (highest common factor) for 2 numbers\r\n",
        "# HCF and GCD are two names of the same calculation and the two methods here are used to calculate in two different ways\r\n",
        "\r\n",
        "def compute_hcf(x, y):\r\n",
        "\r\n",
        "# choose the smaller number\r\n",
        "    if x > y:\r\n",
        "        smaller = y\r\n",
        "    else:\r\n",
        "        smaller = x\r\n",
        "    for i in range(1, smaller+1):\r\n",
        "        if((x % i == 0) and (y % i == 0)):\r\n",
        "            hcf = i \r\n",
        "    return hcf\r\n",
        "\r\n",
        "print(compute_hcf(32, 56))"
      ],
      "execution_count": 50,
      "outputs": [
        {
          "output_type": "stream",
          "text": [
            "8\n"
          ],
          "name": "stdout"
        }
      ]
    },
    {
      "cell_type": "code",
      "metadata": {
        "colab": {
          "base_uri": "https://localhost:8080/"
        },
        "id": "By6FdmtKHqVD",
        "outputId": "ac2e35ee-6ec3-4101-b67c-86259cc601a8"
      },
      "source": [
        "# Write a function to compute LCM (lowest common multiple) for 2 numbers\r\n",
        "def compute_lcm(v_num1, v_num2):\r\n",
        "  lcm = v_num1 * v_num2 / compute_hcf(v_num1, v_num2)\r\n",
        "  return lcm\r\n",
        "\r\n",
        "print(compute_lcm(12,18))"
      ],
      "execution_count": 51,
      "outputs": [
        {
          "output_type": "stream",
          "text": [
            "36.0\n"
          ],
          "name": "stdout"
        }
      ]
    },
    {
      "cell_type": "code",
      "metadata": {
        "colab": {
          "base_uri": "https://localhost:8080/"
        },
        "id": "qcTHhWMht9zj",
        "outputId": "4d60db8c-7673-445f-94c8-a5031c41fc2f"
      },
      "source": [
        "# Write a function to convert hours to minutes\r\n",
        "\r\n",
        "def convert_to_minutes(num_hours):\r\n",
        "    minutes = num_hours * 60\r\n",
        "    return minutes\r\n",
        "\r\n",
        "print(convert_to_minutes(3))"
      ],
      "execution_count": 52,
      "outputs": [
        {
          "output_type": "stream",
          "text": [
            "180\n"
          ],
          "name": "stdout"
        }
      ]
    },
    {
      "cell_type": "code",
      "metadata": {
        "colab": {
          "base_uri": "https://localhost:8080/"
        },
        "id": "DGRTZ53hFBGB",
        "outputId": "1dc5fcd4-ff96-48a6-ca76-ece2e5cf055a"
      },
      "source": [
        "# Write a function to convert hours to seconds\r\n",
        "\r\n",
        "def convert_to_seconds(num_hours):\r\n",
        "    minutes = convert_to_minutes(num_hours)\r\n",
        "    seconds = minutes * 60\r\n",
        "    return seconds\r\n",
        "\r\n",
        "print(convert_to_minutes(3))"
      ],
      "execution_count": 53,
      "outputs": [
        {
          "output_type": "stream",
          "text": [
            "180\n"
          ],
          "name": "stdout"
        }
      ]
    },
    {
      "cell_type": "code",
      "metadata": {
        "colab": {
          "base_uri": "https://localhost:8080/"
        },
        "id": "UpW5upIRGieD",
        "outputId": "4aaf6300-0f4a-4f2b-ded7-46e19e37bb49"
      },
      "source": [
        "# Write a function to check the validity of the three sides of a triangle\r\n",
        "\r\n",
        "def is_triangle(a,b,c):\r\n",
        "    if a+b>c and b+c>a and c+a>b:\r\n",
        "        return True\r\n",
        "    else:\r\n",
        "        return False\r\n",
        "\r\n",
        "print(is_triangle(3,4,5))"
      ],
      "execution_count": 54,
      "outputs": [
        {
          "output_type": "stream",
          "text": [
            "True\n"
          ],
          "name": "stdout"
        }
      ]
    },
    {
      "cell_type": "code",
      "metadata": {
        "colab": {
          "base_uri": "https://localhost:8080/"
        },
        "id": "9vfjoJyIIaoe",
        "outputId": "a223974d-7239-4738-c062-265674112fee"
      },
      "source": [
        "# Write function to reverse the number i.e. 1234 will return 4321\r\n",
        "\r\n",
        "def reverse_num(v_num):\r\n",
        "  rev=0\r\n",
        "  while(v_num>0):\r\n",
        "    dig=v_num%10\r\n",
        "    rev=rev*10+dig\r\n",
        "    v_num=v_num//10\r\n",
        "  \r\n",
        "  return rev\r\n",
        "\r\n",
        "print(reverse_num(237678))"
      ],
      "execution_count": 55,
      "outputs": [
        {
          "output_type": "stream",
          "text": [
            "876732\n"
          ],
          "name": "stdout"
        }
      ]
    },
    {
      "cell_type": "code",
      "metadata": {
        "colab": {
          "base_uri": "https://localhost:8080/"
        },
        "id": "JiiTqfGz0Plv",
        "outputId": "c66d823c-c68e-49c8-bb80-b35f80ba9b45"
      },
      "source": [
        "# Write a command to initiate a list object with all zero values with 2 rows and 3 columns\r\n",
        "print([[0]*3]*2)"
      ],
      "execution_count": 56,
      "outputs": [
        {
          "output_type": "stream",
          "text": [
            "[[0, 0, 0], [0, 0, 0]]\n"
          ],
          "name": "stdout"
        }
      ]
    },
    {
      "cell_type": "code",
      "metadata": {
        "colab": {
          "base_uri": "https://localhost:8080/"
        },
        "id": "ZLgc4_9RKove",
        "outputId": "3d5b8f70-47bb-4822-f0c5-aa6d0304af6c"
      },
      "source": [
        "# Write a function to transpose a matrix using zip and return the transposed matrix\r\n",
        "\r\n",
        "def transpose_matrix(v_mat):\r\n",
        "  r_mat = list(zip(*v_mat))\r\n",
        "  return r_mat\r\n",
        "\r\n",
        "v_matrix = [[1, 2, 3], [4, 5, 6]]\r\n",
        "print(transpose_matrix(v_matrix))"
      ],
      "execution_count": 57,
      "outputs": [
        {
          "output_type": "stream",
          "text": [
            "[(1, 4), (2, 5), (3, 6)]\n"
          ],
          "name": "stdout"
        }
      ]
    },
    {
      "cell_type": "code",
      "metadata": {
        "colab": {
          "base_uri": "https://localhost:8080/"
        },
        "id": "ugI-Bypw0Rup",
        "outputId": "5942487a-3931-467d-b9b7-f6eaaf42c696"
      },
      "source": [
        "# Write  a progrem to transpose a matrix using nested for loop and return the transposed matrix\r\n",
        "# Constraint : Matrix shape should be known and defined\r\n",
        "\r\n",
        "X = [[12,7],\r\n",
        "    [4 ,5],\r\n",
        "    [3 ,8]]\r\n",
        "\r\n",
        "result = [[0,0,0],\r\n",
        "         [0,0,0]]\r\n",
        "\r\n",
        "# iterate through rows\r\n",
        "for i in range(len(X)):\r\n",
        "   # iterate through columns\r\n",
        "   for j in range(len(X[0])):\r\n",
        "       result[j][i] = X[i][j]\r\n",
        "\r\n",
        "for r in result:\r\n",
        "   print(r)"
      ],
      "execution_count": 58,
      "outputs": [
        {
          "output_type": "stream",
          "text": [
            "[12, 4, 3]\n",
            "[7, 5, 8]\n"
          ],
          "name": "stdout"
        }
      ]
    },
    {
      "cell_type": "code",
      "metadata": {
        "colab": {
          "base_uri": "https://localhost:8080/"
        },
        "id": "PyRMDay4L1zy",
        "outputId": "7bf51405-9cb0-44d8-ffa4-2c5bb329a4bf"
      },
      "source": [
        "# Write lambda functions for addition, subtraction and multiplication\r\n",
        "\r\n",
        "add = lambda x, y: x+y\r\n",
        "subtract = lambda x, y: x - y\r\n",
        "multiply = lambda x, y: x*y\r\n",
        "\r\n",
        "print(add(2,3))\r\n",
        "print(subtract(5,3))\r\n",
        "print(multiply(4,7))"
      ],
      "execution_count": 59,
      "outputs": [
        {
          "output_type": "stream",
          "text": [
            "5\n",
            "2\n",
            "28\n"
          ],
          "name": "stdout"
        }
      ]
    },
    {
      "cell_type": "code",
      "metadata": {
        "id": "RpcPrKheIaZE"
      },
      "source": [
        ""
      ],
      "execution_count": 59,
      "outputs": []
    },
    {
      "cell_type": "code",
      "metadata": {
        "colab": {
          "base_uri": "https://localhost:8080/"
        },
        "id": "HPSOb-KjNSEc",
        "outputId": "39dd8524-fa0c-4470-e5a6-95c8cb05fe20"
      },
      "source": [
        "# Write a function to calculate factorial for a number\r\n",
        "\r\n",
        "def cal_factorial(v_num):\r\n",
        "  v_fact = 1\r\n",
        "  if v_num < 0:\r\n",
        "    return None\r\n",
        "  elif v_num == 0:\r\n",
        "    return 1\r\n",
        "  else:\r\n",
        "    for i in range(1, v_num + 1):\r\n",
        "      v_fact = v_fact*i\r\n",
        "    return v_fact\r\n",
        "\r\n",
        "print(cal_factorial(5))\r\n",
        "   "
      ],
      "execution_count": 60,
      "outputs": [
        {
          "output_type": "stream",
          "text": [
            "120\n"
          ],
          "name": "stdout"
        }
      ]
    },
    {
      "cell_type": "code",
      "metadata": {
        "colab": {
          "base_uri": "https://localhost:8080/"
        },
        "id": "uV2tPOVCOmrp",
        "outputId": "b967c615-d14b-4289-d1e8-fc1e0234f76f"
      },
      "source": [
        "# Write a function to check if the given year a leap year.\r\n",
        "# Return True if it is a leap year otherwise, return False\r\n",
        "\r\n",
        "def check_leap_year(year):\r\n",
        "  r_val = False\r\n",
        "  if (year % 4) == 0:\r\n",
        "    if (year % 100) == 0:\r\n",
        "      if (year % 400) == 0:\r\n",
        "        r_val = True\r\n",
        "      else:\r\n",
        "         r_val = False\r\n",
        "    else:\r\n",
        "       r_val = True\r\n",
        "  else:\r\n",
        "   r_val = False\r\n",
        "  \r\n",
        "  return r_val\r\n",
        "\r\n",
        "print(check_leap_year(1900))"
      ],
      "execution_count": 61,
      "outputs": [
        {
          "output_type": "stream",
          "text": [
            "False\n"
          ],
          "name": "stdout"
        }
      ]
    },
    {
      "cell_type": "code",
      "metadata": {
        "colab": {
          "base_uri": "https://localhost:8080/"
        },
        "id": "DK-txLcIOmhr",
        "outputId": "24da7e05-dc47-4219-f456-dcc593aa226a"
      },
      "source": [
        "# Print multiplication table for a number\r\n",
        "\r\n",
        "num = 12\r\n",
        "\r\n",
        "for i in range(1, 11):\r\n",
        "   print(num, 'x', i, '=', num*i)"
      ],
      "execution_count": 62,
      "outputs": [
        {
          "output_type": "stream",
          "text": [
            "12 x 1 = 12\n",
            "12 x 2 = 24\n",
            "12 x 3 = 36\n",
            "12 x 4 = 48\n",
            "12 x 5 = 60\n",
            "12 x 6 = 72\n",
            "12 x 7 = 84\n",
            "12 x 8 = 96\n",
            "12 x 9 = 108\n",
            "12 x 10 = 120\n"
          ],
          "name": "stdout"
        }
      ]
    },
    {
      "cell_type": "code",
      "metadata": {
        "colab": {
          "base_uri": "https://localhost:8080/"
        },
        "id": "kQkfF8yYQ7_a",
        "outputId": "3b4e493a-c13e-487c-cb8e-23a1ef3c5255"
      },
      "source": [
        "# Write a program to check the given number is an armstrong number\r\n",
        "# Armstrong number is a number which satisfies following condition\r\n",
        "# abcd... = an + bn + cn + dn + ... \r\n",
        "\r\n",
        "def check_armstrong(v_num):\r\n",
        "  sum = 0\r\n",
        "  temp = v_num\r\n",
        "  while temp > 0:\r\n",
        "    digit = temp % 10\r\n",
        "    sum += digit ** 3\r\n",
        "    temp //= 10\r\n",
        "  \r\n",
        "  if v_num == sum:\r\n",
        "    return True\r\n",
        "  else:\r\n",
        "    return False\r\n",
        "\r\n",
        "print(check_armstrong(154))\r\n",
        "print(check_armstrong(153))"
      ],
      "execution_count": 63,
      "outputs": [
        {
          "output_type": "stream",
          "text": [
            "False\n",
            "True\n"
          ],
          "name": "stdout"
        }
      ]
    },
    {
      "cell_type": "code",
      "metadata": {
        "colab": {
          "base_uri": "https://localhost:8080/"
        },
        "id": "4mryOQ7JRh-i",
        "outputId": "8cf216b1-1582-4b44-801a-b0703181c027"
      },
      "source": [
        "# Write a function to compute all the factors of a given number and print those\r\n",
        "\r\n",
        "def print_factors(x):\r\n",
        "  for i in range(1, x + 1):\r\n",
        "    if x % i == 0:\r\n",
        "      print(i)\r\n",
        "\r\n",
        "num = 320\r\n",
        "\r\n",
        "print_factors(num)"
      ],
      "execution_count": 64,
      "outputs": [
        {
          "output_type": "stream",
          "text": [
            "1\n",
            "2\n",
            "4\n",
            "5\n",
            "8\n",
            "10\n",
            "16\n",
            "20\n",
            "32\n",
            "40\n",
            "64\n",
            "80\n",
            "160\n",
            "320\n"
          ],
          "name": "stdout"
        }
      ]
    },
    {
      "cell_type": "code",
      "metadata": {
        "colab": {
          "base_uri": "https://localhost:8080/"
        },
        "id": "gwGt6IlGRhj5",
        "outputId": "5c3d69e6-bfdc-4599-b63a-0fa18a59deea"
      },
      "source": [
        "# Write a program to remove punctation from the given sentence\r\n",
        "\r\n",
        "punctuations = '''!()-[]{};:'\"\\,<>./?@#$%^&*_~'''\r\n",
        "\r\n",
        "my_str = \"Hello!!!, he said something but --- and went away.\"\r\n",
        "\r\n",
        "no_punct = \"\"\r\n",
        "for char in my_str:\r\n",
        "   if char not in punctuations:\r\n",
        "       no_punct = no_punct + char\r\n",
        "\r\n",
        "print(no_punct)"
      ],
      "execution_count": 65,
      "outputs": [
        {
          "output_type": "stream",
          "text": [
            "Hello he said something but  and went away\n"
          ],
          "name": "stdout"
        }
      ]
    },
    {
      "cell_type": "code",
      "metadata": {
        "colab": {
          "base_uri": "https://localhost:8080/"
        },
        "id": "hTa2VkviqzG3",
        "outputId": "0f5356fa-4d2f-4617-9d27-4ffb5cc59a35"
      },
      "source": [
        "# Write a program to check if two strings are anagrams. Return True if those are anagrams otherwise return False\r\n",
        "\r\n",
        "def is_anagram(str1, str2):  \r\n",
        "    return sorted(str1) == sorted(str2)\r\n",
        "\r\n",
        "print(is_anagram('geek', 'eegk')) \r\n",
        "print(is_anagram('geek', 'peek')) "
      ],
      "execution_count": 66,
      "outputs": [
        {
          "output_type": "stream",
          "text": [
            "True\n",
            "False\n"
          ],
          "name": "stdout"
        }
      ]
    },
    {
      "cell_type": "code",
      "metadata": {
        "colab": {
          "base_uri": "https://localhost:8080/"
        },
        "id": "onON1JsWrFy3",
        "outputId": "abed18d0-3135-4398-9fd2-1db74fe5f15b"
      },
      "source": [
        "# Write a program to convert a list of strings to a list of tupples by adding an index into each tupple.\r\n",
        "\r\n",
        "a = ['The', 'School', 'of', 'AI', '!']\r\n",
        "list(enumerate(a))"
      ],
      "execution_count": 67,
      "outputs": [
        {
          "output_type": "execute_result",
          "data": {
            "text/plain": [
              "[(0, 'The'), (1, 'School'), (2, 'of'), (3, 'AI'), (4, '!')]"
            ]
          },
          "metadata": {
            "tags": []
          },
          "execution_count": 67
        }
      ]
    },
    {
      "cell_type": "code",
      "metadata": {
        "colab": {
          "base_uri": "https://localhost:8080/"
        },
        "id": "SUPuSbRurFiM",
        "outputId": "da5007e0-56b0-4e9c-ecc3-559adfb0c019"
      },
      "source": [
        "# Write a program to sort the numbers in ascending order, in descending order and using the absolute values\r\n",
        "\r\n",
        "a = [1, 4, -4]\r\n",
        "print(sorted(a))\r\n",
        "print(sorted(a, reverse = True))\r\n",
        "print(sorted(a, key = abs))\r\n",
        "print(sorted(a, key = abs, reverse = True))"
      ],
      "execution_count": 68,
      "outputs": [
        {
          "output_type": "stream",
          "text": [
            "[-4, 1, 4]\n",
            "[4, 1, -4]\n",
            "[1, 4, -4]\n",
            "[4, -4, 1]\n"
          ],
          "name": "stdout"
        }
      ]
    },
    {
      "cell_type": "code",
      "metadata": {
        "colab": {
          "base_uri": "https://localhost:8080/"
        },
        "id": "9lioFF9bzWVu",
        "outputId": "7fa9601f-1a29-47fa-ec8b-73d99cf00668"
      },
      "source": [
        "# Write commands to find the index of the min or max values in an iterable i.e.list etc\r\n",
        "\r\n",
        "a = [2, 3, 1]\r\n",
        "print(min(enumerate(a),key=lambda x: x[1])[0])\r\n",
        "print(max(enumerate(a),key=lambda x: x[1])[0])"
      ],
      "execution_count": 69,
      "outputs": [
        {
          "output_type": "stream",
          "text": [
            "2\n",
            "1\n"
          ],
          "name": "stdout"
        }
      ]
    },
    {
      "cell_type": "code",
      "metadata": {
        "colab": {
          "base_uri": "https://localhost:8080/"
        },
        "id": "NqMWIE-by0Bs",
        "outputId": "7b4452bd-80f3-4f72-dcf2-a79c36d634cc"
      },
      "source": [
        "# Write a function to convert a string into the dictionary containing one key for each character and value corresponding to frequency of the key\r\n",
        "\r\n",
        "def char_frequency(str1):\r\n",
        "    dict = {}\r\n",
        "    for n in str1:\r\n",
        "        keys = dict.keys()\r\n",
        "        if n in keys:\r\n",
        "            dict[n] += 1\r\n",
        "        else:\r\n",
        "            dict[n] = 1\r\n",
        "    return dict\r\n",
        "print(char_frequency('google.com'))"
      ],
      "execution_count": 70,
      "outputs": [
        {
          "output_type": "stream",
          "text": [
            "{'g': 2, 'o': 3, 'l': 1, 'e': 1, '.': 1, 'c': 1, 'm': 1}\n"
          ],
          "name": "stdout"
        }
      ]
    },
    {
      "cell_type": "code",
      "metadata": {
        "colab": {
          "base_uri": "https://localhost:8080/"
        },
        "id": "S_7-Ix_dyz5f",
        "outputId": "3f8ac7e3-94fa-4f0c-f0a0-80400f840a7c"
      },
      "source": [
        "# Write a Python function that takes a list of words and returns the length of the longest one.\r\n",
        "\r\n",
        "def find_longest_word(words_list):\r\n",
        "    word_len = []\r\n",
        "    for n in words_list:\r\n",
        "        word_len.append((len(n), n))\r\n",
        "    word_len.sort()\r\n",
        "    return word_len[-1][0], word_len[-1][1]\r\n",
        "result = find_longest_word([\"PHP\", \"Exercises\", \"Backend\"])\r\n",
        "print(result)"
      ],
      "execution_count": 71,
      "outputs": [
        {
          "output_type": "stream",
          "text": [
            "(9, 'Exercises')\n"
          ],
          "name": "stdout"
        }
      ]
    },
    {
      "cell_type": "code",
      "metadata": {
        "colab": {
          "base_uri": "https://localhost:8080/"
        },
        "id": "bS1SUvSV7cOt",
        "outputId": "a696b5a2-51dc-4f23-d3f0-48d2b616fc68"
      },
      "source": [
        "# Write a command (one line) that prints the length of the longest string from a list of strings.\r\n",
        "\r\n",
        "v_str = [\"PHP\", \"Exercises\", \"Backend\"]\r\n",
        "\r\n",
        "print(max({s:len(s) for s in v_str}.values()))"
      ],
      "execution_count": 72,
      "outputs": [
        {
          "output_type": "stream",
          "text": [
            "9\n"
          ],
          "name": "stdout"
        }
      ]
    },
    {
      "cell_type": "code",
      "metadata": {
        "colab": {
          "base_uri": "https://localhost:8080/"
        },
        "id": "LLNrNIkfyzvU",
        "outputId": "ac048bba-2025-49cd-f4c7-d13374f55952"
      },
      "source": [
        "# Write a Python program to display a number in left, right and center aligned of width 10\r\n",
        "\r\n",
        "x = 22\r\n",
        "print(\"\\nOriginal Number: \", x)\r\n",
        "print(\"Left aligned (width 10)   :\"+\"{:< 10d}\".format(x));\r\n",
        "print(\"Right aligned (width 10)  :\"+\"{:10d}\".format(x));\r\n",
        "print(\"Center aligned (width 10) :\"+\"{:^10d}\".format(x));\r\n",
        "print()"
      ],
      "execution_count": 73,
      "outputs": [
        {
          "output_type": "stream",
          "text": [
            "\n",
            "Original Number:  22\n",
            "Left aligned (width 10)   : 22       \n",
            "Right aligned (width 10)  :        22\n",
            "Center aligned (width 10) :    22    \n",
            "\n"
          ],
          "name": "stdout"
        }
      ]
    },
    {
      "cell_type": "code",
      "metadata": {
        "colab": {
          "base_uri": "https://localhost:8080/"
        },
        "id": "Esp1c-Uq_EGa",
        "outputId": "354ebc36-fbc5-4d74-d961-1f6c4ca82aef"
      },
      "source": [
        "# Write a Python program to find maximum length of consecutive 0’s in a given binary string.\r\n",
        "\r\n",
        "def max_consecutive_0(v_str): \r\n",
        "     return  max(map(len,v_str.split('1')))\r\n",
        "\r\n",
        "str1 = '1110000010000110'\r\n",
        "print(max_consecutive_0(str1))"
      ],
      "execution_count": 74,
      "outputs": [
        {
          "output_type": "stream",
          "text": [
            "5\n"
          ],
          "name": "stdout"
        }
      ]
    },
    {
      "cell_type": "code",
      "metadata": {
        "colab": {
          "base_uri": "https://localhost:8080/"
        },
        "id": "1NFd4v21_D_l",
        "outputId": "76041754-1c5f-4e49-bf7e-2e3ec735d0f6"
      },
      "source": [
        "# Write commands to remove all of the occurances of a given character from a String using replace, list comprehension and map\r\n",
        "\r\n",
        "v_str = \"I want to delete all the occurances of a from this string\"\r\n",
        "\r\n",
        "print(v_str.replace('a', ''))\r\n",
        "print(''.join([s for s in v_str if s != 'a' ])) \r\n",
        "print(''.join(list(map(lambda x: x if x!= 'a' else '', v_str))))"
      ],
      "execution_count": 75,
      "outputs": [
        {
          "output_type": "stream",
          "text": [
            "I wnt to delete ll the occurnces of  from this string\n",
            "I wnt to delete ll the occurnces of  from this string\n",
            "I wnt to delete ll the occurnces of  from this string\n"
          ],
          "name": "stdout"
        }
      ]
    },
    {
      "cell_type": "code",
      "metadata": {
        "colab": {
          "base_uri": "https://localhost:8080/"
        },
        "id": "MonAbMZ7_D6M",
        "outputId": "dd16353b-cd39-4b25-86fc-ebb98036e1b1"
      },
      "source": [
        "# Write a program to count all alphabets(lower and upper), digits, and special symbols from a given string\r\n",
        "# return all three counts showing python functions can return multiple values\r\n",
        "\r\n",
        "def find_different_counts(v_str): \r\n",
        "  charCount = 0\r\n",
        "  digitCount = 0\r\n",
        "  symbolCount = 0\r\n",
        "  for char in v_str:\r\n",
        "    if char.islower() or char.isupper():\r\n",
        "      charCount+=1\r\n",
        "    elif char.isnumeric():\r\n",
        "      digitCount+=1\r\n",
        "    else:\r\n",
        "      symbolCount+=1\r\n",
        "  \r\n",
        "  return charCount, digitCount, symbolCount\r\n",
        "\r\n",
        "print(find_different_counts(\"P@#yn26at^&i5ve\"))"
      ],
      "execution_count": 76,
      "outputs": [
        {
          "output_type": "stream",
          "text": [
            "(8, 3, 4)\n"
          ],
          "name": "stdout"
        }
      ]
    },
    {
      "cell_type": "code",
      "metadata": {
        "colab": {
          "base_uri": "https://localhost:8080/"
        },
        "id": "vS_gIyKVHlT9",
        "outputId": "503fc9ea-c0a3-42e5-bdea-0e80ec90bc86"
      },
      "source": [
        "# Write a function to convert a number from integer to roman number (limited unto 4000 number)\r\n",
        "def int_to_roman(num):\r\n",
        "  val = [1000, 900, 500, 400, 100, 90, 50, 40, 10, 9, 5, 4, 1]\r\n",
        "  syb = [\"M\", \"CM\", \"D\", \"CD\", \"C\", \"XC\", \"L\", \"XL\", \"X\", \"IX\", \"V\", \"IV\", \"I\"]\r\n",
        "  roman_num = ''\r\n",
        "  i = 0\r\n",
        "  while  num > 0:\r\n",
        "    for _ in range(num // val[i]):\r\n",
        "      roman_num += syb[i]\r\n",
        "      num -= val[i]\r\n",
        "    i += 1\r\n",
        "  return roman_num\r\n",
        "\r\n",
        "\r\n",
        "print(int_to_roman(3783))"
      ],
      "execution_count": 77,
      "outputs": [
        {
          "output_type": "stream",
          "text": [
            "MMMDCCLXXXIII\n"
          ],
          "name": "stdout"
        }
      ]
    },
    {
      "cell_type": "code",
      "metadata": {
        "colab": {
          "base_uri": "https://localhost:8080/"
        },
        "id": "_WpWenS9FeGU",
        "outputId": "d44592df-a40f-49cd-f9b2-fdde459a883d"
      },
      "source": [
        "# Write a function to check if a list of integers is monotonic. i.e the list is in either increasing order or in decreasing order \r\n",
        "\r\n",
        "def check_monotonic(A): \r\n",
        "  \r\n",
        "    return (all(A[i] <= A[i + 1] for i in range(len(A) - 1)) or\r\n",
        "            all(A[i] >= A[i + 1] for i in range(len(A) - 1))) \r\n",
        "\r\n",
        "v_list = [23, 15, 6, 4, 4, 3]\r\n",
        "\r\n",
        "print(check_monotonic(v_list))\r\n"
      ],
      "execution_count": 78,
      "outputs": [
        {
          "output_type": "stream",
          "text": [
            "True\n"
          ],
          "name": "stdout"
        }
      ]
    },
    {
      "cell_type": "code",
      "metadata": {
        "colab": {
          "base_uri": "https://localhost:8080/"
        },
        "id": "Vu85ol6cMaTH",
        "outputId": "3f9d2c79-177a-4c6e-a997-4ab68dc0643e"
      },
      "source": [
        "# Write a function to check if a given string is Pangram or not. Write the program using a for loop \r\n",
        "# A pangram is a sentence containing every letter in the English Alphabet.\r\n",
        "\r\n",
        "def check_pangram(v_str): \r\n",
        "  alphabet = \"abcdefghijklmnopqrstuvwxyz\"\r\n",
        "  for char in alphabet:\r\n",
        "    if char not in v_str.lower():\r\n",
        "      return False\r\n",
        "  return True\r\n",
        "\r\n",
        "v_string = 'the quick brown fox jumps over the lazy dog'\r\n",
        "print(check_pangram(v_string))"
      ],
      "execution_count": 79,
      "outputs": [
        {
          "output_type": "stream",
          "text": [
            "True\n"
          ],
          "name": "stdout"
        }
      ]
    },
    {
      "cell_type": "code",
      "metadata": {
        "colab": {
          "base_uri": "https://localhost:8080/"
        },
        "id": "2flgalS7NPQK",
        "outputId": "2d20843e-fa0c-4cb0-bc4b-a43584503865"
      },
      "source": [
        "# Write a function to check if a given string is Pangram or not. Write the program using a lambda function in a single line\r\n",
        "\r\n",
        "alphabet = \"abcdefghijklmnopqrstuvwxyz\"\r\n",
        "\r\n",
        "v_string = 'the quick brown fox jumps over the lazy dog' \r\n",
        "\r\n",
        "print(all(list(map(lambda a: True if a in v_string else False, alphabet))))\r\n",
        "\r\n",
        "v_string = 'the quick brown fox jumps over the lazy'\r\n",
        "\r\n",
        "print(all(list(map(lambda a: True if a in v_string else False, alphabet))))"
      ],
      "execution_count": 80,
      "outputs": [
        {
          "output_type": "stream",
          "text": [
            "True\n",
            "False\n"
          ],
          "name": "stdout"
        }
      ]
    },
    {
      "cell_type": "code",
      "metadata": {
        "colab": {
          "base_uri": "https://localhost:8080/"
        },
        "id": "Va0hd8qJPUVV",
        "outputId": "92375a68-6978-41c6-91b6-bbe7fff5ad5c"
      },
      "source": [
        "# Write a function to calculate scrabble score of a word\r\n",
        "\r\n",
        "dic = {'a': 1, 'b': 3, 'c': 3, 'd': 2, 'e': 1, 'f': 4, 'g': 2, 'h': 4, 'i': 1, 'j': 8, 'k': 5, 'l': 1, 'm': 3, 'n': 1,\r\n",
        "       'o': 1, 'p': 3, 'q': 10, 'r': 1, 's': 1, 't': 1, 'u': 1, 'v': 4, 'w': 4, 'x': 8, 'y': 4, 'z': 10}\r\n",
        "\r\n",
        "\r\n",
        "def scrabble_score(word):\r\n",
        "    scrabble = 0\r\n",
        "    for x in word.lower():\r\n",
        "        scrabble = scrabble + dic[x]\r\n",
        "    return scrabble\r\n",
        "\r\n",
        "print(scrabble_score('Atul'))"
      ],
      "execution_count": 81,
      "outputs": [
        {
          "output_type": "stream",
          "text": [
            "4\n"
          ],
          "name": "stdout"
        }
      ]
    },
    {
      "cell_type": "code",
      "metadata": {
        "colab": {
          "base_uri": "https://localhost:8080/"
        },
        "id": "hmBxwmxIPUFt",
        "outputId": "f0cc92ac-d1bf-4ffc-f12d-64e54a28c337"
      },
      "source": [
        "# Write a function which takes a number in string format and length shorter than the length of earlier given input and \r\n",
        "# output all the contiguous substrings of length n in that string in the order that they appear.\r\n",
        "\r\n",
        "def ret_slices(v_num, slice_length):\r\n",
        "    if slice_length <= 0:\r\n",
        "        raise ValueError(\"Slice length must be positive\")\r\n",
        "    if slice_length > len(v_num):\r\n",
        "        raise ValueError(\"Slice length must be smaller than the string length\")\r\n",
        "    return [v_num[i:i + slice_length] for i in range(len(v_num) - slice_length + 1)]\r\n",
        "\r\n",
        "print(ret_slices(\"49142\", 3))"
      ],
      "execution_count": 82,
      "outputs": [
        {
          "output_type": "stream",
          "text": [
            "['491', '914', '142']\n"
          ],
          "name": "stdout"
        }
      ]
    },
    {
      "cell_type": "code",
      "metadata": {
        "colab": {
          "base_uri": "https://localhost:8080/",
          "height": 35
        },
        "id": "4WMdGf0VDAUY",
        "outputId": "c1cc3503-b0ec-48f5-a6ff-aa143af404d9"
      },
      "source": [
        "# Write a function which can take a number between 0 and 99 as number and return the spelling of the number in english\r\n",
        "\r\n",
        "def spell_0_99(number):\r\n",
        "    nums_le20 = [\"zero\", \"one\", \"two\", \"three\", \"four\", \"five\", \"six\", \"seven\", \"eight\", \"nine\",\r\n",
        "                 \"ten\", \"eleven\", \"twelve\", \"thirteen\", \"fourteen\", \"fifteen\", \"sixteen\", \"seventeen\", \"eighteen\", \"nineteen\", ]\r\n",
        "    tens = [\"twenty\", \"thirty\", \"forty\", \"fifty\", \"sixty\", \"seventy\", \"eighty\", \"ninety\"]\r\n",
        "\r\n",
        "    if number < 20:\r\n",
        "        return nums_le20[number]\r\n",
        "    elif number % 10 == 0:\r\n",
        "        return tens[number // 10 - 2]\r\n",
        "    else:\r\n",
        "        return spell_0_99(number // 10 * 10) + \"-\" + spell_0_99(number % 10)\r\n",
        "\r\n",
        "spell_0_99(91)"
      ],
      "execution_count": 83,
      "outputs": [
        {
          "output_type": "execute_result",
          "data": {
            "application/vnd.google.colaboratory.intrinsic+json": {
              "type": "string"
            },
            "text/plain": [
              "'ninety-one'"
            ]
          },
          "metadata": {
            "tags": []
          },
          "execution_count": 83
        }
      ]
    },
    {
      "cell_type": "code",
      "metadata": {
        "colab": {
          "base_uri": "https://localhost:8080/"
        },
        "id": "VWAxQ5RdEa8Z",
        "outputId": "1498f608-89f9-420b-afc9-4b98904aeda8"
      },
      "source": [
        "# Write a function which takes a number (in string format) as input and another number which is less than the length of the number.\r\n",
        "# Function returns the maximum product for any number by taking continuous digits for the given length.\r\n",
        "\r\n",
        "def prod(lis):\r\n",
        "    i = 1\r\n",
        "    for n in lis:\r\n",
        "        i *= n\r\n",
        "    return i\r\n",
        "    \r\n",
        "def largest_product(series, size):\r\n",
        "    return max([prod(list(map(int, series))[k:k+size]) for k in range(len(series) - size + 1)])\r\n",
        "\r\n",
        "print(largest_product('37465', 3))"
      ],
      "execution_count": 84,
      "outputs": [
        {
          "output_type": "stream",
          "text": [
            "168\n"
          ],
          "name": "stdout"
        }
      ]
    },
    {
      "cell_type": "code",
      "metadata": {
        "colab": {
          "base_uri": "https://localhost:8080/"
        },
        "id": "5BGAQ06KEax6",
        "outputId": "ae6eb656-2e46-4259-ce41-00f75b29b88b"
      },
      "source": [
        "# Write a function to find the saddle point in a matrix\r\n",
        "# A saddle point is an element which is greaterh thean or equal to every element in its row, \r\n",
        "# it must be also less than or equal to every element in its column.\r\n",
        "\r\n",
        "def saddle_points(matrix):\r\n",
        "    \r\n",
        "    results = set()\r\n",
        "    for index, row in enumerate(matrix):\r\n",
        "        candidates = [(i, x) for i, x in enumerate(row) if x == max(row)]\r\n",
        "        for i, candidate in candidates:\r\n",
        "            column = [row[i] for row in matrix]\r\n",
        "            if candidate == min(column):\r\n",
        "                results |= {(index, i)}\r\n",
        "    return results\r\n",
        "\r\n",
        "v_mat = [[9,8,7], [5,3,2], [6,6,7]]\r\n",
        "\r\n",
        "print(saddle_points(v_mat))"
      ],
      "execution_count": 85,
      "outputs": [
        {
          "output_type": "stream",
          "text": [
            "{(1, 0)}\n"
          ],
          "name": "stdout"
        }
      ]
    },
    {
      "cell_type": "code",
      "metadata": {
        "colab": {
          "base_uri": "https://localhost:8080/"
        },
        "id": "e8Lgre4HEaNm",
        "outputId": "741fda0b-b2ad-4525-b9ef-abc767f35529"
      },
      "source": [
        "# Write a program to check if a given number is perfect, abundant or deficient. This is based on the aliquot sum.\r\n",
        "# A number is perfect if the sum of factors of the number (excluding itself) equals to the number.\r\n",
        "\r\n",
        "def check_number (number):\r\n",
        "    \r\n",
        "    aliquot = sum([i for i in range(1, number) if number % i == 0])\r\n",
        "\r\n",
        "    if aliquot == number:\r\n",
        "        return \"perfect\"\r\n",
        "    elif aliquot > number:\r\n",
        "        return \"abundant\"\r\n",
        "    else:\r\n",
        "        return \"deficient\"\r\n",
        "\r\n",
        "print(check_number(56))"
      ],
      "execution_count": 86,
      "outputs": [
        {
          "output_type": "stream",
          "text": [
            "abundant\n"
          ],
          "name": "stdout"
        }
      ]
    },
    {
      "cell_type": "code",
      "metadata": {
        "colab": {
          "base_uri": "https://localhost:8080/"
        },
        "id": "8GDXchjdKwpT",
        "outputId": "44804da1-b8eb-46fb-acba-59d976c95ed1"
      },
      "source": [
        "# Write a program to check if the triangle is an equilateral, isosceles or not.\r\n",
        "# Takes input as a list of 3 numbers representing the 3 sides of a triangle\r\n",
        "\r\n",
        "def check_triangle(sides):\r\n",
        "  \r\n",
        "  if sides[0]+sides[1]<=sides[2] or sides[1]+sides[2]<=sides[0] or sides[0]+sides[2]<=sides[1]:\r\n",
        "    return \"Not a triangle\" \r\n",
        "  elif sides[0] == sides[1] == sides[2] and sides[0]>0:\r\n",
        "    return \"Equilateral\"\r\n",
        "  elif sides[0] == sides[1] or sides[1] == sides[2] or sides[0] == sides[2]:\r\n",
        "    return \"Isosceles\"\r\n",
        "  else:\r\n",
        "    return \"Neither Equilateral nor Isosceles\"\r\n",
        "\r\n",
        "print(check_triangle([3,3,5]))"
      ],
      "execution_count": 87,
      "outputs": [
        {
          "output_type": "stream",
          "text": [
            "Isosceles\n"
          ],
          "name": "stdout"
        }
      ]
    },
    {
      "cell_type": "code",
      "metadata": {
        "colab": {
          "base_uri": "https://localhost:8080/"
        },
        "id": "8K24O6O5NbYS",
        "outputId": "bf2b8283-5a75-4cc1-c766-59c495eba8bb"
      },
      "source": [
        "# Write a program to make a list (from the already given list) whose elements are square of even number using map and filter\r\n",
        "\r\n",
        "a = [1,2,3,4,5,6,7,8,9,10]\r\n",
        "evenNumbers = map(lambda x: x**2, filter(lambda x: x%2==0, a))\r\n",
        "print(list(evenNumbers))"
      ],
      "execution_count": 88,
      "outputs": [
        {
          "output_type": "stream",
          "text": [
            "[4, 16, 36, 64, 100]\n"
          ],
          "name": "stdout"
        }
      ]
    },
    {
      "cell_type": "code",
      "metadata": {
        "colab": {
          "base_uri": "https://localhost:8080/"
        },
        "id": "YjT3J89UNbOQ",
        "outputId": "78dee16a-411c-42ff-812a-795fc8a5125f"
      },
      "source": [
        "# Write a function to return N maximum numbers from a list of numbers.\r\n",
        "# Function takes 2 inputs one list and one number and returns a list\r\n",
        "\r\n",
        "def get_max(v_list, N): \r\n",
        "  final_list = []\r\n",
        "  \r\n",
        "  for i in range(0, N):\r\n",
        "    max1 = 0\r\n",
        "    for j in range(len(v_list)):\r\n",
        "      if v_list[j] > max1:\r\n",
        "        max1 = v_list[j];\r\n",
        "    \r\n",
        "    v_list.remove(max1); \r\n",
        "    final_list.append(max1) \r\n",
        "          \r\n",
        "  return final_list\r\n",
        "\r\n",
        "get_max([2,4,6,8,9,0,34, 8278, 773, 376, 47], 2)"
      ],
      "execution_count": 89,
      "outputs": [
        {
          "output_type": "execute_result",
          "data": {
            "text/plain": [
              "[8278, 773]"
            ]
          },
          "metadata": {
            "tags": []
          },
          "execution_count": 89
        }
      ]
    },
    {
      "cell_type": "code",
      "metadata": {
        "colab": {
          "base_uri": "https://localhost:8080/"
        },
        "id": "xyMd7TblU-q2",
        "outputId": "31993e7b-400b-4bbb-cb0f-9bcd383a90ad"
      },
      "source": [
        "# Write commands to find the intersection and unions of sets\r\n",
        "\r\n",
        "set1 = set([\"green\", \"blue\"])\r\n",
        "set2 = set([\"blue\", \"yellow\"])\r\n",
        "\r\n",
        "print(\"Intersection of the set1 and set2 is :\", set1 & set2)\r\n",
        "\r\n",
        "print(\"Union of the set1 and set2 is :\", set1 | set2)"
      ],
      "execution_count": 90,
      "outputs": [
        {
          "output_type": "stream",
          "text": [
            "Intersection of the set1 and set2 is : {'blue'}\n",
            "Union of the set1 and set2 is : {'green', 'blue', 'yellow'}\n"
          ],
          "name": "stdout"
        }
      ]
    },
    {
      "cell_type": "code",
      "metadata": {
        "colab": {
          "base_uri": "https://localhost:8080/"
        },
        "id": "VGNoal5pW9fg",
        "outputId": "a6cecefc-f8c3-426f-9433-7a82ad9e98a2"
      },
      "source": [
        "# Write commands to find the difference and symmetric difference of sets\r\n",
        "\r\n",
        "set1 = set([\"green\", \"blue\"])\r\n",
        "set2 = set([\"blue\", \"yellow\"])\r\n",
        "\r\n",
        "print(\"Difference of the set1 and set2 is :\", set1 - set2)\r\n",
        "print(\"Difference of the set2 and set1 is :\", set2 - set1)\r\n",
        "print(\"Symmetric difference of the set1 and set2 is :\", set1^set2)"
      ],
      "execution_count": 91,
      "outputs": [
        {
          "output_type": "stream",
          "text": [
            "Difference of the set1 and set2 is : {'green'}\n",
            "Difference of the set2 and set1 is : {'yellow'}\n",
            "Symmetric difference of the set1 and set2 is : {'yellow', 'green'}\n"
          ],
          "name": "stdout"
        }
      ]
    },
    {
      "cell_type": "code",
      "metadata": {
        "colab": {
          "base_uri": "https://localhost:8080/"
        },
        "id": "PSN0GOGjXoI-",
        "outputId": "da268dfb-5450-4375-85b6-94bdf3ee6639"
      },
      "source": [
        "# Write a lambda function to implement intersection for two lists of integers\r\n",
        "v_list1 = [1, 2, 3, 5, 7, 8, 9, 10]\r\n",
        "v_list2 = [1, 2, 4, 8, 9]\r\n",
        "intersection = list(filter(lambda x: x in v_list1, v_list2)) \r\n",
        "print (intersection)"
      ],
      "execution_count": 92,
      "outputs": [
        {
          "output_type": "stream",
          "text": [
            "[1, 2, 8, 9]\n"
          ],
          "name": "stdout"
        }
      ]
    },
    {
      "cell_type": "code",
      "metadata": {
        "colab": {
          "base_uri": "https://localhost:8080/"
        },
        "id": "joOfE80eWQuh",
        "outputId": "2d44ead3-8c11-4e78-c488-cc5c14a41b42"
      },
      "source": [
        "# Write a lambda function to implement intersection for two lists of integers\r\n",
        "v_list1 = [1, 2, 3, 5, 7, 8, 9, 10]\r\n",
        "v_list2 = [1, 2, 4, 8, 9]\r\n",
        "print(\"Difference of the List1 and List2 is\", list(filter(lambda x: x not in v_list2, v_list1)) )\r\n",
        "print(\"Difference of the List2 and List1 is\", list(filter(lambda x: x not in v_list1, v_list2)) )"
      ],
      "execution_count": 93,
      "outputs": [
        {
          "output_type": "stream",
          "text": [
            "Difference of the List1 and List2 is [3, 5, 7, 10]\n",
            "Difference of the List2 and List1 is [4]\n"
          ],
          "name": "stdout"
        }
      ]
    },
    {
      "cell_type": "code",
      "metadata": {
        "colab": {
          "base_uri": "https://localhost:8080/"
        },
        "id": "jSVphO06WQrk",
        "outputId": "bc9b9d01-7158-41fa-ea7b-d4d7a9b3b421"
      },
      "source": [
        "# Write a program to print alphabet A using astrics and loops\r\n",
        "result_str=\"\";    \r\n",
        "for row in range(0,7):    \r\n",
        "    for column in range(0,7):     \r\n",
        "        if (((column == 1 or column == 5) and row != 0) or ((row == 0 or row == 3) and (column > 1 and column < 5))):    \r\n",
        "            result_str=result_str+\"*\"    \r\n",
        "        else:      \r\n",
        "            result_str=result_str+\" \"    \r\n",
        "    result_str=result_str+\"\\n\"    \r\n",
        "print(result_str);"
      ],
      "execution_count": 94,
      "outputs": [
        {
          "output_type": "stream",
          "text": [
            "  ***  \n",
            " *   * \n",
            " *   * \n",
            " ***** \n",
            " *   * \n",
            " *   * \n",
            " *   * \n",
            "\n"
          ],
          "name": "stdout"
        }
      ]
    },
    {
      "cell_type": "code",
      "metadata": {
        "colab": {
          "base_uri": "https://localhost:8080/"
        },
        "id": "N1X97CMaWQop",
        "outputId": "48ef3574-437e-4f64-88f1-6785046d89ba"
      },
      "source": [
        "# Write a program to print alphabet B using astricks and loops\r\n",
        "result_str=\"\";    \r\n",
        "for row in range(0,7):    \r\n",
        "    for column in range(0,7):     \r\n",
        "        if ((column == 1) or ((column == 5) and row!= 0 and row!=3 and row!=6) or ((row == 0 or row == 3 or row == 6) and (column > 1 and column < 5))):    \r\n",
        "            result_str=result_str+\"*\"    \r\n",
        "        else:      \r\n",
        "            result_str=result_str+\" \"    \r\n",
        "    result_str=result_str+\"\\n\"    \r\n",
        "print(result_str);"
      ],
      "execution_count": 95,
      "outputs": [
        {
          "output_type": "stream",
          "text": [
            " ****  \n",
            " *   * \n",
            " *   * \n",
            " ****  \n",
            " *   * \n",
            " *   * \n",
            " ****  \n",
            "\n"
          ],
          "name": "stdout"
        }
      ]
    },
    {
      "cell_type": "code",
      "metadata": {
        "colab": {
          "base_uri": "https://localhost:8080/"
        },
        "id": "RU8QmUpqWQkk",
        "outputId": "281a9b8d-4718-443f-bab9-95b338d93d92"
      },
      "source": [
        "# Write a program to print alphabet S using character 'o' and loops\r\n",
        "\r\n",
        "row=15    \r\n",
        "col=18   \r\n",
        "result_str=\"\"    \r\n",
        "for i in range(1,row+1):    \r\n",
        "    if((i<=3)or(i>=7 and i<=9)or(i>=13 and i<=15)):    \r\n",
        "        for j in range(1,col):    \r\n",
        "            result_str=result_str+\"o\"    \r\n",
        "        result_str=result_str+\"\\n\"    \r\n",
        "    elif(i>=4 and i<=6):    \r\n",
        "        for j in range(1,5):    \r\n",
        "            result_str=result_str+\"o\"    \r\n",
        "        result_str=result_str+\"\\n\"    \r\n",
        "    else:    \r\n",
        "        for j in range(1,14):    \r\n",
        "            result_str=result_str+\" \"    \r\n",
        "        for j in range(1,5):    \r\n",
        "            result_str=result_str+\"o\"    \r\n",
        "        result_str=result_str+\"\\n\"    \r\n",
        "print(result_str);"
      ],
      "execution_count": 96,
      "outputs": [
        {
          "output_type": "stream",
          "text": [
            "ooooooooooooooooo\n",
            "ooooooooooooooooo\n",
            "ooooooooooooooooo\n",
            "oooo\n",
            "oooo\n",
            "oooo\n",
            "ooooooooooooooooo\n",
            "ooooooooooooooooo\n",
            "ooooooooooooooooo\n",
            "             oooo\n",
            "             oooo\n",
            "             oooo\n",
            "ooooooooooooooooo\n",
            "ooooooooooooooooo\n",
            "ooooooooooooooooo\n",
            "\n"
          ],
          "name": "stdout"
        }
      ]
    },
    {
      "cell_type": "code",
      "metadata": {
        "colab": {
          "base_uri": "https://localhost:8080/"
        },
        "id": "TqauoXsBfmuy",
        "outputId": "69b77301-6991-42c7-da23-803ccd557567"
      },
      "source": [
        "# Write a Python program to convert month name to a number of days.\r\n",
        "\r\n",
        "def days_of_month(v_text):\r\n",
        "  if v_text == \"February\":\r\n",
        "    print(\"No. of days: 28/29 days\")\r\n",
        "  elif v_text in (\"April\", \"June\", \"September\", \"November\"):\r\n",
        "    print(\"No. of days: 30 days\")\r\n",
        "  elif v_text in (\"January\", \"March\", \"May\", \"July\", \"August\", \"October\", \"December\"):\r\n",
        "    print(\"No. of days: 31 day\")\r\n",
        "\r\n",
        "days_of_month('April')"
      ],
      "execution_count": 97,
      "outputs": [
        {
          "output_type": "stream",
          "text": [
            "No. of days: 30 days\n"
          ],
          "name": "stdout"
        }
      ]
    },
    {
      "cell_type": "code",
      "metadata": {
        "colab": {
          "base_uri": "https://localhost:8080/"
        },
        "id": "mC2QxJ8_gxrP",
        "outputId": "4a401fb5-f169-42c3-d087-487e87d5bde3"
      },
      "source": [
        "# Write a function to find Median from a list of number\r\n",
        "\r\n",
        "def find_median(sample):\r\n",
        "  n = len(sample)\r\n",
        "  index = n // 2\r\n",
        "  if n % 2:\r\n",
        "    return sorted(sample)[index]\r\n",
        "  \r\n",
        "  return sum(sorted(sample)[index - 1:index + 1]) / 2\r\n",
        "\r\n",
        "print(find_median([3, 5, 1, 4, 2]))\r\n",
        "\r\n",
        "print(find_median([3, 5, 1, 4, 2, 6]))\r\n"
      ],
      "execution_count": 98,
      "outputs": [
        {
          "output_type": "stream",
          "text": [
            "3\n",
            "3.5\n"
          ],
          "name": "stdout"
        }
      ]
    },
    {
      "cell_type": "code",
      "metadata": {
        "colab": {
          "base_uri": "https://localhost:8080/"
        },
        "id": "kT8HFDGRhDwR",
        "outputId": "62a333ac-313d-494a-c8c7-5c29630afa20"
      },
      "source": [
        "# Write a function to calculate Mean from a list of number\r\n",
        "\r\n",
        "def calc_mean(sample):\r\n",
        "  return sum(sample) / len(sample)\r\n",
        "\r\n",
        "calc_mean([4, 8, 6, 5, 3, 2, 8, 9, 2, 5])"
      ],
      "execution_count": 99,
      "outputs": [
        {
          "output_type": "execute_result",
          "data": {
            "text/plain": [
              "5.2"
            ]
          },
          "metadata": {
            "tags": []
          },
          "execution_count": 99
        }
      ]
    },
    {
      "cell_type": "code",
      "metadata": {
        "colab": {
          "base_uri": "https://localhost:8080/"
        },
        "id": "MNRH7cwhhDmz",
        "outputId": "771caf4f-a326-488c-b031-e01d59666f5a"
      },
      "source": [
        "# Write a program to find mode from a list of numbers\r\n",
        "\r\n",
        "lst = [4, 8, 6, 5, 3, 2, 8, 9, 2, 5]\r\n",
        "v_mode = max(set(lst), key=lst.count)\r\n",
        "\r\n",
        "print(v_mode)"
      ],
      "execution_count": 100,
      "outputs": [
        {
          "output_type": "stream",
          "text": [
            "2\n"
          ],
          "name": "stdout"
        }
      ]
    },
    {
      "cell_type": "code",
      "metadata": {
        "colab": {
          "base_uri": "https://localhost:8080/"
        },
        "id": "LV-IHifrhDdT",
        "outputId": "8535d202-2b1f-4062-c13e-a2d33d5c8c04"
      },
      "source": [
        "# Write a Python function to print out the first n rows of Pascal's triangle.\r\n",
        "\r\n",
        "def pascal_triangle(n):\r\n",
        "   trow = [1]\r\n",
        "   y = [0]\r\n",
        "   for x in range(max(n,0)):\r\n",
        "      print(trow)\r\n",
        "      trow=[l+r for l,r in zip(trow+y, y+trow)]\r\n",
        "      \r\n",
        "pascal_triangle(6) "
      ],
      "execution_count": 101,
      "outputs": [
        {
          "output_type": "stream",
          "text": [
            "[1]\n",
            "[1, 1]\n",
            "[1, 2, 1]\n",
            "[1, 3, 3, 1]\n",
            "[1, 4, 6, 4, 1]\n",
            "[1, 5, 10, 10, 5, 1]\n"
          ],
          "name": "stdout"
        }
      ]
    },
    {
      "cell_type": "code",
      "metadata": {
        "id": "3dA6hM25jJxf"
      },
      "source": [
        ""
      ],
      "execution_count": 101,
      "outputs": []
    },
    {
      "cell_type": "code",
      "metadata": {
        "id": "SVgoAjJzjJSC"
      },
      "source": [
        ""
      ],
      "execution_count": 101,
      "outputs": []
    }
  ]
}