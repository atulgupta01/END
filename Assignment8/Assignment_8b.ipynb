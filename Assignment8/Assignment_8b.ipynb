{
  "nbformat": 4,
  "nbformat_minor": 0,
  "metadata": {
    "colab": {
      "name": "Assignment_8b.ipynb",
      "provenance": [],
      "collapsed_sections": []
    },
    "kernelspec": {
      "name": "python3",
      "display_name": "Python 3"
    }
  },
  "cells": [
    {
      "cell_type": "code",
      "metadata": {
        "id": "NzLcez0LmbU7"
      },
      "source": [
        "from functools import reduce\r\n",
        "import operator\r\n",
        "import random\r\n",
        "import timeit\r\n",
        "import math"
      ],
      "execution_count": 1,
      "outputs": []
    },
    {
      "cell_type": "code",
      "metadata": {
        "colab": {
          "base_uri": "https://localhost:8080/"
        },
        "id": "mFvMolwUlyID",
        "outputId": "dd5187dd-c205-4f51-bb2e-3ae4fe41099e"
      },
      "source": [
        "# Write a function to generate the list of Fibonacci Numbers\r\n",
        "def fibonacci_series(n):\r\n",
        "  fib = lambda n: reduce(lambda x, _: x+[x[-1]+x[-2]], range(n-2), [0, 1]) \r\n",
        "  fib_list = fib(n)\r\n",
        "  return fib_list\r\n",
        "\r\n",
        "print(fibonacci_series(25))"
      ],
      "execution_count": 2,
      "outputs": [
        {
          "output_type": "stream",
          "text": [
            "[0, 1, 1, 2, 3, 5, 8, 13, 21, 34, 55, 89, 144, 233, 377, 610, 987, 1597, 2584, 4181, 6765, 10946, 17711, 28657, 46368]\n"
          ],
          "name": "stdout"
        }
      ]
    },
    {
      "cell_type": "code",
      "metadata": {
        "colab": {
          "base_uri": "https://localhost:8080/"
        },
        "id": "RZT7qxiEmPJ0",
        "outputId": "0b09571b-0fa8-4486-daf4-4720c4406f9d"
      },
      "source": [
        "#Write a program to check if the number exists in fibonacci series. Generates a list of numbers from fibonacci series and copare with it\r\n",
        "# Returns True if the number exists in Fibonacci Series. Else, returns False\r\n",
        "\r\n",
        "def exists_in_fib(v_num, n):\r\n",
        "  fib = lambda n: reduce(lambda x, _: x+[x[-1]+x[-2]], range(n-2), [0, 1]) \r\n",
        "  fib_list = fib(n)\r\n",
        "  result = lambda a: a in list(filter((lambda x: a == x), fib_list))\r\n",
        "  return (result(v_num))\r\n",
        "\r\n",
        "print(exists_in_fib(200, 25))\r\n",
        "print(exists_in_fib(610,25))"
      ],
      "execution_count": 3,
      "outputs": [
        {
          "output_type": "stream",
          "text": [
            "False\n",
            "True\n"
          ],
          "name": "stdout"
        }
      ]
    },
    {
      "cell_type": "code",
      "metadata": {
        "colab": {
          "base_uri": "https://localhost:8080/"
        },
        "id": "VmgprhuQKGa5",
        "outputId": "ca158059-2028-4dee-d162-eca8ed48957a"
      },
      "source": [
        "#Write a program to check if the number exists in fibonacci series. without generating a list\r\n",
        "# Returns True if the number exists in Fibonacci Series. Else, returns False\r\n",
        "\r\n",
        "def isPerfectSquare(x):\r\n",
        "  s = int(math.sqrt(x)) \r\n",
        "  return s*s == x \r\n",
        "\r\n",
        "def isFibonacci(n):\r\n",
        "  return isPerfectSquare(5*n*n + 4) or isPerfectSquare(5*n*n - 4)\r\n",
        "\r\n",
        "print({i:isFibonacci(i) for i in range(0,20)})\r\n"
      ],
      "execution_count": 4,
      "outputs": [
        {
          "output_type": "stream",
          "text": [
            "{0: True, 1: True, 2: True, 3: True, 4: False, 5: True, 6: False, 7: False, 8: True, 9: False, 10: False, 11: False, 12: False, 13: True, 14: False, 15: False, 16: False, 17: False, 18: False, 19: False}\n"
          ],
          "name": "stdout"
        }
      ]
    },
    {
      "cell_type": "code",
      "metadata": {
        "colab": {
          "base_uri": "https://localhost:8080/"
        },
        "id": "qTJpDOlYn356",
        "outputId": "5451e0dc-a612-418f-b8e9-3d7817a2d2c6"
      },
      "source": [
        "#Write a function to count number of vowels in a string\r\n",
        "def check_num_vowels(v_text):\r\n",
        "  vowels = ('a', 'e', 'i', 'o', 'u', 'A', 'E', 'I', 'O', 'U')\r\n",
        "  result = ''.join([s for s in v_text if s not in vowels])\r\n",
        "  return len(v_text) - len(result)\r\n",
        "\r\n",
        "print(check_num_vowels(\"Testingagain\"))"
      ],
      "execution_count": 5,
      "outputs": [
        {
          "output_type": "stream",
          "text": [
            "5\n"
          ],
          "name": "stdout"
        }
      ]
    },
    {
      "cell_type": "code",
      "metadata": {
        "colab": {
          "base_uri": "https://localhost:8080/"
        },
        "id": "TIv_5fmgpcDz",
        "outputId": "23797853-43e7-46c5-b25f-695783872e41"
      },
      "source": [
        "# Write a function to extract numbers from a string\r\n",
        "def extract_num(v_text):\r\n",
        "    result = [s for s in v_text if not s.isalpha()]\r\n",
        "    return result\r\n",
        "\r\n",
        "print(extract_num(\"12sdjkhkj23\"))"
      ],
      "execution_count": 6,
      "outputs": [
        {
          "output_type": "stream",
          "text": [
            "['1', '2', '2', '3']\n"
          ],
          "name": "stdout"
        }
      ]
    },
    {
      "cell_type": "code",
      "metadata": {
        "colab": {
          "base_uri": "https://localhost:8080/"
        },
        "id": "2Eh3CGYwqtbC",
        "outputId": "885bae63-e84f-4e4c-99ec-e76816472ec2"
      },
      "source": [
        "# Write a function to extract numbers from a string\r\n",
        "def extract_num(v_text):\r\n",
        "    result = [s for s in v_text if not s.isalpha()]\r\n",
        "    return result\r\n",
        "\r\n",
        "print(extract_num(\"12sdjkhkj23\"))"
      ],
      "execution_count": 7,
      "outputs": [
        {
          "output_type": "stream",
          "text": [
            "['1', '2', '2', '3']\n"
          ],
          "name": "stdout"
        }
      ]
    },
    {
      "cell_type": "code",
      "metadata": {
        "colab": {
          "base_uri": "https://localhost:8080/"
        },
        "id": "LgqPVp0Mq6qK",
        "outputId": "dd676814-d8ee-4455-a53d-edeb51599665"
      },
      "source": [
        "# Write a function to extract charaters which are neither numbers nor alphabets\r\n",
        "def extract_num(v_text):\r\n",
        "    result = [s for s in v_text if not(s.isalpha() or s.isdigit())]\r\n",
        "    return result\r\n",
        "\r\n",
        "print(extract_num(\"12sdjkhkj23L;{[\"))"
      ],
      "execution_count": 8,
      "outputs": [
        {
          "output_type": "stream",
          "text": [
            "[';', '{', '[']\n"
          ],
          "name": "stdout"
        }
      ]
    },
    {
      "cell_type": "code",
      "metadata": {
        "colab": {
          "base_uri": "https://localhost:8080/"
        },
        "id": "RKAqJXW1sEEM",
        "outputId": "1ac206aa-1c3c-42b7-b3de-2073f21c7f37"
      },
      "source": [
        "#Write a function to count number of spaces in a string\r\n",
        "def check_num_vowels(v_text):\r\n",
        "  result = ''.join([s for s in v_text if s == ' '])\r\n",
        "  return len(result)\r\n",
        "\r\n",
        "print(check_num_vowels(\"Tes ti ng aga in\"))"
      ],
      "execution_count": 9,
      "outputs": [
        {
          "output_type": "stream",
          "text": [
            "4\n"
          ],
          "name": "stdout"
        }
      ]
    },
    {
      "cell_type": "code",
      "metadata": {
        "colab": {
          "base_uri": "https://localhost:8080/"
        },
        "id": "IvoSiDJIubgq",
        "outputId": "024cc5bc-2ee8-4e71-aa24-63b254ab5058"
      },
      "source": [
        "#Extract either largest number in a list or largest character in a string\r\n",
        "\r\n",
        "v_list = [2, 5, 7, 9]\r\n",
        "result1 = reduce(lambda a, b : max(a, b), v_list)\r\n",
        "\r\n",
        "v_text = \"aksjhkjslksdlkjqwoikasjlk\"\r\n",
        "result2 = reduce(lambda a, b : max(a, b), v_text)\r\n",
        "\r\n",
        "print(\"Largest Number is -- \", result1)\r\n",
        "print(\"Largest Character is -- \", result2)"
      ],
      "execution_count": 10,
      "outputs": [
        {
          "output_type": "stream",
          "text": [
            "Largest Number is --  9\n",
            "Largest Character is --  w\n"
          ],
          "name": "stdout"
        }
      ]
    },
    {
      "cell_type": "code",
      "metadata": {
        "colab": {
          "base_uri": "https://localhost:8080/"
        },
        "id": "aGCk7A_KvSv5",
        "outputId": "e24448e8-b730-4c1a-e675-2c4726cd3f89"
      },
      "source": [
        "#Print a decimal number in octal number\r\n",
        "i = 23\r\n",
        "print('%o,' % (i))"
      ],
      "execution_count": 11,
      "outputs": [
        {
          "output_type": "stream",
          "text": [
            "27,\n"
          ],
          "name": "stdout"
        }
      ]
    },
    {
      "cell_type": "code",
      "metadata": {
        "colab": {
          "base_uri": "https://localhost:8080/"
        },
        "id": "N6gjI-2lvSQv",
        "outputId": "3be810dc-5260-4fce-d657-5168a268b66d"
      },
      "source": [
        "# Write a program to extract unique values in a list from a dictionary\r\n",
        "\r\n",
        "def check_dict(v_dict):\r\n",
        "  v_list = list()\r\n",
        "  for item in v_dict.values():\r\n",
        "    if item not in v_list:\r\n",
        "      v_list.append(item)\r\n",
        "  return v_list\r\n",
        "\r\n",
        "v_dict  ={'a':47, 'b':52, 'c':47, 'd':44, 'e':52, 'f':53, 'g':54, 'h':44, 'i':54} \r\n",
        "\r\n",
        "check_dict(v_dict)"
      ],
      "execution_count": 12,
      "outputs": [
        {
          "output_type": "execute_result",
          "data": {
            "text/plain": [
              "[47, 52, 44, 53, 54]"
            ]
          },
          "metadata": {
            "tags": []
          },
          "execution_count": 12
        }
      ]
    },
    {
      "cell_type": "code",
      "metadata": {
        "colab": {
          "base_uri": "https://localhost:8080/"
        },
        "id": "INeJFBGt05a-",
        "outputId": "4d71eb94-a0ec-4077-d85e-4c0a69ad6e3c"
      },
      "source": [
        "# Extract unique numbers from a list of numbers\r\n",
        "v_list = [87, 52, 44, 53, 54, 87, 52, 53]\r\n",
        "r_list = list(set(v_list))\r\n",
        "\r\n",
        "print(\"unique list\", r_list)"
      ],
      "execution_count": 13,
      "outputs": [
        {
          "output_type": "stream",
          "text": [
            "unique list [44, 52, 53, 54, 87]\n"
          ],
          "name": "stdout"
        }
      ]
    },
    {
      "cell_type": "code",
      "metadata": {
        "colab": {
          "base_uri": "https://localhost:8080/"
        },
        "id": "BTrk6LWd234l",
        "outputId": "6bb8d407-b74c-4a0a-b98b-be7117a61509"
      },
      "source": [
        "# Write a function to calculate number of alphabets between 2 alphabets\r\n",
        "\r\n",
        "def diff_alphabets(c1, c2):\r\n",
        "  if (c1 != c2):\r\n",
        "    return(abs(ord(c1) - ord(c2)))\r\n",
        "  else:\r\n",
        "    return None\r\n",
        "\r\n",
        "diff_alphabets('c', 'f')\r\n"
      ],
      "execution_count": 14,
      "outputs": [
        {
          "output_type": "execute_result",
          "data": {
            "text/plain": [
              "3"
            ]
          },
          "metadata": {
            "tags": []
          },
          "execution_count": 14
        }
      ]
    },
    {
      "cell_type": "code",
      "metadata": {
        "colab": {
          "base_uri": "https://localhost:8080/"
        },
        "id": "aGkG5ZTn4Xld",
        "outputId": "3105854c-5fa0-4d0f-c67e-8c4419805082"
      },
      "source": [
        "# Count the number of even numbers in a list\r\n",
        "a = [1, 4, 9, 16, 25, 36, 49, 64, 81, 100]\r\n",
        "b = [number for number in a if number % 2 == 0]\r\n",
        "\r\n",
        "print(b)"
      ],
      "execution_count": 15,
      "outputs": [
        {
          "output_type": "stream",
          "text": [
            "[4, 16, 36, 64, 100]\n"
          ],
          "name": "stdout"
        }
      ]
    },
    {
      "cell_type": "code",
      "metadata": {
        "colab": {
          "base_uri": "https://localhost:8080/"
        },
        "id": "claCxF3Ihitu",
        "outputId": "5451f9f2-9426-44f1-ff30-2a80df0a3e8c"
      },
      "source": [
        "# Count the number of odd numbers in a list\r\n",
        "a = [1, 4, 9, 16, 25, 36, 49, 64, 81, 100]\r\n",
        "b = [number for number in a if number % 2 != 0]\r\n",
        "\r\n",
        "print(b)"
      ],
      "execution_count": 16,
      "outputs": [
        {
          "output_type": "stream",
          "text": [
            "[1, 9, 25, 49, 81]\n"
          ],
          "name": "stdout"
        }
      ]
    },
    {
      "cell_type": "code",
      "metadata": {
        "colab": {
          "base_uri": "https://localhost:8080/"
        },
        "id": "KGGS5VL1hwd3",
        "outputId": "15ff5181-5d75-4280-dfdb-0fc5092cbcde"
      },
      "source": [
        "# Write a function to check if the string is a palindrome \r\n",
        "\r\n",
        "def check_palindrome(v_text):\r\n",
        "  v_rtext = v_text[::-1]\r\n",
        "  if (v_text == v_rtext):\r\n",
        "    return True\r\n",
        "  else:\r\n",
        "    return False\r\n",
        "\r\n",
        "print(check_palindrome(\"kjhkjha\"))\r\n",
        "print(check_palindrome(\"asdfgfdsa\"))"
      ],
      "execution_count": 17,
      "outputs": [
        {
          "output_type": "stream",
          "text": [
            "False\n",
            "True\n"
          ],
          "name": "stdout"
        }
      ]
    },
    {
      "cell_type": "code",
      "metadata": {
        "colab": {
          "base_uri": "https://localhost:8080/"
        },
        "id": "UW2KVOSYk-_u",
        "outputId": "00f03458-c7d7-4bdb-bdcc-4a5c776342c9"
      },
      "source": [
        "# Write a function to check if the number is a prime number\r\n",
        "#Returns True for prime numbers, False otherwise\r\n",
        "\r\n",
        "def is_prime(number):\r\n",
        "    \r\n",
        "    if number == 1:\r\n",
        "        prime = False\r\n",
        "    elif number == 2:\r\n",
        "        prime = True\r\n",
        "    else:\r\n",
        "        prime = True\r\n",
        "        for check_number in range(2, (int(number / 2)+1)):\r\n",
        "            if number % check_number == 0:\r\n",
        "                prime = False\r\n",
        "                break\r\n",
        "    return prime\r\n",
        "\r\n",
        "print(is_prime(23))\r\n",
        "print(is_prime(16))"
      ],
      "execution_count": 18,
      "outputs": [
        {
          "output_type": "stream",
          "text": [
            "True\n",
            "False\n"
          ],
          "name": "stdout"
        }
      ]
    },
    {
      "cell_type": "code",
      "metadata": {
        "colab": {
          "base_uri": "https://localhost:8080/"
        },
        "id": "z-t-WVFYlph6",
        "outputId": "8eea2c03-d796-4f91-ee6d-09f9c6caa2ce"
      },
      "source": [
        "# Write function to calculate the sum of all the numbers passed to a function\r\n",
        "\r\n",
        "def total_Sum(*arguments): \r\n",
        "    v_total = 0\r\n",
        "    for number in arguments: \r\n",
        "        v_total += number \r\n",
        "    return v_total \r\n",
        "  \r\n",
        "print(total_Sum(5, 4, 2, 9, 8)) "
      ],
      "execution_count": 19,
      "outputs": [
        {
          "output_type": "stream",
          "text": [
            "28\n"
          ],
          "name": "stdout"
        }
      ]
    },
    {
      "cell_type": "code",
      "metadata": {
        "colab": {
          "base_uri": "https://localhost:8080/"
        },
        "id": "8IaZuU9eo96k",
        "outputId": "6cbe0979-b4dc-4754-cc92-777fd4b98c5a"
      },
      "source": [
        "# Sort dictionary items by value in ascending order\r\n",
        "\r\n",
        "d = {'a': 2, 'c': 4, 'd': 3, 'n': 1, 't': 0}\r\n",
        "print('Original dictionary : ',d)\r\n",
        "sorted_d = sorted(d.items(), key=operator.itemgetter(1))\r\n",
        "print('Dictionary in ascending order by value : ',sorted_d)"
      ],
      "execution_count": 20,
      "outputs": [
        {
          "output_type": "stream",
          "text": [
            "Original dictionary :  {'a': 2, 'c': 4, 'd': 3, 'n': 1, 't': 0}\n",
            "Dictionary in ascending order by value :  [('t', 0), ('n', 1), ('a', 2), ('d', 3), ('c', 4)]\n"
          ],
          "name": "stdout"
        }
      ]
    },
    {
      "cell_type": "code",
      "metadata": {
        "colab": {
          "base_uri": "https://localhost:8080/"
        },
        "id": "z8cC63fjqr64",
        "outputId": "4ac86a8d-b74f-41ba-e705-107d945b47b6"
      },
      "source": [
        "# Sort dictionary items by value in descending order\r\n",
        "\r\n",
        "d = {'a': 2, 'c': 4, 'd': 3, 'n': 1, 't': 0}\r\n",
        "print('Original dictionary : ',d)\r\n",
        "sorted_d = dict( sorted(d.items(), key=operator.itemgetter(1),reverse=True))\r\n",
        "print('Dictionary in descending order by value : ',sorted_d)"
      ],
      "execution_count": 21,
      "outputs": [
        {
          "output_type": "stream",
          "text": [
            "Original dictionary :  {'a': 2, 'c': 4, 'd': 3, 'n': 1, 't': 0}\n",
            "Dictionary in descending order by value :  {'c': 4, 'd': 3, 'a': 2, 'n': 1, 't': 0}\n"
          ],
          "name": "stdout"
        }
      ]
    },
    {
      "cell_type": "code",
      "metadata": {
        "colab": {
          "base_uri": "https://localhost:8080/"
        },
        "id": "ajpZWNLguSvv",
        "outputId": "41c6f1e6-0761-415d-ac20-a79d89d9f496"
      },
      "source": [
        "# Convert two lists into a dictionary\r\n",
        "keys = ['Ten', 'Twenty', 'Thirty']\r\n",
        "values = [10, 20, 30, 40]\r\n",
        "\r\n",
        "v_dict = dict(zip(keys, values))\r\n",
        "print(v_dict)"
      ],
      "execution_count": 22,
      "outputs": [
        {
          "output_type": "stream",
          "text": [
            "{'Ten': 10, 'Twenty': 20, 'Thirty': 30}\n"
          ],
          "name": "stdout"
        }
      ]
    },
    {
      "cell_type": "code",
      "metadata": {
        "colab": {
          "base_uri": "https://localhost:8080/"
        },
        "id": "WyY985b0rBF2",
        "outputId": "f187af96-d5a8-4280-a81c-7b287f3eb603"
      },
      "source": [
        "# Write a function to accept multiple dictionary items as input and return single dictionary by concatenating all of them\r\n",
        "\r\n",
        "def concat_dict(*dict):\r\n",
        "  dic = {}\r\n",
        "  v_dic = (s for s in dict)\r\n",
        "  for d in v_dic: \r\n",
        "    dic.update(d)\r\n",
        "  \r\n",
        "  return dic\r\n",
        "  \r\n",
        "\r\n",
        "dic1={'a':10, 'b':20}\r\n",
        "dic2={'d':30, 'f':40}\r\n",
        "dic3={'v':50, 'w':60}\r\n",
        "\r\n",
        "print(concat_dict(dic1, dic2, dic3))"
      ],
      "execution_count": 23,
      "outputs": [
        {
          "output_type": "stream",
          "text": [
            "{'a': 10, 'b': 20, 'd': 30, 'f': 40, 'v': 50, 'w': 60}\n"
          ],
          "name": "stdout"
        }
      ]
    },
    {
      "cell_type": "code",
      "metadata": {
        "colab": {
          "base_uri": "https://localhost:8080/"
        },
        "id": "5qeuoBYLtXBA",
        "outputId": "c10f8e6d-d1a7-4099-c053-630777191891"
      },
      "source": [
        "# Write a function to accept a dictionary items as input and group by keys of the dictionary \r\n",
        " \r\n",
        "def group_dict_keys(v_dict):\r\n",
        "    result = {}\r\n",
        "    for k, v in v_dict:\r\n",
        "         result.setdefault(k, []).append(v)\r\n",
        "    return result\r\n",
        "\r\n",
        "colors = [('yellow', 1), ('blue', 2), ('yellow', 3), ('blue', 4), ('red', 1)]\r\n",
        "print(group_dict_keys(colors))"
      ],
      "execution_count": 24,
      "outputs": [
        {
          "output_type": "stream",
          "text": [
            "{'yellow': [1, 3], 'blue': [2, 4], 'red': [1]}\n"
          ],
          "name": "stdout"
        }
      ]
    },
    {
      "cell_type": "code",
      "metadata": {
        "colab": {
          "base_uri": "https://localhost:8080/"
        },
        "id": "BBs8T12csIkq",
        "outputId": "4bc508fa-d681-4e7a-c184-60d20c3e180e"
      },
      "source": [
        "# Rename the key for a dictionary\r\n",
        "v_dict = {\r\n",
        "  \"name\": \"Atul\",\r\n",
        "  \"age\":43,\r\n",
        "  \"salary\": 8000,\r\n",
        "  \"city\": \"HYD\"\r\n",
        "}\r\n",
        "\r\n",
        "v_dict['location'] = v_dict.pop('city')\r\n",
        "print(v_dict)"
      ],
      "execution_count": 25,
      "outputs": [
        {
          "output_type": "stream",
          "text": [
            "{'name': 'Atul', 'age': 43, 'salary': 8000, 'location': 'HYD'}\n"
          ],
          "name": "stdout"
        }
      ]
    },
    {
      "cell_type": "code",
      "metadata": {
        "colab": {
          "base_uri": "https://localhost:8080/"
        },
        "id": "2uhy8GnNoraG",
        "outputId": "6969738e-87dd-4285-d565-4a37939c59bc"
      },
      "source": [
        "# Construct list of keys and list of values from a given dictionary\r\n",
        "\r\n",
        "v_dict={\"Sedan\": 1500, \"SUV\": 2000, \"Pickup\": 2500, \"Minivan\": 1600, \"Van\": 2400, \"Semi\": 13600, \"Bicycle\": 7, \"Motorcycle\": 110}\r\n",
        "\r\n",
        "key_lst=[s for s in v_dict.keys()]\r\n",
        "val_lst=[s for s in v_dict.values()]\r\n",
        "\r\n",
        "print(key_lst, val_lst)\r\n"
      ],
      "execution_count": 26,
      "outputs": [
        {
          "output_type": "stream",
          "text": [
            "['Sedan', 'SUV', 'Pickup', 'Minivan', 'Van', 'Semi', 'Bicycle', 'Motorcycle'] [1500, 2000, 2500, 1600, 2400, 13600, 7, 110]\n"
          ],
          "name": "stdout"
        }
      ]
    },
    {
      "cell_type": "code",
      "metadata": {
        "colab": {
          "base_uri": "https://localhost:8080/"
        },
        "id": "pEXkm_RcH5f_",
        "outputId": "3e4ab6ae-d362-415d-99e0-779f411b0dd4"
      },
      "source": [
        "# Concatenate the corresponding values of two different list items\r\n",
        "\r\n",
        "list1 = [\"M\", \"na\", \"i\", \"At\"] \r\n",
        "list2 = [\"y\", \"me\", \"s\", \"ul\"]\r\n",
        "\r\n",
        "list3 = [i+j for i,j in zip(list1, list2)]\r\n",
        "\r\n",
        "print(list3)"
      ],
      "execution_count": 27,
      "outputs": [
        {
          "output_type": "stream",
          "text": [
            "['My', 'name', 'is', 'Atul']\n"
          ],
          "name": "stdout"
        }
      ]
    },
    {
      "cell_type": "code",
      "metadata": {
        "colab": {
          "base_uri": "https://localhost:8080/"
        },
        "id": "Zu2PBIIDIi6n",
        "outputId": "b950c331-88db-4dc1-9e38-4fcfca00ba8f"
      },
      "source": [
        "# Remove empty strings from the list\r\n",
        "v_list = [\"Atul\", \"\", \"Rohan\", \"Soma\", \"\", \"Zack\"]\r\n",
        "r_list = list(filter(None, v_list))\r\n",
        "print(r_list)"
      ],
      "execution_count": 28,
      "outputs": [
        {
          "output_type": "stream",
          "text": [
            "['Atul', 'Rohan', 'Soma', 'Zack']\n"
          ],
          "name": "stdout"
        }
      ]
    },
    {
      "cell_type": "code",
      "metadata": {
        "colab": {
          "base_uri": "https://localhost:8080/"
        },
        "id": "kxLkrQW9JUai",
        "outputId": "a1fce943-0c4c-4ea6-d65c-1ddc5e2d6ba0"
      },
      "source": [
        "# Create a nested list based on the given two or more lists\r\n",
        "\r\n",
        "a = [1, 4, 9, 16, 25, 36, 49, 64, 81, 100]\r\n",
        "b = [2, 5, 12, 14, 21, 31, 41, 23, 34, 12]\r\n",
        "c = [5, 74, 19, 15, 13, 78, 67, 56, 33, 24]\r\n",
        "\r\n",
        "\r\n",
        "d = [[i,j, k] for i,j,k in zip(a,b,c)]\r\n",
        "\r\n",
        "print(d)"
      ],
      "execution_count": 29,
      "outputs": [
        {
          "output_type": "stream",
          "text": [
            "[[1, 2, 5], [4, 5, 74], [9, 12, 19], [16, 14, 15], [25, 21, 13], [36, 31, 78], [49, 41, 67], [64, 23, 56], [81, 34, 33], [100, 12, 24]]\n"
          ],
          "name": "stdout"
        }
      ]
    },
    {
      "cell_type": "code",
      "metadata": {
        "colab": {
          "base_uri": "https://localhost:8080/"
        },
        "id": "HlT3yWswKZlR",
        "outputId": "04c4d643-0d3e-4bb5-b004-373b8f67bd9e"
      },
      "source": [
        "# Write a function to flatten a matrix of 2 dimension\r\n",
        "\r\n",
        "def flat_mat(matrix):\r\n",
        "    return [x for row in matrix for x in row ]\r\n",
        "\r\n",
        "matrix = [ range(0,5), range(5,10), range(10,15) ]\r\n",
        "matrix = [ [1,3,4], [2,4,8], [4,7,1] ]\r\n",
        "\r\n",
        "print(matrix)\r\n",
        "print (str(flat_mat(matrix)))"
      ],
      "execution_count": 30,
      "outputs": [
        {
          "output_type": "stream",
          "text": [
            "[[1, 3, 4], [2, 4, 8], [4, 7, 1]]\n",
            "[1, 3, 4, 2, 4, 8, 4, 7, 1]\n"
          ],
          "name": "stdout"
        }
      ]
    },
    {
      "cell_type": "code",
      "metadata": {
        "colab": {
          "base_uri": "https://localhost:8080/"
        },
        "id": "8fjfLGuuNelM",
        "outputId": "f75cb911-f057-4e16-8b58-bd63932361dd"
      },
      "source": [
        "# Write a function to calculate tax for each month's earning from a list\r\n",
        "\r\n",
        "Earning = [13890, 923879, 376465, 27476, 37565]\r\n",
        "TAX_RATE = .08\r\n",
        "def get_price_with_tax(txn):\r\n",
        "  return txn * (1 + TAX_RATE)\r\n",
        "\r\n",
        "final_prices = map(get_price_with_tax, Earning)\r\n",
        "list(final_prices)"
      ],
      "execution_count": 31,
      "outputs": [
        {
          "output_type": "execute_result",
          "data": {
            "text/plain": [
              "[15001.2, 997789.3200000001, 406582.2, 29674.08, 40570.200000000004]"
            ]
          },
          "metadata": {
            "tags": []
          },
          "execution_count": 31
        }
      ]
    },
    {
      "cell_type": "code",
      "metadata": {
        "id": "kAyDQ3QPOLY_"
      },
      "source": [
        "# Write a function to calculate tax for each month's earning from a list using map\r\n",
        "\r\n",
        "Earning = [13890, 923879, 376465, 27476, 37565]\r\n",
        "TAX_RATE = .08\r\n",
        "def get_price(txn):\r\n",
        "  return txn * (1 + TAX_RATE)\r\n",
        "\r\n",
        "def get_prices_with_map():\r\n",
        "  return list(map(get_price, Earning))\r\n",
        "\r\n"
      ],
      "execution_count": 32,
      "outputs": []
    },
    {
      "cell_type": "code",
      "metadata": {
        "id": "VQlkHPmsPj2Z"
      },
      "source": [
        "# Write a function to calculate tax for each month's earning from a list using comprehension\r\n",
        "\r\n",
        "def get_prices_with_comprehension():\r\n",
        "  return [get_price(txn) for txn in Earning]\r\n",
        "\r\n"
      ],
      "execution_count": 33,
      "outputs": []
    },
    {
      "cell_type": "code",
      "metadata": {
        "id": "qbDL8wY9P3tX"
      },
      "source": [
        "# Write a function to calculate tax for each month's earning from a list using for loop\r\n",
        "\r\n",
        "def get_prices_with_loop():\r\n",
        "  prices = []\r\n",
        "  for txn in Earning:\r\n",
        "    prices.append(get_price(txn))\r\n",
        "  \r\n",
        "  return prices"
      ],
      "execution_count": 34,
      "outputs": []
    },
    {
      "cell_type": "code",
      "metadata": {
        "colab": {
          "base_uri": "https://localhost:8080/"
        },
        "id": "N_WRjCzYQIbB",
        "outputId": "9d329682-53f6-45fc-baad-f89b916f9a43"
      },
      "source": [
        "#Compare time between the three functions each doing the same thing but performing different operations\r\n",
        "\r\n",
        "print(timeit.timeit(get_prices_with_map, number=100))\r\n",
        "print(timeit.timeit(get_prices_with_comprehension, number=100))\r\n",
        "print(timeit.timeit(get_prices_with_loop, number=100))\r\n"
      ],
      "execution_count": 35,
      "outputs": [
        {
          "output_type": "stream",
          "text": [
            "0.0001987999985431088\n",
            "0.0004891200005658902\n",
            "0.0002033420005318476\n"
          ],
          "name": "stdout"
        }
      ]
    },
    {
      "cell_type": "code",
      "metadata": {
        "colab": {
          "base_uri": "https://localhost:8080/"
        },
        "id": "1GwnTgRAQqT5",
        "outputId": "678b4795-7ddf-43fb-a1bf-b65c115c3190"
      },
      "source": [
        "# Write a function to list the characters of string using lambda function\r\n",
        "\r\n",
        "v_text = \"Intellipat\"\r\n",
        "\r\n",
        "def lambda_char():\r\n",
        "  v_list = list(map(lambda x: x, 'intellipaat'))\r\n",
        "  return v_list\r\n",
        "\r\n",
        "# Write a function to list the characters of s string using List Comprehension\r\n",
        "\r\n",
        "def lc_char():\r\n",
        "  v_list = [i for i in v_text]\r\n",
        "  return v_list\r\n",
        "\r\n",
        "# Write a function to list the characters of s string using for Loop\r\n",
        "def forloop_char():\r\n",
        "  v_list = []\r\n",
        "  for i in v_text:\r\n",
        "    v_list.append(i)\r\n",
        "  return v_list\r\n",
        "\r\n",
        "#Compare time between the three functions each doing the same thing but performing different operations\r\n",
        "\r\n",
        "print(timeit.timeit(lambda_char, number=100))\r\n",
        "print(timeit.timeit(lc_char, number=100))\r\n",
        "print(timeit.timeit(forloop_char, number=100))"
      ],
      "execution_count": 36,
      "outputs": [
        {
          "output_type": "stream",
          "text": [
            "0.0002326500016351929\n",
            "0.00010131199996976648\n",
            "0.0001262539990420919\n"
          ],
          "name": "stdout"
        }
      ]
    },
    {
      "cell_type": "code",
      "metadata": {
        "colab": {
          "base_uri": "https://localhost:8080/"
        },
        "id": "Ye3qSYPQTDRV",
        "outputId": "1e2ea36b-e7ab-488e-c943-f92735e85ac7"
      },
      "source": [
        "# Convert type of a variable which is of decimal type but stored as string to INT\r\n",
        "\r\n",
        "v_str = \"30\"\r\n",
        "v_num = int(v_str)\r\n",
        "\r\n",
        "print(type(v_str), \"   \", type(v_num))"
      ],
      "execution_count": 37,
      "outputs": [
        {
          "output_type": "stream",
          "text": [
            "<class 'str'>     <class 'int'>\n"
          ],
          "name": "stdout"
        }
      ]
    },
    {
      "cell_type": "code",
      "metadata": {
        "colab": {
          "base_uri": "https://localhost:8080/"
        },
        "id": "I5vbjQeBXMKN",
        "outputId": "15a9a9de-1043-44bc-e95d-66ba44cd1f23"
      },
      "source": [
        "# Write a function to convert the string into the list containing number(i.e. a = 1, b = 2 etc) of alphabet of the strings\r\n",
        "\r\n",
        "def convert_str(v_text):\r\n",
        "  v_list = [ord(s) - 96 for s in v_text]\r\n",
        "  return v_list\r\n",
        "\r\n",
        "print(convert_str(\"atul\"))"
      ],
      "execution_count": 38,
      "outputs": [
        {
          "output_type": "stream",
          "text": [
            "[1, 20, 21, 12]\n"
          ],
          "name": "stdout"
        }
      ]
    },
    {
      "cell_type": "code",
      "metadata": {
        "colab": {
          "base_uri": "https://localhost:8080/"
        },
        "id": "PcId5pRLiYHa",
        "outputId": "12a819fc-ff5b-4ded-d248-fd81b18ea33c"
      },
      "source": [
        "# Write a function to convert a decimal number to binary number\r\n",
        "\r\n",
        "def decimalToBinary(n):\r\n",
        "  \r\n",
        "  if(n > 1):\r\n",
        "    decimalToBinary(n//2)\r\n",
        "  print(n%2, end='')\r\n",
        "\r\n",
        "decimalToBinary(20)"
      ],
      "execution_count": 39,
      "outputs": [
        {
          "output_type": "stream",
          "text": [
            "10100"
          ],
          "name": "stdout"
        }
      ]
    },
    {
      "cell_type": "code",
      "metadata": {
        "colab": {
          "base_uri": "https://localhost:8080/",
          "height": 35
        },
        "id": "WwvJqznekS1A",
        "outputId": "5505d22b-3a77-433b-f9f4-41fc5d160049"
      },
      "source": [
        "# Write a function to convert a decimal number to binary number(Using python native commands)\r\n",
        "\r\n",
        "def decimalToBinary(n):\r\n",
        "  return bin(n).replace(\"0b\",\"\")\r\n",
        "\r\n",
        "decimalToBinary(20)"
      ],
      "execution_count": 40,
      "outputs": [
        {
          "output_type": "execute_result",
          "data": {
            "application/vnd.google.colaboratory.intrinsic+json": {
              "type": "string"
            },
            "text/plain": [
              "'10100'"
            ]
          },
          "metadata": {
            "tags": []
          },
          "execution_count": 40
        }
      ]
    },
    {
      "cell_type": "code",
      "metadata": {
        "colab": {
          "base_uri": "https://localhost:8080/"
        },
        "id": "qrqMTTJnjrXH",
        "outputId": "183292fb-c059-4c1c-ba9b-83e2f75a354c"
      },
      "source": [
        "# Write a function to convert a decimal number to Octal number\r\n",
        "\r\n",
        "def decimalToOctal(n):\r\n",
        "  v_str = ''\r\n",
        "  if(n > 7):\r\n",
        "    decimalToOctal(n//8)\r\n",
        "  print(n%8, end='')\r\n",
        "\r\n",
        "decimalToOctal(25)"
      ],
      "execution_count": 41,
      "outputs": [
        {
          "output_type": "stream",
          "text": [
            "31"
          ],
          "name": "stdout"
        }
      ]
    },
    {
      "cell_type": "code",
      "metadata": {
        "colab": {
          "base_uri": "https://localhost:8080/"
        },
        "id": "iTVZWF9VkIgJ",
        "outputId": "048111d9-7b8f-4cc3-9051-d1cf84cc1842"
      },
      "source": [
        "# Write a function to convert a binary number to decimal number (using python native commands)\r\n",
        "\r\n",
        "def binaryToDecimal(n): \r\n",
        "    return int(n,2)\r\n",
        "\r\n",
        "binaryToDecimal('101011')"
      ],
      "execution_count": 42,
      "outputs": [
        {
          "output_type": "execute_result",
          "data": {
            "text/plain": [
              "43"
            ]
          },
          "metadata": {
            "tags": []
          },
          "execution_count": 42
        }
      ]
    },
    {
      "cell_type": "code",
      "metadata": {
        "colab": {
          "base_uri": "https://localhost:8080/"
        },
        "id": "7YTU5X2OlNMd",
        "outputId": "dbc9ce14-bd55-4a52-d1a6-864c9263edae"
      },
      "source": [
        "# Write a function to convert a binary number to decimal number\r\n",
        "\r\n",
        "def binaryToDecimal(binary): \r\n",
        "      \r\n",
        "    binary1 = binary \r\n",
        "    decimal, i, n = 0, 0, 0\r\n",
        "    while(binary != 0): \r\n",
        "        dec = binary % 10\r\n",
        "        decimal = decimal + dec * pow(2, i) \r\n",
        "        binary = binary//10\r\n",
        "        i += 1\r\n",
        "    return decimal\r\n",
        "\r\n",
        "binaryToDecimal(101011)"
      ],
      "execution_count": 43,
      "outputs": [
        {
          "output_type": "execute_result",
          "data": {
            "text/plain": [
              "43"
            ]
          },
          "metadata": {
            "tags": []
          },
          "execution_count": 43
        }
      ]
    },
    {
      "cell_type": "code",
      "metadata": {
        "colab": {
          "base_uri": "https://localhost:8080/"
        },
        "id": "ngOS2-VCly5H",
        "outputId": "aef92088-5d05-4e74-8098-45de03eb67fe"
      },
      "source": [
        "# Print the value of a decimal number after converting to hexadecimal number system\r\n",
        "\r\n",
        "dec = 244\r\n",
        "\r\n",
        "print(hex(dec), \"in hexadecimal.\")"
      ],
      "execution_count": 44,
      "outputs": [
        {
          "output_type": "stream",
          "text": [
            "0xf4 in hexadecimal.\n"
          ],
          "name": "stdout"
        }
      ]
    },
    {
      "cell_type": "code",
      "metadata": {
        "colab": {
          "base_uri": "https://localhost:8080/"
        },
        "id": "QBtwBTehlz7V",
        "outputId": "e956e24c-37f7-4ac7-a1ab-d69f104f649b"
      },
      "source": [
        "# Convert distance in meters to feet and inches\r\n",
        "\r\n",
        "v_meter = 30.52\r\n",
        "v_ft = v_meter // .3048\r\n",
        "v_inches = v_meter / .3048 % 1 * 12\r\n",
        "\r\n",
        "print(str(v_ft) + '    ' + str(v_inches))"
      ],
      "execution_count": 45,
      "outputs": [
        {
          "output_type": "stream",
          "text": [
            "100.0    1.5748031496062822\n"
          ],
          "name": "stdout"
        }
      ]
    },
    {
      "cell_type": "code",
      "metadata": {
        "colab": {
          "base_uri": "https://localhost:8080/"
        },
        "id": "nGmmR_znnRk2",
        "outputId": "107ac6b5-387b-4b18-c995-b0d9886d4752"
      },
      "source": [
        "# Convert distance in Feet to meters\r\n",
        "\r\n",
        "v_ft = 70\r\n",
        "v_meter = v_ft * .3048\r\n",
        "\r\n",
        "print(v_meter)"
      ],
      "execution_count": 46,
      "outputs": [
        {
          "output_type": "stream",
          "text": [
            "21.336000000000002\n"
          ],
          "name": "stdout"
        }
      ]
    },
    {
      "cell_type": "code",
      "metadata": {
        "colab": {
          "base_uri": "https://localhost:8080/"
        },
        "id": "t-K_ZbQroHnx",
        "outputId": "c3510df6-d601-4501-cbc1-f101a2c08573"
      },
      "source": [
        "# Convert distance in meter to yards\r\n",
        "meter_to_yard = 1.09361\r\n",
        "\r\n",
        "v_meter = 100\r\n",
        "v_yard = v_meter * meter_to_yard\r\n",
        "\r\n",
        "print(\"{} meter = {} yard\".format(v_meter,v_yard))"
      ],
      "execution_count": 47,
      "outputs": [
        {
          "output_type": "stream",
          "text": [
            "100 meter = 109.36099999999999 yard\n"
          ],
          "name": "stdout"
        }
      ]
    },
    {
      "cell_type": "code",
      "metadata": {
        "colab": {
          "base_uri": "https://localhost:8080/"
        },
        "id": "tC-eVFOVokKG",
        "outputId": "0ccc70ca-0716-4022-9628-53da2e8e202e"
      },
      "source": [
        "# Convert distance in meter to inches\r\n",
        "\r\n",
        "meter_to_inches = 100/2.54\r\n",
        "\r\n",
        "v_meter = 100\r\n",
        "v_inches = v_meter * meter_to_inches\r\n",
        "\r\n",
        "print(\"{} meter = {} inches\".format(v_meter,v_inches))"
      ],
      "execution_count": 48,
      "outputs": [
        {
          "output_type": "stream",
          "text": [
            "100 meter = 3937.0078740157483 inches\n"
          ],
          "name": "stdout"
        }
      ]
    },
    {
      "cell_type": "code",
      "metadata": {
        "colab": {
          "base_uri": "https://localhost:8080/"
        },
        "id": "aXktiXwfokAd",
        "outputId": "7402027f-0ba6-418f-f4ce-9a2765f13d10"
      },
      "source": [
        "# Write function to convert from miles to meters and meters to miles\r\n",
        "\r\n",
        "def getMiles(i):\r\n",
        "  return i*0.000621371192;\r\n",
        "\r\n",
        "def getMeters(i):\r\n",
        "  return i*1609.344;\r\n",
        "\r\n",
        "print(getMiles(20390))\r\n",
        "print(getMeters(20))\r\n"
      ],
      "execution_count": 49,
      "outputs": [
        {
          "output_type": "stream",
          "text": [
            "12.66975860488\n",
            "32186.88\n"
          ],
          "name": "stdout"
        }
      ]
    },
    {
      "cell_type": "code",
      "metadata": {
        "colab": {
          "base_uri": "https://localhost:8080/"
        },
        "id": "FOFUkIsKoj2Y",
        "outputId": "0d2f39c2-9c48-43c9-d545-22b491e8167a"
      },
      "source": [
        "# Write a function to calculate the GCD greatest common divisor\r\n",
        "\r\n",
        "def greatest_common_divisor(x,y):\r\n",
        "    r=x%y\r\n",
        "    while r>0:\r\n",
        "        r=x%y\r\n",
        "        if r ==0: \r\n",
        "            return (y)\r\n",
        "        else:\r\n",
        "            q=y\r\n",
        "            x=q\r\n",
        "            y=r\r\n",
        "  \r\n",
        "print(greatest_common_divisor(32, 56))"
      ],
      "execution_count": 50,
      "outputs": [
        {
          "output_type": "stream",
          "text": [
            "8\n"
          ],
          "name": "stdout"
        }
      ]
    },
    {
      "cell_type": "code",
      "metadata": {
        "colab": {
          "base_uri": "https://localhost:8080/"
        },
        "id": "PrFwXWLsFj7r",
        "outputId": "0ebea536-bf3b-43bd-80d6-0c7a596448ee"
      },
      "source": [
        "# Write a function to compute HCF (highest common factor) for 2 numbers\r\n",
        "# HCF and GCD are two names of the same calculation and the two methods here are used to calculate in two different ways\r\n",
        "\r\n",
        "def compute_hcf(x, y):\r\n",
        "\r\n",
        "# choose the smaller number\r\n",
        "    if x > y:\r\n",
        "        smaller = y\r\n",
        "    else:\r\n",
        "        smaller = x\r\n",
        "    for i in range(1, smaller+1):\r\n",
        "        if((x % i == 0) and (y % i == 0)):\r\n",
        "            hcf = i \r\n",
        "    return hcf\r\n",
        "\r\n",
        "print(compute_hcf(32, 56))"
      ],
      "execution_count": 51,
      "outputs": [
        {
          "output_type": "stream",
          "text": [
            "8\n"
          ],
          "name": "stdout"
        }
      ]
    },
    {
      "cell_type": "code",
      "metadata": {
        "colab": {
          "base_uri": "https://localhost:8080/"
        },
        "id": "By6FdmtKHqVD",
        "outputId": "cc8711bb-4f45-42fe-e330-93268983cb68"
      },
      "source": [
        "# Write a function to compute LCM (lowest common multiple) for 2 numbers\r\n",
        "def compute_lcm(v_num1, v_num2):\r\n",
        "  lcm = v_num1 * v_num2 / compute_hcf(v_num1, v_num2)\r\n",
        "  return lcm\r\n",
        "\r\n",
        "print(compute_lcm(12,18))"
      ],
      "execution_count": 52,
      "outputs": [
        {
          "output_type": "stream",
          "text": [
            "36.0\n"
          ],
          "name": "stdout"
        }
      ]
    },
    {
      "cell_type": "code",
      "metadata": {
        "colab": {
          "base_uri": "https://localhost:8080/"
        },
        "id": "qcTHhWMht9zj",
        "outputId": "37be90b1-3d6c-49f6-f370-53bf068bd4e2"
      },
      "source": [
        "# Write a function to convert hours to minutes\r\n",
        "\r\n",
        "def convert_to_minutes(num_hours):\r\n",
        "    minutes = num_hours * 60\r\n",
        "    return minutes\r\n",
        "\r\n",
        "print(convert_to_minutes(3))"
      ],
      "execution_count": 53,
      "outputs": [
        {
          "output_type": "stream",
          "text": [
            "180\n"
          ],
          "name": "stdout"
        }
      ]
    },
    {
      "cell_type": "code",
      "metadata": {
        "colab": {
          "base_uri": "https://localhost:8080/"
        },
        "id": "DGRTZ53hFBGB",
        "outputId": "0479d4f1-807f-420e-d4ea-891fee0b8df3"
      },
      "source": [
        "# Write a function to convert hours to seconds\r\n",
        "\r\n",
        "def convert_to_seconds(num_hours):\r\n",
        "    minutes = convert_to_minutes(num_hours)\r\n",
        "    seconds = minutes * 60\r\n",
        "    return seconds\r\n",
        "\r\n",
        "print(convert_to_minutes(3))"
      ],
      "execution_count": 54,
      "outputs": [
        {
          "output_type": "stream",
          "text": [
            "180\n"
          ],
          "name": "stdout"
        }
      ]
    },
    {
      "cell_type": "code",
      "metadata": {
        "colab": {
          "base_uri": "https://localhost:8080/"
        },
        "id": "UpW5upIRGieD",
        "outputId": "ab2d7b28-8042-4644-96f7-707633405682"
      },
      "source": [
        "# Write a function to check the validity of the three sides of a triangle\r\n",
        "\r\n",
        "def is_triangle(a,b,c):\r\n",
        "    if a+b>c and b+c>a and c+a>b:\r\n",
        "        return True\r\n",
        "    else:\r\n",
        "        return False\r\n",
        "\r\n",
        "print(is_triangle(3,4,5))"
      ],
      "execution_count": 55,
      "outputs": [
        {
          "output_type": "stream",
          "text": [
            "True\n"
          ],
          "name": "stdout"
        }
      ]
    },
    {
      "cell_type": "code",
      "metadata": {
        "colab": {
          "base_uri": "https://localhost:8080/"
        },
        "id": "9vfjoJyIIaoe",
        "outputId": "ebf745b7-16ef-4494-c30f-99e6e67948cf"
      },
      "source": [
        "# Write function to reverse the number i.e. 1234 will return 4321\r\n",
        "\r\n",
        "def reverse_num(v_num):\r\n",
        "  rev=0\r\n",
        "  while(v_num>0):\r\n",
        "    dig=v_num%10\r\n",
        "    rev=rev*10+dig\r\n",
        "    v_num=v_num//10\r\n",
        "  \r\n",
        "  return rev\r\n",
        "\r\n",
        "print(reverse_num(237678))"
      ],
      "execution_count": 56,
      "outputs": [
        {
          "output_type": "stream",
          "text": [
            "876732\n"
          ],
          "name": "stdout"
        }
      ]
    },
    {
      "cell_type": "code",
      "metadata": {
        "colab": {
          "base_uri": "https://localhost:8080/"
        },
        "id": "JiiTqfGz0Plv",
        "outputId": "0b3b1aae-ab85-4052-a458-fb56cb2fb910"
      },
      "source": [
        "# Write a command to initiate a list object with all zero values with 2 rows and 3 columns\r\n",
        "print([[0]*3]*2)"
      ],
      "execution_count": 57,
      "outputs": [
        {
          "output_type": "stream",
          "text": [
            "[[0, 0, 0], [0, 0, 0]]\n"
          ],
          "name": "stdout"
        }
      ]
    },
    {
      "cell_type": "code",
      "metadata": {
        "colab": {
          "base_uri": "https://localhost:8080/"
        },
        "id": "ZLgc4_9RKove",
        "outputId": "7b0f60f7-78b2-4f66-a31b-1c4c1673ff12"
      },
      "source": [
        "# Write a function to transpose a matrix using zip and return the transposed matrix\r\n",
        "\r\n",
        "def transpose_matrix(v_mat):\r\n",
        "  r_mat = list(zip(*v_mat))\r\n",
        "  return r_mat\r\n",
        "\r\n",
        "v_matrix = [[1, 2, 3], [4, 5, 6]]\r\n",
        "print(transpose_matrix(v_matrix))"
      ],
      "execution_count": 58,
      "outputs": [
        {
          "output_type": "stream",
          "text": [
            "[(1, 4), (2, 5), (3, 6)]\n"
          ],
          "name": "stdout"
        }
      ]
    },
    {
      "cell_type": "code",
      "metadata": {
        "colab": {
          "base_uri": "https://localhost:8080/"
        },
        "id": "ugI-Bypw0Rup",
        "outputId": "148a4a70-0c06-4f41-c231-4af62b0d8236"
      },
      "source": [
        "# Write  a progrem to transpose a matrix using nested for loop and return the transposed matrix\r\n",
        "# Constraint : Matrix shape should be known and defined\r\n",
        "\r\n",
        "X = [[12,7],\r\n",
        "    [4 ,5],\r\n",
        "    [3 ,8]]\r\n",
        "\r\n",
        "result = [[0,0,0],\r\n",
        "         [0,0,0]]\r\n",
        "\r\n",
        "# iterate through rows\r\n",
        "for i in range(len(X)):\r\n",
        "   # iterate through columns\r\n",
        "   for j in range(len(X[0])):\r\n",
        "       result[j][i] = X[i][j]\r\n",
        "\r\n",
        "for r in result:\r\n",
        "   print(r)"
      ],
      "execution_count": 59,
      "outputs": [
        {
          "output_type": "stream",
          "text": [
            "[12, 4, 3]\n",
            "[7, 5, 8]\n"
          ],
          "name": "stdout"
        }
      ]
    },
    {
      "cell_type": "code",
      "metadata": {
        "colab": {
          "base_uri": "https://localhost:8080/"
        },
        "id": "PyRMDay4L1zy",
        "outputId": "06e36ff6-74a1-441d-c3e5-6c6a92cfc484"
      },
      "source": [
        "# Write lambda functions for addition, subtraction and multiplication\r\n",
        "\r\n",
        "add = lambda x, y: x+y\r\n",
        "subtract = lambda x, y: x - y\r\n",
        "multiply = lambda x, y: x*y\r\n",
        "\r\n",
        "print(add(2,3))\r\n",
        "print(subtract(5,3))\r\n",
        "print(multiply(4,7))"
      ],
      "execution_count": 60,
      "outputs": [
        {
          "output_type": "stream",
          "text": [
            "5\n",
            "2\n",
            "28\n"
          ],
          "name": "stdout"
        }
      ]
    },
    {
      "cell_type": "code",
      "metadata": {
        "id": "RpcPrKheIaZE"
      },
      "source": [
        ""
      ],
      "execution_count": 60,
      "outputs": []
    },
    {
      "cell_type": "code",
      "metadata": {
        "colab": {
          "base_uri": "https://localhost:8080/"
        },
        "id": "HPSOb-KjNSEc",
        "outputId": "b32ca650-8f57-4a54-f420-27f47fd86e7a"
      },
      "source": [
        "# Write a function to calculate factorial for a number\r\n",
        "\r\n",
        "def cal_factorial(v_num):\r\n",
        "  v_fact = 1\r\n",
        "  if v_num < 0:\r\n",
        "    return None\r\n",
        "  elif v_num == 0:\r\n",
        "    return 1\r\n",
        "  else:\r\n",
        "    for i in range(1, v_num + 1):\r\n",
        "      v_fact = v_fact*i\r\n",
        "    return v_fact\r\n",
        "\r\n",
        "print(cal_factorial(5))\r\n",
        "   "
      ],
      "execution_count": 61,
      "outputs": [
        {
          "output_type": "stream",
          "text": [
            "120\n"
          ],
          "name": "stdout"
        }
      ]
    },
    {
      "cell_type": "code",
      "metadata": {
        "colab": {
          "base_uri": "https://localhost:8080/"
        },
        "id": "uV2tPOVCOmrp",
        "outputId": "49ab0afd-1a85-4c8a-d236-946c8c35e9f2"
      },
      "source": [
        "# Write a function to check if the given year a leap year.\r\n",
        "# Return True if it is a leap year otherwise, return False\r\n",
        "\r\n",
        "def check_leap_year(year):\r\n",
        "  r_val = False\r\n",
        "  if (year % 4) == 0:\r\n",
        "    if (year % 100) == 0:\r\n",
        "      if (year % 400) == 0:\r\n",
        "        r_val = True\r\n",
        "      else:\r\n",
        "         r_val = False\r\n",
        "    else:\r\n",
        "       r_val = True\r\n",
        "  else:\r\n",
        "   r_val = False\r\n",
        "  \r\n",
        "  return r_val\r\n",
        "\r\n",
        "print(check_leap_year(1900))"
      ],
      "execution_count": 62,
      "outputs": [
        {
          "output_type": "stream",
          "text": [
            "False\n"
          ],
          "name": "stdout"
        }
      ]
    },
    {
      "cell_type": "code",
      "metadata": {
        "colab": {
          "base_uri": "https://localhost:8080/"
        },
        "id": "DK-txLcIOmhr",
        "outputId": "a16254c0-560c-4d69-81bc-c334283c9e0d"
      },
      "source": [
        "# Print multiplication table for a number\r\n",
        "\r\n",
        "num = 12\r\n",
        "\r\n",
        "for i in range(1, 11):\r\n",
        "   print(num, 'x', i, '=', num*i)"
      ],
      "execution_count": 63,
      "outputs": [
        {
          "output_type": "stream",
          "text": [
            "12 x 1 = 12\n",
            "12 x 2 = 24\n",
            "12 x 3 = 36\n",
            "12 x 4 = 48\n",
            "12 x 5 = 60\n",
            "12 x 6 = 72\n",
            "12 x 7 = 84\n",
            "12 x 8 = 96\n",
            "12 x 9 = 108\n",
            "12 x 10 = 120\n"
          ],
          "name": "stdout"
        }
      ]
    },
    {
      "cell_type": "code",
      "metadata": {
        "colab": {
          "base_uri": "https://localhost:8080/"
        },
        "id": "kQkfF8yYQ7_a",
        "outputId": "23e11787-47ba-4261-e7b8-875a384b607d"
      },
      "source": [
        "# Write a program to check the given number is an armstrong number\r\n",
        "# Armstrong number is a number which satisfies following condition\r\n",
        "# abcd... = an + bn + cn + dn + ... \r\n",
        "\r\n",
        "def check_armstrong(v_num):\r\n",
        "  sum = 0\r\n",
        "  temp = v_num\r\n",
        "  while temp > 0:\r\n",
        "    digit = temp % 10\r\n",
        "    sum += digit ** 3\r\n",
        "    temp //= 10\r\n",
        "  \r\n",
        "  if v_num == sum:\r\n",
        "    return True\r\n",
        "  else:\r\n",
        "    return False\r\n",
        "\r\n",
        "print(check_armstrong(154))\r\n",
        "print(check_armstrong(153))"
      ],
      "execution_count": 64,
      "outputs": [
        {
          "output_type": "stream",
          "text": [
            "False\n",
            "True\n"
          ],
          "name": "stdout"
        }
      ]
    },
    {
      "cell_type": "code",
      "metadata": {
        "colab": {
          "base_uri": "https://localhost:8080/"
        },
        "id": "4mryOQ7JRh-i",
        "outputId": "6e3c2811-3979-4419-fce4-014e40d25244"
      },
      "source": [
        "# Write a function to compute all the factors of a given number and print those\r\n",
        "\r\n",
        "def print_factors(x):\r\n",
        "  for i in range(1, x + 1):\r\n",
        "    if x % i == 0:\r\n",
        "      print(i)\r\n",
        "\r\n",
        "num = 320\r\n",
        "\r\n",
        "print_factors(num)"
      ],
      "execution_count": 65,
      "outputs": [
        {
          "output_type": "stream",
          "text": [
            "1\n",
            "2\n",
            "4\n",
            "5\n",
            "8\n",
            "10\n",
            "16\n",
            "20\n",
            "32\n",
            "40\n",
            "64\n",
            "80\n",
            "160\n",
            "320\n"
          ],
          "name": "stdout"
        }
      ]
    },
    {
      "cell_type": "code",
      "metadata": {
        "colab": {
          "base_uri": "https://localhost:8080/"
        },
        "id": "gwGt6IlGRhj5",
        "outputId": "6055261b-02ad-4b74-dcd1-966ba53c4d09"
      },
      "source": [
        "# Write a program to remove punctation from the given sentence\r\n",
        "\r\n",
        "punctuations = '''!()-[]{};:'\"\\,<>./?@#$%^&*_~'''\r\n",
        "\r\n",
        "my_str = \"Hello!!!, he said something but --- and went away.\"\r\n",
        "\r\n",
        "no_punct = \"\"\r\n",
        "for char in my_str:\r\n",
        "   if char not in punctuations:\r\n",
        "       no_punct = no_punct + char\r\n",
        "\r\n",
        "print(no_punct)"
      ],
      "execution_count": 66,
      "outputs": [
        {
          "output_type": "stream",
          "text": [
            "Hello he said something but  and went away\n"
          ],
          "name": "stdout"
        }
      ]
    },
    {
      "cell_type": "code",
      "metadata": {
        "colab": {
          "base_uri": "https://localhost:8080/"
        },
        "id": "hTa2VkviqzG3",
        "outputId": "69d4ba08-50c7-4c8b-e91c-9062536e2408"
      },
      "source": [
        "# Write a program to check if two strings are anagrams. Return True if those are anagrams otherwise return False\r\n",
        "\r\n",
        "def is_anagram(str1, str2):  \r\n",
        "    return sorted(str1) == sorted(str2)\r\n",
        "\r\n",
        "print(is_anagram('geek', 'eegk')) \r\n",
        "print(is_anagram('geek', 'peek')) "
      ],
      "execution_count": 67,
      "outputs": [
        {
          "output_type": "stream",
          "text": [
            "True\n",
            "False\n"
          ],
          "name": "stdout"
        }
      ]
    },
    {
      "cell_type": "code",
      "metadata": {
        "colab": {
          "base_uri": "https://localhost:8080/"
        },
        "id": "onON1JsWrFy3",
        "outputId": "3bf157fc-39b2-41dd-cfc3-2d6c8efd01b2"
      },
      "source": [
        "# Write a program to convert a list of strings to a list of tupples by adding an index into each tupple.\r\n",
        "\r\n",
        "a = ['The', 'School', 'of', 'AI', '!']\r\n",
        "list(enumerate(a))"
      ],
      "execution_count": 68,
      "outputs": [
        {
          "output_type": "execute_result",
          "data": {
            "text/plain": [
              "[(0, 'The'), (1, 'School'), (2, 'of'), (3, 'AI'), (4, '!')]"
            ]
          },
          "metadata": {
            "tags": []
          },
          "execution_count": 68
        }
      ]
    },
    {
      "cell_type": "code",
      "metadata": {
        "colab": {
          "base_uri": "https://localhost:8080/"
        },
        "id": "SUPuSbRurFiM",
        "outputId": "51839bcf-22c5-4427-d060-a56a53daeb3e"
      },
      "source": [
        "# Write a program to sort the numbers in ascending order, in descending order and using the absolute values\r\n",
        "\r\n",
        "a = [1, 4, -4]\r\n",
        "print(sorted(a))\r\n",
        "print(sorted(a, reverse = True))\r\n",
        "print(sorted(a, key = abs))\r\n",
        "print(sorted(a, key = abs, reverse = True))"
      ],
      "execution_count": 69,
      "outputs": [
        {
          "output_type": "stream",
          "text": [
            "[-4, 1, 4]\n",
            "[4, 1, -4]\n",
            "[1, 4, -4]\n",
            "[4, -4, 1]\n"
          ],
          "name": "stdout"
        }
      ]
    },
    {
      "cell_type": "code",
      "metadata": {
        "colab": {
          "base_uri": "https://localhost:8080/"
        },
        "id": "9lioFF9bzWVu",
        "outputId": "1edc3d04-905b-4250-b89a-7c93781de74f"
      },
      "source": [
        "# Write commands to find the index of the min or max values in an iterable i.e.list etc\r\n",
        "\r\n",
        "a = [2, 3, 1]\r\n",
        "print(min(enumerate(a),key=lambda x: x[1])[0])\r\n",
        "print(max(enumerate(a),key=lambda x: x[1])[0])"
      ],
      "execution_count": 70,
      "outputs": [
        {
          "output_type": "stream",
          "text": [
            "2\n",
            "1\n"
          ],
          "name": "stdout"
        }
      ]
    },
    {
      "cell_type": "code",
      "metadata": {
        "colab": {
          "base_uri": "https://localhost:8080/"
        },
        "id": "NqMWIE-by0Bs",
        "outputId": "282a0c7a-cd6b-4c22-924d-557f39743d85"
      },
      "source": [
        "# Write a function to convert a string into the dictionary containing one key for each character and value corresponding to frequency of the key\r\n",
        "\r\n",
        "def char_frequency(str1):\r\n",
        "    dict = {}\r\n",
        "    for n in str1:\r\n",
        "        keys = dict.keys()\r\n",
        "        if n in keys:\r\n",
        "            dict[n] += 1\r\n",
        "        else:\r\n",
        "            dict[n] = 1\r\n",
        "    return dict\r\n",
        "print(char_frequency('google.com'))"
      ],
      "execution_count": 71,
      "outputs": [
        {
          "output_type": "stream",
          "text": [
            "{'g': 2, 'o': 3, 'l': 1, 'e': 1, '.': 1, 'c': 1, 'm': 1}\n"
          ],
          "name": "stdout"
        }
      ]
    },
    {
      "cell_type": "code",
      "metadata": {
        "colab": {
          "base_uri": "https://localhost:8080/"
        },
        "id": "S_7-Ix_dyz5f",
        "outputId": "333c8ecb-74ea-4833-a798-78a62dac36b1"
      },
      "source": [
        "# Write a Python function that takes a list of words and returns the length of the longest one.\r\n",
        "\r\n",
        "def find_longest_word(words_list):\r\n",
        "    word_len = []\r\n",
        "    for n in words_list:\r\n",
        "        word_len.append((len(n), n))\r\n",
        "    word_len.sort()\r\n",
        "    return word_len[-1][0], word_len[-1][1]\r\n",
        "result = find_longest_word([\"PHP\", \"Exercises\", \"Backend\"])\r\n",
        "print(result)"
      ],
      "execution_count": 72,
      "outputs": [
        {
          "output_type": "stream",
          "text": [
            "(9, 'Exercises')\n"
          ],
          "name": "stdout"
        }
      ]
    },
    {
      "cell_type": "code",
      "metadata": {
        "colab": {
          "base_uri": "https://localhost:8080/"
        },
        "id": "bS1SUvSV7cOt",
        "outputId": "a7030509-f105-410a-8f81-cc7c4a98cea5"
      },
      "source": [
        "# Write a command (one line) that prints the length of the longest string from a list of strings.\r\n",
        "\r\n",
        "v_str = [\"PHP\", \"Exercises\", \"Backend\"]\r\n",
        "\r\n",
        "print(max({s:len(s) for s in v_str}.values()))"
      ],
      "execution_count": 73,
      "outputs": [
        {
          "output_type": "stream",
          "text": [
            "9\n"
          ],
          "name": "stdout"
        }
      ]
    },
    {
      "cell_type": "code",
      "metadata": {
        "colab": {
          "base_uri": "https://localhost:8080/"
        },
        "id": "LLNrNIkfyzvU",
        "outputId": "53fd1748-9454-432e-fa9e-d6abe106503d"
      },
      "source": [
        "# Write a Python program to display a number in left, right and center aligned of width 10\r\n",
        "\r\n",
        "x = 22\r\n",
        "print(\"\\nOriginal Number: \", x)\r\n",
        "print(\"Left aligned (width 10)   :\"+\"{:< 10d}\".format(x));\r\n",
        "print(\"Right aligned (width 10)  :\"+\"{:10d}\".format(x));\r\n",
        "print(\"Center aligned (width 10) :\"+\"{:^10d}\".format(x));\r\n",
        "print()"
      ],
      "execution_count": 74,
      "outputs": [
        {
          "output_type": "stream",
          "text": [
            "\n",
            "Original Number:  22\n",
            "Left aligned (width 10)   : 22       \n",
            "Right aligned (width 10)  :        22\n",
            "Center aligned (width 10) :    22    \n",
            "\n"
          ],
          "name": "stdout"
        }
      ]
    },
    {
      "cell_type": "code",
      "metadata": {
        "colab": {
          "base_uri": "https://localhost:8080/"
        },
        "id": "Esp1c-Uq_EGa",
        "outputId": "f0e3d5ff-d46e-4811-f736-d4009243a79c"
      },
      "source": [
        "# Write a Python program to find maximum length of consecutive 0’s in a given binary string.\r\n",
        "\r\n",
        "def max_consecutive_0(v_str): \r\n",
        "     return  max(map(len,v_str.split('1')))\r\n",
        "\r\n",
        "str1 = '1110000010000110'\r\n",
        "print(max_consecutive_0(str1))"
      ],
      "execution_count": 75,
      "outputs": [
        {
          "output_type": "stream",
          "text": [
            "5\n"
          ],
          "name": "stdout"
        }
      ]
    },
    {
      "cell_type": "code",
      "metadata": {
        "colab": {
          "base_uri": "https://localhost:8080/"
        },
        "id": "1NFd4v21_D_l",
        "outputId": "5cf328e1-49c6-405e-c06b-851bb368fdd3"
      },
      "source": [
        "# Write commands to remove all of the occurances of a given character from a String using replace, list comprehension and map\r\n",
        "\r\n",
        "v_str = \"I want to delete all the occurances of a from this string\"\r\n",
        "\r\n",
        "print(v_str.replace('a', ''))\r\n",
        "print(''.join([s for s in v_str if s != 'a' ])) \r\n",
        "print(''.join(list(map(lambda x: x if x!= 'a' else '', v_str))))"
      ],
      "execution_count": 76,
      "outputs": [
        {
          "output_type": "stream",
          "text": [
            "I wnt to delete ll the occurnces of  from this string\n",
            "I wnt to delete ll the occurnces of  from this string\n",
            "I wnt to delete ll the occurnces of  from this string\n"
          ],
          "name": "stdout"
        }
      ]
    },
    {
      "cell_type": "code",
      "metadata": {
        "colab": {
          "base_uri": "https://localhost:8080/"
        },
        "id": "MonAbMZ7_D6M",
        "outputId": "46384a3c-cf7c-4385-91b3-651b08d1cde9"
      },
      "source": [
        "# Write a program to count all alphabets(lower and upper), digits, and special symbols from a given string\r\n",
        "# return all three counts showing python functions can return multiple values\r\n",
        "\r\n",
        "def find_different_counts(v_str): \r\n",
        "  charCount = 0\r\n",
        "  digitCount = 0\r\n",
        "  symbolCount = 0\r\n",
        "  for char in v_str:\r\n",
        "    if char.islower() or char.isupper():\r\n",
        "      charCount+=1\r\n",
        "    elif char.isnumeric():\r\n",
        "      digitCount+=1\r\n",
        "    else:\r\n",
        "      symbolCount+=1\r\n",
        "  \r\n",
        "  return charCount, digitCount, symbolCount\r\n",
        "\r\n",
        "print(find_different_counts(\"P@#yn26at^&i5ve\"))"
      ],
      "execution_count": 77,
      "outputs": [
        {
          "output_type": "stream",
          "text": [
            "(8, 3, 4)\n"
          ],
          "name": "stdout"
        }
      ]
    },
    {
      "cell_type": "code",
      "metadata": {
        "colab": {
          "base_uri": "https://localhost:8080/"
        },
        "id": "vS_gIyKVHlT9",
        "outputId": "cd4f15fa-fdcb-4273-f15f-ba3d2167868a"
      },
      "source": [
        "# Write a function to convert a number from integer to roman number (limited unto 4000 number)\r\n",
        "def int_to_roman(num):\r\n",
        "  val = [1000, 900, 500, 400, 100, 90, 50, 40, 10, 9, 5, 4, 1]\r\n",
        "  syb = [\"M\", \"CM\", \"D\", \"CD\", \"C\", \"XC\", \"L\", \"XL\", \"X\", \"IX\", \"V\", \"IV\", \"I\"]\r\n",
        "  roman_num = ''\r\n",
        "  i = 0\r\n",
        "  while  num > 0:\r\n",
        "    for _ in range(num // val[i]):\r\n",
        "      roman_num += syb[i]\r\n",
        "      num -= val[i]\r\n",
        "    i += 1\r\n",
        "  return roman_num\r\n",
        "\r\n",
        "\r\n",
        "print(int_to_roman(3783))"
      ],
      "execution_count": 78,
      "outputs": [
        {
          "output_type": "stream",
          "text": [
            "MMMDCCLXXXIII\n"
          ],
          "name": "stdout"
        }
      ]
    },
    {
      "cell_type": "code",
      "metadata": {
        "colab": {
          "base_uri": "https://localhost:8080/"
        },
        "id": "_WpWenS9FeGU",
        "outputId": "7ed53a07-b022-4ffc-9acf-0ea20bec3c55"
      },
      "source": [
        "# Write a function to check if a list of integers is monotonic. i.e the list is in either increasing order or in decreasing order \r\n",
        "\r\n",
        "def check_monotonic(A): \r\n",
        "  \r\n",
        "    return (all(A[i] <= A[i + 1] for i in range(len(A) - 1)) or\r\n",
        "            all(A[i] >= A[i + 1] for i in range(len(A) - 1))) \r\n",
        "\r\n",
        "v_list = [23, 15, 6, 4, 4, 3]\r\n",
        "\r\n",
        "print(check_monotonic(v_list))\r\n"
      ],
      "execution_count": 79,
      "outputs": [
        {
          "output_type": "stream",
          "text": [
            "True\n"
          ],
          "name": "stdout"
        }
      ]
    },
    {
      "cell_type": "code",
      "metadata": {
        "colab": {
          "base_uri": "https://localhost:8080/"
        },
        "id": "Vu85ol6cMaTH",
        "outputId": "7557305b-38c9-4cbf-9762-f816568f6b9d"
      },
      "source": [
        "# Write a function to check if a given string is Pangram or not. Write the program using a for loop \r\n",
        "# A pangram is a sentence containing every letter in the English Alphabet.\r\n",
        "\r\n",
        "def check_pangram(v_str): \r\n",
        "  alphabet = \"abcdefghijklmnopqrstuvwxyz\"\r\n",
        "  for char in alphabet:\r\n",
        "    if char not in v_str.lower():\r\n",
        "      return False\r\n",
        "  return True\r\n",
        "\r\n",
        "v_string = 'the quick brown fox jumps over the lazy dog'\r\n",
        "print(check_pangram(v_string))"
      ],
      "execution_count": 80,
      "outputs": [
        {
          "output_type": "stream",
          "text": [
            "True\n"
          ],
          "name": "stdout"
        }
      ]
    },
    {
      "cell_type": "code",
      "metadata": {
        "colab": {
          "base_uri": "https://localhost:8080/"
        },
        "id": "2flgalS7NPQK",
        "outputId": "e77af163-a05f-47ef-fcc6-e17b4c4df467"
      },
      "source": [
        "# Write a function to check if a given string is Pangram or not. Write the program using a lambda function in a single line\r\n",
        "\r\n",
        "alphabet = \"abcdefghijklmnopqrstuvwxyz\"\r\n",
        "\r\n",
        "v_string = 'the quick brown fox jumps over the lazy dog' \r\n",
        "\r\n",
        "print(all(list(map(lambda a: True if a in v_string else False, alphabet))))\r\n",
        "\r\n",
        "v_string = 'the quick brown fox jumps over the lazy'\r\n",
        "\r\n",
        "print(all(list(map(lambda a: True if a in v_string else False, alphabet))))"
      ],
      "execution_count": 81,
      "outputs": [
        {
          "output_type": "stream",
          "text": [
            "True\n",
            "False\n"
          ],
          "name": "stdout"
        }
      ]
    },
    {
      "cell_type": "code",
      "metadata": {
        "id": "Va0hd8qJPUVV"
      },
      "source": [
        ""
      ],
      "execution_count": null,
      "outputs": []
    },
    {
      "cell_type": "code",
      "metadata": {
        "id": "hmBxwmxIPUFt"
      },
      "source": [
        ""
      ],
      "execution_count": null,
      "outputs": []
    }
  ]
}