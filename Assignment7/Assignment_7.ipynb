{
  "nbformat": 4,
  "nbformat_minor": 0,
  "metadata": {
    "colab": {
      "name": "Assignment 7b.ipynb",
      "provenance": [],
      "collapsed_sections": [],
      "toc_visible": true
    },
    "kernelspec": {
      "name": "python3",
      "display_name": "Python 3"
    },
    "accelerator": "GPU"
  },
  "cells": [
    {
      "cell_type": "markdown",
      "metadata": {
        "id": "GYiRsFGD6iUC"
      },
      "source": [
        "# 0 TorchText"
      ]
    },
    {
      "cell_type": "markdown",
      "metadata": {
        "id": "tp5IzBGsPGHs"
      },
      "source": [
        "## Dataset Preview\n",
        "\n",
        "Your first step to deep learning in NLP. We will be mostly using PyTorch. Just like torchvision, PyTorch provides an official library, torchtext, for handling text-processing pipelines. \n",
        "\n",
        "We will be using previous session tweet dataset. Let's just preview the dataset."
      ]
    },
    {
      "cell_type": "code",
      "metadata": {
        "colab": {
          "base_uri": "https://localhost:8080/"
        },
        "id": "YKLIDmto9-Jd",
        "outputId": "7a89041f-0246-4ac9-ec2d-a9f2d45b0974"
      },
      "source": [
        "!pip install google_trans_new"
      ],
      "execution_count": 1,
      "outputs": [
        {
          "output_type": "stream",
          "text": [
            "Requirement already satisfied: google_trans_new in /usr/local/lib/python3.6/dist-packages (1.1.9)\n"
          ],
          "name": "stdout"
        }
      ]
    },
    {
      "cell_type": "code",
      "metadata": {
        "colab": {
          "base_uri": "https://localhost:8080/"
        },
        "id": "PW8bFvGS9-3F",
        "outputId": "3ecfe288-323f-4e97-ef02-f85474f09188"
      },
      "source": [
        "!pip install PyDictionary "
      ],
      "execution_count": 2,
      "outputs": [
        {
          "output_type": "stream",
          "text": [
            "Requirement already satisfied: PyDictionary in /usr/local/lib/python3.6/dist-packages (2.0.1)\n",
            "Requirement already satisfied: goslate in /usr/local/lib/python3.6/dist-packages (from PyDictionary) (1.5.1)\n",
            "Requirement already satisfied: click in /usr/local/lib/python3.6/dist-packages (from PyDictionary) (7.1.2)\n",
            "Requirement already satisfied: requests in /usr/local/lib/python3.6/dist-packages (from PyDictionary) (2.23.0)\n",
            "Requirement already satisfied: bs4 in /usr/local/lib/python3.6/dist-packages (from PyDictionary) (0.0.1)\n",
            "Requirement already satisfied: futures in /usr/local/lib/python3.6/dist-packages (from goslate->PyDictionary) (3.1.1)\n",
            "Requirement already satisfied: idna<3,>=2.5 in /usr/local/lib/python3.6/dist-packages (from requests->PyDictionary) (2.10)\n",
            "Requirement already satisfied: certifi>=2017.4.17 in /usr/local/lib/python3.6/dist-packages (from requests->PyDictionary) (2020.12.5)\n",
            "Requirement already satisfied: urllib3!=1.25.0,!=1.25.1,<1.26,>=1.21.1 in /usr/local/lib/python3.6/dist-packages (from requests->PyDictionary) (1.24.3)\n",
            "Requirement already satisfied: chardet<4,>=3.0.2 in /usr/local/lib/python3.6/dist-packages (from requests->PyDictionary) (3.0.4)\n",
            "Requirement already satisfied: beautifulsoup4 in /usr/local/lib/python3.6/dist-packages (from bs4->PyDictionary) (4.6.3)\n"
          ],
          "name": "stdout"
        }
      ]
    },
    {
      "cell_type": "code",
      "metadata": {
        "id": "zpjUGANrpnrE"
      },
      "source": [
        "#CUDA_LAUNCH_BLOCKING=1\r\n",
        "import warnings\r\n",
        "warnings.filterwarnings(\"ignore\")\r\n",
        "import spacy\r\n",
        "nlp = spacy.load('en')\r\n",
        "import random\r\n",
        "from nltk.corpus import wordnet\r\n",
        "from PyDictionary import PyDictionary"
      ],
      "execution_count": 3,
      "outputs": []
    },
    {
      "cell_type": "code",
      "metadata": {
        "id": "o1-Yz-5RRFYc",
        "colab": {
          "base_uri": "https://localhost:8080/",
          "height": 202
        },
        "outputId": "2b67cbc4-e3ea-4af2-af46-e2daa24cf71d"
      },
      "source": [
        "import pandas as pd\n",
        "df1 = pd.read_csv('datasetSentences.txt', sep = '\\t')\n",
        "df1.head()"
      ],
      "execution_count": 4,
      "outputs": [
        {
          "output_type": "execute_result",
          "data": {
            "text/html": [
              "<div>\n",
              "<style scoped>\n",
              "    .dataframe tbody tr th:only-of-type {\n",
              "        vertical-align: middle;\n",
              "    }\n",
              "\n",
              "    .dataframe tbody tr th {\n",
              "        vertical-align: top;\n",
              "    }\n",
              "\n",
              "    .dataframe thead th {\n",
              "        text-align: right;\n",
              "    }\n",
              "</style>\n",
              "<table border=\"1\" class=\"dataframe\">\n",
              "  <thead>\n",
              "    <tr style=\"text-align: right;\">\n",
              "      <th></th>\n",
              "      <th>sentence_index</th>\n",
              "      <th>sentence</th>\n",
              "    </tr>\n",
              "  </thead>\n",
              "  <tbody>\n",
              "    <tr>\n",
              "      <th>0</th>\n",
              "      <td>1</td>\n",
              "      <td>The Rock is destined to be the 21st Century 's...</td>\n",
              "    </tr>\n",
              "    <tr>\n",
              "      <th>1</th>\n",
              "      <td>2</td>\n",
              "      <td>The gorgeously elaborate continuation of `` Th...</td>\n",
              "    </tr>\n",
              "    <tr>\n",
              "      <th>2</th>\n",
              "      <td>3</td>\n",
              "      <td>Effective but too-tepid biopic</td>\n",
              "    </tr>\n",
              "    <tr>\n",
              "      <th>3</th>\n",
              "      <td>4</td>\n",
              "      <td>If you sometimes like to go to the movies to h...</td>\n",
              "    </tr>\n",
              "    <tr>\n",
              "      <th>4</th>\n",
              "      <td>5</td>\n",
              "      <td>Emerges as something rare , an issue movie tha...</td>\n",
              "    </tr>\n",
              "  </tbody>\n",
              "</table>\n",
              "</div>"
            ],
            "text/plain": [
              "   sentence_index                                           sentence\n",
              "0               1  The Rock is destined to be the 21st Century 's...\n",
              "1               2  The gorgeously elaborate continuation of `` Th...\n",
              "2               3                     Effective but too-tepid biopic\n",
              "3               4  If you sometimes like to go to the movies to h...\n",
              "4               5  Emerges as something rare , an issue movie tha..."
            ]
          },
          "metadata": {
            "tags": []
          },
          "execution_count": 4
        }
      ]
    },
    {
      "cell_type": "code",
      "metadata": {
        "colab": {
          "base_uri": "https://localhost:8080/",
          "height": 202
        },
        "id": "R1ZKCjrFjzoT",
        "outputId": "fbe7f78d-9a39-4f13-cddc-e64932f07b46"
      },
      "source": [
        "df2 = pd.read_csv('datasetSplit.txt', sep = ',')\r\n",
        "df2.head()"
      ],
      "execution_count": 5,
      "outputs": [
        {
          "output_type": "execute_result",
          "data": {
            "text/html": [
              "<div>\n",
              "<style scoped>\n",
              "    .dataframe tbody tr th:only-of-type {\n",
              "        vertical-align: middle;\n",
              "    }\n",
              "\n",
              "    .dataframe tbody tr th {\n",
              "        vertical-align: top;\n",
              "    }\n",
              "\n",
              "    .dataframe thead th {\n",
              "        text-align: right;\n",
              "    }\n",
              "</style>\n",
              "<table border=\"1\" class=\"dataframe\">\n",
              "  <thead>\n",
              "    <tr style=\"text-align: right;\">\n",
              "      <th></th>\n",
              "      <th>sentence_index</th>\n",
              "      <th>splitset_label</th>\n",
              "    </tr>\n",
              "  </thead>\n",
              "  <tbody>\n",
              "    <tr>\n",
              "      <th>0</th>\n",
              "      <td>1</td>\n",
              "      <td>1</td>\n",
              "    </tr>\n",
              "    <tr>\n",
              "      <th>1</th>\n",
              "      <td>2</td>\n",
              "      <td>1</td>\n",
              "    </tr>\n",
              "    <tr>\n",
              "      <th>2</th>\n",
              "      <td>3</td>\n",
              "      <td>2</td>\n",
              "    </tr>\n",
              "    <tr>\n",
              "      <th>3</th>\n",
              "      <td>4</td>\n",
              "      <td>2</td>\n",
              "    </tr>\n",
              "    <tr>\n",
              "      <th>4</th>\n",
              "      <td>5</td>\n",
              "      <td>2</td>\n",
              "    </tr>\n",
              "  </tbody>\n",
              "</table>\n",
              "</div>"
            ],
            "text/plain": [
              "   sentence_index  splitset_label\n",
              "0               1               1\n",
              "1               2               1\n",
              "2               3               2\n",
              "3               4               2\n",
              "4               5               2"
            ]
          },
          "metadata": {
            "tags": []
          },
          "execution_count": 5
        }
      ]
    },
    {
      "cell_type": "code",
      "metadata": {
        "colab": {
          "base_uri": "https://localhost:8080/",
          "height": 202
        },
        "id": "usLrwt6rj_b-",
        "outputId": "533a1c5c-5004-4d3d-a9a8-ad83c3558f74"
      },
      "source": [
        "df3 = pd.read_csv('sentiment_labels.txt', sep = '|')\r\n",
        "df3.head()"
      ],
      "execution_count": 6,
      "outputs": [
        {
          "output_type": "execute_result",
          "data": {
            "text/html": [
              "<div>\n",
              "<style scoped>\n",
              "    .dataframe tbody tr th:only-of-type {\n",
              "        vertical-align: middle;\n",
              "    }\n",
              "\n",
              "    .dataframe tbody tr th {\n",
              "        vertical-align: top;\n",
              "    }\n",
              "\n",
              "    .dataframe thead th {\n",
              "        text-align: right;\n",
              "    }\n",
              "</style>\n",
              "<table border=\"1\" class=\"dataframe\">\n",
              "  <thead>\n",
              "    <tr style=\"text-align: right;\">\n",
              "      <th></th>\n",
              "      <th>phrase ids</th>\n",
              "      <th>sentiment values</th>\n",
              "    </tr>\n",
              "  </thead>\n",
              "  <tbody>\n",
              "    <tr>\n",
              "      <th>0</th>\n",
              "      <td>0</td>\n",
              "      <td>0.50000</td>\n",
              "    </tr>\n",
              "    <tr>\n",
              "      <th>1</th>\n",
              "      <td>1</td>\n",
              "      <td>0.50000</td>\n",
              "    </tr>\n",
              "    <tr>\n",
              "      <th>2</th>\n",
              "      <td>2</td>\n",
              "      <td>0.44444</td>\n",
              "    </tr>\n",
              "    <tr>\n",
              "      <th>3</th>\n",
              "      <td>3</td>\n",
              "      <td>0.50000</td>\n",
              "    </tr>\n",
              "    <tr>\n",
              "      <th>4</th>\n",
              "      <td>4</td>\n",
              "      <td>0.42708</td>\n",
              "    </tr>\n",
              "  </tbody>\n",
              "</table>\n",
              "</div>"
            ],
            "text/plain": [
              "   phrase ids  sentiment values\n",
              "0           0           0.50000\n",
              "1           1           0.50000\n",
              "2           2           0.44444\n",
              "3           3           0.50000\n",
              "4           4           0.42708"
            ]
          },
          "metadata": {
            "tags": []
          },
          "execution_count": 6
        }
      ]
    },
    {
      "cell_type": "code",
      "metadata": {
        "colab": {
          "base_uri": "https://localhost:8080/",
          "height": 355
        },
        "id": "zDJcr-8dkOLQ",
        "outputId": "a3a4549e-cf8a-40f4-ea6b-3182fc77ee81"
      },
      "source": [
        "df3['labels'] = 0\r\n",
        "\r\n",
        "v_range = 5\r\n",
        "\r\n",
        "for i in range(v_range):\r\n",
        "  df3['labels'][(df3['sentiment values'] > i*(1/v_range)) & (df3['sentiment values'] <= (i+1)*(1/v_range))] = i\r\n",
        "\r\n",
        "df3.head(10)\r\n"
      ],
      "execution_count": 7,
      "outputs": [
        {
          "output_type": "execute_result",
          "data": {
            "text/html": [
              "<div>\n",
              "<style scoped>\n",
              "    .dataframe tbody tr th:only-of-type {\n",
              "        vertical-align: middle;\n",
              "    }\n",
              "\n",
              "    .dataframe tbody tr th {\n",
              "        vertical-align: top;\n",
              "    }\n",
              "\n",
              "    .dataframe thead th {\n",
              "        text-align: right;\n",
              "    }\n",
              "</style>\n",
              "<table border=\"1\" class=\"dataframe\">\n",
              "  <thead>\n",
              "    <tr style=\"text-align: right;\">\n",
              "      <th></th>\n",
              "      <th>phrase ids</th>\n",
              "      <th>sentiment values</th>\n",
              "      <th>labels</th>\n",
              "    </tr>\n",
              "  </thead>\n",
              "  <tbody>\n",
              "    <tr>\n",
              "      <th>0</th>\n",
              "      <td>0</td>\n",
              "      <td>0.50000</td>\n",
              "      <td>2</td>\n",
              "    </tr>\n",
              "    <tr>\n",
              "      <th>1</th>\n",
              "      <td>1</td>\n",
              "      <td>0.50000</td>\n",
              "      <td>2</td>\n",
              "    </tr>\n",
              "    <tr>\n",
              "      <th>2</th>\n",
              "      <td>2</td>\n",
              "      <td>0.44444</td>\n",
              "      <td>2</td>\n",
              "    </tr>\n",
              "    <tr>\n",
              "      <th>3</th>\n",
              "      <td>3</td>\n",
              "      <td>0.50000</td>\n",
              "      <td>2</td>\n",
              "    </tr>\n",
              "    <tr>\n",
              "      <th>4</th>\n",
              "      <td>4</td>\n",
              "      <td>0.42708</td>\n",
              "      <td>2</td>\n",
              "    </tr>\n",
              "    <tr>\n",
              "      <th>5</th>\n",
              "      <td>5</td>\n",
              "      <td>0.37500</td>\n",
              "      <td>1</td>\n",
              "    </tr>\n",
              "    <tr>\n",
              "      <th>6</th>\n",
              "      <td>6</td>\n",
              "      <td>0.41667</td>\n",
              "      <td>2</td>\n",
              "    </tr>\n",
              "    <tr>\n",
              "      <th>7</th>\n",
              "      <td>7</td>\n",
              "      <td>0.54167</td>\n",
              "      <td>2</td>\n",
              "    </tr>\n",
              "    <tr>\n",
              "      <th>8</th>\n",
              "      <td>8</td>\n",
              "      <td>0.33333</td>\n",
              "      <td>1</td>\n",
              "    </tr>\n",
              "    <tr>\n",
              "      <th>9</th>\n",
              "      <td>9</td>\n",
              "      <td>0.45833</td>\n",
              "      <td>2</td>\n",
              "    </tr>\n",
              "  </tbody>\n",
              "</table>\n",
              "</div>"
            ],
            "text/plain": [
              "   phrase ids  sentiment values  labels\n",
              "0           0           0.50000       2\n",
              "1           1           0.50000       2\n",
              "2           2           0.44444       2\n",
              "3           3           0.50000       2\n",
              "4           4           0.42708       2\n",
              "5           5           0.37500       1\n",
              "6           6           0.41667       2\n",
              "7           7           0.54167       2\n",
              "8           8           0.33333       1\n",
              "9           9           0.45833       2"
            ]
          },
          "metadata": {
            "tags": []
          },
          "execution_count": 7
        }
      ]
    },
    {
      "cell_type": "code",
      "metadata": {
        "colab": {
          "base_uri": "https://localhost:8080/",
          "height": 237
        },
        "id": "92WSlJh1llF9",
        "outputId": "d60399a1-558c-487b-afbc-16ec8eae5157"
      },
      "source": [
        "df4 = df1.merge(df2, left_on='sentence_index', right_on='sentence_index')\r\n",
        "df = df4.merge(df3, left_on='sentence_index', right_on='phrase ids')\r\n",
        "\r\n",
        "df.head()"
      ],
      "execution_count": 8,
      "outputs": [
        {
          "output_type": "execute_result",
          "data": {
            "text/html": [
              "<div>\n",
              "<style scoped>\n",
              "    .dataframe tbody tr th:only-of-type {\n",
              "        vertical-align: middle;\n",
              "    }\n",
              "\n",
              "    .dataframe tbody tr th {\n",
              "        vertical-align: top;\n",
              "    }\n",
              "\n",
              "    .dataframe thead th {\n",
              "        text-align: right;\n",
              "    }\n",
              "</style>\n",
              "<table border=\"1\" class=\"dataframe\">\n",
              "  <thead>\n",
              "    <tr style=\"text-align: right;\">\n",
              "      <th></th>\n",
              "      <th>sentence_index</th>\n",
              "      <th>sentence</th>\n",
              "      <th>splitset_label</th>\n",
              "      <th>phrase ids</th>\n",
              "      <th>sentiment values</th>\n",
              "      <th>labels</th>\n",
              "    </tr>\n",
              "  </thead>\n",
              "  <tbody>\n",
              "    <tr>\n",
              "      <th>0</th>\n",
              "      <td>1</td>\n",
              "      <td>The Rock is destined to be the 21st Century 's...</td>\n",
              "      <td>1</td>\n",
              "      <td>1</td>\n",
              "      <td>0.50000</td>\n",
              "      <td>2</td>\n",
              "    </tr>\n",
              "    <tr>\n",
              "      <th>1</th>\n",
              "      <td>2</td>\n",
              "      <td>The gorgeously elaborate continuation of `` Th...</td>\n",
              "      <td>1</td>\n",
              "      <td>2</td>\n",
              "      <td>0.44444</td>\n",
              "      <td>2</td>\n",
              "    </tr>\n",
              "    <tr>\n",
              "      <th>2</th>\n",
              "      <td>3</td>\n",
              "      <td>Effective but too-tepid biopic</td>\n",
              "      <td>2</td>\n",
              "      <td>3</td>\n",
              "      <td>0.50000</td>\n",
              "      <td>2</td>\n",
              "    </tr>\n",
              "    <tr>\n",
              "      <th>3</th>\n",
              "      <td>4</td>\n",
              "      <td>If you sometimes like to go to the movies to h...</td>\n",
              "      <td>2</td>\n",
              "      <td>4</td>\n",
              "      <td>0.42708</td>\n",
              "      <td>2</td>\n",
              "    </tr>\n",
              "    <tr>\n",
              "      <th>4</th>\n",
              "      <td>5</td>\n",
              "      <td>Emerges as something rare , an issue movie tha...</td>\n",
              "      <td>2</td>\n",
              "      <td>5</td>\n",
              "      <td>0.37500</td>\n",
              "      <td>1</td>\n",
              "    </tr>\n",
              "  </tbody>\n",
              "</table>\n",
              "</div>"
            ],
            "text/plain": [
              "   sentence_index  ... labels\n",
              "0               1  ...      2\n",
              "1               2  ...      2\n",
              "2               3  ...      2\n",
              "3               4  ...      2\n",
              "4               5  ...      1\n",
              "\n",
              "[5 rows x 6 columns]"
            ]
          },
          "metadata": {
            "tags": []
          },
          "execution_count": 8
        }
      ]
    },
    {
      "cell_type": "code",
      "metadata": {
        "colab": {
          "base_uri": "https://localhost:8080/",
          "height": 49
        },
        "id": "dOEQP2tkmm68",
        "outputId": "a34975de-1a5a-44ca-8223-014e3d456a5f"
      },
      "source": [
        "df[df['sentence_index'] != df['phrase ids']]"
      ],
      "execution_count": 9,
      "outputs": [
        {
          "output_type": "execute_result",
          "data": {
            "text/html": [
              "<div>\n",
              "<style scoped>\n",
              "    .dataframe tbody tr th:only-of-type {\n",
              "        vertical-align: middle;\n",
              "    }\n",
              "\n",
              "    .dataframe tbody tr th {\n",
              "        vertical-align: top;\n",
              "    }\n",
              "\n",
              "    .dataframe thead th {\n",
              "        text-align: right;\n",
              "    }\n",
              "</style>\n",
              "<table border=\"1\" class=\"dataframe\">\n",
              "  <thead>\n",
              "    <tr style=\"text-align: right;\">\n",
              "      <th></th>\n",
              "      <th>sentence_index</th>\n",
              "      <th>sentence</th>\n",
              "      <th>splitset_label</th>\n",
              "      <th>phrase ids</th>\n",
              "      <th>sentiment values</th>\n",
              "      <th>labels</th>\n",
              "    </tr>\n",
              "  </thead>\n",
              "  <tbody>\n",
              "  </tbody>\n",
              "</table>\n",
              "</div>"
            ],
            "text/plain": [
              "Empty DataFrame\n",
              "Columns: [sentence_index, sentence, splitset_label, phrase ids, sentiment values, labels]\n",
              "Index: []"
            ]
          },
          "metadata": {
            "tags": []
          },
          "execution_count": 9
        }
      ]
    },
    {
      "cell_type": "code",
      "metadata": {
        "id": "R7JdpCW-YbAG",
        "colab": {
          "base_uri": "https://localhost:8080/"
        },
        "outputId": "d008afa5-e4a1-4aaa-a432-4c1bc58e8346"
      },
      "source": [
        "df.shape"
      ],
      "execution_count": 10,
      "outputs": [
        {
          "output_type": "execute_result",
          "data": {
            "text/plain": [
              "(11856, 6)"
            ]
          },
          "metadata": {
            "tags": []
          },
          "execution_count": 10
        }
      ]
    },
    {
      "cell_type": "code",
      "metadata": {
        "id": "zqRsoF6xYdgl",
        "colab": {
          "base_uri": "https://localhost:8080/"
        },
        "outputId": "4a731700-d5b5-4833-b7f8-9a18cc4736b9"
      },
      "source": [
        "df.labels.value_counts()"
      ],
      "execution_count": 11,
      "outputs": [
        {
          "output_type": "execute_result",
          "data": {
            "text/plain": [
              "2    6240\n",
              "1    2175\n",
              "3    2139\n",
              "4     663\n",
              "0     639\n",
              "Name: labels, dtype: int64"
            ]
          },
          "metadata": {
            "tags": []
          },
          "execution_count": 11
        }
      ]
    },
    {
      "cell_type": "code",
      "metadata": {
        "id": "KpLSHRhNDhD6"
      },
      "source": [
        "df_train =  df[df['splitset_label'] == 1]\r\n",
        "df_valid =  df[df['splitset_label'] == 3]\r\n",
        "df_test =  df[df['splitset_label'] == 2]\r\n"
      ],
      "execution_count": 12,
      "outputs": []
    },
    {
      "cell_type": "code",
      "metadata": {
        "id": "lm2tQf08DAll"
      },
      "source": [
        "df_train = df_train.reset_index(drop = True)\r\n",
        "df_valid = df_valid.reset_index(drop = True)\r\n",
        "df_test = df_test.reset_index(drop = True)\r\n",
        "df_temp = df_train.copy()"
      ],
      "execution_count": 13,
      "outputs": []
    },
    {
      "cell_type": "markdown",
      "metadata": {
        "id": "QuSeityC4qEt"
      },
      "source": [
        "# Find a synonym and replace few words and add those lines to the dataset"
      ]
    },
    {
      "cell_type": "code",
      "metadata": {
        "id": "xqu6qk5MC-nB"
      },
      "source": [
        "my_stopwords = nlp.Defaults.stop_words\r\n",
        "dictionary=PyDictionary()\r\n",
        "\r\n",
        "def get_synonyms(word):\r\n",
        "  punctuations = '''!()-[]{};:'\"\\,<>./?@#$%^&*_~'''\r\n",
        "  if word in punctuations:\r\n",
        "    return word\r\n",
        "  v_synonym = dictionary.synonym(word)\r\n",
        "  \r\n",
        "  if (v_synonym is not None):\r\n",
        "    return v_synonym[0]\r\n",
        "  else:\r\n",
        "    return word\r\n",
        "\r\n",
        "def remove_stopwords(sentence):\r\n",
        "    tokens = sentence.split(\" \")\r\n",
        "    tokens_filtered= [word for word in tokens if not word in my_stopwords]\r\n",
        "    return (\" \").join(tokens_filtered)\r\n",
        "\r\n",
        "def random_insertion(sentence, n): \r\n",
        "    words = remove_stopwords(sentence) \r\n",
        "    for _ in range(n):\r\n",
        "        tokens = words.split(\" \")\r\n",
        "        temp = random.choice(tokens)\r\n",
        "        new_synonym = get_synonyms(temp)\r\n",
        "        sentence = sentence.replace(temp, new_synonym)\r\n",
        "    return sentence"
      ],
      "execution_count": 14,
      "outputs": []
    },
    {
      "cell_type": "code",
      "metadata": {
        "colab": {
          "base_uri": "https://localhost:8080/"
        },
        "id": "GbGE3ZhDDUQl",
        "outputId": "97782685-1332-4316-8a98-347975e29453"
      },
      "source": [
        "v_len = df_temp.shape[0]\r\n",
        "\r\n",
        "for i in range(int(v_len/10)):\r\n",
        "  row = random.randint(0, v_len)\r\n",
        "  df_temp['sentence'][row] = random_insertion(df_temp['sentence'][row], 5)\r\n",
        "  if (i%100 == 0):\r\n",
        "    print(i)\r\n",
        "  \r\n",
        "\r\n",
        "#df_train1 = df_train.append(df_temp[0])\r\n"
      ],
      "execution_count": 15,
      "outputs": [
        {
          "output_type": "stream",
          "text": [
            "0\n",
            "completist has no Synonyms in the API\n",
            "`` has no Synonyms in the API\n",
            "` has no Synonyms in the API\n",
            "suspenser has no Synonyms in the API\n",
            "-LRB- has no Synonyms in the API\n",
            "Jeff has no Synonyms in the API\n",
            "Edmund has no Synonyms in the API\n",
            "His has no Synonyms in the API\n",
            "Deuces has no Synonyms in the API\n",
            "... has no Synonyms in the API\n",
            "... has no Synonyms in the API\n",
            "... has no Synonyms in the API\n",
            "-- has no Synonyms in the API\n",
            "Samira has no Synonyms in the API\n",
            "Samira has no Synonyms in the API\n",
            "Makhmalbaf has no Synonyms in the API\n",
            "-- has no Synonyms in the API\n",
            "-- has no Synonyms in the API\n",
            "Paradiso has no Synonyms in the API\n",
            "1989 has no Synonyms in the API\n",
            "clichÃ© has no Synonyms in the API\n",
            "clichÃ© has no Synonyms in the API\n",
            "Snipes has no Synonyms in the API\n",
            "Secrets has no Synonyms in the API\n",
            "-RRB- has no Synonyms in the API\n",
            "Kapur has no Synonyms in the API\n",
            "These has no Synonyms in the API\n",
            "These has no Synonyms in the API\n",
            "That has no Synonyms in the API\n",
            "`` has no Synonyms in the API\n",
            "`` has no Synonyms in the API\n",
            "Sirk has no Synonyms in the API\n",
            "... has no Synonyms in the API\n",
            "... has no Synonyms in the API\n",
            "... has no Synonyms in the API\n",
            "storytelling has no Synonyms in the API\n",
            "handsomely has no Synonyms in the API\n",
            "handsomely has no Synonyms in the API\n",
            "suburban has no Synonyms in the API\n",
            "Kevin has no Synonyms in the API\n",
            "... has no Synonyms in the API\n",
            "legislative has no Synonyms in the API\n",
            "-LRB- has no Synonyms in the API\n",
            "Manages has no Synonyms in the API\n",
            "-- has no Synonyms in the API\n",
            "-- has no Synonyms in the API\n",
            "That has no Synonyms in the API\n",
            "1986 has no Synonyms in the API\n",
            "1986 has no Synonyms in the API\n",
            "1986 has no Synonyms in the API\n",
            "outgag has no Synonyms in the API\n",
            "100\n",
            "Alexandre has no Synonyms in the API\n",
            "Alexandre has no Synonyms in the API\n",
            "Caine has no Synonyms in the API\n",
            "-LRB- has no Synonyms in the API\n",
            "-RRB- has no Synonyms in the API\n",
            "If has no Synonyms in the API\n",
            "Where has no Synonyms in the API\n",
            "'40s has no Synonyms in the API\n",
            "unbearably has no Synonyms in the API\n",
            "unbearably has no Synonyms in the API\n",
            "... has no Synonyms in the API\n",
            "Egoyan has no Synonyms in the API\n",
            "storytelling has no Synonyms in the API\n",
            "breathtakingly has no Synonyms in the API\n",
            "postapocalyptic has no Synonyms in the API\n",
            "postapocalyptic has no Synonyms in the API\n",
            "They has no Synonyms in the API\n",
            "... has no Synonyms in the API\n",
            "Error: A Term must be only a single word\n",
            "If has no Synonyms in the API\n",
            "If has no Synonyms in the API\n",
            "Sara has no Synonyms in the API\n",
            "1994 has no Synonyms in the API\n",
            "They has no Synonyms in the API\n",
            "` has no Synonyms in the API\n",
            "dungpile has no Synonyms in the API\n",
            "dungpile has no Synonyms in the API\n",
            "Seems has no Synonyms in the API\n",
            "Did has no Synonyms in the API\n",
            "Did has no Synonyms in the API\n",
            "Equlibrium has no Synonyms in the API\n",
            "1984 has no Synonyms in the API\n",
            "Equlibrium has no Synonyms in the API\n",
            "Farenheit has no Synonyms in the API\n",
            "ANTWONE has no Synonyms in the API\n",
            "Antwone has no Synonyms in the API\n",
            "ANTWONE has no Synonyms in the API\n",
            "Fangoria has no Synonyms in the API\n",
            "Fangoria has no Synonyms in the API\n",
            "200\n",
            "forcefully has no Synonyms in the API\n",
            "Vibrantly has no Synonyms in the API\n",
            "Tends has no Synonyms in the API\n",
            "Steve has no Synonyms in the API\n",
            "Terri has no Synonyms in the API\n",
            "Steven has no Synonyms in the API\n",
            "Ayurveda has no Synonyms in the API\n",
            "paradoxically has no Synonyms in the API\n",
            "greatly has no Synonyms in the API\n",
            "Bielinsky has no Synonyms in the API\n",
            "Bielinsky has no Synonyms in the API\n",
            "gonna has no Synonyms in the API\n",
            "If has no Synonyms in the API\n",
            "... has no Synonyms in the API\n",
            "... has no Synonyms in the API\n",
            "... has no Synonyms in the API\n",
            "... has no Synonyms in the API\n",
            "Ignoring has no Synonyms in the API\n",
            "Ignoring has no Synonyms in the API\n",
            "Ignoring has no Synonyms in the API\n",
            "Seen has no Synonyms in the API\n",
            "Curves has no Synonyms in the API\n",
            "noir has no Synonyms in the API\n",
            "` has no Synonyms in the API\n",
            "These has no Synonyms in the API\n",
            "-RRB- has no Synonyms in the API\n",
            "-RRB- has no Synonyms in the API\n",
            "-LRB- has no Synonyms in the API\n",
            "-RRB- has no Synonyms in the API\n",
            "Suffers has no Synonyms in the API\n",
            "Suffers has no Synonyms in the API\n",
            "Suffers has no Synonyms in the API\n",
            "Wars has no Synonyms in the API\n",
            "Wars has no Synonyms in the API\n",
            "This has no Synonyms in the API\n",
            "thematic has no Synonyms in the API\n",
            "thematic has no Synonyms in the API\n",
            "IMAX has no Synonyms in the API\n",
            "Sergio has no Synonyms in the API\n",
            "This has no Synonyms in the API\n",
            "Is has no Synonyms in the API\n",
            "... has no Synonyms in the API\n",
            "-RRB- has no Synonyms in the API\n",
            "... has no Synonyms in the API\n",
            "Bella has no Synonyms in the API\n",
            "... has no Synonyms in the API\n",
            "This has no Synonyms in the API\n",
            "archival has no Synonyms in the API\n",
            "C.H.O. has no Synonyms in the API\n",
            "Nicholson has no Synonyms in the API\n",
            "Is has no Synonyms in the API\n",
            "300\n",
            "Chaiken has no Synonyms in the API\n",
            "Chaiken has no Synonyms in the API\n",
            "Pinocchio has no Synonyms in the API\n",
            "Spader has no Synonyms in the API\n",
            "'' has no Synonyms in the API\n",
            "'' has no Synonyms in the API\n",
            "This has no Synonyms in the API\n",
            "` has no Synonyms in the API\n",
            "blissfully has no Synonyms in the API\n",
            "-RRB- has no Synonyms in the API\n",
            "-LRB- has no Synonyms in the API\n",
            "-LRB- has no Synonyms in the API\n",
            "'70s has no Synonyms in the API\n",
            "... has no Synonyms in the API\n",
            "-LRB- has no Synonyms in the API\n",
            "-RRB- has no Synonyms in the API\n",
            "baaaaaaaaad has no Synonyms in the API\n",
            "baaaaaaaaad has no Synonyms in the API\n",
            "overboard has no Synonyms in the API\n",
            "overboard has no Synonyms in the API\n",
            "-- has no Synonyms in the API\n",
            "Gets has no Synonyms in the API\n",
            "Twohy has no Synonyms in the API\n",
            "ditsy has no Synonyms in the API\n",
            "That has no Synonyms in the API\n",
            "` has no Synonyms in the API\n",
            "-- has no Synonyms in the API\n",
            "Hanussen has no Synonyms in the API\n",
            "Filmmakers has no Synonyms in the API\n",
            "Birot has no Synonyms in the API\n",
            "-RRB- has no Synonyms in the API\n",
            "400\n",
            "Oliveira has no Synonyms in the API\n",
            "Kids has no Synonyms in the API\n",
            "That has no Synonyms in the API\n",
            "'' has no Synonyms in the API\n",
            "That has no Synonyms in the API\n",
            "1990 has no Synonyms in the API\n",
            "Mariah has no Synonyms in the API\n",
            "... has no Synonyms in the API\n",
            "divertissement has no Synonyms in the API\n",
            "Attal has no Synonyms in the API\n",
            "-- has no Synonyms in the API\n",
            "Costner has no Synonyms in the API\n",
            "Kevin has no Synonyms in the API\n",
            "Shadyac has no Synonyms in the API\n",
            "-- has no Synonyms in the API\n",
            "Cho has no Synonyms in the API\n",
            "` has no Synonyms in the API\n",
            "` has no Synonyms in the API\n",
            "winningly has no Synonyms in the API\n",
            "winningly has no Synonyms in the API\n",
            "Quotations has no Synonyms in the API\n",
            "-- has no Synonyms in the API\n",
            "Serrault has no Synonyms in the API\n",
            "` has no Synonyms in the API\n",
            "anybody has no Synonyms in the API\n",
            "anybody has no Synonyms in the API\n",
            "... has no Synonyms in the API\n",
            "'' has no Synonyms in the API\n",
            "`` has no Synonyms in the API\n",
            "... has no Synonyms in the API\n",
            "`` has no Synonyms in the API\n",
            "Fessenden has no Synonyms in the API\n",
            "Holm has no Synonyms in the API\n",
            "Holm has no Synonyms in the API\n",
            "Naipaul has no Synonyms in the API\n",
            "Mel has no Synonyms in the API\n",
            "Mel has no Synonyms in the API\n",
            "Curves has no Synonyms in the API\n",
            "Denis has no Synonyms in the API\n",
            "If has no Synonyms in the API\n",
            "directorial has no Synonyms in the API\n",
            "Fresnadillo has no Synonyms in the API\n",
            "Fresnadillo has no Synonyms in the API\n",
            "Tambor has no Synonyms in the API\n",
            "Kids has no Synonyms in the API\n",
            "500\n",
            "Anakin has no Synonyms in the API\n",
            "-- has no Synonyms in the API\n",
            "likably has no Synonyms in the API\n",
            "E.T. has no Synonyms in the API\n",
            "... has no Synonyms in the API\n",
            "... has no Synonyms in the API\n",
            "What has no Synonyms in the API\n",
            "What has no Synonyms in the API\n",
            "What has no Synonyms in the API\n",
            "What has no Synonyms in the API\n",
            "Clooney has no Synonyms in the API\n",
            "... has no Synonyms in the API\n",
            "Clooney has no Synonyms in the API\n",
            "markedly has no Synonyms in the API\n",
            "generational has no Synonyms in the API\n",
            "Caddyshack has no Synonyms in the API\n",
            "-LRB- has no Synonyms in the API\n",
            "... has no Synonyms in the API\n",
            "... has no Synonyms in the API\n",
            "Sandra has no Synonyms in the API\n",
            "This has no Synonyms in the API\n",
            "This has no Synonyms in the API\n",
            "politically has no Synonyms in the API\n",
            "Kidman has no Synonyms in the API\n",
            "Kidman has no Synonyms in the API\n",
            "Morvern has no Synonyms in the API\n",
            "Sayles has no Synonyms in the API\n",
            "von has no Synonyms in the API\n",
            "vibrance has no Synonyms in the API\n",
            "vibrance has no Synonyms in the API\n",
            "Everyone has no Synonyms in the API\n",
            "Benigni has no Synonyms in the API\n",
            "Michele has no Synonyms in the API\n",
            "-- has no Synonyms in the API\n",
            "derivativeness has no Synonyms in the API\n",
            "albeit has no Synonyms in the API\n",
            "... has no Synonyms in the API\n",
            "dramedy has no Synonyms in the API\n",
            "-LRB- has no Synonyms in the API\n",
            "-LRB- has no Synonyms in the API\n",
            "They has no Synonyms in the API\n",
            "'' has no Synonyms in the API\n",
            "Tends has no Synonyms in the API\n",
            "Gere has no Synonyms in the API\n",
            "-RRB- has no Synonyms in the API\n",
            "Elizabethans has no Synonyms in the API\n",
            "Wars has no Synonyms in the API\n",
            "... has no Synonyms in the API\n",
            "-LRB- has no Synonyms in the API\n",
            "-RRB- has no Synonyms in the API\n",
            "That has no Synonyms in the API\n",
            "That has no Synonyms in the API\n",
            "Morvern has no Synonyms in the API\n",
            "600\n",
            "-LRB- has no Synonyms in the API\n",
            "-LRB- has no Synonyms in the API\n",
            "Maryam has no Synonyms in the API\n",
            "That has no Synonyms in the API\n",
            "What has no Synonyms in the API\n",
            "Lecter has no Synonyms in the API\n",
            "forcefully has no Synonyms in the API\n",
            "shockingly has no Synonyms in the API\n",
            "Majidi has no Synonyms in the API\n",
            "-RRB- has no Synonyms in the API\n",
            "-LRB- has no Synonyms in the API\n",
            "Malkovich has no Synonyms in the API\n",
            "showboating has no Synonyms in the API\n",
            "unbearably has no Synonyms in the API\n",
            "Qualities has no Synonyms in the API\n",
            "Qualities has no Synonyms in the API\n",
            "Qualities has no Synonyms in the API\n",
            "If has no Synonyms in the API\n",
            "awkwardly has no Synonyms in the API\n",
            "comically has no Synonyms in the API\n",
            "farcically has no Synonyms in the API\n",
            "Combines has no Synonyms in the API\n",
            "Craig has no Synonyms in the API\n",
            "Craig has no Synonyms in the API\n",
            "visually has no Synonyms in the API\n",
            "-- has no Synonyms in the API\n",
            "rez has no Synonyms in the API\n",
            "uneventful has no Synonyms in the API\n",
            "... has no Synonyms in the API\n",
            "Sets has no Synonyms in the API\n",
            "Alagna has no Synonyms in the API\n",
            "Angela has no Synonyms in the API\n",
            "Sy has no Synonyms in the API\n",
            "Norton has no Synonyms in the API\n",
            "Norton has no Synonyms in the API\n",
            "Compellingly has no Synonyms in the API\n",
            "watchable has no Synonyms in the API\n",
            "watchable has no Synonyms in the API\n",
            "700\n",
            "... has no Synonyms in the API\n",
            "'' has no Synonyms in the API\n",
            "-- has no Synonyms in the API\n",
            "-RRB- has no Synonyms in the API\n",
            "-RRB- has no Synonyms in the API\n",
            "Soderbergh has no Synonyms in the API\n",
            "This has no Synonyms in the API\n",
            "This has no Synonyms in the API\n",
            "allegedly has no Synonyms in the API\n",
            "allegedly has no Synonyms in the API\n",
            "Were has no Synonyms in the API\n",
            "Were has no Synonyms in the API\n",
            "Were has no Synonyms in the API\n",
            "Michell has no Synonyms in the API\n",
            "Roger has no Synonyms in the API\n",
            "Michell has no Synonyms in the API\n",
            "paradoxically has no Synonyms in the API\n",
            "filmmaking has no Synonyms in the API\n",
            "-RRB- has no Synonyms in the API\n",
            "timeout has no Synonyms in the API\n",
            "... has no Synonyms in the API\n",
            "... has no Synonyms in the API\n",
            "... has no Synonyms in the API\n",
            "Chan has no Synonyms in the API\n",
            "ironically has no Synonyms in the API\n",
            "ardently has no Synonyms in the API\n",
            "insufficiently has no Synonyms in the API\n",
            "Drowning has no Synonyms in the API\n",
            "Britney has no Synonyms in the API\n",
            "-RRB- has no Synonyms in the API\n",
            "modestly has no Synonyms in the API\n",
            "modestly has no Synonyms in the API\n",
            "nicely has no Synonyms in the API\n",
            "` has no Synonyms in the API\n",
            "Ritchie has no Synonyms in the API\n",
            "logically has no Synonyms in the API\n",
            "`` has no Synonyms in the API\n",
            "` has no Synonyms in the API\n",
            "Caverns has no Synonyms in the API\n",
            "They has no Synonyms in the API\n",
            "This has no Synonyms in the API\n",
            "800\n",
            "Caviezel has no Synonyms in the API\n",
            "` has no Synonyms in the API\n",
            "predictably has no Synonyms in the API\n",
            "Toes has no Synonyms in the API\n",
            "unblinkingly has no Synonyms in the API\n",
            "directorial has no Synonyms in the API\n",
            "directorial has no Synonyms in the API\n",
            "Confessions has no Synonyms in the API\n",
            "Guys has no Synonyms in the API\n",
            "-- has no Synonyms in the API\n",
            "nonjudgmental has no Synonyms in the API\n",
            "This has no Synonyms in the API\n",
            "If has no Synonyms in the API\n",
            "... has no Synonyms in the API\n",
            "Succeeds has no Synonyms in the API\n",
            "... has no Synonyms in the API\n",
            "Chabrol has no Synonyms in the API\n",
            "... has no Synonyms in the API\n",
            "We has no Synonyms in the API\n",
            "C'mon has no Synonyms in the API\n",
            "C'mon has no Synonyms in the API\n",
            "C'mon has no Synonyms in the API\n",
            "filmmaking has no Synonyms in the API\n",
            "This has no Synonyms in the API\n",
            "We has no Synonyms in the API\n",
            "Predictably has no Synonyms in the API\n",
            "When has no Synonyms in the API\n",
            "inexplicably has no Synonyms in the API\n"
          ],
          "name": "stdout"
        }
      ]
    },
    {
      "cell_type": "markdown",
      "metadata": {
        "id": "H8_munfn4tSF"
      },
      "source": [
        "# Randomly swap few words in the lines to change structure of the sentence"
      ]
    },
    {
      "cell_type": "code",
      "metadata": {
        "id": "rQKQ2E1m4q6L"
      },
      "source": [
        "def random_swap(sentence, n=5): \r\n",
        "    #length = range(len(sentence)) \r\n",
        "    tokens = sentence.split(\" \")\r\n",
        "    length = len(tokens)\r\n",
        "    for _ in range(n):\r\n",
        "        idx1, idx2 = random.sample(range(length), 2)\r\n",
        "        tokens[idx1], tokens[idx2] = tokens[idx2], tokens[idx1] \r\n",
        "    return  (\" \").join(tokens)"
      ],
      "execution_count": 16,
      "outputs": []
    },
    {
      "cell_type": "code",
      "metadata": {
        "colab": {
          "base_uri": "https://localhost:8080/"
        },
        "id": "CYcuBbSR4yMk",
        "outputId": "1f075d40-b65b-4cfd-f56f-40fb81b91618"
      },
      "source": [
        "for i in range(int(v_len)):\r\n",
        "  df_temp['sentence'][row] = random_swap(df_temp['sentence'][row])\r\n",
        "  \r\n",
        "  if (i%100 == 0):\r\n",
        "    print(i)"
      ],
      "execution_count": 17,
      "outputs": [
        {
          "output_type": "stream",
          "text": [
            "0\n",
            "100\n",
            "200\n",
            "300\n",
            "400\n",
            "500\n",
            "600\n",
            "700\n",
            "800\n",
            "900\n",
            "1000\n",
            "1100\n",
            "1200\n",
            "1300\n",
            "1400\n",
            "1500\n",
            "1600\n",
            "1700\n",
            "1800\n",
            "1900\n",
            "2000\n",
            "2100\n",
            "2200\n",
            "2300\n",
            "2400\n",
            "2500\n",
            "2600\n",
            "2700\n",
            "2800\n",
            "2900\n",
            "3000\n",
            "3100\n",
            "3200\n",
            "3300\n",
            "3400\n",
            "3500\n",
            "3600\n",
            "3700\n",
            "3800\n",
            "3900\n",
            "4000\n",
            "4100\n",
            "4200\n",
            "4300\n",
            "4400\n",
            "4500\n",
            "4600\n",
            "4700\n",
            "4800\n",
            "4900\n",
            "5000\n",
            "5100\n",
            "5200\n",
            "5300\n",
            "5400\n",
            "5500\n",
            "5600\n",
            "5700\n",
            "5800\n",
            "5900\n",
            "6000\n",
            "6100\n",
            "6200\n",
            "6300\n",
            "6400\n",
            "6500\n",
            "6600\n",
            "6700\n",
            "6800\n",
            "6900\n",
            "7000\n",
            "7100\n",
            "7200\n",
            "7300\n",
            "7400\n",
            "7500\n",
            "7600\n",
            "7700\n",
            "7800\n",
            "7900\n",
            "8000\n",
            "8100\n",
            "8200\n",
            "8300\n",
            "8400\n",
            "8500\n"
          ],
          "name": "stdout"
        }
      ]
    },
    {
      "cell_type": "code",
      "metadata": {
        "colab": {
          "base_uri": "https://localhost:8080/"
        },
        "id": "80d7GR9OYm9G",
        "outputId": "791cee10-c622-4c0c-b8c9-2658d0f563ab"
      },
      "source": [
        "df_train1 = df_train.append(df_temp)\r\n",
        "df_train1 = df_train1.reset_index(drop = True)\r\n",
        "df_train1.shape\r\n"
      ],
      "execution_count": 18,
      "outputs": [
        {
          "output_type": "execute_result",
          "data": {
            "text/plain": [
              "(17088, 6)"
            ]
          },
          "metadata": {
            "tags": []
          },
          "execution_count": 18
        }
      ]
    },
    {
      "cell_type": "markdown",
      "metadata": {
        "id": "XJ6o_79ISSVb"
      },
      "source": [
        "## Defining Fields"
      ]
    },
    {
      "cell_type": "markdown",
      "metadata": {
        "id": "e63g08ijOrf7"
      },
      "source": [
        "Now we shall be defining LABEL as a LabelField, which is a subclass of Field that sets sequen tial to False (as it’s our numerical category class). TWEET is a standard Field object, where we have decided to use the spaCy tokenizer and convert all the text to lower‐ case."
      ]
    },
    {
      "cell_type": "code",
      "metadata": {
        "id": "qk8IP4SK1Lrp",
        "colab": {
          "base_uri": "https://localhost:8080/"
        },
        "outputId": "479d7f63-246f-48f1-b1a8-f857458e7468"
      },
      "source": [
        "# Import Library\n",
        "import random\n",
        "import torch, torchtext\n",
        "from torchtext import data \n",
        "\n",
        "# Manual Seed\n",
        "SEED = 43\n",
        "torch.manual_seed(SEED)"
      ],
      "execution_count": 19,
      "outputs": [
        {
          "output_type": "execute_result",
          "data": {
            "text/plain": [
              "<torch._C.Generator at 0x7fd3c6f10c60>"
            ]
          },
          "metadata": {
            "tags": []
          },
          "execution_count": 19
        }
      ]
    },
    {
      "cell_type": "code",
      "metadata": {
        "id": "u6bKQax2Mf_U"
      },
      "source": [
        "Tweet = data.Field(sequential = True, tokenize = 'spacy', batch_first =True, include_lengths=True)\n",
        "Label = data.LabelField(tokenize ='spacy', is_target=True, batch_first =True, sequential =False)"
      ],
      "execution_count": 20,
      "outputs": []
    },
    {
      "cell_type": "markdown",
      "metadata": {
        "id": "mX-lYIe_O7Vy"
      },
      "source": [
        "Having defined those fields, we now need to produce a list that maps them onto the list of rows that are in the CSV:"
      ]
    },
    {
      "cell_type": "code",
      "metadata": {
        "id": "VawdWq36O6td"
      },
      "source": [
        "fields = [('sentence', Tweet),('labels',Label)]"
      ],
      "execution_count": 21,
      "outputs": []
    },
    {
      "cell_type": "markdown",
      "metadata": {
        "id": "ZbtZ-Ph2P1xL"
      },
      "source": [
        "Armed with our declared fields, lets convert from pandas to list to torchtext. We could also use TabularDataset to apply that definition to the CSV directly but showing an alternative approach too."
      ]
    },
    {
      "cell_type": "code",
      "metadata": {
        "id": "L3OLcJ5B7rHz"
      },
      "source": [
        "example_train = [data.Example.fromlist([df_train1.sentence[i],df_train1.labels[i]], fields) for i in range(df_train1.shape[0])] \r\n",
        "example_valid = [data.Example.fromlist([df_valid.sentence[i],df_valid.labels[i]], fields) for i in range(df_valid.shape[0])] "
      ],
      "execution_count": 22,
      "outputs": []
    },
    {
      "cell_type": "code",
      "metadata": {
        "id": "nT-flpH-P1cd"
      },
      "source": [
        "# Creating dataset\n",
        "#twitterDataset = data.TabularDataset(path=\"tweets.csv\", format=\"CSV\", fields=fields, skip_header=True)\n",
        "\n",
        "#twitterDataset = data.Dataset(example, fields)\n",
        "\n",
        "train = data.Dataset(example_train, fields)\n",
        "valid = data.Dataset(example_valid, fields)"
      ],
      "execution_count": 23,
      "outputs": []
    },
    {
      "cell_type": "markdown",
      "metadata": {
        "id": "g6ZnyCPaR08F"
      },
      "source": [
        "Finally, we can split into training, testing, and validation sets by using the split() method:"
      ]
    },
    {
      "cell_type": "code",
      "metadata": {
        "id": "uPYXyuKhRpBk"
      },
      "source": [
        "#(train, valid) = twitterDataset.split(split_ratio=[0.85, 0.15], random_state=random.seed(SEED))"
      ],
      "execution_count": 24,
      "outputs": []
    },
    {
      "cell_type": "code",
      "metadata": {
        "id": "ykvsCGQMR6UD",
        "colab": {
          "base_uri": "https://localhost:8080/"
        },
        "outputId": "8a07ab0d-4b1d-41ab-9bd2-e7ef8f86fb02"
      },
      "source": [
        "(len(train), len(valid))"
      ],
      "execution_count": 25,
      "outputs": [
        {
          "output_type": "execute_result",
          "data": {
            "text/plain": [
              "(17088, 1101)"
            ]
          },
          "metadata": {
            "tags": []
          },
          "execution_count": 25
        }
      ]
    },
    {
      "cell_type": "markdown",
      "metadata": {
        "id": "kix8P2IKSBaV"
      },
      "source": [
        "An example from the dataset:"
      ]
    },
    {
      "cell_type": "code",
      "metadata": {
        "id": "dUpEOQruR9JL",
        "colab": {
          "base_uri": "https://localhost:8080/"
        },
        "outputId": "72e74a80-3b96-4141-fbeb-497bd473fca0"
      },
      "source": [
        "vars(train.examples[10])"
      ],
      "execution_count": 26,
      "outputs": [
        {
          "output_type": "execute_result",
          "data": {
            "text/plain": [
              "{'labels': 1,\n",
              " 'sentence': ['Good',\n",
              "  'fun',\n",
              "  ',',\n",
              "  'good',\n",
              "  'action',\n",
              "  ',',\n",
              "  'good',\n",
              "  'acting',\n",
              "  ',',\n",
              "  'good',\n",
              "  'dialogue',\n",
              "  ',',\n",
              "  'good',\n",
              "  'pace',\n",
              "  ',',\n",
              "  'good',\n",
              "  'cinematography',\n",
              "  '.']}"
            ]
          },
          "metadata": {
            "tags": []
          },
          "execution_count": 26
        }
      ]
    },
    {
      "cell_type": "markdown",
      "metadata": {
        "id": "AKdllP3FST4N"
      },
      "source": [
        "## Building Vocabulary"
      ]
    },
    {
      "cell_type": "markdown",
      "metadata": {
        "id": "SuvWQ-SpSmSz"
      },
      "source": [
        "At this point we would have built a one-hot encoding of each word that is present in the dataset—a rather tedious process. Thankfully, torchtext will do this for us, and will also allow a max_size parameter to be passed in to limit the vocabu‐ lary to the most common words. This is normally done to prevent the construction of a huge, memory-hungry model. We don’t want our GPUs too overwhelmed, after all. \n",
        "\n",
        "Let’s limit the vocabulary to a maximum of 5000 words in our training set:\n"
      ]
    },
    {
      "cell_type": "code",
      "metadata": {
        "id": "mx955u93SGeY"
      },
      "source": [
        "Tweet.build_vocab(train)\n",
        "Label.build_vocab(train)"
      ],
      "execution_count": 27,
      "outputs": []
    },
    {
      "cell_type": "markdown",
      "metadata": {
        "id": "xvyEeEjXTGhX"
      },
      "source": [
        "By default, torchtext will add two more special tokens, <unk> for unknown words and <pad>, a padding token that will be used to pad all our text to roughly the same size to help with efficient batching on the GPU."
      ]
    },
    {
      "cell_type": "code",
      "metadata": {
        "id": "rA3tIESdcJdN",
        "colab": {
          "base_uri": "https://localhost:8080/"
        },
        "outputId": "49325ee9-32b8-4105-b249-3bae490dc40d"
      },
      "source": [
        "print('Size of input vocab : ', len(Tweet.vocab))\n",
        "print('Size of label vocab : ', len(Label.vocab))\n",
        "print('Top 10 words appreared repeatedly :', list(Tweet.vocab.freqs.most_common(10)))\n",
        "print('Labels : ', Label.vocab.stoi)"
      ],
      "execution_count": 28,
      "outputs": [
        {
          "output_type": "stream",
          "text": [
            "Size of input vocab :  17891\n",
            "Size of label vocab :  5\n",
            "Top 10 words appreared repeatedly : [('.', 16082), (',', 14262), ('the', 12186), ('and', 8953), ('of', 8904), ('a', 8852), ('to', 6058), ('-', 5476), (\"'s\", 5088), ('is', 5080)]\n",
            "Labels :  defaultdict(<function _default_unk_index at 0x7fd3c6f0a510>, {2: 0, 1: 1, 3: 2, 4: 3, 0: 4})\n"
          ],
          "name": "stdout"
        }
      ]
    },
    {
      "cell_type": "markdown",
      "metadata": {
        "id": "rwjD2-ebTeUX"
      },
      "source": [
        "**Lots of stopwords!!**"
      ]
    },
    {
      "cell_type": "markdown",
      "metadata": {
        "id": "sLWW221gTpNs"
      },
      "source": [
        "Now we need to create a data loader to feed into our training loop. Torchtext provides the BucketIterator method that will produce what it calls a Batch, which is almost, but not quite, like the data loader we used on images."
      ]
    },
    {
      "cell_type": "markdown",
      "metadata": {
        "id": "EQqMhMoDUDmn"
      },
      "source": [
        "But at first declare the device we are using."
      ]
    },
    {
      "cell_type": "code",
      "metadata": {
        "id": "Zfo2QhGJUK4l"
      },
      "source": [
        "device = torch.device(\"cuda\" if torch.cuda.is_available() else \"cpu\")"
      ],
      "execution_count": 29,
      "outputs": []
    },
    {
      "cell_type": "code",
      "metadata": {
        "id": "LK0FcLRZ4Hzq"
      },
      "source": [
        ""
      ],
      "execution_count": 29,
      "outputs": []
    },
    {
      "cell_type": "code",
      "metadata": {
        "id": "zK2ORoqdTNsM"
      },
      "source": [
        "train_iterator, valid_iterator = data.BucketIterator.splits((train, valid), batch_size = 32, \n",
        "                                                            sort_key = lambda x: len(x.sentence),\n",
        "                                                            sort_within_batch=True, device = device)"
      ],
      "execution_count": 30,
      "outputs": []
    },
    {
      "cell_type": "markdown",
      "metadata": {
        "id": "Gg7gTFQO4fby"
      },
      "source": [
        "Save the vocabulary for later use"
      ]
    },
    {
      "cell_type": "code",
      "metadata": {
        "id": "niE9Cc6-2bD_"
      },
      "source": [
        "import os, pickle\n",
        "with open('tokenizer.pkl', 'wb') as tokens: \n",
        "    pickle.dump(Tweet.vocab.stoi, tokens)"
      ],
      "execution_count": 31,
      "outputs": []
    },
    {
      "cell_type": "markdown",
      "metadata": {
        "id": "1AbsQwqkVyAy"
      },
      "source": [
        "## Defining Our Model"
      ]
    },
    {
      "cell_type": "markdown",
      "metadata": {
        "id": "E4PED4HJWH4t"
      },
      "source": [
        "We use the Embedding and LSTM modules in PyTorch to build a simple model for classifying tweets.\n",
        "\n",
        "In this model we create three layers. \n",
        "1. First, the words in our tweets are pushed into an Embedding layer, which we have established as a 300-dimensional vector embedding. \n",
        "2. That’s then fed into a 2 stacked-LSTMs with 100 hidden features (again, we’re compressing down from the 300-dimensional input like we did with images). We are using 2 LSTMs for using the dropout.\n",
        "3. Finally, the output of the LSTM (the final hidden state after processing the incoming tweet) is pushed through a standard fully connected layer with three outputs to correspond to our three possible classes (negative, positive, or neutral)."
      ]
    },
    {
      "cell_type": "code",
      "metadata": {
        "id": "43pVRccMT0bT"
      },
      "source": [
        "import torch.nn as nn\n",
        "import torch.nn.functional as F\n",
        "\n",
        "class classifier(nn.Module):\n",
        "    \n",
        "    # Define all the layers used in model\n",
        "    def __init__(self, vocab_size, embedding_dim, hidden_dim, output_dim, n_layers, dropout):\n",
        "        \n",
        "        super().__init__()          \n",
        "        \n",
        "        # Embedding layer\n",
        "        self.embedding = nn.Embedding(vocab_size, embedding_dim)\n",
        "        \n",
        "        # LSTM layer\n",
        "        self.encoder = nn.LSTM(embedding_dim, \n",
        "                           hidden_dim, \n",
        "                           num_layers=n_layers, \n",
        "                           dropout=dropout,\n",
        "                           bidirectional = True,\n",
        "                           batch_first=True)\n",
        "        # try using nn.GRU or nn.RNN here and compare their performances\n",
        "        # try bidirectional and compare their performances\n",
        "        \n",
        "        # Dense layer\n",
        "        self.fc = nn.Linear(hidden_dim, output_dim)\n",
        "        self.dropout = nn.Dropout(dropout)\n",
        "        \n",
        "    def forward(self, text, text_lengths):\n",
        "        \n",
        "        # text = [batch size, sent_length]\n",
        "        embedded = self.embedding(text)\n",
        "        # embedded = [batch size, sent_len, emb dim]\n",
        "      \n",
        "        # packed sequence\n",
        "        packed_embedded = nn.utils.rnn.pack_padded_sequence(embedded, text_lengths.cpu(), batch_first=True)\n",
        "        \n",
        "        packed_output, (hidden, cell) = self.encoder(packed_embedded)\n",
        "        #hidden = [batch size, num layers * num directions,hid dim]\n",
        "        #cell = [batch size, num layers * num directions,hid dim]\n",
        "    \n",
        "        # Hidden = [batch size, hid dim * num directions]\n",
        "        hidden = self.dropout(hidden[-1,:,:])\n",
        "        dense_outputs = self.fc(hidden)   \n",
        "        \n",
        "        # Final activation function softmax\n",
        "        output = F.softmax(dense_outputs, dim=1)\n",
        "            \n",
        "        return output"
      ],
      "execution_count": 32,
      "outputs": []
    },
    {
      "cell_type": "code",
      "metadata": {
        "id": "YmXgDyUzLbR-"
      },
      "source": [
        "class classifier(nn.Module):\r\n",
        "    \r\n",
        "    # Define all the layers used in model\r\n",
        "    def __init__(self, vocab_size, embedding_dim, hidden_dim, output_dim, n_layers, dropout):\r\n",
        "        \r\n",
        "        super().__init__()          \r\n",
        "        \r\n",
        "        # Embedding layer\r\n",
        "        self.embedding = nn.Embedding(vocab_size, embedding_dim)\r\n",
        "        \r\n",
        "        # LSTM layer\r\n",
        "        self.encoder = nn.GRU(embedding_dim, \r\n",
        "                           hidden_dim, \r\n",
        "                           num_layers=n_layers, \r\n",
        "                           dropout=dropout,\r\n",
        "                           bidirectional = True,\r\n",
        "                           batch_first=True)\r\n",
        "        # try using nn.GRU or nn.RNN here and compare their performances\r\n",
        "        # try bidirectional and compare their performances\r\n",
        "        \r\n",
        "        # Dense layer\r\n",
        "        self.fc = nn.Linear(hidden_dim, output_dim)\r\n",
        "        self.dropout = nn.Dropout(dropout)\r\n",
        "        \r\n",
        "    def forward(self, text, text_lengths):\r\n",
        "        \r\n",
        "        # text = [batch size, sent_length]\r\n",
        "        embedded = self.embedding(text)\r\n",
        "        # embedded = [batch size, sent_len, emb dim]\r\n",
        "      \r\n",
        "        # packed sequence\r\n",
        "        packed_embedded = nn.utils.rnn.pack_padded_sequence(embedded, text_lengths.cpu(), batch_first=True)\r\n",
        "        \r\n",
        "        packed_output, (hidden) = self.encoder(packed_embedded)\r\n",
        "        #hidden = [batch size, num layers * num directions,hid dim]\r\n",
        "        #cell = [batch size, num layers * num directions,hid dim]\r\n",
        "    \r\n",
        "        # Hidden = [batch size, hid dim * num directions]\r\n",
        "        hidden = self.dropout(hidden[-1,:,:])\r\n",
        "        dense_outputs = self.fc(hidden)   \r\n",
        "        \r\n",
        "        # Final activation function softmax\r\n",
        "        output = F.softmax(dense_outputs, dim=1)\r\n",
        "            \r\n",
        "        return output"
      ],
      "execution_count": 33,
      "outputs": []
    },
    {
      "cell_type": "code",
      "metadata": {
        "id": "rwBoGE_X_Fl8"
      },
      "source": [
        "# Define hyperparameters\n",
        "size_of_vocab = len(Tweet.vocab)\n",
        "embedding_dim = 300\n",
        "num_hidden_nodes = 100\n",
        "num_output_nodes = v_range\n",
        "num_layers = 3\n",
        "dropout = 0.5\n",
        "\n",
        "# Instantiate the model\n",
        "model = classifier(size_of_vocab, embedding_dim, num_hidden_nodes, num_output_nodes, num_layers, dropout = dropout)"
      ],
      "execution_count": 34,
      "outputs": []
    },
    {
      "cell_type": "code",
      "metadata": {
        "id": "O-pOMqzJ3eTv",
        "colab": {
          "base_uri": "https://localhost:8080/"
        },
        "outputId": "b0ffc748-63f9-4f7b-ab9f-d378679a84d3"
      },
      "source": [
        "print(model)\n",
        "\n",
        "#No. of trianable parameters\n",
        "def count_parameters(model):\n",
        "    return sum(p.numel() for p in model.parameters() if p.requires_grad)\n",
        "    \n",
        "print(f'The model has {count_parameters(model):,} trainable parameters')"
      ],
      "execution_count": 35,
      "outputs": [
        {
          "output_type": "stream",
          "text": [
            "classifier(\n",
            "  (embedding): Embedding(17891, 300)\n",
            "  (encoder): GRU(300, 100, num_layers=3, batch_first=True, dropout=0.5, bidirectional=True)\n",
            "  (fc): Linear(in_features=100, out_features=5, bias=True)\n",
            "  (dropout): Dropout(p=0.5, inplace=False)\n",
            ")\n",
            "The model has 5,971,405 trainable parameters\n"
          ],
          "name": "stdout"
        }
      ]
    },
    {
      "cell_type": "markdown",
      "metadata": {
        "id": "eXajorf5Xz7t"
      },
      "source": [
        "## Model Training and Evaluation"
      ]
    },
    {
      "cell_type": "markdown",
      "metadata": {
        "id": "PrE9RpMtZ1Vs"
      },
      "source": [
        "First define the optimizer and loss functions"
      ]
    },
    {
      "cell_type": "code",
      "metadata": {
        "id": "-u86JWdlXvu5"
      },
      "source": [
        "import torch.optim as optim\n",
        "\n",
        "# define optimizer and loss\n",
        "optimizer = optim.Adam(model.parameters(), lr=5e-4)\n",
        "criterion = nn.CrossEntropyLoss()\n",
        "\n",
        "# define metric\n",
        "def binary_accuracy(preds, y):\n",
        "    #round predictions to the closest integer\n",
        "    _, predictions = torch.max(preds, 1)\n",
        "    \n",
        "    correct = (predictions == y).float() \n",
        "    acc = correct.sum() / len(correct)\n",
        "    return acc\n",
        "    \n",
        "# push to cuda if available\n",
        "model = model.to(device)\n",
        "criterion = criterion.to(device)"
      ],
      "execution_count": 36,
      "outputs": []
    },
    {
      "cell_type": "markdown",
      "metadata": {
        "id": "3VCJtNb3Zt8w"
      },
      "source": [
        "The main thing to be aware of in this new training loop is that we have to reference `batch.tweets` and `batch.labels` to get the particular fields we’re interested in; they don’t fall out quite as nicely from the enumerator as they do in torchvision."
      ]
    },
    {
      "cell_type": "markdown",
      "metadata": {
        "id": "2WjEPLKsAiS_"
      },
      "source": [
        "**Training Loop**"
      ]
    },
    {
      "cell_type": "code",
      "metadata": {
        "id": "HDWNnGK3Y5oJ"
      },
      "source": [
        "def train(model, iterator, optimizer, criterion):\n",
        "    \n",
        "    # initialize every epoch \n",
        "    epoch_loss = 0\n",
        "    epoch_acc = 0\n",
        "    \n",
        "    # set the model in training phase\n",
        "    model.train()  \n",
        "    \n",
        "    for batch in iterator:\n",
        "        \n",
        "        # resets the gradients after every batch\n",
        "        optimizer.zero_grad()   \n",
        "        \n",
        "        # retrieve text and no. of words\n",
        "        tweet, tweet_lengths = batch.sentence   \n",
        "        \n",
        "        # convert to 1D tensor\n",
        "        predictions = model(tweet, tweet_lengths).squeeze()  \n",
        "        \n",
        "        # compute the loss\n",
        "        loss = criterion(predictions, batch.labels)        \n",
        "        \n",
        "        # compute the binary accuracy\n",
        "        acc = binary_accuracy(predictions, batch.labels)   \n",
        "        \n",
        "        # backpropage the loss and compute the gradients\n",
        "        loss.backward()       \n",
        "        \n",
        "        # update the weights\n",
        "        optimizer.step()      \n",
        "        \n",
        "        # loss and accuracy\n",
        "        epoch_loss += loss.item()  \n",
        "        epoch_acc += acc.item()    \n",
        "        \n",
        "    return epoch_loss / len(iterator), epoch_acc / len(iterator)"
      ],
      "execution_count": 37,
      "outputs": []
    },
    {
      "cell_type": "markdown",
      "metadata": {
        "id": "CZcHhkkvAsCt"
      },
      "source": [
        "**Evaluation Loop**"
      ]
    },
    {
      "cell_type": "code",
      "metadata": {
        "id": "zHEe-zSVAriL"
      },
      "source": [
        "def evaluate(model, iterator, criterion):\n",
        "    \n",
        "    # initialize every epoch\n",
        "    epoch_loss = 0\n",
        "    epoch_acc = 0\n",
        "\n",
        "    # deactivating dropout layers\n",
        "    model.eval()\n",
        "    \n",
        "    # deactivates autograd\n",
        "    with torch.no_grad():\n",
        "    \n",
        "        for batch in iterator:\n",
        "        \n",
        "            # retrieve text and no. of words\n",
        "            tweet, tweet_lengths = batch.sentence\n",
        "            \n",
        "            # convert to 1d tensor\n",
        "            predictions = model(tweet, tweet_lengths).squeeze()\n",
        "            \n",
        "            # compute loss and accuracy\n",
        "            loss = criterion(predictions, batch.labels)\n",
        "            acc = binary_accuracy(predictions, batch.labels)\n",
        "            \n",
        "            # keep track of loss and accuracy\n",
        "            epoch_loss += loss.item()\n",
        "            epoch_acc += acc.item()\n",
        "        \n",
        "    return epoch_loss / len(iterator), epoch_acc / len(iterator)"
      ],
      "execution_count": 38,
      "outputs": []
    },
    {
      "cell_type": "markdown",
      "metadata": {
        "id": "L6LJFW7HaJoV"
      },
      "source": [
        "**Let's Train and Evaluate**"
      ]
    },
    {
      "cell_type": "code",
      "metadata": {
        "id": "tq330XlnaEU9",
        "colab": {
          "base_uri": "https://localhost:8080/"
        },
        "outputId": "4a0adf3b-2473-4b6a-9c82-efc658034046"
      },
      "source": [
        "N_EPOCHS = 30\n",
        "best_valid_loss = float('inf')\n",
        "\n",
        "for epoch in range(N_EPOCHS):\n",
        "     \n",
        "    # train the model\n",
        "    train_loss, train_acc = train(model, train_iterator, optimizer, criterion)\n",
        "    \n",
        "    # evaluate the model\n",
        "    valid_loss, valid_acc = evaluate(model, valid_iterator, criterion)\n",
        "    \n",
        "    # save the best model\n",
        "    if valid_loss < best_valid_loss:\n",
        "        best_valid_loss = valid_loss\n",
        "        torch.save(model.state_dict(), 'saved_weights.pt')\n",
        "    \n",
        "    print(f'\\tTrain Loss: {train_loss:.3f} | Train Acc: {train_acc*100:.2f}%')\n",
        "    print(f'\\t Val. Loss: {valid_loss:.3f} |  Val. Acc: {valid_acc*100:.2f}% \\n')"
      ],
      "execution_count": 39,
      "outputs": [
        {
          "output_type": "stream",
          "text": [
            "\tTrain Loss: 1.377 | Train Acc: 53.28%\n",
            "\t Val. Loss: 1.451 |  Val. Acc: 45.43% \n",
            "\n",
            "\tTrain Loss: 1.369 | Train Acc: 53.63%\n",
            "\t Val. Loss: 1.451 |  Val. Acc: 45.43% \n",
            "\n",
            "\tTrain Loss: 1.368 | Train Acc: 53.64%\n",
            "\t Val. Loss: 1.451 |  Val. Acc: 45.34% \n",
            "\n",
            "\tTrain Loss: 1.367 | Train Acc: 53.79%\n",
            "\t Val. Loss: 1.450 |  Val. Acc: 45.43% \n",
            "\n",
            "\tTrain Loss: 1.366 | Train Acc: 53.92%\n",
            "\t Val. Loss: 1.450 |  Val. Acc: 45.52% \n",
            "\n",
            "\tTrain Loss: 1.364 | Train Acc: 54.15%\n",
            "\t Val. Loss: 1.452 |  Val. Acc: 45.25% \n",
            "\n",
            "\tTrain Loss: 1.361 | Train Acc: 54.43%\n",
            "\t Val. Loss: 1.449 |  Val. Acc: 45.61% \n",
            "\n",
            "\tTrain Loss: 1.358 | Train Acc: 54.66%\n",
            "\t Val. Loss: 1.449 |  Val. Acc: 45.61% \n",
            "\n",
            "\tTrain Loss: 1.356 | Train Acc: 54.93%\n",
            "\t Val. Loss: 1.449 |  Val. Acc: 45.61% \n",
            "\n",
            "\tTrain Loss: 1.355 | Train Acc: 55.03%\n",
            "\t Val. Loss: 1.450 |  Val. Acc: 45.52% \n",
            "\n",
            "\tTrain Loss: 1.353 | Train Acc: 55.18%\n",
            "\t Val. Loss: 1.452 |  Val. Acc: 45.34% \n",
            "\n",
            "\tTrain Loss: 1.352 | Train Acc: 55.31%\n",
            "\t Val. Loss: 1.452 |  Val. Acc: 45.25% \n",
            "\n",
            "\tTrain Loss: 1.350 | Train Acc: 55.44%\n",
            "\t Val. Loss: 1.452 |  Val. Acc: 45.25% \n",
            "\n",
            "\tTrain Loss: 1.348 | Train Acc: 55.65%\n",
            "\t Val. Loss: 1.452 |  Val. Acc: 45.25% \n",
            "\n",
            "\tTrain Loss: 1.344 | Train Acc: 56.06%\n",
            "\t Val. Loss: 1.455 |  Val. Acc: 44.90% \n",
            "\n",
            "\tTrain Loss: 1.341 | Train Acc: 56.35%\n",
            "\t Val. Loss: 1.457 |  Val. Acc: 44.54% \n",
            "\n",
            "\tTrain Loss: 1.333 | Train Acc: 57.16%\n",
            "\t Val. Loss: 1.455 |  Val. Acc: 44.81% \n",
            "\n",
            "\tTrain Loss: 1.326 | Train Acc: 57.75%\n",
            "\t Val. Loss: 1.460 |  Val. Acc: 44.45% \n",
            "\n",
            "\tTrain Loss: 1.318 | Train Acc: 58.63%\n",
            "\t Val. Loss: 1.466 |  Val. Acc: 43.91% \n",
            "\n",
            "\tTrain Loss: 1.308 | Train Acc: 59.64%\n",
            "\t Val. Loss: 1.471 |  Val. Acc: 43.11% \n",
            "\n",
            "\tTrain Loss: 1.299 | Train Acc: 60.51%\n",
            "\t Val. Loss: 1.467 |  Val. Acc: 43.65% \n",
            "\n",
            "\tTrain Loss: 1.292 | Train Acc: 61.19%\n",
            "\t Val. Loss: 1.466 |  Val. Acc: 43.83% \n",
            "\n",
            "\tTrain Loss: 1.286 | Train Acc: 61.75%\n",
            "\t Val. Loss: 1.472 |  Val. Acc: 43.11% \n",
            "\n",
            "\tTrain Loss: 1.283 | Train Acc: 62.09%\n",
            "\t Val. Loss: 1.478 |  Val. Acc: 42.58% \n",
            "\n",
            "\tTrain Loss: 1.276 | Train Acc: 62.80%\n",
            "\t Val. Loss: 1.469 |  Val. Acc: 43.74% \n",
            "\n",
            "\tTrain Loss: 1.270 | Train Acc: 63.44%\n",
            "\t Val. Loss: 1.484 |  Val. Acc: 41.59% \n",
            "\n",
            "\tTrain Loss: 1.266 | Train Acc: 63.82%\n",
            "\t Val. Loss: 1.471 |  Val. Acc: 42.93% \n",
            "\n",
            "\tTrain Loss: 1.262 | Train Acc: 64.24%\n",
            "\t Val. Loss: 1.464 |  Val. Acc: 44.00% \n",
            "\n",
            "\tTrain Loss: 1.257 | Train Acc: 64.69%\n",
            "\t Val. Loss: 1.485 |  Val. Acc: 41.41% \n",
            "\n",
            "\tTrain Loss: 1.254 | Train Acc: 65.02%\n",
            "\t Val. Loss: 1.491 |  Val. Acc: 41.06% \n",
            "\n"
          ],
          "name": "stdout"
        }
      ]
    },
    {
      "cell_type": "markdown",
      "metadata": {
        "id": "LZgzB0ZkHVTI"
      },
      "source": [
        "## Model Testing"
      ]
    },
    {
      "cell_type": "code",
      "metadata": {
        "id": "aZZfnWo0abRx"
      },
      "source": [
        "#load weights and tokenizer\n",
        "\n",
        "path='./saved_weights.pt'\n",
        "model.load_state_dict(torch.load(path));\n",
        "model.eval();\n",
        "tokenizer_file = open('./tokenizer.pkl', 'rb')\n",
        "tokenizer = pickle.load(tokenizer_file)\n",
        "\n",
        "#inference \n",
        "\n",
        "def classify_tweet(tweet):\n",
        "    \n",
        "    categories = {0: \"Negative\", 1:\"Positive\", 2:\"Neutral\"}\n",
        "    \n",
        "    # tokenize the tweet \n",
        "    tokenized = [tok.text for tok in nlp.tokenizer(tweet)] \n",
        "    # convert to integer sequence using predefined tokenizer dictionary\n",
        "    indexed = [tokenizer[t] for t in tokenized]        \n",
        "    # compute no. of words        \n",
        "    length = [len(indexed)]\n",
        "    # convert to tensor                                    \n",
        "    tensor = torch.LongTensor(indexed).to(device)   \n",
        "    # reshape in form of batch, no. of words           \n",
        "    tensor = tensor.unsqueeze(1).T  \n",
        "    # convert to tensor                          \n",
        "    length_tensor = torch.LongTensor(length)\n",
        "    # Get the model prediction                  \n",
        "    prediction = model(tensor, length_tensor)\n",
        "\n",
        "    _, pred = torch.max(prediction, 1) \n",
        "    \n",
        "    return categories[pred.item()]"
      ],
      "execution_count": 40,
      "outputs": []
    },
    {
      "cell_type": "code",
      "metadata": {
        "id": "yTkHLEipIlM9",
        "colab": {
          "base_uri": "https://localhost:8080/",
          "height": 35
        },
        "outputId": "13b1ff99-0227-4330-b11e-b729040dca1f"
      },
      "source": [
        "classify_tweet(\"A valid explanation for why Trump won't let women on the golf course.\")"
      ],
      "execution_count": 41,
      "outputs": [
        {
          "output_type": "execute_result",
          "data": {
            "application/vnd.google.colaboratory.intrinsic+json": {
              "type": "string"
            },
            "text/plain": [
              "'Negative'"
            ]
          },
          "metadata": {
            "tags": []
          },
          "execution_count": 41
        }
      ]
    },
    {
      "cell_type": "markdown",
      "metadata": {
        "id": "WVjCuKK_LVEF"
      },
      "source": [
        "## Discussion on Data Augmentation Techniques \n",
        "\n",
        "You might wonder exactly how you can augment text data. After all, you can’t really flip it horizontally as you can an image! :D \n",
        "\n",
        "In contrast to data augmentation in images, augmentation techniques on data is very specific to final product you are building. As its general usage on any type of textual data doesn't provides a significant performance boost, that's why unlike torchvision, torchtext doesn’t offer a augmentation pipeline. Due to powerful models as transformers, augmentation tecnhiques are not so preferred now-a-days. But its better to know about some techniques with text that will provide your model with a little more information for training. \n",
        "\n",
        "### Synonym Replacement\n",
        "\n",
        "First, you could replace words in the sentence with synonyms, like so:\n",
        "\n",
        "    The dog slept on the mat\n",
        "\n",
        "could become\n",
        "\n",
        "    The dog slept on the rug\n",
        "\n",
        "Aside from the dog's insistence that a rug is much softer than a mat, the meaning of the sentence hasn’t changed. But mat and rug will be mapped to different indices in the vocabulary, so the model will learn that the two sentences map to the same label, and hopefully that there’s a connection between those two words, as everything else in the sentences is the same."
      ]
    },
    {
      "cell_type": "markdown",
      "metadata": {
        "id": "T_uEfWJpL6Nq"
      },
      "source": [
        "### Random Insertion\n",
        "A random insertion technique looks at a sentence and then randomly inserts synonyms of existing non-stopwords into the sentence n times. Assuming you have a way of getting a synonym of a word and a way of eliminating stopwords (common words such as and, it, the, etc.), shown, but not implemented, in this function via get_synonyms() and get_stopwords(), an implementation of this would be as follows:\n"
      ]
    },
    {
      "cell_type": "code",
      "metadata": {
        "id": "7Alm5D7WIvAC"
      },
      "source": [
        "def remove_mystopwords(sentence):\n",
        "    tokens = sentence.split(\" \")\n",
        "    tokens_filtered= [word for word in text_tokens if not word in my_stopwords]\n",
        "    return (\" \").join(tokens_filtered)\n",
        "\n",
        "def random_insertion(sentence, n): \n",
        "    words = remove_stopwords(sentence) \n",
        "    for _ in range(n):\n",
        "        new_synonym = get_synonyms(random.choice(words))\n",
        "        sentence.insert(randrange(len(sentence)+1), new_synonym) \n",
        "    return sentence"
      ],
      "execution_count": 42,
      "outputs": []
    },
    {
      "cell_type": "markdown",
      "metadata": {
        "id": "gqLWzwJ3Mm8h"
      },
      "source": [
        "## Random Deletion\n",
        "As the name suggests, random deletion deletes words from a sentence. Given a probability parameter p, it will go through the sentence and decide whether to delete a word or not based on that random probability. Consider of it as pixel dropouts while treating images."
      ]
    },
    {
      "cell_type": "code",
      "metadata": {
        "id": "-7Dz7JJfMqyC"
      },
      "source": [
        "def random_deletion(words, p=0.5): \n",
        "    if len(words) == 1: # return if single word\n",
        "        return words\n",
        "    remaining = list(filter(lambda x: random.uniform(0,1) > p,words)) \n",
        "    if len(remaining) == 0: # if not left, sample a random word\n",
        "        return [random.choice(words)] \n",
        "    else:\n",
        "        return remaining"
      ],
      "execution_count": 43,
      "outputs": []
    },
    {
      "cell_type": "markdown",
      "metadata": {
        "id": "zOIbi5WzO5OU"
      },
      "source": [
        "### Random Swap\n",
        "The random swap augmentation takes a sentence and then swaps words within it n times, with each iteration working on the previously swapped sentence. Here we sample two random numbers based on the length of the sentence, and then just keep swapping until we hit n."
      ]
    },
    {
      "cell_type": "code",
      "metadata": {
        "colab": {
          "base_uri": "https://localhost:8080/"
        },
        "id": "zdnTyHS83_zB",
        "outputId": "30b2b5d9-b816-43b5-910c-121263e61bab"
      },
      "source": [
        "random.sample(range(200), 2)"
      ],
      "execution_count": 44,
      "outputs": [
        {
          "output_type": "execute_result",
          "data": {
            "text/plain": [
              "[184, 79]"
            ]
          },
          "metadata": {
            "tags": []
          },
          "execution_count": 44
        }
      ]
    },
    {
      "cell_type": "code",
      "metadata": {
        "id": "LnkbG15HO3Yj"
      },
      "source": [
        "def random_swap(sentence, n=5): \n",
        "    #length = range(len(sentence)) \n",
        "    tokens = sentence.split(\" \")\n",
        "    length = len(tokens)\n",
        "    for _ in range(n):\n",
        "        idx1, idx2 = random.sample(range(length), 2)\n",
        "        tokens[idx1], tokens[idx2] = tokens[idx2], tokens[idx1] \n",
        "    return  (\" \").join(tokens)"
      ],
      "execution_count": 45,
      "outputs": []
    },
    {
      "cell_type": "code",
      "metadata": {
        "colab": {
          "base_uri": "https://localhost:8080/"
        },
        "id": "096Ciu993Mkz",
        "outputId": "2e1934a4-bab5-4a2d-97d8-ddc6992bc001"
      },
      "source": [
        "print(random_swap(\"I am testing swapping\"))"
      ],
      "execution_count": 46,
      "outputs": [
        {
          "output_type": "stream",
          "text": [
            "testing swapping am I\n"
          ],
          "name": "stdout"
        }
      ]
    },
    {
      "cell_type": "markdown",
      "metadata": {
        "id": "599NpwfMR5Vm"
      },
      "source": [
        "For more on this please go through this [paper](https://arxiv.org/pdf/1901.11196.pdf)."
      ]
    },
    {
      "cell_type": "markdown",
      "metadata": {
        "id": "a5aeKuNCRGip"
      },
      "source": [
        "### Back Translation\n",
        "\n",
        "Another popular approach for augmenting text datasets is back translation. This involves translating a sentence from our target language into one or more other languages and then translating all of them back to the original language. We can use the Python library googletrans for this purpose. "
      ]
    },
    {
      "cell_type": "code",
      "metadata": {
        "id": "pHhNBbYrRXNy",
        "colab": {
          "base_uri": "https://localhost:8080/"
        },
        "outputId": "003e41fd-6efd-412b-d5e6-b2c655390eaa"
      },
      "source": [
        "import random\n",
        "import google_trans_new\n",
        "from google_trans_new import google_translator \n",
        "\n",
        "translator = google_translator ()\n",
        "sentence = ['The dog slept on the rug']\n",
        "\n",
        "available_langs = list(google_trans_new.LANGUAGES.keys()) \n",
        "trans_lang = random.choice(available_langs) \n",
        "print(f\"Translating to {google_trans_new.LANGUAGES[trans_lang]}\")\n",
        "\n",
        "translations = translator.translate(sentence, lang_tgt=trans_lang) \n",
        "print(translations)\n",
        "\n",
        "\n",
        "translations_en_random = translator.translate(translations, lang_src=trans_lang, lang_tgt='en') \n",
        "print(translations_en_random)"
      ],
      "execution_count": 47,
      "outputs": [
        {
          "output_type": "stream",
          "text": [
            "Translating to kannada\n",
            "['ನಾಯಿ ಕಂಬಳಿಯ ಮೇಲೆ ಮಲಗಿತು'] \n",
            "['Dog lying on blanket'] \n"
          ],
          "name": "stdout"
        }
      ]
    }
  ]
}